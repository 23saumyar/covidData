{
 "cells": [
  {
   "cell_type": "code",
   "execution_count": null,
   "metadata": {},
   "outputs": [],
   "source": []
  },
  {
   "cell_type": "code",
   "execution_count": 1,
   "metadata": {},
   "outputs": [
    {
     "data": {
      "text/plain": [
       "\"https://raw.githubusercontent.com/CSSEGISandData/COVID-19/master/csse_covid_19_data/csse_covid_19_time_series/time_series_covid19_confirmed_global.csv\""
      ]
     },
     "execution_count": 1,
     "metadata": {},
     "output_type": "execute_result"
    }
   ],
   "source": [
    "url = \"https://raw.githubusercontent.com/CSSEGISandData/COVID-19/master/csse_covid_19_data/csse_covid_19_time_series/time_series_covid19_confirmed_global.csv\""
   ]
  },
  {
   "cell_type": "code",
   "execution_count": 2,
   "metadata": {},
   "outputs": [
    {
     "data": {
      "text/plain": [
       "\"covid_data.csv\""
      ]
     },
     "execution_count": 2,
     "metadata": {},
     "output_type": "execute_result"
    }
   ],
   "source": [
    "download(url, \"covid_data.csv\")"
   ]
  },
  {
   "cell_type": "code",
   "execution_count": 3,
   "metadata": {},
   "outputs": [
    {
     "name": "stderr",
     "output_type": "stream",
     "text": [
      "\u001b[32m\u001b[1m   Updating\u001b[22m\u001b[39m registry at `~/.julia/registries/General`\n",
      "┌ Warning: Some registries failed to update:\n",
      "│     — `~/.julia/registries/General` — registry dirty\n",
      "└ @ Pkg.Types /Users/julia/buildbot/worker/package_macos64/build/usr/share/julia/stdlib/v1.4/Pkg/src/Types.jl:1122\n",
      "\u001b[32m\u001b[1m  Resolving\u001b[22m\u001b[39m package versions...\n",
      "\u001b[32m\u001b[1m   Updating\u001b[22m\u001b[39m `~/.julia/environments/v1.4/Project.toml`\n",
      "\u001b[90m [no changes]\u001b[39m\n",
      "\u001b[32m\u001b[1m   Updating\u001b[22m\u001b[39m `~/.julia/environments/v1.4/Manifest.toml`\n",
      "\u001b[90m [no changes]\u001b[39m\n",
      "\u001b[32m\u001b[1m  Resolving\u001b[22m\u001b[39m package versions...\n",
      "\u001b[32m\u001b[1m   Updating\u001b[22m\u001b[39m `~/.julia/environments/v1.4/Project.toml`\n",
      "\u001b[90m [no changes]\u001b[39m\n",
      "\u001b[32m\u001b[1m   Updating\u001b[22m\u001b[39m `~/.julia/environments/v1.4/Manifest.toml`\n",
      "\u001b[90m [no changes]\u001b[39m\n",
      "\u001b[32m\u001b[1m   Building\u001b[22m\u001b[39m GR ───→ `~/.julia/packages/GR/yMV3y/deps/build.log`\n",
      "\u001b[32m\u001b[1m   Building\u001b[22m\u001b[39m Plots → `~/.julia/packages/Plots/8KCv0/deps/build.log`\n",
      "\u001b[32m\u001b[1m   Building\u001b[22m\u001b[39m MbedTLS ─────→ `~/.julia/packages/MbedTLS/a1JFn/deps/build.log`\n",
      "\u001b[32m\u001b[1m   Building\u001b[22m\u001b[39m WebIO ───────→ `~/.julia/packages/WebIO/2nnB1/deps/build.log`\n",
      "\u001b[32m\u001b[1m   Building\u001b[22m\u001b[39m Knockout ────→ `~/.julia/packages/Knockout/IP1uR/deps/build.log`\n",
      "\u001b[32m\u001b[1m   Building\u001b[22m\u001b[39m InteractBase → `~/.julia/packages/InteractBase/9mFwe/deps/build.log`\n",
      "\u001b[32m\u001b[1m   Building\u001b[22m\u001b[39m Interact ────→ `~/.julia/packages/Interact/SbgIk/deps/build.log`\n"
     ]
    }
   ],
   "source": [
    "using Pkg   # built-in package manager in Julia: Pkg\n",
    "Pkg.add(\"CSV\")   # calls the `add` function from the module Pkg.  This installs a package\n",
    "Pkg.add(\"Interact\")\n",
    "Pkg.build(\"Plots\")\n",
    "Pkg.build(\"Interact\")"
   ]
  },
  {
   "cell_type": "code",
   "execution_count": 4,
   "metadata": {},
   "outputs": [],
   "source": [
    "using CSV   # Comma Separated Values"
   ]
  },
  {
   "cell_type": "code",
   "execution_count": 5,
   "metadata": {},
   "outputs": [
    {
     "data": {
      "text/html": [
       "<table class=\"data-frame\"><thead><tr><th></th><th>Province/State</th><th>Country/Region</th><th>Lat</th><th>Long</th><th>1/22/20</th></tr><tr><th></th><th>String⍰</th><th>String</th><th>Float64</th><th>Float64</th><th>Int64</th></tr></thead><tbody><p>266 rows × 134 columns (omitted printing of 129 columns)</p><tr><th>1</th><td>missing</td><td>Afghanistan</td><td>33.0</td><td>65.0</td><td>0</td></tr><tr><th>2</th><td>missing</td><td>Albania</td><td>41.1533</td><td>20.1683</td><td>0</td></tr><tr><th>3</th><td>missing</td><td>Algeria</td><td>28.0339</td><td>1.6596</td><td>0</td></tr><tr><th>4</th><td>missing</td><td>Andorra</td><td>42.5063</td><td>1.5218</td><td>0</td></tr><tr><th>5</th><td>missing</td><td>Angola</td><td>-11.2027</td><td>17.8739</td><td>0</td></tr><tr><th>6</th><td>missing</td><td>Antigua and Barbuda</td><td>17.0608</td><td>-61.7964</td><td>0</td></tr><tr><th>7</th><td>missing</td><td>Argentina</td><td>-38.4161</td><td>-63.6167</td><td>0</td></tr><tr><th>8</th><td>missing</td><td>Armenia</td><td>40.0691</td><td>45.0382</td><td>0</td></tr><tr><th>9</th><td>Australian Capital Territory</td><td>Australia</td><td>-35.4735</td><td>149.012</td><td>0</td></tr><tr><th>10</th><td>New South Wales</td><td>Australia</td><td>-33.8688</td><td>151.209</td><td>0</td></tr><tr><th>11</th><td>Northern Territory</td><td>Australia</td><td>-12.4634</td><td>130.846</td><td>0</td></tr><tr><th>12</th><td>Queensland</td><td>Australia</td><td>-28.0167</td><td>153.4</td><td>0</td></tr><tr><th>13</th><td>South Australia</td><td>Australia</td><td>-34.9285</td><td>138.601</td><td>0</td></tr><tr><th>14</th><td>Tasmania</td><td>Australia</td><td>-41.4545</td><td>145.971</td><td>0</td></tr><tr><th>15</th><td>Victoria</td><td>Australia</td><td>-37.8136</td><td>144.963</td><td>0</td></tr><tr><th>16</th><td>Western Australia</td><td>Australia</td><td>-31.9505</td><td>115.861</td><td>0</td></tr><tr><th>17</th><td>missing</td><td>Austria</td><td>47.5162</td><td>14.5501</td><td>0</td></tr><tr><th>18</th><td>missing</td><td>Azerbaijan</td><td>40.1431</td><td>47.5769</td><td>0</td></tr><tr><th>19</th><td>missing</td><td>Bahamas</td><td>25.0343</td><td>-77.3963</td><td>0</td></tr><tr><th>20</th><td>missing</td><td>Bahrain</td><td>26.0275</td><td>50.55</td><td>0</td></tr><tr><th>21</th><td>missing</td><td>Bangladesh</td><td>23.685</td><td>90.3563</td><td>0</td></tr><tr><th>22</th><td>missing</td><td>Barbados</td><td>13.1939</td><td>-59.5432</td><td>0</td></tr><tr><th>23</th><td>missing</td><td>Belarus</td><td>53.7098</td><td>27.9534</td><td>0</td></tr><tr><th>24</th><td>missing</td><td>Belgium</td><td>50.8333</td><td>4.0</td><td>0</td></tr><tr><th>25</th><td>missing</td><td>Benin</td><td>9.3077</td><td>2.3158</td><td>0</td></tr><tr><th>26</th><td>missing</td><td>Bhutan</td><td>27.5142</td><td>90.4336</td><td>0</td></tr><tr><th>27</th><td>missing</td><td>Bolivia</td><td>-16.2902</td><td>-63.5887</td><td>0</td></tr><tr><th>28</th><td>missing</td><td>Bosnia and Herzegovina</td><td>43.9159</td><td>17.6791</td><td>0</td></tr><tr><th>29</th><td>missing</td><td>Brazil</td><td>-14.235</td><td>-51.9253</td><td>0</td></tr><tr><th>30</th><td>missing</td><td>Brunei</td><td>4.5353</td><td>114.728</td><td>0</td></tr><tr><th>&vellip;</th><td>&vellip;</td><td>&vellip;</td><td>&vellip;</td><td>&vellip;</td><td>&vellip;</td></tr></tbody></table>"
      ],
      "text/latex": [
       "\\begin{tabular}{r|cccccc}\n",
       "\t& Province/State & Country/Region & Lat & Long & 1/22/20 & \\\\\n",
       "\t\\hline\n",
       "\t& String⍰ & String & Float64 & Float64 & Int64 & \\\\\n",
       "\t\\hline\n",
       "\t1 &  & Afghanistan & 33.0 & 65.0 & 0 & $\\dots$ \\\\\n",
       "\t2 &  & Albania & 41.1533 & 20.1683 & 0 & $\\dots$ \\\\\n",
       "\t3 &  & Algeria & 28.0339 & 1.6596 & 0 & $\\dots$ \\\\\n",
       "\t4 &  & Andorra & 42.5063 & 1.5218 & 0 & $\\dots$ \\\\\n",
       "\t5 &  & Angola & -11.2027 & 17.8739 & 0 & $\\dots$ \\\\\n",
       "\t6 &  & Antigua and Barbuda & 17.0608 & -61.7964 & 0 & $\\dots$ \\\\\n",
       "\t7 &  & Argentina & -38.4161 & -63.6167 & 0 & $\\dots$ \\\\\n",
       "\t8 &  & Armenia & 40.0691 & 45.0382 & 0 & $\\dots$ \\\\\n",
       "\t9 & Australian Capital Territory & Australia & -35.4735 & 149.012 & 0 & $\\dots$ \\\\\n",
       "\t10 & New South Wales & Australia & -33.8688 & 151.209 & 0 & $\\dots$ \\\\\n",
       "\t11 & Northern Territory & Australia & -12.4634 & 130.846 & 0 & $\\dots$ \\\\\n",
       "\t12 & Queensland & Australia & -28.0167 & 153.4 & 0 & $\\dots$ \\\\\n",
       "\t13 & South Australia & Australia & -34.9285 & 138.601 & 0 & $\\dots$ \\\\\n",
       "\t14 & Tasmania & Australia & -41.4545 & 145.971 & 0 & $\\dots$ \\\\\n",
       "\t15 & Victoria & Australia & -37.8136 & 144.963 & 0 & $\\dots$ \\\\\n",
       "\t16 & Western Australia & Australia & -31.9505 & 115.861 & 0 & $\\dots$ \\\\\n",
       "\t17 &  & Austria & 47.5162 & 14.5501 & 0 & $\\dots$ \\\\\n",
       "\t18 &  & Azerbaijan & 40.1431 & 47.5769 & 0 & $\\dots$ \\\\\n",
       "\t19 &  & Bahamas & 25.0343 & -77.3963 & 0 & $\\dots$ \\\\\n",
       "\t20 &  & Bahrain & 26.0275 & 50.55 & 0 & $\\dots$ \\\\\n",
       "\t21 &  & Bangladesh & 23.685 & 90.3563 & 0 & $\\dots$ \\\\\n",
       "\t22 &  & Barbados & 13.1939 & -59.5432 & 0 & $\\dots$ \\\\\n",
       "\t23 &  & Belarus & 53.7098 & 27.9534 & 0 & $\\dots$ \\\\\n",
       "\t24 &  & Belgium & 50.8333 & 4.0 & 0 & $\\dots$ \\\\\n",
       "\t25 &  & Benin & 9.3077 & 2.3158 & 0 & $\\dots$ \\\\\n",
       "\t26 &  & Bhutan & 27.5142 & 90.4336 & 0 & $\\dots$ \\\\\n",
       "\t27 &  & Bolivia & -16.2902 & -63.5887 & 0 & $\\dots$ \\\\\n",
       "\t28 &  & Bosnia and Herzegovina & 43.9159 & 17.6791 & 0 & $\\dots$ \\\\\n",
       "\t29 &  & Brazil & -14.235 & -51.9253 & 0 & $\\dots$ \\\\\n",
       "\t30 &  & Brunei & 4.5353 & 114.728 & 0 & $\\dots$ \\\\\n",
       "\t$\\dots$ & $\\dots$ & $\\dots$ & $\\dots$ & $\\dots$ & $\\dots$ &  \\\\\n",
       "\\end{tabular}\n"
      ],
      "text/plain": [
       "266×134 DataFrames.DataFrame. Omitted printing of 131 columns\n",
       "│ Row │ Province/State                   │ Country/Region        │ Lat      │\n",
       "│     │ \u001b[90mUnion{Missing, String}\u001b[39m           │ \u001b[90mString\u001b[39m                │ \u001b[90mFloat64\u001b[39m  │\n",
       "├─────┼──────────────────────────────────┼───────────────────────┼──────────┤\n",
       "│ 1   │ \u001b[90mmissing\u001b[39m                          │ Afghanistan           │ 33.0     │\n",
       "│ 2   │ \u001b[90mmissing\u001b[39m                          │ Albania               │ 41.1533  │\n",
       "│ 3   │ \u001b[90mmissing\u001b[39m                          │ Algeria               │ 28.0339  │\n",
       "│ 4   │ \u001b[90mmissing\u001b[39m                          │ Andorra               │ 42.5063  │\n",
       "│ 5   │ \u001b[90mmissing\u001b[39m                          │ Angola                │ -11.2027 │\n",
       "│ 6   │ \u001b[90mmissing\u001b[39m                          │ Antigua and Barbuda   │ 17.0608  │\n",
       "│ 7   │ \u001b[90mmissing\u001b[39m                          │ Argentina             │ -38.4161 │\n",
       "│ 8   │ \u001b[90mmissing\u001b[39m                          │ Armenia               │ 40.0691  │\n",
       "│ 9   │ Australian Capital Territory     │ Australia             │ -35.4735 │\n",
       "│ 10  │ New South Wales                  │ Australia             │ -33.8688 │\n",
       "⋮\n",
       "│ 256 │ Bonaire, Sint Eustatius and Saba │ Netherlands           │ 12.1784  │\n",
       "│ 257 │ \u001b[90mmissing\u001b[39m                          │ Malawi                │ -13.2543 │\n",
       "│ 258 │ Falkland Islands (Malvinas)      │ United Kingdom        │ -51.7963 │\n",
       "│ 259 │ Saint Pierre and Miquelon        │ France                │ 46.8852  │\n",
       "│ 260 │ \u001b[90mmissing\u001b[39m                          │ South Sudan           │ 6.877    │\n",
       "│ 261 │ \u001b[90mmissing\u001b[39m                          │ Western Sahara        │ 24.2155  │\n",
       "│ 262 │ \u001b[90mmissing\u001b[39m                          │ Sao Tome and Principe │ 0.18636  │\n",
       "│ 263 │ \u001b[90mmissing\u001b[39m                          │ Yemen                 │ 15.5527  │\n",
       "│ 264 │ \u001b[90mmissing\u001b[39m                          │ Comoros               │ -11.6455 │\n",
       "│ 265 │ \u001b[90mmissing\u001b[39m                          │ Tajikistan            │ 38.861   │\n",
       "│ 266 │ \u001b[90mmissing\u001b[39m                          │ Lesotho               │ -29.61   │"
      ]
     },
     "execution_count": 5,
     "metadata": {},
     "output_type": "execute_result"
    }
   ],
   "source": [
    "data = CSV.read(\"covid_data.csv\")  # run the function `read` from the package CSV"
   ]
  },
  {
   "cell_type": "code",
   "execution_count": 6,
   "metadata": {},
   "outputs": [
    {
     "ename": "UndefVarError",
     "evalue": "UndefVarError: fromTable not defined",
     "output_type": "error",
     "traceback": [
      "UndefVarError: fromTable not defined",
      "",
      "Stacktrace:",
      " [1] top-level scope at ./In[6]:2"
     ]
    }
   ],
   "source": [
    "all_countries = collect(data[:, 2])\n",
    "\n",
    "for c in fromTable\n",
    "    if !(c in all_countries)\n",
    "        println(c)\n",
    "    end\n",
    "end"
   ]
  },
  {
   "cell_type": "code",
   "execution_count": 7,
   "metadata": {},
   "outputs": [
    {
     "name": "stdout",
     "output_type": "stream",
     "text": [
      "[\"United States\"]"
     ]
    },
    {
     "data": {
      "text/plain": [
       "1-element Array{String,1}:\n",
       " \"Saudi Arabia\""
      ]
     },
     "execution_count": 7,
     "metadata": {},
     "output_type": "execute_result"
    }
   ],
   "source": [
    "countryFile = open(\"request.txt\", \"r\");\n",
    "country = [read(countryFile, String)]\n",
    "close(countryFile)\n",
    "print(country)\n",
    "country = [\"Saudi Arabia\"]"
   ]
  },
  {
   "cell_type": "code",
   "execution_count": 8,
   "metadata": {},
   "outputs": [
    {
     "data": {
      "text/plain": [
       "134-element Array{Symbol,1}:\n",
       " Symbol(\"Province/State\")\n",
       " Symbol(\"Country/Region\")\n",
       " :Lat\n",
       " :Long\n",
       " Symbol(\"1/22/20\")\n",
       " Symbol(\"1/23/20\")\n",
       " Symbol(\"1/24/20\")\n",
       " Symbol(\"1/25/20\")\n",
       " Symbol(\"1/26/20\")\n",
       " Symbol(\"1/27/20\")\n",
       " Symbol(\"1/28/20\")\n",
       " Symbol(\"1/29/20\")\n",
       " Symbol(\"1/30/20\")\n",
       " ⋮\n",
       " Symbol(\"5/19/20\")\n",
       " Symbol(\"5/20/20\")\n",
       " Symbol(\"5/21/20\")\n",
       " Symbol(\"5/22/20\")\n",
       " Symbol(\"5/23/20\")\n",
       " Symbol(\"5/24/20\")\n",
       " Symbol(\"5/25/20\")\n",
       " Symbol(\"5/26/20\")\n",
       " Symbol(\"5/27/20\")\n",
       " Symbol(\"5/28/20\")\n",
       " Symbol(\"5/29/20\")\n",
       " Symbol(\"5/30/20\")"
      ]
     },
     "execution_count": 8,
     "metadata": {},
     "output_type": "execute_result"
    }
   ],
   "source": [
    "col_names = names(data)"
   ]
  },
  {
   "cell_type": "code",
   "execution_count": 9,
   "metadata": {},
   "outputs": [
    {
     "data": {
      "text/plain": [
       "130-element Array{Symbol,1}:\n",
       " Symbol(\"1/22/20\")\n",
       " Symbol(\"1/23/20\")\n",
       " Symbol(\"1/24/20\")\n",
       " Symbol(\"1/25/20\")\n",
       " Symbol(\"1/26/20\")\n",
       " Symbol(\"1/27/20\")\n",
       " Symbol(\"1/28/20\")\n",
       " Symbol(\"1/29/20\")\n",
       " Symbol(\"1/30/20\")\n",
       " Symbol(\"1/31/20\")\n",
       " Symbol(\"2/1/20\")\n",
       " Symbol(\"2/2/20\")\n",
       " Symbol(\"2/3/20\")\n",
       " ⋮\n",
       " Symbol(\"5/19/20\")\n",
       " Symbol(\"5/20/20\")\n",
       " Symbol(\"5/21/20\")\n",
       " Symbol(\"5/22/20\")\n",
       " Symbol(\"5/23/20\")\n",
       " Symbol(\"5/24/20\")\n",
       " Symbol(\"5/25/20\")\n",
       " Symbol(\"5/26/20\")\n",
       " Symbol(\"5/27/20\")\n",
       " Symbol(\"5/28/20\")\n",
       " Symbol(\"5/29/20\")\n",
       " Symbol(\"5/30/20\")"
      ]
     },
     "execution_count": 9,
     "metadata": {},
     "output_type": "execute_result"
    }
   ],
   "source": [
    "dates_sym = col_names[5:end]"
   ]
  },
  {
   "cell_type": "code",
   "execution_count": 10,
   "metadata": {},
   "outputs": [
    {
     "data": {
      "text/plain": [
       "130-element Array{String,1}:\n",
       " \"1/22/20\"\n",
       " \"1/23/20\"\n",
       " \"1/24/20\"\n",
       " \"1/25/20\"\n",
       " \"1/26/20\"\n",
       " \"1/27/20\"\n",
       " \"1/28/20\"\n",
       " \"1/29/20\"\n",
       " \"1/30/20\"\n",
       " \"1/31/20\"\n",
       " \"2/1/20\"\n",
       " \"2/2/20\"\n",
       " \"2/3/20\"\n",
       " ⋮\n",
       " \"5/19/20\"\n",
       " \"5/20/20\"\n",
       " \"5/21/20\"\n",
       " \"5/22/20\"\n",
       " \"5/23/20\"\n",
       " \"5/24/20\"\n",
       " \"5/25/20\"\n",
       " \"5/26/20\"\n",
       " \"5/27/20\"\n",
       " \"5/28/20\"\n",
       " \"5/29/20\"\n",
       " \"5/30/20\""
      ]
     },
     "execution_count": 10,
     "metadata": {},
     "output_type": "execute_result"
    }
   ],
   "source": [
    "date_strings = String.(names(data))[5:end]  # apply String function to each element"
   ]
  },
  {
   "cell_type": "code",
   "execution_count": 11,
   "metadata": {},
   "outputs": [
    {
     "data": {
      "text/plain": [
       "130-element Array{Date,1}:\n",
       " 2020-01-22\n",
       " 2020-01-23\n",
       " 2020-01-24\n",
       " 2020-01-25\n",
       " 2020-01-26\n",
       " 2020-01-27\n",
       " 2020-01-28\n",
       " 2020-01-29\n",
       " 2020-01-30\n",
       " 2020-01-31\n",
       " 2020-02-01\n",
       " 2020-02-02\n",
       " 2020-02-03\n",
       " ⋮\n",
       " 2020-05-19\n",
       " 2020-05-20\n",
       " 2020-05-21\n",
       " 2020-05-22\n",
       " 2020-05-23\n",
       " 2020-05-24\n",
       " 2020-05-25\n",
       " 2020-05-26\n",
       " 2020-05-27\n",
       " 2020-05-28\n",
       " 2020-05-29\n",
       " 2020-05-30"
      ]
     },
     "execution_count": 11,
     "metadata": {},
     "output_type": "execute_result"
    }
   ],
   "source": [
    "using Dates\n",
    "format = Dates.DateFormat(\"m/d/Y\")\n",
    "dates = parse.(Date, date_strings,format) .+ Year(2000)"
   ]
  },
  {
   "cell_type": "code",
   "execution_count": 12,
   "metadata": {},
   "outputs": [
    {
     "data": {
      "text/plain": [
       "130"
      ]
     },
     "execution_count": 12,
     "metadata": {},
     "output_type": "execute_result"
    }
   ],
   "source": [
    "num_days = length(dates)"
   ]
  },
  {
   "cell_type": "code",
   "execution_count": 13,
   "metadata": {},
   "outputs": [
    {
     "data": {
      "text/plain": [
       "Dict{String,Array} with 0 entries"
      ]
     },
     "execution_count": 13,
     "metadata": {},
     "output_type": "execute_result"
    }
   ],
   "source": [
    "data_dict = Dict{String,Array}()"
   ]
  },
  {
   "cell_type": "code",
   "execution_count": 14,
   "metadata": {},
   "outputs": [
    {
     "data": {
      "text/plain": [
       "Dict{String,Array} with 1 entry:\n",
       "  \"Saudi Arabia\" => [0.0, 0.0, 0.0, 0.0, 0.0, 0.0, 0.0, 0.0, 0.0, 0.0  …  65077…"
      ]
     },
     "execution_count": 14,
     "metadata": {},
     "output_type": "execute_result"
    }
   ],
   "source": [
    "for current_country in country\n",
    "    matching_rows = data[[startswith(country,current_country) for country in all_countries],:]\n",
    "    data_dict[current_country] = get(data_dict,current_country,zeros(num_days))\n",
    "    prev_dict_values = get(data_dict,current_country,zeros(num_days))\n",
    "    \n",
    "    for row in eachrow(matching_rows)\n",
    "        values = convert(Vector, row[5:end])\n",
    "        \n",
    "        data_dict[current_country] =data_dict[current_country] .+ values\n",
    "        \n",
    "    end\n",
    "end\n",
    "\n",
    "data_dict"
   ]
  },
  {
   "cell_type": "code",
   "execution_count": 15,
   "metadata": {},
   "outputs": [
    {
     "data": {
      "text/html": [
       "<script>\n",
       "// Immediately-invoked-function-expression to avoid global variables.\n",
       "(function() {\n",
       "    var warning_div = document.getElementById(\"webio-warning-1636071941198150954\");\n",
       "    var hide = function () {\n",
       "        var script = document.getElementById(\"webio-setup-490131518141202023\");\n",
       "        var parent = script && script.parentElement;\n",
       "        var grandparent = parent && parent.parentElement;\n",
       "        if (grandparent) {\n",
       "            grandparent.style.display = \"none\";\n",
       "        }\n",
       "        warning_div.style.display = \"none\";\n",
       "    };\n",
       "    if (typeof Jupyter !== \"undefined\") {\n",
       "        console.log(\"WebIO detected Jupyter notebook environment.\");\n",
       "        // Jupyter notebook.\n",
       "        var extensions = (\n",
       "            Jupyter\n",
       "            && Jupyter.notebook.config.data\n",
       "            && Jupyter.notebook.config.data.load_extensions\n",
       "        );\n",
       "        if (extensions && extensions[\"webio-jupyter-notebook\"]) {\n",
       "            // Extension already loaded.\n",
       "            console.log(\"Jupyter WebIO nbextension detected; not loading ad-hoc.\");\n",
       "            hide();\n",
       "            return;\n",
       "        }\n",
       "    } else if (window.location.pathname.includes(\"/lab\")) {\n",
       "        // Guessing JupyterLa\n",
       "        console.log(\"Jupyter Lab detected; make sure the @webio/jupyter-lab-provider labextension is installed.\");\n",
       "        hide();\n",
       "        return;\n",
       "    }\n",
       "})();\n",
       "\n",
       "</script>\n",
       "<p\n",
       "    id=\"webio-warning-1636071941198150954\"\n",
       "    class=\"output_text output_stderr\"\n",
       "    style=\"padding: 1em; font-weight: bold;\"\n",
       ">\n",
       "    Unable to load WebIO. Please make sure WebIO works for your Jupyter client.\n",
       "    For troubleshooting, please see <a href=\"https://juliagizmos.github.io/WebIO.jl/latest/providers/ijulia/\">\n",
       "    the WebIO/IJulia documentation</a>.\n",
       "    <!-- TODO: link to installation docs. -->\n",
       "</p>\n"
      ],
      "text/plain": [
       "HTML{String}(\"<script>\\n// Immediately-invoked-function-expression to avoid global variables.\\n(function() {\\n    var warning_div = document.getElementById(\\\"webio-warning-1636071941198150954\\\");\\n    var hide = function () {\\n        var script = document.getElementById(\\\"webio-setup-490131518141202023\\\");\\n        var parent = script && script.parentElement;\\n        var grandparent = parent && parent.parentElement;\\n        if (grandparent) {\\n            grandparent.style.display = \\\"none\\\";\\n        }\\n        warning_div.style.display = \\\"none\\\";\\n    };\\n    if (typeof Jupyter !== \\\"undefined\\\") {\\n        console.log(\\\"WebIO detected Jupyter notebook environment.\\\");\\n        // Jupyter notebook.\\n        var extensions = (\\n            Jupyter\\n            && Jupyter.notebook.config.data\\n            && Jupyter.notebook.config.data.load_extensions\\n        );\\n        if (extensions && extensions[\\\"webio-jupyter-notebook\\\"]) {\\n            // Extension already loaded.\\n            console.log(\\\"Jupyter WebIO nbextension detected; not loading ad-hoc.\\\");\\n            hide();\\n            return;\\n        }\\n    } else if (window.location.pathname.includes(\\\"/lab\\\")) {\\n        // Guessing JupyterLa\\n        console.log(\\\"Jupyter Lab detected; make sure the @webio/jupyter-lab-provider labextension is installed.\\\");\\n        hide();\\n        return;\\n    }\\n})();\\n\\n</script>\\n<p\\n    id=\\\"webio-warning-1636071941198150954\\\"\\n    class=\\\"output_text output_stderr\\\"\\n    style=\\\"padding: 1em; font-weight: bold;\\\"\\n>\\n    Unable to load WebIO. Please make sure WebIO works for your Jupyter client.\\n    For troubleshooting, please see <a href=\\\"https://juliagizmos.github.io/WebIO.jl/latest/providers/ijulia/\\\">\\n    the WebIO/IJulia documentation</a>.\\n    <!-- TODO: link to installation docs. -->\\n</p>\\n\")"
      ]
     },
     "metadata": {},
     "output_type": "display_data"
    },
    {
     "name": "stderr",
     "output_type": "stream",
     "text": [
      "┌ Info: Precompiling Plots [91a5bcdd-55d7-5caf-9e0b-520d859cae80]\n",
      "└ @ Base loading.jl:1260\n"
     ]
    }
   ],
   "source": [
<<<<<<< HEAD
=======
    "Pkg.build(\"Plots\")\n",
    "Pkg.build(\"Interact\")\n",
>>>>>>> db33b840a8f389e180fbdb442d9e46eebf6e46e0
    "using Interact\n",
    "using Plots"
   ]
  },
  {
   "cell_type": "code",
   "execution_count": 16,
   "metadata": {
    "scrolled": false
   },
   "outputs": [
    {
     "data": {
      "application/vnd.webio.node+json": {
       "children": [
        {
         "children": [
          {
           "children": [
            {
             "children": [
              {
               "children": [
                {
                 "children": [
                  "day"
                 ],
                 "instanceArgs": {
                  "namespace": "html",
                  "tag": "label"
                 },
                 "nodeType": "DOM",
                 "props": {
                  "className": "interact ",
                  "style": {
                   "padding": "5px 10px 0px 10px"
                  }
                 },
                 "type": "node"
                }
               ],
               "instanceArgs": {
                "namespace": "html",
                "tag": "div"
               },
               "nodeType": "DOM",
               "props": {
                "className": "interact-flex-row-left"
               },
               "type": "node"
              },
              {
               "children": [
                {
                 "children": [],
                 "instanceArgs": {
                  "namespace": "html",
                  "tag": "input"
                 },
                 "nodeType": "DOM",
                 "props": {
                  "attributes": {
                   "data-bind": "numericValue: index, valueUpdate: 'input', event: {change: function (){this.changes(this.changes()+1)}}",
                   "orient": "horizontal",
                   "type": "range"
                  },
                  "className": "slider slider is-fullwidth",
                  "max": 130,
                  "min": 1,
                  "step": 1,
                  "style": {}
                 },
                 "type": "node"
                }
               ],
               "instanceArgs": {
                "namespace": "html",
                "tag": "div"
               },
               "nodeType": "DOM",
               "props": {
                "className": "interact-flex-row-center"
               },
               "type": "node"
              },
              {
               "children": [
                {
                 "children": [],
                 "instanceArgs": {
                  "namespace": "html",
                  "tag": "p"
                 },
                 "nodeType": "DOM",
                 "props": {
                  "attributes": {
                   "data-bind": "text: formatted_val"
                  }
                 },
                 "type": "node"
                }
               ],
               "instanceArgs": {
                "namespace": "html",
                "tag": "div"
               },
               "nodeType": "DOM",
               "props": {
                "className": "interact-flex-row-right"
               },
               "type": "node"
              }
             ],
             "instanceArgs": {
              "namespace": "html",
              "tag": "div"
             },
             "nodeType": "DOM",
             "props": {
              "className": "interact-flex-row interact-widget"
             },
             "type": "node"
            }
           ],
           "instanceArgs": {
            "handlers": {
             "changes": [
              "(function (val){return (val!=this.model[\"changes\"]()) ? (this.valueFromJulia[\"changes\"]=true, this.model[\"changes\"](val)) : undefined})"
             ],
             "index": [
              "(function (val){return (val!=this.model[\"index\"]()) ? (this.valueFromJulia[\"index\"]=true, this.model[\"index\"](val)) : undefined})"
             ]
            },
            "id": "13904928515178731033",
            "imports": {
             "data": [
              {
               "name": "knockout",
               "type": "js",
               "url": "/assetserver/e30804d580242ff490836fea138ed12dab987650-knockout.js"
              },
              {
               "name": "knockout_punches",
               "type": "js",
               "url": "/assetserver/3b050a7a6e0183134ddf7d37e9900e424ee82b96-knockout_punches.js"
              },
              {
               "name": null,
               "type": "js",
               "url": "/assetserver/72820b874a45543a799a471aa05eefa33c06bf5a-all.js"
              },
              {
               "name": null,
               "type": "css",
               "url": "/assetserver/e7517b5a7de555d89430fc976892a64cbe24a2bc-style.css"
              },
              {
               "name": null,
               "type": "css",
               "url": "/assetserver/8371af573dfc972c716f005fa6460852db032b9c-bulma_confined.min.css"
              }
             ],
             "type": "async_block"
            },
            "mount_callbacks": [
             "function () {\n    var handler = (function (ko, koPunches) {\n    ko.punches.enableAll();\n    ko.bindingHandlers.numericValue = {\n        init: function(element, valueAccessor, allBindings, data, context) {\n            var stringified = ko.observable(ko.unwrap(valueAccessor()));\n            stringified.subscribe(function(value) {\n                var val = parseFloat(value);\n                if (!isNaN(val)) {\n                    valueAccessor()(val);\n                }\n            });\n            valueAccessor().subscribe(function(value) {\n                var str = JSON.stringify(value);\n                if ((str == \"0\") && ([\"-0\", \"-0.\"].indexOf(stringified()) >= 0))\n                     return;\n                 if ([\"null\", \"\"].indexOf(str) >= 0)\n                     return;\n                stringified(str);\n            });\n            ko.applyBindingsToNode(\n                element,\n                {\n                    value: stringified,\n                    valueUpdate: allBindings.get('valueUpdate'),\n                },\n                context,\n            );\n        }\n    };\n    var json_data = {\"formatted_vals\":[\"1\",\"2\",\"3\",\"4\",\"5\",\"6\",\"7\",\"8\",\"9\",\"10\",\"11\",\"12\",\"13\",\"14\",\"15\",\"16\",\"17\",\"18\",\"19\",\"20\",\"21\",\"22\",\"23\",\"24\",\"25\",\"26\",\"27\",\"28\",\"29\",\"30\",\"31\",\"32\",\"33\",\"34\",\"35\",\"36\",\"37\",\"38\",\"39\",\"40\",\"41\",\"42\",\"43\",\"44\",\"45\",\"46\",\"47\",\"48\",\"49\",\"50\",\"51\",\"52\",\"53\",\"54\",\"55\",\"56\",\"57\",\"58\",\"59\",\"60\",\"61\",\"62\",\"63\",\"64\",\"65\",\"66\",\"67\",\"68\",\"69\",\"70\",\"71\",\"72\",\"73\",\"74\",\"75\",\"76\",\"77\",\"78\",\"79\",\"80\",\"81\",\"82\",\"83\",\"84\",\"85\",\"86\",\"87\",\"88\",\"89\",\"90\",\"91\",\"92\",\"93\",\"94\",\"95\",\"96\",\"97\",\"98\",\"99\",\"100\",\"101\",\"102\",\"103\",\"104\",\"105\",\"106\",\"107\",\"108\",\"109\",\"110\",\"111\",\"112\",\"113\",\"114\",\"115\",\"116\",\"117\",\"118\",\"119\",\"120\",\"121\",\"122\",\"123\",\"124\",\"125\",\"126\",\"127\",\"128\",\"129\",\"130\"],\"changes\":WebIO.getval({\"name\":\"changes\",\"scope\":\"13904928515178731033\",\"id\":\"ob_02\",\"type\":\"observable\"}),\"index\":WebIO.getval({\"name\":\"index\",\"scope\":\"13904928515178731033\",\"id\":\"ob_01\",\"type\":\"observable\"})};\n    var self = this;\n    function AppViewModel() {\n        for (var key in json_data) {\n            var el = json_data[key];\n            this[key] = Array.isArray(el) ? ko.observableArray(el) : ko.observable(el);\n        }\n        \n        [this[\"formatted_val\"]=ko.computed(    function(){\n        return this.formatted_vals()[parseInt(this.index())-(1)];\n    }\n,this)]\n        [this[\"changes\"].subscribe((function (val){!(this.valueFromJulia[\"changes\"]) ? (WebIO.setval({\"name\":\"changes\",\"scope\":\"13904928515178731033\",\"id\":\"ob_02\",\"type\":\"observable\"},val)) : undefined; return this.valueFromJulia[\"changes\"]=false}),self),this[\"index\"].subscribe((function (val){!(this.valueFromJulia[\"index\"]) ? (WebIO.setval({\"name\":\"index\",\"scope\":\"13904928515178731033\",\"id\":\"ob_01\",\"type\":\"observable\"},val)) : undefined; return this.valueFromJulia[\"index\"]=false}),self)]\n        \n    }\n    self.model = new AppViewModel();\n    self.valueFromJulia = {};\n    for (var key in json_data) {\n        self.valueFromJulia[key] = false;\n    }\n    ko.applyBindings(self.model, self.dom);\n}\n);\n    (WebIO.importBlock({\"data\":[{\"name\":\"knockout\",\"type\":\"js\",\"url\":\"/assetserver/e30804d580242ff490836fea138ed12dab987650-knockout.js\"},{\"name\":\"knockout_punches\",\"type\":\"js\",\"url\":\"/assetserver/3b050a7a6e0183134ddf7d37e9900e424ee82b96-knockout_punches.js\"}],\"type\":\"async_block\"})).then((imports) => handler.apply(this, imports));\n}\n"
            ],
            "observables": {
             "changes": {
              "id": "ob_02",
              "sync": false,
              "value": 0
             },
             "index": {
              "id": "ob_01",
              "sync": true,
              "value": 65
             }
            },
            "systemjs_options": null
           },
           "nodeType": "Scope",
           "props": {},
           "type": "node"
          }
         ],
         "instanceArgs": {
          "namespace": "html",
          "tag": "div"
         },
         "nodeType": "DOM",
         "props": {
          "className": "field interact-widget"
         },
         "type": "node"
        },
        {
         "children": [
          {
           "children": [],
           "instanceArgs": {
            "id": "ob_08",
            "name": "obs-node"
           },
           "nodeType": "ObservableNode",
           "props": {},
           "type": "node"
          }
         ],
         "instanceArgs": {
          "handlers": {},
          "id": "14281503989432788577",
          "imports": {
           "data": [],
           "type": "async_block"
          },
          "mount_callbacks": [],
          "observables": {
           "obs-node": {
            "id": "ob_08",
            "sync": false,
            "value": {
             "children": [
              {
               "children": [],
               "instanceArgs": {
                "namespace": "html",
                "tag": "div"
               },
               "nodeType": "DOM",
               "props": {
                "setInnerHtml": "<?xml version=\"1.0\" encoding=\"utf-8\"?>\n<svg xmlns=\"http://www.w3.org/2000/svg\" xmlns:xlink=\"http://www.w3.org/1999/xlink\" width=\"600\" height=\"400\" viewBox=\"0 0 2400 1600\">\n<defs>\n  <clipPath id=\"clip8000\">\n    <rect x=\"0\" y=\"0\" width=\"2400\" height=\"1600\"/>\n  </clipPath>\n</defs>\n<path clip-path=\"url(#clip8000)\" d=\"\nM0 1600 L2400 1600 L2400 0 L0 0  Z\n  \" fill=\"#ffffff\" fill-rule=\"evenodd\" fill-opacity=\"1\"/>\n<defs>\n  <clipPath id=\"clip8001\">\n    <rect x=\"480\" y=\"0\" width=\"1681\" height=\"1600\"/>\n  </clipPath>\n</defs>\n<path clip-path=\"url(#clip8000)\" d=\"\nM251.71 1425.62 L2352.76 1425.62 L2352.76 121.675 L251.71 121.675  Z\n  \" fill=\"#ffffff\" fill-rule=\"evenodd\" fill-opacity=\"1\"/>\n<defs>\n  <clipPath id=\"clip8002\">\n    <rect x=\"251\" y=\"121\" width=\"2102\" height=\"1305\"/>\n  </clipPath>\n</defs>\n<polyline clip-path=\"url(#clip8002)\" style=\"stroke:#000000; stroke-width:2; stroke-opacity:0.1; fill:none\" points=\"\n  620.88,1425.62 620.88,121.675 \n  \"/>\n<polyline clip-path=\"url(#clip8002)\" style=\"stroke:#000000; stroke-width:2; stroke-opacity:0.1; fill:none\" points=\"\n  1519.03,1425.62 1519.03,121.675 \n  \"/>\n<polyline clip-path=\"url(#clip8002)\" style=\"stroke:#000000; stroke-width:2; stroke-opacity:0.1; fill:none\" points=\"\n  251.71,1388.71 2352.76,1388.71 \n  \"/>\n<polyline clip-path=\"url(#clip8002)\" style=\"stroke:#000000; stroke-width:2; stroke-opacity:0.1; fill:none\" points=\"\n  251.71,979.376 2352.76,979.376 \n  \"/>\n<polyline clip-path=\"url(#clip8002)\" style=\"stroke:#000000; stroke-width:2; stroke-opacity:0.1; fill:none\" points=\"\n  251.71,570.038 2352.76,570.038 \n  \"/>\n<polyline clip-path=\"url(#clip8002)\" style=\"stroke:#000000; stroke-width:2; stroke-opacity:0.1; fill:none\" points=\"\n  251.71,160.7 2352.76,160.7 \n  \"/>\n<polyline clip-path=\"url(#clip8000)\" style=\"stroke:#000000; stroke-width:4; stroke-opacity:1; fill:none\" points=\"\n  251.71,1425.62 2352.76,1425.62 \n  \"/>\n<polyline clip-path=\"url(#clip8000)\" style=\"stroke:#000000; stroke-width:4; stroke-opacity:1; fill:none\" points=\"\n  251.71,1425.62 251.71,121.675 \n  \"/>\n<polyline clip-path=\"url(#clip8000)\" style=\"stroke:#000000; stroke-width:4; stroke-opacity:1; fill:none\" points=\"\n  620.88,1425.62 620.88,1409.97 \n  \"/>\n<polyline clip-path=\"url(#clip8000)\" style=\"stroke:#000000; stroke-width:4; stroke-opacity:1; fill:none\" points=\"\n  1519.03,1425.62 1519.03,1409.97 \n  \"/>\n<polyline clip-path=\"url(#clip8000)\" style=\"stroke:#000000; stroke-width:4; stroke-opacity:1; fill:none\" points=\"\n  251.71,1388.71 276.923,1388.71 \n  \"/>\n<polyline clip-path=\"url(#clip8000)\" style=\"stroke:#000000; stroke-width:4; stroke-opacity:1; fill:none\" points=\"\n  251.71,979.376 276.923,979.376 \n  \"/>\n<polyline clip-path=\"url(#clip8000)\" style=\"stroke:#000000; stroke-width:4; stroke-opacity:1; fill:none\" points=\"\n  251.71,570.038 276.923,570.038 \n  \"/>\n<polyline clip-path=\"url(#clip8000)\" style=\"stroke:#000000; stroke-width:4; stroke-opacity:1; fill:none\" points=\"\n  251.71,160.7 276.923,160.7 \n  \"/>\n<g clip-path=\"url(#clip8000)\">\n<text style=\"fill:#000000; fill-opacity:1; font-family:Arial,Helvetica Neue,Helvetica,sans-serif; font-size:48px; text-anchor:middle;\" transform=\"rotate(0, 620.88, 1479.62)\" x=\"620.88\" y=\"1479.62\">2020-02-01</text>\n</g>\n<g clip-path=\"url(#clip8000)\">\n<text style=\"fill:#000000; fill-opacity:1; font-family:Arial,Helvetica Neue,Helvetica,sans-serif; font-size:48px; text-anchor:middle;\" transform=\"rotate(0, 1519.03, 1479.62)\" x=\"1519.03\" y=\"1479.62\">2020-03-01</text>\n</g>\n<g clip-path=\"url(#clip8000)\">\n<text style=\"fill:#000000; fill-opacity:1; font-family:Arial,Helvetica Neue,Helvetica,sans-serif; font-size:48px; text-anchor:start;\" transform=\"rotate(0, 152.441, 1412.44)\" x=\"152.441\" y=\"1412.44\">10</text>\n</g>\n<g clip-path=\"url(#clip8000)\">\n<text style=\"fill:#000000; fill-opacity:1; font-family:Arial,Helvetica Neue,Helvetica,sans-serif; font-size:38px; text-anchor:start;\" transform=\"rotate(0, 205.966, 1385.03)\" x=\"205.966\" y=\"1385.03\">0</text>\n</g>\n<g clip-path=\"url(#clip8000)\">\n<text style=\"fill:#000000; fill-opacity:1; font-family:Arial,Helvetica Neue,Helvetica,sans-serif; font-size:48px; text-anchor:start;\" transform=\"rotate(0, 152.441, 1003.1)\" x=\"152.441\" y=\"1003.1\">10</text>\n</g>\n<g clip-path=\"url(#clip8000)\">\n<text style=\"fill:#000000; fill-opacity:1; font-family:Arial,Helvetica Neue,Helvetica,sans-serif; font-size:38px; text-anchor:start;\" transform=\"rotate(0, 205.966, 975.693)\" x=\"205.966\" y=\"975.693\">1</text>\n</g>\n<g clip-path=\"url(#clip8000)\">\n<text style=\"fill:#000000; fill-opacity:1; font-family:Arial,Helvetica Neue,Helvetica,sans-serif; font-size:48px; text-anchor:start;\" transform=\"rotate(0, 152.441, 593.766)\" x=\"152.441\" y=\"593.766\">10</text>\n</g>\n<g clip-path=\"url(#clip8000)\">\n<text style=\"fill:#000000; fill-opacity:1; font-family:Arial,Helvetica Neue,Helvetica,sans-serif; font-size:38px; text-anchor:start;\" transform=\"rotate(0, 205.966, 566.355)\" x=\"205.966\" y=\"566.355\">2</text>\n</g>\n<g clip-path=\"url(#clip8000)\">\n<text style=\"fill:#000000; fill-opacity:1; font-family:Arial,Helvetica Neue,Helvetica,sans-serif; font-size:48px; text-anchor:start;\" transform=\"rotate(0, 152.441, 184.427)\" x=\"152.441\" y=\"184.427\">10</text>\n</g>\n<g clip-path=\"url(#clip8000)\">\n<text style=\"fill:#000000; fill-opacity:1; font-family:Arial,Helvetica Neue,Helvetica,sans-serif; font-size:38px; text-anchor:start;\" transform=\"rotate(0, 205.966, 157.017)\" x=\"205.966\" y=\"157.017\">3</text>\n</g>\n<g clip-path=\"url(#clip8000)\">\n<text style=\"fill:#000000; fill-opacity:1; font-family:Arial,Helvetica Neue,Helvetica,sans-serif; font-size:84px; text-anchor:middle;\" transform=\"rotate(0, 1302.23, 73.2)\" x=\"1302.23\" y=\"73.2\">COVID-19 Cases</text>\n</g>\n<g clip-path=\"url(#clip8000)\">\n<text style=\"fill:#000000; fill-opacity:1; font-family:Arial,Helvetica Neue,Helvetica,sans-serif; font-size:66px; text-anchor:middle;\" transform=\"rotate(0, 1302.23, 1559.48)\" x=\"1302.23\" y=\"1559.48\">Date</text>\n</g>\n<g clip-path=\"url(#clip8000)\">\n<text style=\"fill:#000000; fill-opacity:1; font-family:Arial,Helvetica Neue,Helvetica,sans-serif; font-size:66px; text-anchor:middle;\" transform=\"rotate(-90, 89.2861, 773.647)\" x=\"89.2861\" y=\"773.647\">Number of Confirmed Cases</text>\n</g>\n<polyline clip-path=\"url(#clip8002)\" style=\"stroke:#009af9; stroke-width:4; stroke-opacity:1; fill:none\" points=\"\n  1550,1388.71 1580.97,1388.71 1611.94,1388.71 1642.91,1102.6 1673.88,1102.6 1704.85,1102.6 1735.82,962.433 1766.79,907.295 1797.76,856.153 1828.73,847.48 \n  1859.7,711.991 1890.67,596.85 1921.65,564.783 1952.62,564.783 1983.59,540.614 2014.56,474.664 2045.53,474.664 2076.5,390.85 2107.47,350.404 2138.44,327.183 \n  2169.41,280.054 2200.38,263.142 2231.35,207.857 2262.32,179.43 2293.29,158.579 \n  \"/>\n<path clip-path=\"url(#clip8002)\" d=\"M1550 1404.71 L1538.69 1400.03 L1534 1388.71 L1538.69 1377.4 L1550 1372.71 L1561.31 1377.4 L1566 1388.71 L1561.31 1400.03 Z\" fill=\"#009af9\" fill-rule=\"evenodd\" fill-opacity=\"1\" stroke=\"#000000\" stroke-opacity=\"1\" stroke-width=\"3.2\"/>\n<path clip-path=\"url(#clip8002)\" d=\"M1580.97 1404.71 L1569.66 1400.03 L1564.97 1388.71 L1569.66 1377.4 L1580.97 1372.71 L1592.28 1377.4 L1596.97 1388.71 L1592.28 1400.03 Z\" fill=\"#009af9\" fill-rule=\"evenodd\" fill-opacity=\"1\" stroke=\"#000000\" stroke-opacity=\"1\" stroke-width=\"3.2\"/>\n<path clip-path=\"url(#clip8002)\" d=\"M1611.94 1404.71 L1600.63 1400.03 L1595.94 1388.71 L1600.63 1377.4 L1611.94 1372.71 L1623.25 1377.4 L1627.94 1388.71 L1623.25 1400.03 Z\" fill=\"#009af9\" fill-rule=\"evenodd\" fill-opacity=\"1\" stroke=\"#000000\" stroke-opacity=\"1\" stroke-width=\"3.2\"/>\n<path clip-path=\"url(#clip8002)\" d=\"M1642.91 1118.6 L1631.6 1113.91 L1626.91 1102.6 L1631.6 1091.29 L1642.91 1086.6 L1654.22 1091.29 L1658.91 1102.6 L1654.22 1113.91 Z\" fill=\"#009af9\" fill-rule=\"evenodd\" fill-opacity=\"1\" stroke=\"#000000\" stroke-opacity=\"1\" stroke-width=\"3.2\"/>\n<path clip-path=\"url(#clip8002)\" d=\"M1673.88 1118.6 L1662.57 1113.91 L1657.88 1102.6 L1662.57 1091.29 L1673.88 1086.6 L1685.19 1091.29 L1689.88 1102.6 L1685.19 1113.91 Z\" fill=\"#009af9\" fill-rule=\"evenodd\" fill-opacity=\"1\" stroke=\"#000000\" stroke-opacity=\"1\" stroke-width=\"3.2\"/>\n<path clip-path=\"url(#clip8002)\" d=\"M1704.85 1118.6 L1693.54 1113.91 L1688.85 1102.6 L1693.54 1091.29 L1704.85 1086.6 L1716.16 1091.29 L1720.85 1102.6 L1716.16 1113.91 Z\" fill=\"#009af9\" fill-rule=\"evenodd\" fill-opacity=\"1\" stroke=\"#000000\" stroke-opacity=\"1\" stroke-width=\"3.2\"/>\n<path clip-path=\"url(#clip8002)\" d=\"M1735.82 978.433 L1724.51 973.745 L1719.82 962.433 L1724.51 951.121 L1735.82 946.433 L1747.13 951.121 L1751.82 962.433 L1747.13 973.745 Z\" fill=\"#009af9\" fill-rule=\"evenodd\" fill-opacity=\"1\" stroke=\"#000000\" stroke-opacity=\"1\" stroke-width=\"3.2\"/>\n<path clip-path=\"url(#clip8002)\" d=\"M1766.79 923.295 L1755.48 918.607 L1750.79 907.295 L1755.48 895.983 L1766.79 891.295 L1778.1 895.983 L1782.79 907.295 L1778.1 918.607 Z\" fill=\"#009af9\" fill-rule=\"evenodd\" fill-opacity=\"1\" stroke=\"#000000\" stroke-opacity=\"1\" stroke-width=\"3.2\"/>\n<path clip-path=\"url(#clip8002)\" d=\"M1797.76 872.153 L1786.45 867.465 L1781.76 856.153 L1786.45 844.841 L1797.76 840.153 L1809.07 844.841 L1813.76 856.153 L1809.07 867.465 Z\" fill=\"#009af9\" fill-rule=\"evenodd\" fill-opacity=\"1\" stroke=\"#000000\" stroke-opacity=\"1\" stroke-width=\"3.2\"/>\n<path clip-path=\"url(#clip8002)\" d=\"M1828.73 863.48 L1817.42 858.792 L1812.73 847.48 L1817.42 836.168 L1828.73 831.48 L1840.05 836.168 L1844.73 847.48 L1840.05 858.792 Z\" fill=\"#009af9\" fill-rule=\"evenodd\" fill-opacity=\"1\" stroke=\"#000000\" stroke-opacity=\"1\" stroke-width=\"3.2\"/>\n<path clip-path=\"url(#clip8002)\" d=\"M1859.7 727.991 L1848.39 723.303 L1843.7 711.991 L1848.39 700.679 L1859.7 695.991 L1871.02 700.679 L1875.7 711.991 L1871.02 723.303 Z\" fill=\"#009af9\" fill-rule=\"evenodd\" fill-opacity=\"1\" stroke=\"#000000\" stroke-opacity=\"1\" stroke-width=\"3.2\"/>\n<path clip-path=\"url(#clip8002)\" d=\"M1890.67 612.85 L1879.36 608.162 L1874.67 596.85 L1879.36 585.538 L1890.67 580.85 L1901.99 585.538 L1906.67 596.85 L1901.99 608.162 Z\" fill=\"#009af9\" fill-rule=\"evenodd\" fill-opacity=\"1\" stroke=\"#000000\" stroke-opacity=\"1\" stroke-width=\"3.2\"/>\n<path clip-path=\"url(#clip8002)\" d=\"M1921.65 580.783 L1910.33 576.095 L1905.65 564.783 L1910.33 553.471 L1921.65 548.783 L1932.96 553.471 L1937.65 564.783 L1932.96 576.095 Z\" fill=\"#009af9\" fill-rule=\"evenodd\" fill-opacity=\"1\" stroke=\"#000000\" stroke-opacity=\"1\" stroke-width=\"3.2\"/>\n<path clip-path=\"url(#clip8002)\" d=\"M1952.62 580.783 L1941.3 576.095 L1936.62 564.783 L1941.3 553.471 L1952.62 548.783 L1963.93 553.471 L1968.62 564.783 L1963.93 576.095 Z\" fill=\"#009af9\" fill-rule=\"evenodd\" fill-opacity=\"1\" stroke=\"#000000\" stroke-opacity=\"1\" stroke-width=\"3.2\"/>\n<path clip-path=\"url(#clip8002)\" d=\"M1983.59 556.614 L1972.27 551.926 L1967.59 540.614 L1972.27 529.302 L1983.59 524.614 L1994.9 529.302 L1999.59 540.614 L1994.9 551.926 Z\" fill=\"#009af9\" fill-rule=\"evenodd\" fill-opacity=\"1\" stroke=\"#000000\" stroke-opacity=\"1\" stroke-width=\"3.2\"/>\n<path clip-path=\"url(#clip8002)\" d=\"M2014.56 490.664 L2003.24 485.976 L1998.56 474.664 L2003.24 463.352 L2014.56 458.664 L2025.87 463.352 L2030.56 474.664 L2025.87 485.976 Z\" fill=\"#009af9\" fill-rule=\"evenodd\" fill-opacity=\"1\" stroke=\"#000000\" stroke-opacity=\"1\" stroke-width=\"3.2\"/>\n<path clip-path=\"url(#clip8002)\" d=\"M2045.53 490.664 L2034.22 485.976 L2029.53 474.664 L2034.22 463.352 L2045.53 458.664 L2056.84 463.352 L2061.53 474.664 L2056.84 485.976 Z\" fill=\"#009af9\" fill-rule=\"evenodd\" fill-opacity=\"1\" stroke=\"#000000\" stroke-opacity=\"1\" stroke-width=\"3.2\"/>\n<path clip-path=\"url(#clip8002)\" d=\"M2076.5 406.85 L2065.19 402.162 L2060.5 390.85 L2065.19 379.538 L2076.5 374.85 L2087.81 379.538 L2092.5 390.85 L2087.81 402.162 Z\" fill=\"#009af9\" fill-rule=\"evenodd\" fill-opacity=\"1\" stroke=\"#000000\" stroke-opacity=\"1\" stroke-width=\"3.2\"/>\n<path clip-path=\"url(#clip8002)\" d=\"M2107.47 366.404 L2096.16 361.716 L2091.47 350.404 L2096.16 339.092 L2107.47 334.404 L2118.78 339.092 L2123.47 350.404 L2118.78 361.716 Z\" fill=\"#009af9\" fill-rule=\"evenodd\" fill-opacity=\"1\" stroke=\"#000000\" stroke-opacity=\"1\" stroke-width=\"3.2\"/>\n<path clip-path=\"url(#clip8002)\" d=\"M2138.44 343.183 L2127.13 338.495 L2122.44 327.183 L2127.13 315.871 L2138.44 311.183 L2149.75 315.871 L2154.44 327.183 L2149.75 338.495 Z\" fill=\"#009af9\" fill-rule=\"evenodd\" fill-opacity=\"1\" stroke=\"#000000\" stroke-opacity=\"1\" stroke-width=\"3.2\"/>\n<path clip-path=\"url(#clip8002)\" d=\"M2169.41 296.054 L2158.1 291.366 L2153.41 280.054 L2158.1 268.742 L2169.41 264.054 L2180.72 268.742 L2185.41 280.054 L2180.72 291.366 Z\" fill=\"#009af9\" fill-rule=\"evenodd\" fill-opacity=\"1\" stroke=\"#000000\" stroke-opacity=\"1\" stroke-width=\"3.2\"/>\n<path clip-path=\"url(#clip8002)\" d=\"M2200.38 279.142 L2189.07 274.454 L2184.38 263.142 L2189.07 251.83 L2200.38 247.142 L2211.69 251.83 L2216.38 263.142 L2211.69 274.454 Z\" fill=\"#009af9\" fill-rule=\"evenodd\" fill-opacity=\"1\" stroke=\"#000000\" stroke-opacity=\"1\" stroke-width=\"3.2\"/>\n<path clip-path=\"url(#clip8002)\" d=\"M2231.35 223.857 L2220.04 219.169 L2215.35 207.857 L2220.04 196.545 L2231.35 191.857 L2242.66 196.545 L2247.35 207.857 L2242.66 219.169 Z\" fill=\"#009af9\" fill-rule=\"evenodd\" fill-opacity=\"1\" stroke=\"#000000\" stroke-opacity=\"1\" stroke-width=\"3.2\"/>\n<path clip-path=\"url(#clip8002)\" d=\"M2262.32 195.43 L2251.01 190.742 L2246.32 179.43 L2251.01 168.118 L2262.32 163.43 L2273.63 168.118 L2278.32 179.43 L2273.63 190.742 Z\" fill=\"#009af9\" fill-rule=\"evenodd\" fill-opacity=\"1\" stroke=\"#000000\" stroke-opacity=\"1\" stroke-width=\"3.2\"/>\n<path clip-path=\"url(#clip8002)\" d=\"M2293.29 174.579 L2281.98 169.891 L2277.29 158.579 L2281.98 147.267 L2293.29 142.579 L2304.6 147.267 L2309.29 158.579 L2304.6 169.891 Z\" fill=\"#009af9\" fill-rule=\"evenodd\" fill-opacity=\"1\" stroke=\"#000000\" stroke-opacity=\"1\" stroke-width=\"3.2\"/>\n<path clip-path=\"url(#clip8000)\" d=\"\nM323.71 326.155 L839.275 326.155 L839.275 205.195 L323.71 205.195  Z\n  \" fill=\"#ffffff\" fill-rule=\"evenodd\" fill-opacity=\"1\"/>\n<polyline clip-path=\"url(#clip8000)\" style=\"stroke:#000000; stroke-width:4; stroke-opacity:1; fill:none\" points=\"\n  323.71,326.155 839.275,326.155 839.275,205.195 323.71,205.195 323.71,326.155 \n  \"/>\n<polyline clip-path=\"url(#clip8000)\" style=\"stroke:#009af9; stroke-width:4; stroke-opacity:1; fill:none\" points=\"\n  347.71,265.675 491.71,265.675 \n  \"/>\n<path clip-path=\"url(#clip8000)\" d=\"M431.71 289.675 L414.742 282.643 L407.71 265.675 L414.742 248.707 L431.71 241.675 L448.678 248.707 L455.71 265.675 L448.678 282.643 Z\" fill=\"#009af9\" fill-rule=\"evenodd\" fill-opacity=\"1\" stroke=\"#000000\" stroke-opacity=\"1\" stroke-width=\"3.2\"/>\n<g clip-path=\"url(#clip8000)\">\n<text style=\"fill:#000000; fill-opacity:1; font-family:Arial,Helvetica Neue,Helvetica,sans-serif; font-size:48px; text-anchor:start;\" transform=\"rotate(0, 515.71, 283.175)\" x=\"515.71\" y=\"283.175\">Saudi Arabia</text>\n</g>\n</svg>\n"
               },
               "type": "node"
              }
             ],
             "instanceArgs": {
              "namespace": "html",
              "tag": "div"
             },
             "nodeType": "DOM",
             "props": {
              "className": "interact-flex-row interact-widget"
             },
             "type": "node"
            }
           }
          },
          "systemjs_options": null
         },
         "nodeType": "Scope",
         "props": {},
         "type": "node"
        }
       ],
       "instanceArgs": {
        "namespace": "html",
        "tag": "div"
       },
       "nodeType": "DOM",
       "props": {},
       "type": "node"
      },
      "text/html": [
       "<div\n",
       "    class=\"webio-mountpoint\"\n",
       "    data-webio-mountpoint=\"4640816769500213126\"\n",
       ">\n",
       "    <script>\n",
       "    if (window.require && require.defined && require.defined(\"nbextensions/webio-jupyter-notebook\")) {\n",
       "        console.log(\"Jupyter WebIO extension detected, not mounting.\");\n",
       "    } else if (window.WebIO) {\n",
       "        WebIO.mount(\n",
       "            document.querySelector('[data-webio-mountpoint=\"4640816769500213126\"]'),\n",
       "            {\"props\":{},\"nodeType\":\"DOM\",\"type\":\"node\",\"instanceArgs\":{\"namespace\":\"html\",\"tag\":\"div\"},\"children\":[{\"props\":{\"className\":\"field interact-widget\"},\"nodeType\":\"DOM\",\"type\":\"node\",\"instanceArgs\":{\"namespace\":\"html\",\"tag\":\"div\"},\"children\":[{\"props\":{},\"nodeType\":\"Scope\",\"type\":\"node\",\"instanceArgs\":{\"imports\":{\"data\":[{\"name\":\"knockout\",\"type\":\"js\",\"url\":\"\\/assetserver\\/e30804d580242ff490836fea138ed12dab987650-knockout.js\"},{\"name\":\"knockout_punches\",\"type\":\"js\",\"url\":\"\\/assetserver\\/3b050a7a6e0183134ddf7d37e9900e424ee82b96-knockout_punches.js\"},{\"name\":null,\"type\":\"js\",\"url\":\"\\/assetserver\\/72820b874a45543a799a471aa05eefa33c06bf5a-all.js\"},{\"name\":null,\"type\":\"css\",\"url\":\"\\/assetserver\\/e7517b5a7de555d89430fc976892a64cbe24a2bc-style.css\"},{\"name\":null,\"type\":\"css\",\"url\":\"\\/assetserver\\/8371af573dfc972c716f005fa6460852db032b9c-bulma_confined.min.css\"}],\"type\":\"async_block\"},\"id\":\"13904928515178731033\",\"handlers\":{\"changes\":[\"(function (val){return (val!=this.model[\\\"changes\\\"]()) ? (this.valueFromJulia[\\\"changes\\\"]=true, this.model[\\\"changes\\\"](val)) : undefined})\"],\"index\":[\"(function (val){return (val!=this.model[\\\"index\\\"]()) ? (this.valueFromJulia[\\\"index\\\"]=true, this.model[\\\"index\\\"](val)) : undefined})\"]},\"systemjs_options\":null,\"mount_callbacks\":[\"function () {\\n    var handler = (function (ko, koPunches) {\\n    ko.punches.enableAll();\\n    ko.bindingHandlers.numericValue = {\\n        init: function(element, valueAccessor, allBindings, data, context) {\\n            var stringified = ko.observable(ko.unwrap(valueAccessor()));\\n            stringified.subscribe(function(value) {\\n                var val = parseFloat(value);\\n                if (!isNaN(val)) {\\n                    valueAccessor()(val);\\n                }\\n            });\\n            valueAccessor().subscribe(function(value) {\\n                var str = JSON.stringify(value);\\n                if ((str == \\\"0\\\") && ([\\\"-0\\\", \\\"-0.\\\"].indexOf(stringified()) >= 0))\\n                     return;\\n                 if ([\\\"null\\\", \\\"\\\"].indexOf(str) >= 0)\\n                     return;\\n                stringified(str);\\n            });\\n            ko.applyBindingsToNode(\\n                element,\\n                {\\n                    value: stringified,\\n                    valueUpdate: allBindings.get('valueUpdate'),\\n                },\\n                context,\\n            );\\n        }\\n    };\\n    var json_data = {\\\"formatted_vals\\\":[\\\"1\\\",\\\"2\\\",\\\"3\\\",\\\"4\\\",\\\"5\\\",\\\"6\\\",\\\"7\\\",\\\"8\\\",\\\"9\\\",\\\"10\\\",\\\"11\\\",\\\"12\\\",\\\"13\\\",\\\"14\\\",\\\"15\\\",\\\"16\\\",\\\"17\\\",\\\"18\\\",\\\"19\\\",\\\"20\\\",\\\"21\\\",\\\"22\\\",\\\"23\\\",\\\"24\\\",\\\"25\\\",\\\"26\\\",\\\"27\\\",\\\"28\\\",\\\"29\\\",\\\"30\\\",\\\"31\\\",\\\"32\\\",\\\"33\\\",\\\"34\\\",\\\"35\\\",\\\"36\\\",\\\"37\\\",\\\"38\\\",\\\"39\\\",\\\"40\\\",\\\"41\\\",\\\"42\\\",\\\"43\\\",\\\"44\\\",\\\"45\\\",\\\"46\\\",\\\"47\\\",\\\"48\\\",\\\"49\\\",\\\"50\\\",\\\"51\\\",\\\"52\\\",\\\"53\\\",\\\"54\\\",\\\"55\\\",\\\"56\\\",\\\"57\\\",\\\"58\\\",\\\"59\\\",\\\"60\\\",\\\"61\\\",\\\"62\\\",\\\"63\\\",\\\"64\\\",\\\"65\\\",\\\"66\\\",\\\"67\\\",\\\"68\\\",\\\"69\\\",\\\"70\\\",\\\"71\\\",\\\"72\\\",\\\"73\\\",\\\"74\\\",\\\"75\\\",\\\"76\\\",\\\"77\\\",\\\"78\\\",\\\"79\\\",\\\"80\\\",\\\"81\\\",\\\"82\\\",\\\"83\\\",\\\"84\\\",\\\"85\\\",\\\"86\\\",\\\"87\\\",\\\"88\\\",\\\"89\\\",\\\"90\\\",\\\"91\\\",\\\"92\\\",\\\"93\\\",\\\"94\\\",\\\"95\\\",\\\"96\\\",\\\"97\\\",\\\"98\\\",\\\"99\\\",\\\"100\\\",\\\"101\\\",\\\"102\\\",\\\"103\\\",\\\"104\\\",\\\"105\\\",\\\"106\\\",\\\"107\\\",\\\"108\\\",\\\"109\\\",\\\"110\\\",\\\"111\\\",\\\"112\\\",\\\"113\\\",\\\"114\\\",\\\"115\\\",\\\"116\\\",\\\"117\\\",\\\"118\\\",\\\"119\\\",\\\"120\\\",\\\"121\\\",\\\"122\\\",\\\"123\\\",\\\"124\\\",\\\"125\\\",\\\"126\\\",\\\"127\\\",\\\"128\\\",\\\"129\\\",\\\"130\\\"],\\\"changes\\\":WebIO.getval({\\\"name\\\":\\\"changes\\\",\\\"scope\\\":\\\"13904928515178731033\\\",\\\"id\\\":\\\"ob_02\\\",\\\"type\\\":\\\"observable\\\"}),\\\"index\\\":WebIO.getval({\\\"name\\\":\\\"index\\\",\\\"scope\\\":\\\"13904928515178731033\\\",\\\"id\\\":\\\"ob_01\\\",\\\"type\\\":\\\"observable\\\"})};\\n    var self = this;\\n    function AppViewModel() {\\n        for (var key in json_data) {\\n            var el = json_data[key];\\n            this[key] = Array.isArray(el) ? ko.observableArray(el) : ko.observable(el);\\n        }\\n        \\n        [this[\\\"formatted_val\\\"]=ko.computed(    function(){\\n        return this.formatted_vals()[parseInt(this.index())-(1)];\\n    }\\n,this)]\\n        [this[\\\"changes\\\"].subscribe((function (val){!(this.valueFromJulia[\\\"changes\\\"]) ? (WebIO.setval({\\\"name\\\":\\\"changes\\\",\\\"scope\\\":\\\"13904928515178731033\\\",\\\"id\\\":\\\"ob_02\\\",\\\"type\\\":\\\"observable\\\"},val)) : undefined; return this.valueFromJulia[\\\"changes\\\"]=false}),self),this[\\\"index\\\"].subscribe((function (val){!(this.valueFromJulia[\\\"index\\\"]) ? (WebIO.setval({\\\"name\\\":\\\"index\\\",\\\"scope\\\":\\\"13904928515178731033\\\",\\\"id\\\":\\\"ob_01\\\",\\\"type\\\":\\\"observable\\\"},val)) : undefined; return this.valueFromJulia[\\\"index\\\"]=false}),self)]\\n        \\n    }\\n    self.model = new AppViewModel();\\n    self.valueFromJulia = {};\\n    for (var key in json_data) {\\n        self.valueFromJulia[key] = false;\\n    }\\n    ko.applyBindings(self.model, self.dom);\\n}\\n);\\n    (WebIO.importBlock({\\\"data\\\":[{\\\"name\\\":\\\"knockout\\\",\\\"type\\\":\\\"js\\\",\\\"url\\\":\\\"\\/assetserver\\/e30804d580242ff490836fea138ed12dab987650-knockout.js\\\"},{\\\"name\\\":\\\"knockout_punches\\\",\\\"type\\\":\\\"js\\\",\\\"url\\\":\\\"\\/assetserver\\/3b050a7a6e0183134ddf7d37e9900e424ee82b96-knockout_punches.js\\\"}],\\\"type\\\":\\\"async_block\\\"})).then((imports) => handler.apply(this, imports));\\n}\\n\"],\"observables\":{\"changes\":{\"sync\":false,\"id\":\"ob_02\",\"value\":0},\"index\":{\"sync\":true,\"id\":\"ob_01\",\"value\":65}}},\"children\":[{\"props\":{\"className\":\"interact-flex-row interact-widget\"},\"nodeType\":\"DOM\",\"type\":\"node\",\"instanceArgs\":{\"namespace\":\"html\",\"tag\":\"div\"},\"children\":[{\"props\":{\"className\":\"interact-flex-row-left\"},\"nodeType\":\"DOM\",\"type\":\"node\",\"instanceArgs\":{\"namespace\":\"html\",\"tag\":\"div\"},\"children\":[{\"props\":{\"className\":\"interact \",\"style\":{\"padding\":\"5px 10px 0px 10px\"}},\"nodeType\":\"DOM\",\"type\":\"node\",\"instanceArgs\":{\"namespace\":\"html\",\"tag\":\"label\"},\"children\":[\"day\"]}]},{\"props\":{\"className\":\"interact-flex-row-center\"},\"nodeType\":\"DOM\",\"type\":\"node\",\"instanceArgs\":{\"namespace\":\"html\",\"tag\":\"div\"},\"children\":[{\"props\":{\"max\":130,\"min\":1,\"attributes\":{\"type\":\"range\",\"data-bind\":\"numericValue: index, valueUpdate: 'input', event: {change: function (){this.changes(this.changes()+1)}}\",\"orient\":\"horizontal\"},\"step\":1,\"className\":\"slider slider is-fullwidth\",\"style\":{}},\"nodeType\":\"DOM\",\"type\":\"node\",\"instanceArgs\":{\"namespace\":\"html\",\"tag\":\"input\"},\"children\":[]}]},{\"props\":{\"className\":\"interact-flex-row-right\"},\"nodeType\":\"DOM\",\"type\":\"node\",\"instanceArgs\":{\"namespace\":\"html\",\"tag\":\"div\"},\"children\":[{\"props\":{\"attributes\":{\"data-bind\":\"text: formatted_val\"}},\"nodeType\":\"DOM\",\"type\":\"node\",\"instanceArgs\":{\"namespace\":\"html\",\"tag\":\"p\"},\"children\":[]}]}]}]}]},{\"props\":{},\"nodeType\":\"Scope\",\"type\":\"node\",\"instanceArgs\":{\"imports\":{\"data\":[],\"type\":\"async_block\"},\"id\":\"494651218639367276\",\"handlers\":{},\"systemjs_options\":null,\"mount_callbacks\":[],\"observables\":{\"obs-node\":{\"sync\":false,\"id\":\"ob_06\",\"value\":{\"props\":{\"className\":\"interact-flex-row interact-widget\"},\"nodeType\":\"DOM\",\"type\":\"node\",\"instanceArgs\":{\"namespace\":\"html\",\"tag\":\"div\"},\"children\":[{\"props\":{\"setInnerHtml\":\"<?xml version=\\\"1.0\\\" encoding=\\\"utf-8\\\"?>\\n<svg xmlns=\\\"http:\\/\\/www.w3.org\\/2000\\/svg\\\" xmlns:xlink=\\\"http:\\/\\/www.w3.org\\/1999\\/xlink\\\" width=\\\"600\\\" height=\\\"400\\\" viewBox=\\\"0 0 2400 1600\\\">\\n<defs>\\n  <clipPath id=\\\"clip7600\\\">\\n    <rect x=\\\"0\\\" y=\\\"0\\\" width=\\\"2400\\\" height=\\\"1600\\\"\\/>\\n  <\\/clipPath>\\n<\\/defs>\\n<path clip-path=\\\"url(#clip7600)\\\" d=\\\"\\nM0 1600 L2400 1600 L2400 0 L0 0  Z\\n  \\\" fill=\\\"#ffffff\\\" fill-rule=\\\"evenodd\\\" fill-opacity=\\\"1\\\"\\/>\\n<defs>\\n  <clipPath id=\\\"clip7601\\\">\\n    <rect x=\\\"480\\\" y=\\\"0\\\" width=\\\"1681\\\" height=\\\"1600\\\"\\/>\\n  <\\/clipPath>\\n<\\/defs>\\n<path clip-path=\\\"url(#clip7600)\\\" d=\\\"\\nM251.71 1425.62 L2352.76 1425.62 L2352.76 121.675 L251.71 121.675  Z\\n  \\\" fill=\\\"#ffffff\\\" fill-rule=\\\"evenodd\\\" fill-opacity=\\\"1\\\"\\/>\\n<defs>\\n  <clipPath id=\\\"clip7602\\\">\\n    <rect x=\\\"251\\\" y=\\\"121\\\" width=\\\"2102\\\" height=\\\"1305\\\"\\/>\\n  <\\/clipPath>\\n<\\/defs>\\n<polyline clip-path=\\\"url(#clip7602)\\\" style=\\\"stroke:#000000; stroke-width:2; stroke-opacity:0.1; fill:none\\\" points=\\\"\\n  620.88,1425.62 620.88,121.675 \\n  \\\"\\/>\\n<polyline clip-path=\\\"url(#clip7602)\\\" style=\\\"stroke:#000000; stroke-width:2; stroke-opacity:0.1; fill:none\\\" points=\\\"\\n  1519.03,1425.62 1519.03,121.675 \\n  \\\"\\/>\\n<polyline clip-path=\\\"url(#clip7602)\\\" style=\\\"stroke:#000000; stroke-width:2; stroke-opacity:0.1; fill:none\\\" points=\\\"\\n  251.71,1388.71 2352.76,1388.71 \\n  \\\"\\/>\\n<polyline clip-path=\\\"url(#clip7602)\\\" style=\\\"stroke:#000000; stroke-width:2; stroke-opacity:0.1; fill:none\\\" points=\\\"\\n  251.71,979.376 2352.76,979.376 \\n  \\\"\\/>\\n<polyline clip-path=\\\"url(#clip7602)\\\" style=\\\"stroke:#000000; stroke-width:2; stroke-opacity:0.1; fill:none\\\" points=\\\"\\n  251.71,570.038 2352.76,570.038 \\n  \\\"\\/>\\n<polyline clip-path=\\\"url(#clip7602)\\\" style=\\\"stroke:#000000; stroke-width:2; stroke-opacity:0.1; fill:none\\\" points=\\\"\\n  251.71,160.7 2352.76,160.7 \\n  \\\"\\/>\\n<polyline clip-path=\\\"url(#clip7600)\\\" style=\\\"stroke:#000000; stroke-width:4; stroke-opacity:1; fill:none\\\" points=\\\"\\n  251.71,1425.62 2352.76,1425.62 \\n  \\\"\\/>\\n<polyline clip-path=\\\"url(#clip7600)\\\" style=\\\"stroke:#000000; stroke-width:4; stroke-opacity:1; fill:none\\\" points=\\\"\\n  251.71,1425.62 251.71,121.675 \\n  \\\"\\/>\\n<polyline clip-path=\\\"url(#clip7600)\\\" style=\\\"stroke:#000000; stroke-width:4; stroke-opacity:1; fill:none\\\" points=\\\"\\n  620.88,1425.62 620.88,1409.97 \\n  \\\"\\/>\\n<polyline clip-path=\\\"url(#clip7600)\\\" style=\\\"stroke:#000000; stroke-width:4; stroke-opacity:1; fill:none\\\" points=\\\"\\n  1519.03,1425.62 1519.03,1409.97 \\n  \\\"\\/>\\n<polyline clip-path=\\\"url(#clip7600)\\\" style=\\\"stroke:#000000; stroke-width:4; stroke-opacity:1; fill:none\\\" points=\\\"\\n  251.71,1388.71 276.923,1388.71 \\n  \\\"\\/>\\n<polyline clip-path=\\\"url(#clip7600)\\\" style=\\\"stroke:#000000; stroke-width:4; stroke-opacity:1; fill:none\\\" points=\\\"\\n  251.71,979.376 276.923,979.376 \\n  \\\"\\/>\\n<polyline clip-path=\\\"url(#clip7600)\\\" style=\\\"stroke:#000000; stroke-width:4; stroke-opacity:1; fill:none\\\" points=\\\"\\n  251.71,570.038 276.923,570.038 \\n  \\\"\\/>\\n<polyline clip-path=\\\"url(#clip7600)\\\" style=\\\"stroke:#000000; stroke-width:4; stroke-opacity:1; fill:none\\\" points=\\\"\\n  251.71,160.7 276.923,160.7 \\n  \\\"\\/>\\n<g clip-path=\\\"url(#clip7600)\\\">\\n<text style=\\\"fill:#000000; fill-opacity:1; font-family:Arial,Helvetica Neue,Helvetica,sans-serif; font-size:48px; text-anchor:middle;\\\" transform=\\\"rotate(0, 620.88, 1479.62)\\\" x=\\\"620.88\\\" y=\\\"1479.62\\\">2020-02-01<\\/text>\\n<\\/g>\\n<g clip-path=\\\"url(#clip7600)\\\">\\n<text style=\\\"fill:#000000; fill-opacity:1; font-family:Arial,Helvetica Neue,Helvetica,sans-serif; font-size:48px; text-anchor:middle;\\\" transform=\\\"rotate(0, 1519.03, 1479.62)\\\" x=\\\"1519.03\\\" y=\\\"1479.62\\\">2020-03-01<\\/text>\\n<\\/g>\\n<g clip-path=\\\"url(#clip7600)\\\">\\n<text style=\\\"fill:#000000; fill-opacity:1; font-family:Arial,Helvetica Neue,Helvetica,sans-serif; font-size:48px; text-anchor:start;\\\" transform=\\\"rotate(0, 152.441, 1412.44)\\\" x=\\\"152.441\\\" y=\\\"1412.44\\\">10<\\/text>\\n<\\/g>\\n<g clip-path=\\\"url(#clip7600)\\\">\\n<text style=\\\"fill:#000000; fill-opacity:1; font-family:Arial,Helvetica Neue,Helvetica,sans-serif; font-size:38px; text-anchor:start;\\\" transform=\\\"rotate(0, 205.966, 1385.03)\\\" x=\\\"205.966\\\" y=\\\"1385.03\\\">0<\\/text>\\n<\\/g>\\n<g clip-path=\\\"url(#clip7600)\\\">\\n<text style=\\\"fill:#000000; fill-opacity:1; font-family:Arial,Helvetica Neue,Helvetica,sans-serif; font-size:48px; text-anchor:start;\\\" transform=\\\"rotate(0, 152.441, 1003.1)\\\" x=\\\"152.441\\\" y=\\\"1003.1\\\">10<\\/text>\\n<\\/g>\\n<g clip-path=\\\"url(#clip7600)\\\">\\n<text style=\\\"fill:#000000; fill-opacity:1; font-family:Arial,Helvetica Neue,Helvetica,sans-serif; font-size:38px; text-anchor:start;\\\" transform=\\\"rotate(0, 205.966, 975.693)\\\" x=\\\"205.966\\\" y=\\\"975.693\\\">1<\\/text>\\n<\\/g>\\n<g clip-path=\\\"url(#clip7600)\\\">\\n<text style=\\\"fill:#000000; fill-opacity:1; font-family:Arial,Helvetica Neue,Helvetica,sans-serif; font-size:48px; text-anchor:start;\\\" transform=\\\"rotate(0, 152.441, 593.766)\\\" x=\\\"152.441\\\" y=\\\"593.766\\\">10<\\/text>\\n<\\/g>\\n<g clip-path=\\\"url(#clip7600)\\\">\\n<text style=\\\"fill:#000000; fill-opacity:1; font-family:Arial,Helvetica Neue,Helvetica,sans-serif; font-size:38px; text-anchor:start;\\\" transform=\\\"rotate(0, 205.966, 566.355)\\\" x=\\\"205.966\\\" y=\\\"566.355\\\">2<\\/text>\\n<\\/g>\\n<g clip-path=\\\"url(#clip7600)\\\">\\n<text style=\\\"fill:#000000; fill-opacity:1; font-family:Arial,Helvetica Neue,Helvetica,sans-serif; font-size:48px; text-anchor:start;\\\" transform=\\\"rotate(0, 152.441, 184.427)\\\" x=\\\"152.441\\\" y=\\\"184.427\\\">10<\\/text>\\n<\\/g>\\n<g clip-path=\\\"url(#clip7600)\\\">\\n<text style=\\\"fill:#000000; fill-opacity:1; font-family:Arial,Helvetica Neue,Helvetica,sans-serif; font-size:38px; text-anchor:start;\\\" transform=\\\"rotate(0, 205.966, 157.017)\\\" x=\\\"205.966\\\" y=\\\"157.017\\\">3<\\/text>\\n<\\/g>\\n<g clip-path=\\\"url(#clip7600)\\\">\\n<text style=\\\"fill:#000000; fill-opacity:1; font-family:Arial,Helvetica Neue,Helvetica,sans-serif; font-size:84px; text-anchor:middle;\\\" transform=\\\"rotate(0, 1302.23, 73.2)\\\" x=\\\"1302.23\\\" y=\\\"73.2\\\">COVID-19 Cases<\\/text>\\n<\\/g>\\n<g clip-path=\\\"url(#clip7600)\\\">\\n<text style=\\\"fill:#000000; fill-opacity:1; font-family:Arial,Helvetica Neue,Helvetica,sans-serif; font-size:66px; text-anchor:middle;\\\" transform=\\\"rotate(0, 1302.23, 1559.48)\\\" x=\\\"1302.23\\\" y=\\\"1559.48\\\">Date<\\/text>\\n<\\/g>\\n<g clip-path=\\\"url(#clip7600)\\\">\\n<text style=\\\"fill:#000000; fill-opacity:1; font-family:Arial,Helvetica Neue,Helvetica,sans-serif; font-size:66px; text-anchor:middle;\\\" transform=\\\"rotate(-90, 89.2861, 773.647)\\\" x=\\\"89.2861\\\" y=\\\"773.647\\\">Number of Confirmed Cases<\\/text>\\n<\\/g>\\n<polyline clip-path=\\\"url(#clip7602)\\\" style=\\\"stroke:#009af9; stroke-width:4; stroke-opacity:1; fill:none\\\" points=\\\"\\n  1550,1388.71 1580.97,1388.71 1611.94,1388.71 1642.91,1102.6 1673.88,1102.6 1704.85,1102.6 1735.82,962.433 1766.79,907.295 1797.76,856.153 1828.73,847.48 \\n  1859.7,711.991 1890.67,596.85 1921.65,564.783 1952.62,564.783 1983.59,540.614 2014.56,474.664 2045.53,474.664 2076.5,390.85 2107.47,350.404 2138.44,327.183 \\n  2169.41,280.054 2200.38,263.142 2231.35,207.857 2262.32,179.43 2293.29,158.579 \\n  \\\"\\/>\\n<path clip-path=\\\"url(#clip7602)\\\" d=\\\"M1550 1404.71 L1538.69 1400.03 L1534 1388.71 L1538.69 1377.4 L1550 1372.71 L1561.31 1377.4 L1566 1388.71 L1561.31 1400.03 Z\\\" fill=\\\"#009af9\\\" fill-rule=\\\"evenodd\\\" fill-opacity=\\\"1\\\" stroke=\\\"#000000\\\" stroke-opacity=\\\"1\\\" stroke-width=\\\"3.2\\\"\\/>\\n<path clip-path=\\\"url(#clip7602)\\\" d=\\\"M1580.97 1404.71 L1569.66 1400.03 L1564.97 1388.71 L1569.66 1377.4 L1580.97 1372.71 L1592.28 1377.4 L1596.97 1388.71 L1592.28 1400.03 Z\\\" fill=\\\"#009af9\\\" fill-rule=\\\"evenodd\\\" fill-opacity=\\\"1\\\" stroke=\\\"#000000\\\" stroke-opacity=\\\"1\\\" stroke-width=\\\"3.2\\\"\\/>\\n<path clip-path=\\\"url(#clip7602)\\\" d=\\\"M1611.94 1404.71 L1600.63 1400.03 L1595.94 1388.71 L1600.63 1377.4 L1611.94 1372.71 L1623.25 1377.4 L1627.94 1388.71 L1623.25 1400.03 Z\\\" fill=\\\"#009af9\\\" fill-rule=\\\"evenodd\\\" fill-opacity=\\\"1\\\" stroke=\\\"#000000\\\" stroke-opacity=\\\"1\\\" stroke-width=\\\"3.2\\\"\\/>\\n<path clip-path=\\\"url(#clip7602)\\\" d=\\\"M1642.91 1118.6 L1631.6 1113.91 L1626.91 1102.6 L1631.6 1091.29 L1642.91 1086.6 L1654.22 1091.29 L1658.91 1102.6 L1654.22 1113.91 Z\\\" fill=\\\"#009af9\\\" fill-rule=\\\"evenodd\\\" fill-opacity=\\\"1\\\" stroke=\\\"#000000\\\" stroke-opacity=\\\"1\\\" stroke-width=\\\"3.2\\\"\\/>\\n<path clip-path=\\\"url(#clip7602)\\\" d=\\\"M1673.88 1118.6 L1662.57 1113.91 L1657.88 1102.6 L1662.57 1091.29 L1673.88 1086.6 L1685.19 1091.29 L1689.88 1102.6 L1685.19 1113.91 Z\\\" fill=\\\"#009af9\\\" fill-rule=\\\"evenodd\\\" fill-opacity=\\\"1\\\" stroke=\\\"#000000\\\" stroke-opacity=\\\"1\\\" stroke-width=\\\"3.2\\\"\\/>\\n<path clip-path=\\\"url(#clip7602)\\\" d=\\\"M1704.85 1118.6 L1693.54 1113.91 L1688.85 1102.6 L1693.54 1091.29 L1704.85 1086.6 L1716.16 1091.29 L1720.85 1102.6 L1716.16 1113.91 Z\\\" fill=\\\"#009af9\\\" fill-rule=\\\"evenodd\\\" fill-opacity=\\\"1\\\" stroke=\\\"#000000\\\" stroke-opacity=\\\"1\\\" stroke-width=\\\"3.2\\\"\\/>\\n<path clip-path=\\\"url(#clip7602)\\\" d=\\\"M1735.82 978.433 L1724.51 973.745 L1719.82 962.433 L1724.51 951.121 L1735.82 946.433 L1747.13 951.121 L1751.82 962.433 L1747.13 973.745 Z\\\" fill=\\\"#009af9\\\" fill-rule=\\\"evenodd\\\" fill-opacity=\\\"1\\\" stroke=\\\"#000000\\\" stroke-opacity=\\\"1\\\" stroke-width=\\\"3.2\\\"\\/>\\n<path clip-path=\\\"url(#clip7602)\\\" d=\\\"M1766.79 923.295 L1755.48 918.607 L1750.79 907.295 L1755.48 895.983 L1766.79 891.295 L1778.1 895.983 L1782.79 907.295 L1778.1 918.607 Z\\\" fill=\\\"#009af9\\\" fill-rule=\\\"evenodd\\\" fill-opacity=\\\"1\\\" stroke=\\\"#000000\\\" stroke-opacity=\\\"1\\\" stroke-width=\\\"3.2\\\"\\/>\\n<path clip-path=\\\"url(#clip7602)\\\" d=\\\"M1797.76 872.153 L1786.45 867.465 L1781.76 856.153 L1786.45 844.841 L1797.76 840.153 L1809.07 844.841 L1813.76 856.153 L1809.07 867.465 Z\\\" fill=\\\"#009af9\\\" fill-rule=\\\"evenodd\\\" fill-opacity=\\\"1\\\" stroke=\\\"#000000\\\" stroke-opacity=\\\"1\\\" stroke-width=\\\"3.2\\\"\\/>\\n<path clip-path=\\\"url(#clip7602)\\\" d=\\\"M1828.73 863.48 L1817.42 858.792 L1812.73 847.48 L1817.42 836.168 L1828.73 831.48 L1840.05 836.168 L1844.73 847.48 L1840.05 858.792 Z\\\" fill=\\\"#009af9\\\" fill-rule=\\\"evenodd\\\" fill-opacity=\\\"1\\\" stroke=\\\"#000000\\\" stroke-opacity=\\\"1\\\" stroke-width=\\\"3.2\\\"\\/>\\n<path clip-path=\\\"url(#clip7602)\\\" d=\\\"M1859.7 727.991 L1848.39 723.303 L1843.7 711.991 L1848.39 700.679 L1859.7 695.991 L1871.02 700.679 L1875.7 711.991 L1871.02 723.303 Z\\\" fill=\\\"#009af9\\\" fill-rule=\\\"evenodd\\\" fill-opacity=\\\"1\\\" stroke=\\\"#000000\\\" stroke-opacity=\\\"1\\\" stroke-width=\\\"3.2\\\"\\/>\\n<path clip-path=\\\"url(#clip7602)\\\" d=\\\"M1890.67 612.85 L1879.36 608.162 L1874.67 596.85 L1879.36 585.538 L1890.67 580.85 L1901.99 585.538 L1906.67 596.85 L1901.99 608.162 Z\\\" fill=\\\"#009af9\\\" fill-rule=\\\"evenodd\\\" fill-opacity=\\\"1\\\" stroke=\\\"#000000\\\" stroke-opacity=\\\"1\\\" stroke-width=\\\"3.2\\\"\\/>\\n<path clip-path=\\\"url(#clip7602)\\\" d=\\\"M1921.65 580.783 L1910.33 576.095 L1905.65 564.783 L1910.33 553.471 L1921.65 548.783 L1932.96 553.471 L1937.65 564.783 L1932.96 576.095 Z\\\" fill=\\\"#009af9\\\" fill-rule=\\\"evenodd\\\" fill-opacity=\\\"1\\\" stroke=\\\"#000000\\\" stroke-opacity=\\\"1\\\" stroke-width=\\\"3.2\\\"\\/>\\n<path clip-path=\\\"url(#clip7602)\\\" d=\\\"M1952.62 580.783 L1941.3 576.095 L1936.62 564.783 L1941.3 553.471 L1952.62 548.783 L1963.93 553.471 L1968.62 564.783 L1963.93 576.095 Z\\\" fill=\\\"#009af9\\\" fill-rule=\\\"evenodd\\\" fill-opacity=\\\"1\\\" stroke=\\\"#000000\\\" stroke-opacity=\\\"1\\\" stroke-width=\\\"3.2\\\"\\/>\\n<path clip-path=\\\"url(#clip7602)\\\" d=\\\"M1983.59 556.614 L1972.27 551.926 L1967.59 540.614 L1972.27 529.302 L1983.59 524.614 L1994.9 529.302 L1999.59 540.614 L1994.9 551.926 Z\\\" fill=\\\"#009af9\\\" fill-rule=\\\"evenodd\\\" fill-opacity=\\\"1\\\" stroke=\\\"#000000\\\" stroke-opacity=\\\"1\\\" stroke-width=\\\"3.2\\\"\\/>\\n<path clip-path=\\\"url(#clip7602)\\\" d=\\\"M2014.56 490.664 L2003.24 485.976 L1998.56 474.664 L2003.24 463.352 L2014.56 458.664 L2025.87 463.352 L2030.56 474.664 L2025.87 485.976 Z\\\" fill=\\\"#009af9\\\" fill-rule=\\\"evenodd\\\" fill-opacity=\\\"1\\\" stroke=\\\"#000000\\\" stroke-opacity=\\\"1\\\" stroke-width=\\\"3.2\\\"\\/>\\n<path clip-path=\\\"url(#clip7602)\\\" d=\\\"M2045.53 490.664 L2034.22 485.976 L2029.53 474.664 L2034.22 463.352 L2045.53 458.664 L2056.84 463.352 L2061.53 474.664 L2056.84 485.976 Z\\\" fill=\\\"#009af9\\\" fill-rule=\\\"evenodd\\\" fill-opacity=\\\"1\\\" stroke=\\\"#000000\\\" stroke-opacity=\\\"1\\\" stroke-width=\\\"3.2\\\"\\/>\\n<path clip-path=\\\"url(#clip7602)\\\" d=\\\"M2076.5 406.85 L2065.19 402.162 L2060.5 390.85 L2065.19 379.538 L2076.5 374.85 L2087.81 379.538 L2092.5 390.85 L2087.81 402.162 Z\\\" fill=\\\"#009af9\\\" fill-rule=\\\"evenodd\\\" fill-opacity=\\\"1\\\" stroke=\\\"#000000\\\" stroke-opacity=\\\"1\\\" stroke-width=\\\"3.2\\\"\\/>\\n<path clip-path=\\\"url(#clip7602)\\\" d=\\\"M2107.47 366.404 L2096.16 361.716 L2091.47 350.404 L2096.16 339.092 L2107.47 334.404 L2118.78 339.092 L2123.47 350.404 L2118.78 361.716 Z\\\" fill=\\\"#009af9\\\" fill-rule=\\\"evenodd\\\" fill-opacity=\\\"1\\\" stroke=\\\"#000000\\\" stroke-opacity=\\\"1\\\" stroke-width=\\\"3.2\\\"\\/>\\n<path clip-path=\\\"url(#clip7602)\\\" d=\\\"M2138.44 343.183 L2127.13 338.495 L2122.44 327.183 L2127.13 315.871 L2138.44 311.183 L2149.75 315.871 L2154.44 327.183 L2149.75 338.495 Z\\\" fill=\\\"#009af9\\\" fill-rule=\\\"evenodd\\\" fill-opacity=\\\"1\\\" stroke=\\\"#000000\\\" stroke-opacity=\\\"1\\\" stroke-width=\\\"3.2\\\"\\/>\\n<path clip-path=\\\"url(#clip7602)\\\" d=\\\"M2169.41 296.054 L2158.1 291.366 L2153.41 280.054 L2158.1 268.742 L2169.41 264.054 L2180.72 268.742 L2185.41 280.054 L2180.72 291.366 Z\\\" fill=\\\"#009af9\\\" fill-rule=\\\"evenodd\\\" fill-opacity=\\\"1\\\" stroke=\\\"#000000\\\" stroke-opacity=\\\"1\\\" stroke-width=\\\"3.2\\\"\\/>\\n<path clip-path=\\\"url(#clip7602)\\\" d=\\\"M2200.38 279.142 L2189.07 274.454 L2184.38 263.142 L2189.07 251.83 L2200.38 247.142 L2211.69 251.83 L2216.38 263.142 L2211.69 274.454 Z\\\" fill=\\\"#009af9\\\" fill-rule=\\\"evenodd\\\" fill-opacity=\\\"1\\\" stroke=\\\"#000000\\\" stroke-opacity=\\\"1\\\" stroke-width=\\\"3.2\\\"\\/>\\n<path clip-path=\\\"url(#clip7602)\\\" d=\\\"M2231.35 223.857 L2220.04 219.169 L2215.35 207.857 L2220.04 196.545 L2231.35 191.857 L2242.66 196.545 L2247.35 207.857 L2242.66 219.169 Z\\\" fill=\\\"#009af9\\\" fill-rule=\\\"evenodd\\\" fill-opacity=\\\"1\\\" stroke=\\\"#000000\\\" stroke-opacity=\\\"1\\\" stroke-width=\\\"3.2\\\"\\/>\\n<path clip-path=\\\"url(#clip7602)\\\" d=\\\"M2262.32 195.43 L2251.01 190.742 L2246.32 179.43 L2251.01 168.118 L2262.32 163.43 L2273.63 168.118 L2278.32 179.43 L2273.63 190.742 Z\\\" fill=\\\"#009af9\\\" fill-rule=\\\"evenodd\\\" fill-opacity=\\\"1\\\" stroke=\\\"#000000\\\" stroke-opacity=\\\"1\\\" stroke-width=\\\"3.2\\\"\\/>\\n<path clip-path=\\\"url(#clip7602)\\\" d=\\\"M2293.29 174.579 L2281.98 169.891 L2277.29 158.579 L2281.98 147.267 L2293.29 142.579 L2304.6 147.267 L2309.29 158.579 L2304.6 169.891 Z\\\" fill=\\\"#009af9\\\" fill-rule=\\\"evenodd\\\" fill-opacity=\\\"1\\\" stroke=\\\"#000000\\\" stroke-opacity=\\\"1\\\" stroke-width=\\\"3.2\\\"\\/>\\n<path clip-path=\\\"url(#clip7600)\\\" d=\\\"\\nM323.71 326.155 L839.275 326.155 L839.275 205.195 L323.71 205.195  Z\\n  \\\" fill=\\\"#ffffff\\\" fill-rule=\\\"evenodd\\\" fill-opacity=\\\"1\\\"\\/>\\n<polyline clip-path=\\\"url(#clip7600)\\\" style=\\\"stroke:#000000; stroke-width:4; stroke-opacity:1; fill:none\\\" points=\\\"\\n  323.71,326.155 839.275,326.155 839.275,205.195 323.71,205.195 323.71,326.155 \\n  \\\"\\/>\\n<polyline clip-path=\\\"url(#clip7600)\\\" style=\\\"stroke:#009af9; stroke-width:4; stroke-opacity:1; fill:none\\\" points=\\\"\\n  347.71,265.675 491.71,265.675 \\n  \\\"\\/>\\n<path clip-path=\\\"url(#clip7600)\\\" d=\\\"M431.71 289.675 L414.742 282.643 L407.71 265.675 L414.742 248.707 L431.71 241.675 L448.678 248.707 L455.71 265.675 L448.678 282.643 Z\\\" fill=\\\"#009af9\\\" fill-rule=\\\"evenodd\\\" fill-opacity=\\\"1\\\" stroke=\\\"#000000\\\" stroke-opacity=\\\"1\\\" stroke-width=\\\"3.2\\\"\\/>\\n<g clip-path=\\\"url(#clip7600)\\\">\\n<text style=\\\"fill:#000000; fill-opacity:1; font-family:Arial,Helvetica Neue,Helvetica,sans-serif; font-size:48px; text-anchor:start;\\\" transform=\\\"rotate(0, 515.71, 283.175)\\\" x=\\\"515.71\\\" y=\\\"283.175\\\">Saudi Arabia<\\/text>\\n<\\/g>\\n<\\/svg>\\n\"},\"nodeType\":\"DOM\",\"type\":\"node\",\"instanceArgs\":{\"namespace\":\"html\",\"tag\":\"div\"},\"children\":[]}]}}}},\"children\":[{\"props\":{},\"nodeType\":\"ObservableNode\",\"type\":\"node\",\"instanceArgs\":{\"id\":\"ob_06\",\"name\":\"obs-node\"},\"children\":[]}]}]},\n",
       "            window,\n",
       "        );\n",
       "    } else {\n",
       "        document\n",
       "            .querySelector('[data-webio-mountpoint=\"4640816769500213126\"]')\n",
       "            .innerHTML = (\n",
       "                '<div style=\"padding: 1em; background-color: #f8d6da; border: 1px solid #f5c6cb\">' +\n",
       "                '<p><strong>WebIO not detected.</strong></p>' +\n",
       "                '<p>Please read ' +\n",
       "                '<a href=\"https://juliagizmos.github.io/WebIO.jl/latest/troubleshooting/not-detected/\" target=\"_blank\">the troubleshooting guide</a> ' +\n",
       "                'for more information on how to resolve this issue.</p>' +\n",
       "                '<p><a href=\"https://juliagizmos.github.io/WebIO.jl/latest/troubleshooting/not-detected/\" target=\"_blank\">https://juliagizmos.github.io/WebIO.jl/latest/troubleshooting/not-detected/</a></p>' +\n",
       "                '</div>'\n",
       "            );\n",
       "    }\n",
       "    </script>\n",
       "</div>\n"
      ],
      "text/plain": [
       "Node{WebIO.DOM}(WebIO.DOM(:html, :div), Any[Node{WebIO.DOM}(WebIO.DOM(:html, :div), Any[Scope(Node{WebIO.DOM}(WebIO.DOM(:html, :div), Any[Node{WebIO.DOM}(WebIO.DOM(:html, :div), Any[Node{WebIO.DOM}(WebIO.DOM(:html, :label), Any[\"day\"], Dict{Symbol,Any}(:className => \"interact \",:style => Dict{Any,Any}(:padding => \"5px 10px 0px 10px\")))], Dict{Symbol,Any}(:className => \"interact-flex-row-left\")), Node{WebIO.DOM}(WebIO.DOM(:html, :div), Any[Node{WebIO.DOM}(WebIO.DOM(:html, :input), Any[], Dict{Symbol,Any}(:max => 130,:min => 1,:attributes => Dict{Any,Any}(:type => \"range\",Symbol(\"data-bind\") => \"numericValue: index, valueUpdate: 'input', event: {change: function (){this.changes(this.changes()+1)}}\",\"orient\" => \"horizontal\"),:step => 1,:className => \"slider slider is-fullwidth\",:style => Dict{Any,Any}()))], Dict{Symbol,Any}(:className => \"interact-flex-row-center\")), Node{WebIO.DOM}(WebIO.DOM(:html, :div), Any[Node{WebIO.DOM}(WebIO.DOM(:html, :p), Any[], Dict{Symbol,Any}(:attributes => Dict(\"data-bind\" => \"text: formatted_val\")))], Dict{Symbol,Any}(:className => \"interact-flex-row-right\"))], Dict{Symbol,Any}(:className => \"interact-flex-row interact-widget\")), Dict{String,Tuple{Observables.AbstractObservable,Union{Nothing, Bool}}}(\"changes\" => (Observable{Int64} with 1 listeners. Value:\n",
       "0, nothing),\"index\" => (Observable{Int64} with 2 listeners. Value:\n",
       "65, nothing)), Set(String[]), nothing, Asset[Asset(\"js\", \"knockout\", \"/Users/saumyarawat/.julia/packages/Knockout/IP1uR/src/../assets/knockout.js\"), Asset(\"js\", \"knockout_punches\", \"/Users/saumyarawat/.julia/packages/Knockout/IP1uR/src/../assets/knockout_punches.js\"), Asset(\"js\", nothing, \"/Users/saumyarawat/.julia/packages/InteractBase/9mFwe/src/../assets/all.js\"), Asset(\"css\", nothing, \"/Users/saumyarawat/.julia/packages/InteractBase/9mFwe/src/../assets/style.css\"), Asset(\"css\", nothing, \"/Users/saumyarawat/.julia/packages/Interact/SbgIk/src/../assets/bulma_confined.min.css\")], Dict{Any,Any}(\"changes\" => Any[WebIO.JSString(\"(function (val){return (val!=this.model[\\\"changes\\\"]()) ? (this.valueFromJulia[\\\"changes\\\"]=true, this.model[\\\"changes\\\"](val)) : undefined})\")],\"index\" => Any[WebIO.JSString(\"(function (val){return (val!=this.model[\\\"index\\\"]()) ? (this.valueFromJulia[\\\"index\\\"]=true, this.model[\\\"index\\\"](val)) : undefined})\")]), WebIO.ConnectionPool(Channel{Any}(sz_max:32,sz_curr:0), Set(AbstractConnection[]), Base.GenericCondition{Base.AlwaysLockedST}(Base.InvasiveLinkedList{Task}(Task (runnable) @0x0000000111b9fcd0, Task (runnable) @0x0000000111b9fcd0), Base.AlwaysLockedST(1))), WebIO.JSString[WebIO.JSString(\"function () {\\n    var handler = (function (ko, koPunches) {\\n    ko.punches.enableAll();\\n    ko.bindingHandlers.numericValue = {\\n        init: function(element, valueAccessor, allBindings, data, context) {\\n            var stringified = ko.observable(ko.unwrap(valueAccessor()));\\n            stringified.subscribe(function(value) {\\n                var val = parseFloat(value);\\n                if (!isNaN(val)) {\\n                    valueAccessor()(val);\\n                }\\n            });\\n            valueAccessor().subscribe(function(value) {\\n                var str = JSON.stringify(value);\\n                if ((str == \\\"0\\\") && ([\\\"-0\\\", \\\"-0.\\\"].indexOf(stringified()) >= 0))\\n                     return;\\n                 if ([\\\"null\\\", \\\"\\\"].indexOf(str) >= 0)\\n                     return;\\n                stringified(str);\\n            });\\n            ko.applyBindingsToNode(\\n                element,\\n                {\\n                    value: stringified,\\n                    valueUpdate: allBindings.get('valueUpdate'),\\n                },\\n                context,\\n            );\\n        }\\n    };\\n    var json_data = {\\\"formatted_vals\\\":[\\\"1\\\",\\\"2\\\",\\\"3\\\",\\\"4\\\",\\\"5\\\",\\\"6\\\",\\\"7\\\",\\\"8\\\",\\\"9\\\",\\\"10\\\",\\\"11\\\",\\\"12\\\",\\\"13\\\",\\\"14\\\",\\\"15\\\",\\\"16\\\",\\\"17\\\",\\\"18\\\",\\\"19\\\",\\\"20\\\",\\\"21\\\",\\\"22\\\",\\\"23\\\",\\\"24\\\",\\\"25\\\",\\\"26\\\",\\\"27\\\",\\\"28\\\",\\\"29\\\",\\\"30\\\",\\\"31\\\",\\\"32\\\",\\\"33\\\",\\\"34\\\",\\\"35\\\",\\\"36\\\",\\\"37\\\",\\\"38\\\",\\\"39\\\",\\\"40\\\",\\\"41\\\",\\\"42\\\",\\\"43\\\",\\\"44\\\",\\\"45\\\",\\\"46\\\",\\\"47\\\",\\\"48\\\",\\\"49\\\",\\\"50\\\",\\\"51\\\",\\\"52\\\",\\\"53\\\",\\\"54\\\",\\\"55\\\",\\\"56\\\",\\\"57\\\",\\\"58\\\",\\\"59\\\",\\\"60\\\",\\\"61\\\",\\\"62\\\",\\\"63\\\",\\\"64\\\",\\\"65\\\",\\\"66\\\",\\\"67\\\",\\\"68\\\",\\\"69\\\",\\\"70\\\",\\\"71\\\",\\\"72\\\",\\\"73\\\",\\\"74\\\",\\\"75\\\",\\\"76\\\",\\\"77\\\",\\\"78\\\",\\\"79\\\",\\\"80\\\",\\\"81\\\",\\\"82\\\",\\\"83\\\",\\\"84\\\",\\\"85\\\",\\\"86\\\",\\\"87\\\",\\\"88\\\",\\\"89\\\",\\\"90\\\",\\\"91\\\",\\\"92\\\",\\\"93\\\",\\\"94\\\",\\\"95\\\",\\\"96\\\",\\\"97\\\",\\\"98\\\",\\\"99\\\",\\\"100\\\",\\\"101\\\",\\\"102\\\",\\\"103\\\",\\\"104\\\",\\\"105\\\",\\\"106\\\",\\\"107\\\",\\\"108\\\",\\\"109\\\",\\\"110\\\",\\\"111\\\",\\\"112\\\",\\\"113\\\",\\\"114\\\",\\\"115\\\",\\\"116\\\",\\\"117\\\",\\\"118\\\",\\\"119\\\",\\\"120\\\",\\\"121\\\",\\\"122\\\",\\\"123\\\",\\\"124\\\",\\\"125\\\",\\\"126\\\",\\\"127\\\",\\\"128\\\",\\\"129\\\",\\\"130\\\"],\\\"changes\\\":WebIO.getval({\\\"name\\\":\\\"changes\\\",\\\"scope\\\":\\\"13904928515178731033\\\",\\\"id\\\":\\\"ob_02\\\",\\\"type\\\":\\\"observable\\\"}),\\\"index\\\":WebIO.getval({\\\"name\\\":\\\"index\\\",\\\"scope\\\":\\\"13904928515178731033\\\",\\\"id\\\":\\\"ob_01\\\",\\\"type\\\":\\\"observable\\\"})};\\n    var self = this;\\n    function AppViewModel() {\\n        for (var key in json_data) {\\n            var el = json_data[key];\\n            this[key] = Array.isArray(el) ? ko.observableArray(el) : ko.observable(el);\\n        }\\n        \\n        [this[\\\"formatted_val\\\"]=ko.computed(    function(){\\n        return this.formatted_vals()[parseInt(this.index())-(1)];\\n    }\\n,this)]\\n        [this[\\\"changes\\\"].subscribe((function (val){!(this.valueFromJulia[\\\"changes\\\"]) ? (WebIO.setval({\\\"name\\\":\\\"changes\\\",\\\"scope\\\":\\\"13904928515178731033\\\",\\\"id\\\":\\\"ob_02\\\",\\\"type\\\":\\\"observable\\\"},val)) : undefined; return this.valueFromJulia[\\\"changes\\\"]=false}),self),this[\\\"index\\\"].subscribe((function (val){!(this.valueFromJulia[\\\"index\\\"]) ? (WebIO.setval({\\\"name\\\":\\\"index\\\",\\\"scope\\\":\\\"13904928515178731033\\\",\\\"id\\\":\\\"ob_01\\\",\\\"type\\\":\\\"observable\\\"},val)) : undefined; return this.valueFromJulia[\\\"index\\\"]=false}),self)]\\n        \\n    }\\n    self.model = new AppViewModel();\\n    self.valueFromJulia = {};\\n    for (var key in json_data) {\\n        self.valueFromJulia[key] = false;\\n    }\\n    ko.applyBindings(self.model, self.dom);\\n}\\n);\\n    (WebIO.importBlock({\\\"data\\\":[{\\\"name\\\":\\\"knockout\\\",\\\"type\\\":\\\"js\\\",\\\"url\\\":\\\"/assetserver/e30804d580242ff490836fea138ed12dab987650-knockout.js\\\"},{\\\"name\\\":\\\"knockout_punches\\\",\\\"type\\\":\\\"js\\\",\\\"url\\\":\\\"/assetserver/3b050a7a6e0183134ddf7d37e9900e424ee82b96-knockout_punches.js\\\"}],\\\"type\\\":\\\"async_block\\\"})).then((imports) => handler.apply(this, imports));\\n}\\n\")])], Dict{Symbol,Any}(:className => \"field interact-widget\")), Observable{Any} with 0 listeners. Value:\n",
       "Node{WebIO.DOM}(WebIO.DOM(:html, :div), Any[Plot{Plots.GRBackend() n=1}], Dict{Symbol,Any}(:className => \"interact-flex-row interact-widget\"))], Dict{Symbol,Any}())"
      ]
     },
     "execution_count": 16,
     "metadata": {
      "application/vnd.webio.node+json": {
       "kernelId": "72715aba-4563-4670-9af3-8d42a1a47982"
      }
     },
     "output_type": "execute_result"
    }
   ],
   "source": [
    "@manipulate for day in 1:num_days\n",
    "    plot()\n",
    "    for current_country in country\n",
    "        amt = data_dict[current_country][1:day]\n",
    "        amt = replace(amt, 0=>NaN)\n",
    "        plot!(dates[1:day], amt, yscale=:log10, leg=:topleft, label=current_country, m=:o)\n",
    "    end\n",
    "    xlabel!(\"Date\")\n",
    "    ylabel!(\"Number of Confirmed Cases\")\n",
    "    title!(\"COVID-19 Cases\")\n",
    "end"
   ]
  },
  {
   "cell_type": "code",
   "execution_count": 62,
   "metadata": {},
   "outputs": [
    {
     "data": {
      "text/plain": [
       "Dict{String,Array} with 1 entry:\n",
       "  \"Saudi Arabia\" => [0.0, 0.0, 0.0, 0.0, 0.0, 0.0, 0.0, 0.0, 0.0, 0.0  …  65077…"
      ]
     },
     "execution_count": 62,
     "metadata": {},
     "output_type": "execute_result"
    }
   ],
   "source": [
    "total_cases_to_date = data_dict"
   ]
  },
  {
   "cell_type": "code",
   "execution_count": 63,
   "metadata": {},
   "outputs": [
    {
     "data": {
      "text/plain": [
       "Dict{String,Array} with 0 entries"
      ]
     },
     "execution_count": 63,
     "metadata": {},
     "output_type": "execute_result"
    }
   ],
   "source": [
    "new_cases = Dict{String,Array}()"
   ]
  },
  {
   "cell_type": "code",
   "execution_count": 64,
   "metadata": {},
   "outputs": [
    {
     "data": {
      "text/plain": [
       "Dict{String,Array} with 1 entry:\n",
       "  \"Saudi Arabia\" => [0.0, 0.0, 0.0, 0.0, 0.0, 0.0, 0.0, 0.0, 0.0, 0.0  …  18208…"
      ]
     },
     "execution_count": 64,
     "metadata": {},
     "output_type": "execute_result"
    }
   ],
   "source": [
    "for current_country in country\n",
    "    new_cases[current_country] = get(new_cases,current_country,zeros(num_days))\n",
    "    for day in 1:num_days\n",
    "        start = day-7\n",
    "        if start<1\n",
    "            start=1\n",
    "        end\n",
    "        new_cases[current_country][day] = total_cases_to_date[current_country][day] - total_cases_to_date[current_country][start]\n",
    "    end\n",
    "end\n",
    "new_cases"
   ]
  },
  {
   "cell_type": "code",
   "execution_count": 65,
   "metadata": {},
   "outputs": [
    {
     "data": {
      "application/vnd.webio.node+json": {
       "children": [
        {
         "children": [
          {
           "children": [
            {
             "children": [
              {
               "children": [
                {
                 "children": [
                  "day"
                 ],
                 "instanceArgs": {
                  "namespace": "html",
                  "tag": "label"
                 },
                 "nodeType": "DOM",
                 "props": {
                  "className": "interact ",
                  "style": {
                   "padding": "5px 10px 0px 10px"
                  }
                 },
                 "type": "node"
                }
               ],
               "instanceArgs": {
                "namespace": "html",
                "tag": "div"
               },
               "nodeType": "DOM",
               "props": {
                "className": "interact-flex-row-left"
               },
               "type": "node"
              },
              {
               "children": [
                {
                 "children": [],
                 "instanceArgs": {
                  "namespace": "html",
                  "tag": "input"
                 },
                 "nodeType": "DOM",
                 "props": {
                  "attributes": {
                   "data-bind": "numericValue: index, valueUpdate: 'input', event: {change: function (){this.changes(this.changes()+1)}}",
                   "orient": "horizontal",
                   "type": "range"
                  },
                  "className": "slider slider is-fullwidth",
                  "max": 130,
                  "min": 1,
                  "step": 1,
                  "style": {}
                 },
                 "type": "node"
                }
               ],
               "instanceArgs": {
                "namespace": "html",
                "tag": "div"
               },
               "nodeType": "DOM",
               "props": {
                "className": "interact-flex-row-center"
               },
               "type": "node"
              },
              {
               "children": [
                {
                 "children": [],
                 "instanceArgs": {
                  "namespace": "html",
                  "tag": "p"
                 },
                 "nodeType": "DOM",
                 "props": {
                  "attributes": {
                   "data-bind": "text: formatted_val"
                  }
                 },
                 "type": "node"
                }
               ],
               "instanceArgs": {
                "namespace": "html",
                "tag": "div"
               },
               "nodeType": "DOM",
               "props": {
                "className": "interact-flex-row-right"
               },
               "type": "node"
              }
             ],
             "instanceArgs": {
              "namespace": "html",
              "tag": "div"
             },
             "nodeType": "DOM",
             "props": {
              "className": "interact-flex-row interact-widget"
             },
             "type": "node"
            }
           ],
           "instanceArgs": {
            "handlers": {
             "changes": [
              "(function (val){return (val!=this.model[\"changes\"]()) ? (this.valueFromJulia[\"changes\"]=true, this.model[\"changes\"](val)) : undefined})"
             ],
             "index": [
              "(function (val){return (val!=this.model[\"index\"]()) ? (this.valueFromJulia[\"index\"]=true, this.model[\"index\"](val)) : undefined})"
             ]
            },
            "id": "6289431939844465045",
            "imports": {
             "data": [
              {
               "name": "knockout",
               "type": "js",
               "url": "/assetserver/e30804d580242ff490836fea138ed12dab987650-knockout.js"
              },
              {
               "name": "knockout_punches",
               "type": "js",
               "url": "/assetserver/3b050a7a6e0183134ddf7d37e9900e424ee82b96-knockout_punches.js"
              },
              {
               "name": null,
               "type": "js",
               "url": "/assetserver/72820b874a45543a799a471aa05eefa33c06bf5a-all.js"
              },
              {
               "name": null,
               "type": "css",
               "url": "/assetserver/e7517b5a7de555d89430fc976892a64cbe24a2bc-style.css"
              },
              {
               "name": null,
               "type": "css",
               "url": "/assetserver/8371af573dfc972c716f005fa6460852db032b9c-bulma_confined.min.css"
              }
             ],
             "type": "async_block"
            },
            "mount_callbacks": [
             "function () {\n    var handler = (function (ko, koPunches) {\n    ko.punches.enableAll();\n    ko.bindingHandlers.numericValue = {\n        init: function(element, valueAccessor, allBindings, data, context) {\n            var stringified = ko.observable(ko.unwrap(valueAccessor()));\n            stringified.subscribe(function(value) {\n                var val = parseFloat(value);\n                if (!isNaN(val)) {\n                    valueAccessor()(val);\n                }\n            });\n            valueAccessor().subscribe(function(value) {\n                var str = JSON.stringify(value);\n                if ((str == \"0\") && ([\"-0\", \"-0.\"].indexOf(stringified()) >= 0))\n                     return;\n                 if ([\"null\", \"\"].indexOf(str) >= 0)\n                     return;\n                stringified(str);\n            });\n            ko.applyBindingsToNode(\n                element,\n                {\n                    value: stringified,\n                    valueUpdate: allBindings.get('valueUpdate'),\n                },\n                context,\n            );\n        }\n    };\n    var json_data = {\"formatted_vals\":[\"1\",\"2\",\"3\",\"4\",\"5\",\"6\",\"7\",\"8\",\"9\",\"10\",\"11\",\"12\",\"13\",\"14\",\"15\",\"16\",\"17\",\"18\",\"19\",\"20\",\"21\",\"22\",\"23\",\"24\",\"25\",\"26\",\"27\",\"28\",\"29\",\"30\",\"31\",\"32\",\"33\",\"34\",\"35\",\"36\",\"37\",\"38\",\"39\",\"40\",\"41\",\"42\",\"43\",\"44\",\"45\",\"46\",\"47\",\"48\",\"49\",\"50\",\"51\",\"52\",\"53\",\"54\",\"55\",\"56\",\"57\",\"58\",\"59\",\"60\",\"61\",\"62\",\"63\",\"64\",\"65\",\"66\",\"67\",\"68\",\"69\",\"70\",\"71\",\"72\",\"73\",\"74\",\"75\",\"76\",\"77\",\"78\",\"79\",\"80\",\"81\",\"82\",\"83\",\"84\",\"85\",\"86\",\"87\",\"88\",\"89\",\"90\",\"91\",\"92\",\"93\",\"94\",\"95\",\"96\",\"97\",\"98\",\"99\",\"100\",\"101\",\"102\",\"103\",\"104\",\"105\",\"106\",\"107\",\"108\",\"109\",\"110\",\"111\",\"112\",\"113\",\"114\",\"115\",\"116\",\"117\",\"118\",\"119\",\"120\",\"121\",\"122\",\"123\",\"124\",\"125\",\"126\",\"127\",\"128\",\"129\",\"130\"],\"changes\":WebIO.getval({\"name\":\"changes\",\"scope\":\"6289431939844465045\",\"id\":\"ob_26\",\"type\":\"observable\"}),\"index\":WebIO.getval({\"name\":\"index\",\"scope\":\"6289431939844465045\",\"id\":\"ob_25\",\"type\":\"observable\"})};\n    var self = this;\n    function AppViewModel() {\n        for (var key in json_data) {\n            var el = json_data[key];\n            this[key] = Array.isArray(el) ? ko.observableArray(el) : ko.observable(el);\n        }\n        \n        [this[\"formatted_val\"]=ko.computed(    function(){\n        return this.formatted_vals()[parseInt(this.index())-(1)];\n    }\n,this)]\n        [this[\"changes\"].subscribe((function (val){!(this.valueFromJulia[\"changes\"]) ? (WebIO.setval({\"name\":\"changes\",\"scope\":\"6289431939844465045\",\"id\":\"ob_26\",\"type\":\"observable\"},val)) : undefined; return this.valueFromJulia[\"changes\"]=false}),self),this[\"index\"].subscribe((function (val){!(this.valueFromJulia[\"index\"]) ? (WebIO.setval({\"name\":\"index\",\"scope\":\"6289431939844465045\",\"id\":\"ob_25\",\"type\":\"observable\"},val)) : undefined; return this.valueFromJulia[\"index\"]=false}),self)]\n        \n    }\n    self.model = new AppViewModel();\n    self.valueFromJulia = {};\n    for (var key in json_data) {\n        self.valueFromJulia[key] = false;\n    }\n    ko.applyBindings(self.model, self.dom);\n}\n);\n    (WebIO.importBlock({\"data\":[{\"name\":\"knockout\",\"type\":\"js\",\"url\":\"/assetserver/e30804d580242ff490836fea138ed12dab987650-knockout.js\"},{\"name\":\"knockout_punches\",\"type\":\"js\",\"url\":\"/assetserver/3b050a7a6e0183134ddf7d37e9900e424ee82b96-knockout_punches.js\"}],\"type\":\"async_block\"})).then((imports) => handler.apply(this, imports));\n}\n"
            ],
            "observables": {
             "changes": {
              "id": "ob_26",
              "sync": false,
              "value": 0
             },
             "index": {
              "id": "ob_25",
              "sync": true,
              "value": 65
             }
            },
            "systemjs_options": null
           },
           "nodeType": "Scope",
           "props": {},
           "type": "node"
          }
         ],
         "instanceArgs": {
          "namespace": "html",
          "tag": "div"
         },
         "nodeType": "DOM",
         "props": {
          "className": "field interact-widget"
         },
         "type": "node"
        },
        {
         "children": [
          {
           "children": [],
           "instanceArgs": {
            "id": "ob_32",
            "name": "obs-node"
           },
           "nodeType": "ObservableNode",
           "props": {},
           "type": "node"
          }
         ],
         "instanceArgs": {
          "handlers": {},
          "id": "8124722041956132795",
          "imports": {
           "data": [],
           "type": "async_block"
          },
          "mount_callbacks": [],
          "observables": {
           "obs-node": {
            "id": "ob_32",
            "sync": false,
            "value": {
             "children": [
              {
               "children": [],
               "instanceArgs": {
                "namespace": "html",
                "tag": "div"
               },
               "nodeType": "DOM",
               "props": {
                "setInnerHtml": "<?xml version=\"1.0\" encoding=\"utf-8\"?>\n<svg xmlns=\"http://www.w3.org/2000/svg\" xmlns:xlink=\"http://www.w3.org/1999/xlink\" width=\"600\" height=\"400\" viewBox=\"0 0 2400 1600\">\n<defs>\n  <clipPath id=\"clip7600\">\n    <rect x=\"0\" y=\"0\" width=\"2400\" height=\"1600\"/>\n  </clipPath>\n</defs>\n<path clip-path=\"url(#clip7600)\" d=\"\nM0 1600 L2400 1600 L2400 0 L0 0  Z\n  \" fill=\"#ffffff\" fill-rule=\"evenodd\" fill-opacity=\"1\"/>\n<defs>\n  <clipPath id=\"clip7601\">\n    <rect x=\"480\" y=\"0\" width=\"1681\" height=\"1600\"/>\n  </clipPath>\n</defs>\n<path clip-path=\"url(#clip7600)\" d=\"\nM229.135 1425.62 L2352.76 1425.62 L2352.76 121.675 L229.135 121.675  Z\n  \" fill=\"#ffffff\" fill-rule=\"evenodd\" fill-opacity=\"1\"/>\n<defs>\n  <clipPath id=\"clip7602\">\n    <rect x=\"229\" y=\"121\" width=\"2125\" height=\"1305\"/>\n  </clipPath>\n</defs>\n<polyline clip-path=\"url(#clip7602)\" style=\"stroke:#000000; stroke-width:2; stroke-opacity:0.1; fill:none\" points=\"\n  287.256,1425.62 287.256,121.675 \n  \"/>\n<polyline clip-path=\"url(#clip7602)\" style=\"stroke:#000000; stroke-width:2; stroke-opacity:0.1; fill:none\" points=\"\n  782.661,1425.62 782.661,121.675 \n  \"/>\n<polyline clip-path=\"url(#clip7602)\" style=\"stroke:#000000; stroke-width:2; stroke-opacity:0.1; fill:none\" points=\"\n  1278.07,1425.62 1278.07,121.675 \n  \"/>\n<polyline clip-path=\"url(#clip7602)\" style=\"stroke:#000000; stroke-width:2; stroke-opacity:0.1; fill:none\" points=\"\n  1773.47,1425.62 1773.47,121.675 \n  \"/>\n<polyline clip-path=\"url(#clip7602)\" style=\"stroke:#000000; stroke-width:2; stroke-opacity:0.1; fill:none\" points=\"\n  2268.87,1425.62 2268.87,121.675 \n  \"/>\n<polyline clip-path=\"url(#clip7602)\" style=\"stroke:#000000; stroke-width:2; stroke-opacity:0.1; fill:none\" points=\"\n  229.135,1390.38 2352.76,1390.38 \n  \"/>\n<polyline clip-path=\"url(#clip7602)\" style=\"stroke:#000000; stroke-width:2; stroke-opacity:0.1; fill:none\" points=\"\n  229.135,1056.56 2352.76,1056.56 \n  \"/>\n<polyline clip-path=\"url(#clip7602)\" style=\"stroke:#000000; stroke-width:2; stroke-opacity:0.1; fill:none\" points=\"\n  229.135,722.739 2352.76,722.739 \n  \"/>\n<polyline clip-path=\"url(#clip7602)\" style=\"stroke:#000000; stroke-width:2; stroke-opacity:0.1; fill:none\" points=\"\n  229.135,388.917 2352.76,388.917 \n  \"/>\n<polyline clip-path=\"url(#clip7600)\" style=\"stroke:#000000; stroke-width:4; stroke-opacity:1; fill:none\" points=\"\n  229.135,1425.62 2352.76,1425.62 \n  \"/>\n<polyline clip-path=\"url(#clip7600)\" style=\"stroke:#000000; stroke-width:4; stroke-opacity:1; fill:none\" points=\"\n  229.135,1425.62 229.135,121.675 \n  \"/>\n<polyline clip-path=\"url(#clip7600)\" style=\"stroke:#000000; stroke-width:4; stroke-opacity:1; fill:none\" points=\"\n  287.256,1425.62 287.256,1409.97 \n  \"/>\n<polyline clip-path=\"url(#clip7600)\" style=\"stroke:#000000; stroke-width:4; stroke-opacity:1; fill:none\" points=\"\n  782.661,1425.62 782.661,1409.97 \n  \"/>\n<polyline clip-path=\"url(#clip7600)\" style=\"stroke:#000000; stroke-width:4; stroke-opacity:1; fill:none\" points=\"\n  1278.07,1425.62 1278.07,1409.97 \n  \"/>\n<polyline clip-path=\"url(#clip7600)\" style=\"stroke:#000000; stroke-width:4; stroke-opacity:1; fill:none\" points=\"\n  1773.47,1425.62 1773.47,1409.97 \n  \"/>\n<polyline clip-path=\"url(#clip7600)\" style=\"stroke:#000000; stroke-width:4; stroke-opacity:1; fill:none\" points=\"\n  2268.87,1425.62 2268.87,1409.97 \n  \"/>\n<polyline clip-path=\"url(#clip7600)\" style=\"stroke:#000000; stroke-width:4; stroke-opacity:1; fill:none\" points=\"\n  229.135,1390.38 254.619,1390.38 \n  \"/>\n<polyline clip-path=\"url(#clip7600)\" style=\"stroke:#000000; stroke-width:4; stroke-opacity:1; fill:none\" points=\"\n  229.135,1056.56 254.619,1056.56 \n  \"/>\n<polyline clip-path=\"url(#clip7600)\" style=\"stroke:#000000; stroke-width:4; stroke-opacity:1; fill:none\" points=\"\n  229.135,722.739 254.619,722.739 \n  \"/>\n<polyline clip-path=\"url(#clip7600)\" style=\"stroke:#000000; stroke-width:4; stroke-opacity:1; fill:none\" points=\"\n  229.135,388.917 254.619,388.917 \n  \"/>\n<g clip-path=\"url(#clip7600)\">\n<text style=\"fill:#000000; fill-opacity:1; font-family:Arial,Helvetica Neue,Helvetica,sans-serif; font-size:48px; text-anchor:middle;\" transform=\"rotate(0, 287.256, 1479.62)\" x=\"287.256\" y=\"1479.62\">0</text>\n</g>\n<g clip-path=\"url(#clip7600)\">\n<text style=\"fill:#000000; fill-opacity:1; font-family:Arial,Helvetica Neue,Helvetica,sans-serif; font-size:48px; text-anchor:middle;\" transform=\"rotate(0, 782.661, 1479.62)\" x=\"782.661\" y=\"1479.62\">250</text>\n</g>\n<g clip-path=\"url(#clip7600)\">\n<text style=\"fill:#000000; fill-opacity:1; font-family:Arial,Helvetica Neue,Helvetica,sans-serif; font-size:48px; text-anchor:middle;\" transform=\"rotate(0, 1278.07, 1479.62)\" x=\"1278.07\" y=\"1479.62\">500</text>\n</g>\n<g clip-path=\"url(#clip7600)\">\n<text style=\"fill:#000000; fill-opacity:1; font-family:Arial,Helvetica Neue,Helvetica,sans-serif; font-size:48px; text-anchor:middle;\" transform=\"rotate(0, 1773.47, 1479.62)\" x=\"1773.47\" y=\"1479.62\">750</text>\n</g>\n<g clip-path=\"url(#clip7600)\">\n<text style=\"fill:#000000; fill-opacity:1; font-family:Arial,Helvetica Neue,Helvetica,sans-serif; font-size:48px; text-anchor:middle;\" transform=\"rotate(0, 2268.87, 1479.62)\" x=\"2268.87\" y=\"1479.62\">1000</text>\n</g>\n<g clip-path=\"url(#clip7600)\">\n<text style=\"fill:#000000; fill-opacity:1; font-family:Arial,Helvetica Neue,Helvetica,sans-serif; font-size:48px; text-anchor:end;\" transform=\"rotate(0, 205.135, 1407.88)\" x=\"205.135\" y=\"1407.88\">0</text>\n</g>\n<g clip-path=\"url(#clip7600)\">\n<text style=\"fill:#000000; fill-opacity:1; font-family:Arial,Helvetica Neue,Helvetica,sans-serif; font-size:48px; text-anchor:end;\" transform=\"rotate(0, 205.135, 1074.06)\" x=\"205.135\" y=\"1074.06\">200</text>\n</g>\n<g clip-path=\"url(#clip7600)\">\n<text style=\"fill:#000000; fill-opacity:1; font-family:Arial,Helvetica Neue,Helvetica,sans-serif; font-size:48px; text-anchor:end;\" transform=\"rotate(0, 205.135, 740.239)\" x=\"205.135\" y=\"740.239\">400</text>\n</g>\n<g clip-path=\"url(#clip7600)\">\n<text style=\"fill:#000000; fill-opacity:1; font-family:Arial,Helvetica Neue,Helvetica,sans-serif; font-size:48px; text-anchor:end;\" transform=\"rotate(0, 205.135, 406.417)\" x=\"205.135\" y=\"406.417\">600</text>\n</g>\n<g clip-path=\"url(#clip7600)\">\n<text style=\"fill:#000000; fill-opacity:1; font-family:Arial,Helvetica Neue,Helvetica,sans-serif; font-size:84px; text-anchor:middle;\" transform=\"rotate(0, 1290.95, 73.2)\" x=\"1290.95\" y=\"73.2\">COVID-19 New vs Total Cases</text>\n</g>\n<g clip-path=\"url(#clip7600)\">\n<text style=\"fill:#000000; fill-opacity:1; font-family:Arial,Helvetica Neue,Helvetica,sans-serif; font-size:66px; text-anchor:middle;\" transform=\"rotate(0, 1290.95, 1559.48)\" x=\"1290.95\" y=\"1559.48\">Number of Confirmed Cases</text>\n</g>\n<g clip-path=\"url(#clip7600)\">\n<text style=\"fill:#000000; fill-opacity:1; font-family:Arial,Helvetica Neue,Helvetica,sans-serif; font-size:66px; text-anchor:middle;\" transform=\"rotate(-90, 89.2861, 773.647)\" x=\"89.2861\" y=\"773.647\">Number of New Cases (last 7 days)</text>\n</g>\n<polyline clip-path=\"url(#clip7602)\" style=\"stroke:#009af9; stroke-width:4; stroke-opacity:1; fill:none\" points=\"\n  289.238,1388.71 289.238,1388.71 297.164,1382.04 309.054,1372.02 316.98,1367.02 326.888,1358.67 328.87,1357 \n  376.429,1323.62 457.675,1255.19 491.363,1226.81 491.363,1236.83 521.087,1218.47 626.113,1138.35 626.113,1140.02 830.219,1008.16 968.933,959.753 1064.05,908.01 \n  1299.86,709.386 1400.93,649.298 1807.16,395.593 2070.71,173.601 2292.65,158.579 \n  \"/>\n<circle clip-path=\"url(#clip7602)\" cx=\"2292.65\" cy=\"158.579\" r=\"14\" fill=\"#e26f46\" fill-rule=\"evenodd\" fill-opacity=\"1\" stroke=\"#000000\" stroke-opacity=\"1\" stroke-width=\"3.2\"/>\n<path clip-path=\"url(#clip7600)\" d=\"\nM301.135 326.155 L816.701 326.155 L816.701 205.195 L301.135 205.195  Z\n  \" fill=\"#ffffff\" fill-rule=\"evenodd\" fill-opacity=\"1\"/>\n<polyline clip-path=\"url(#clip7600)\" style=\"stroke:#000000; stroke-width:4; stroke-opacity:1; fill:none\" points=\"\n  301.135,326.155 816.701,326.155 816.701,205.195 301.135,205.195 301.135,326.155 \n  \"/>\n<polyline clip-path=\"url(#clip7600)\" style=\"stroke:#009af9; stroke-width:4; stroke-opacity:1; fill:none\" points=\"\n  325.135,265.675 469.135,265.675 \n  \"/>\n<g clip-path=\"url(#clip7600)\">\n<text style=\"fill:#000000; fill-opacity:1; font-family:Arial,Helvetica Neue,Helvetica,sans-serif; font-size:48px; text-anchor:start;\" transform=\"rotate(0, 493.135, 283.175)\" x=\"493.135\" y=\"283.175\">Saudi Arabia</text>\n</g>\n<g clip-path=\"url(#clip7600)\">\n<text style=\"fill:#000000; fill-opacity:1; font-family:Arial,Helvetica Neue,Helvetica,sans-serif; font-size:59px; text-anchor:middle;\" transform=\"rotate(0, 2292.65, 180.079)\" x=\"2292.65\" y=\"180.079\">Saudi Arabia</text>\n</g>\n</svg>\n"
               },
               "type": "node"
              }
             ],
             "instanceArgs": {
              "namespace": "html",
              "tag": "div"
             },
             "nodeType": "DOM",
             "props": {
              "className": "interact-flex-row interact-widget"
             },
             "type": "node"
            }
           }
          },
          "systemjs_options": null
         },
         "nodeType": "Scope",
         "props": {},
         "type": "node"
        }
       ],
       "instanceArgs": {
        "namespace": "html",
        "tag": "div"
       },
       "nodeType": "DOM",
       "props": {},
       "type": "node"
      },
      "text/html": [
       "<div\n",
       "    class=\"webio-mountpoint\"\n",
       "    data-webio-mountpoint=\"14027602714558999714\"\n",
       ">\n",
       "    <script>\n",
       "    if (window.require && require.defined && require.defined(\"nbextensions/webio-jupyter-notebook\")) {\n",
       "        console.log(\"Jupyter WebIO extension detected, not mounting.\");\n",
       "    } else if (window.WebIO) {\n",
       "        WebIO.mount(\n",
       "            document.querySelector('[data-webio-mountpoint=\"14027602714558999714\"]'),\n",
       "            {\"props\":{},\"nodeType\":\"DOM\",\"type\":\"node\",\"instanceArgs\":{\"namespace\":\"html\",\"tag\":\"div\"},\"children\":[{\"props\":{\"className\":\"field interact-widget\"},\"nodeType\":\"DOM\",\"type\":\"node\",\"instanceArgs\":{\"namespace\":\"html\",\"tag\":\"div\"},\"children\":[{\"props\":{},\"nodeType\":\"Scope\",\"type\":\"node\",\"instanceArgs\":{\"imports\":{\"data\":[{\"name\":\"knockout\",\"type\":\"js\",\"url\":\"\\/assetserver\\/e30804d580242ff490836fea138ed12dab987650-knockout.js\"},{\"name\":\"knockout_punches\",\"type\":\"js\",\"url\":\"\\/assetserver\\/3b050a7a6e0183134ddf7d37e9900e424ee82b96-knockout_punches.js\"},{\"name\":null,\"type\":\"js\",\"url\":\"\\/assetserver\\/72820b874a45543a799a471aa05eefa33c06bf5a-all.js\"},{\"name\":null,\"type\":\"css\",\"url\":\"\\/assetserver\\/e7517b5a7de555d89430fc976892a64cbe24a2bc-style.css\"},{\"name\":null,\"type\":\"css\",\"url\":\"\\/assetserver\\/8371af573dfc972c716f005fa6460852db032b9c-bulma_confined.min.css\"}],\"type\":\"async_block\"},\"id\":\"6289431939844465045\",\"handlers\":{\"changes\":[\"(function (val){return (val!=this.model[\\\"changes\\\"]()) ? (this.valueFromJulia[\\\"changes\\\"]=true, this.model[\\\"changes\\\"](val)) : undefined})\"],\"index\":[\"(function (val){return (val!=this.model[\\\"index\\\"]()) ? (this.valueFromJulia[\\\"index\\\"]=true, this.model[\\\"index\\\"](val)) : undefined})\"]},\"systemjs_options\":null,\"mount_callbacks\":[\"function () {\\n    var handler = (function (ko, koPunches) {\\n    ko.punches.enableAll();\\n    ko.bindingHandlers.numericValue = {\\n        init: function(element, valueAccessor, allBindings, data, context) {\\n            var stringified = ko.observable(ko.unwrap(valueAccessor()));\\n            stringified.subscribe(function(value) {\\n                var val = parseFloat(value);\\n                if (!isNaN(val)) {\\n                    valueAccessor()(val);\\n                }\\n            });\\n            valueAccessor().subscribe(function(value) {\\n                var str = JSON.stringify(value);\\n                if ((str == \\\"0\\\") && ([\\\"-0\\\", \\\"-0.\\\"].indexOf(stringified()) >= 0))\\n                     return;\\n                 if ([\\\"null\\\", \\\"\\\"].indexOf(str) >= 0)\\n                     return;\\n                stringified(str);\\n            });\\n            ko.applyBindingsToNode(\\n                element,\\n                {\\n                    value: stringified,\\n                    valueUpdate: allBindings.get('valueUpdate'),\\n                },\\n                context,\\n            );\\n        }\\n    };\\n    var json_data = {\\\"formatted_vals\\\":[\\\"1\\\",\\\"2\\\",\\\"3\\\",\\\"4\\\",\\\"5\\\",\\\"6\\\",\\\"7\\\",\\\"8\\\",\\\"9\\\",\\\"10\\\",\\\"11\\\",\\\"12\\\",\\\"13\\\",\\\"14\\\",\\\"15\\\",\\\"16\\\",\\\"17\\\",\\\"18\\\",\\\"19\\\",\\\"20\\\",\\\"21\\\",\\\"22\\\",\\\"23\\\",\\\"24\\\",\\\"25\\\",\\\"26\\\",\\\"27\\\",\\\"28\\\",\\\"29\\\",\\\"30\\\",\\\"31\\\",\\\"32\\\",\\\"33\\\",\\\"34\\\",\\\"35\\\",\\\"36\\\",\\\"37\\\",\\\"38\\\",\\\"39\\\",\\\"40\\\",\\\"41\\\",\\\"42\\\",\\\"43\\\",\\\"44\\\",\\\"45\\\",\\\"46\\\",\\\"47\\\",\\\"48\\\",\\\"49\\\",\\\"50\\\",\\\"51\\\",\\\"52\\\",\\\"53\\\",\\\"54\\\",\\\"55\\\",\\\"56\\\",\\\"57\\\",\\\"58\\\",\\\"59\\\",\\\"60\\\",\\\"61\\\",\\\"62\\\",\\\"63\\\",\\\"64\\\",\\\"65\\\",\\\"66\\\",\\\"67\\\",\\\"68\\\",\\\"69\\\",\\\"70\\\",\\\"71\\\",\\\"72\\\",\\\"73\\\",\\\"74\\\",\\\"75\\\",\\\"76\\\",\\\"77\\\",\\\"78\\\",\\\"79\\\",\\\"80\\\",\\\"81\\\",\\\"82\\\",\\\"83\\\",\\\"84\\\",\\\"85\\\",\\\"86\\\",\\\"87\\\",\\\"88\\\",\\\"89\\\",\\\"90\\\",\\\"91\\\",\\\"92\\\",\\\"93\\\",\\\"94\\\",\\\"95\\\",\\\"96\\\",\\\"97\\\",\\\"98\\\",\\\"99\\\",\\\"100\\\",\\\"101\\\",\\\"102\\\",\\\"103\\\",\\\"104\\\",\\\"105\\\",\\\"106\\\",\\\"107\\\",\\\"108\\\",\\\"109\\\",\\\"110\\\",\\\"111\\\",\\\"112\\\",\\\"113\\\",\\\"114\\\",\\\"115\\\",\\\"116\\\",\\\"117\\\",\\\"118\\\",\\\"119\\\",\\\"120\\\",\\\"121\\\",\\\"122\\\",\\\"123\\\",\\\"124\\\",\\\"125\\\",\\\"126\\\",\\\"127\\\",\\\"128\\\",\\\"129\\\",\\\"130\\\"],\\\"changes\\\":WebIO.getval({\\\"name\\\":\\\"changes\\\",\\\"scope\\\":\\\"6289431939844465045\\\",\\\"id\\\":\\\"ob_26\\\",\\\"type\\\":\\\"observable\\\"}),\\\"index\\\":WebIO.getval({\\\"name\\\":\\\"index\\\",\\\"scope\\\":\\\"6289431939844465045\\\",\\\"id\\\":\\\"ob_25\\\",\\\"type\\\":\\\"observable\\\"})};\\n    var self = this;\\n    function AppViewModel() {\\n        for (var key in json_data) {\\n            var el = json_data[key];\\n            this[key] = Array.isArray(el) ? ko.observableArray(el) : ko.observable(el);\\n        }\\n        \\n        [this[\\\"formatted_val\\\"]=ko.computed(    function(){\\n        return this.formatted_vals()[parseInt(this.index())-(1)];\\n    }\\n,this)]\\n        [this[\\\"changes\\\"].subscribe((function (val){!(this.valueFromJulia[\\\"changes\\\"]) ? (WebIO.setval({\\\"name\\\":\\\"changes\\\",\\\"scope\\\":\\\"6289431939844465045\\\",\\\"id\\\":\\\"ob_26\\\",\\\"type\\\":\\\"observable\\\"},val)) : undefined; return this.valueFromJulia[\\\"changes\\\"]=false}),self),this[\\\"index\\\"].subscribe((function (val){!(this.valueFromJulia[\\\"index\\\"]) ? (WebIO.setval({\\\"name\\\":\\\"index\\\",\\\"scope\\\":\\\"6289431939844465045\\\",\\\"id\\\":\\\"ob_25\\\",\\\"type\\\":\\\"observable\\\"},val)) : undefined; return this.valueFromJulia[\\\"index\\\"]=false}),self)]\\n        \\n    }\\n    self.model = new AppViewModel();\\n    self.valueFromJulia = {};\\n    for (var key in json_data) {\\n        self.valueFromJulia[key] = false;\\n    }\\n    ko.applyBindings(self.model, self.dom);\\n}\\n);\\n    (WebIO.importBlock({\\\"data\\\":[{\\\"name\\\":\\\"knockout\\\",\\\"type\\\":\\\"js\\\",\\\"url\\\":\\\"\\/assetserver\\/e30804d580242ff490836fea138ed12dab987650-knockout.js\\\"},{\\\"name\\\":\\\"knockout_punches\\\",\\\"type\\\":\\\"js\\\",\\\"url\\\":\\\"\\/assetserver\\/3b050a7a6e0183134ddf7d37e9900e424ee82b96-knockout_punches.js\\\"}],\\\"type\\\":\\\"async_block\\\"})).then((imports) => handler.apply(this, imports));\\n}\\n\"],\"observables\":{\"changes\":{\"sync\":false,\"id\":\"ob_26\",\"value\":0},\"index\":{\"sync\":true,\"id\":\"ob_25\",\"value\":65}}},\"children\":[{\"props\":{\"className\":\"interact-flex-row interact-widget\"},\"nodeType\":\"DOM\",\"type\":\"node\",\"instanceArgs\":{\"namespace\":\"html\",\"tag\":\"div\"},\"children\":[{\"props\":{\"className\":\"interact-flex-row-left\"},\"nodeType\":\"DOM\",\"type\":\"node\",\"instanceArgs\":{\"namespace\":\"html\",\"tag\":\"div\"},\"children\":[{\"props\":{\"className\":\"interact \",\"style\":{\"padding\":\"5px 10px 0px 10px\"}},\"nodeType\":\"DOM\",\"type\":\"node\",\"instanceArgs\":{\"namespace\":\"html\",\"tag\":\"label\"},\"children\":[\"day\"]}]},{\"props\":{\"className\":\"interact-flex-row-center\"},\"nodeType\":\"DOM\",\"type\":\"node\",\"instanceArgs\":{\"namespace\":\"html\",\"tag\":\"div\"},\"children\":[{\"props\":{\"max\":130,\"min\":1,\"attributes\":{\"type\":\"range\",\"data-bind\":\"numericValue: index, valueUpdate: 'input', event: {change: function (){this.changes(this.changes()+1)}}\",\"orient\":\"horizontal\"},\"step\":1,\"className\":\"slider slider is-fullwidth\",\"style\":{}},\"nodeType\":\"DOM\",\"type\":\"node\",\"instanceArgs\":{\"namespace\":\"html\",\"tag\":\"input\"},\"children\":[]}]},{\"props\":{\"className\":\"interact-flex-row-right\"},\"nodeType\":\"DOM\",\"type\":\"node\",\"instanceArgs\":{\"namespace\":\"html\",\"tag\":\"div\"},\"children\":[{\"props\":{\"attributes\":{\"data-bind\":\"text: formatted_val\"}},\"nodeType\":\"DOM\",\"type\":\"node\",\"instanceArgs\":{\"namespace\":\"html\",\"tag\":\"p\"},\"children\":[]}]}]}]}]},{\"props\":{},\"nodeType\":\"Scope\",\"type\":\"node\",\"instanceArgs\":{\"imports\":{\"data\":[],\"type\":\"async_block\"},\"id\":\"16433100097542048678\",\"handlers\":{},\"systemjs_options\":null,\"mount_callbacks\":[],\"observables\":{\"obs-node\":{\"sync\":false,\"id\":\"ob_30\",\"value\":{\"props\":{\"className\":\"interact-flex-row interact-widget\"},\"nodeType\":\"DOM\",\"type\":\"node\",\"instanceArgs\":{\"namespace\":\"html\",\"tag\":\"div\"},\"children\":[{\"props\":{\"setInnerHtml\":\"<?xml version=\\\"1.0\\\" encoding=\\\"utf-8\\\"?>\\n<svg xmlns=\\\"http:\\/\\/www.w3.org\\/2000\\/svg\\\" xmlns:xlink=\\\"http:\\/\\/www.w3.org\\/1999\\/xlink\\\" width=\\\"600\\\" height=\\\"400\\\" viewBox=\\\"0 0 2400 1600\\\">\\n<defs>\\n  <clipPath id=\\\"clip7200\\\">\\n    <rect x=\\\"0\\\" y=\\\"0\\\" width=\\\"2400\\\" height=\\\"1600\\\"\\/>\\n  <\\/clipPath>\\n<\\/defs>\\n<path clip-path=\\\"url(#clip7200)\\\" d=\\\"\\nM0 1600 L2400 1600 L2400 0 L0 0  Z\\n  \\\" fill=\\\"#ffffff\\\" fill-rule=\\\"evenodd\\\" fill-opacity=\\\"1\\\"\\/>\\n<defs>\\n  <clipPath id=\\\"clip7201\\\">\\n    <rect x=\\\"480\\\" y=\\\"0\\\" width=\\\"1681\\\" height=\\\"1600\\\"\\/>\\n  <\\/clipPath>\\n<\\/defs>\\n<path clip-path=\\\"url(#clip7200)\\\" d=\\\"\\nM229.135 1425.62 L2352.76 1425.62 L2352.76 121.675 L229.135 121.675  Z\\n  \\\" fill=\\\"#ffffff\\\" fill-rule=\\\"evenodd\\\" fill-opacity=\\\"1\\\"\\/>\\n<defs>\\n  <clipPath id=\\\"clip7202\\\">\\n    <rect x=\\\"229\\\" y=\\\"121\\\" width=\\\"2125\\\" height=\\\"1305\\\"\\/>\\n  <\\/clipPath>\\n<\\/defs>\\n<polyline clip-path=\\\"url(#clip7202)\\\" style=\\\"stroke:#000000; stroke-width:2; stroke-opacity:0.1; fill:none\\\" points=\\\"\\n  287.256,1425.62 287.256,121.675 \\n  \\\"\\/>\\n<polyline clip-path=\\\"url(#clip7202)\\\" style=\\\"stroke:#000000; stroke-width:2; stroke-opacity:0.1; fill:none\\\" points=\\\"\\n  782.661,1425.62 782.661,121.675 \\n  \\\"\\/>\\n<polyline clip-path=\\\"url(#clip7202)\\\" style=\\\"stroke:#000000; stroke-width:2; stroke-opacity:0.1; fill:none\\\" points=\\\"\\n  1278.07,1425.62 1278.07,121.675 \\n  \\\"\\/>\\n<polyline clip-path=\\\"url(#clip7202)\\\" style=\\\"stroke:#000000; stroke-width:2; stroke-opacity:0.1; fill:none\\\" points=\\\"\\n  1773.47,1425.62 1773.47,121.675 \\n  \\\"\\/>\\n<polyline clip-path=\\\"url(#clip7202)\\\" style=\\\"stroke:#000000; stroke-width:2; stroke-opacity:0.1; fill:none\\\" points=\\\"\\n  2268.87,1425.62 2268.87,121.675 \\n  \\\"\\/>\\n<polyline clip-path=\\\"url(#clip7202)\\\" style=\\\"stroke:#000000; stroke-width:2; stroke-opacity:0.1; fill:none\\\" points=\\\"\\n  229.135,1390.38 2352.76,1390.38 \\n  \\\"\\/>\\n<polyline clip-path=\\\"url(#clip7202)\\\" style=\\\"stroke:#000000; stroke-width:2; stroke-opacity:0.1; fill:none\\\" points=\\\"\\n  229.135,1056.56 2352.76,1056.56 \\n  \\\"\\/>\\n<polyline clip-path=\\\"url(#clip7202)\\\" style=\\\"stroke:#000000; stroke-width:2; stroke-opacity:0.1; fill:none\\\" points=\\\"\\n  229.135,722.739 2352.76,722.739 \\n  \\\"\\/>\\n<polyline clip-path=\\\"url(#clip7202)\\\" style=\\\"stroke:#000000; stroke-width:2; stroke-opacity:0.1; fill:none\\\" points=\\\"\\n  229.135,388.917 2352.76,388.917 \\n  \\\"\\/>\\n<polyline clip-path=\\\"url(#clip7200)\\\" style=\\\"stroke:#000000; stroke-width:4; stroke-opacity:1; fill:none\\\" points=\\\"\\n  229.135,1425.62 2352.76,1425.62 \\n  \\\"\\/>\\n<polyline clip-path=\\\"url(#clip7200)\\\" style=\\\"stroke:#000000; stroke-width:4; stroke-opacity:1; fill:none\\\" points=\\\"\\n  229.135,1425.62 229.135,121.675 \\n  \\\"\\/>\\n<polyline clip-path=\\\"url(#clip7200)\\\" style=\\\"stroke:#000000; stroke-width:4; stroke-opacity:1; fill:none\\\" points=\\\"\\n  287.256,1425.62 287.256,1409.97 \\n  \\\"\\/>\\n<polyline clip-path=\\\"url(#clip7200)\\\" style=\\\"stroke:#000000; stroke-width:4; stroke-opacity:1; fill:none\\\" points=\\\"\\n  782.661,1425.62 782.661,1409.97 \\n  \\\"\\/>\\n<polyline clip-path=\\\"url(#clip7200)\\\" style=\\\"stroke:#000000; stroke-width:4; stroke-opacity:1; fill:none\\\" points=\\\"\\n  1278.07,1425.62 1278.07,1409.97 \\n  \\\"\\/>\\n<polyline clip-path=\\\"url(#clip7200)\\\" style=\\\"stroke:#000000; stroke-width:4; stroke-opacity:1; fill:none\\\" points=\\\"\\n  1773.47,1425.62 1773.47,1409.97 \\n  \\\"\\/>\\n<polyline clip-path=\\\"url(#clip7200)\\\" style=\\\"stroke:#000000; stroke-width:4; stroke-opacity:1; fill:none\\\" points=\\\"\\n  2268.87,1425.62 2268.87,1409.97 \\n  \\\"\\/>\\n<polyline clip-path=\\\"url(#clip7200)\\\" style=\\\"stroke:#000000; stroke-width:4; stroke-opacity:1; fill:none\\\" points=\\\"\\n  229.135,1390.38 254.619,1390.38 \\n  \\\"\\/>\\n<polyline clip-path=\\\"url(#clip7200)\\\" style=\\\"stroke:#000000; stroke-width:4; stroke-opacity:1; fill:none\\\" points=\\\"\\n  229.135,1056.56 254.619,1056.56 \\n  \\\"\\/>\\n<polyline clip-path=\\\"url(#clip7200)\\\" style=\\\"stroke:#000000; stroke-width:4; stroke-opacity:1; fill:none\\\" points=\\\"\\n  229.135,722.739 254.619,722.739 \\n  \\\"\\/>\\n<polyline clip-path=\\\"url(#clip7200)\\\" style=\\\"stroke:#000000; stroke-width:4; stroke-opacity:1; fill:none\\\" points=\\\"\\n  229.135,388.917 254.619,388.917 \\n  \\\"\\/>\\n<g clip-path=\\\"url(#clip7200)\\\">\\n<text style=\\\"fill:#000000; fill-opacity:1; font-family:Arial,Helvetica Neue,Helvetica,sans-serif; font-size:48px; text-anchor:middle;\\\" transform=\\\"rotate(0, 287.256, 1479.62)\\\" x=\\\"287.256\\\" y=\\\"1479.62\\\">0<\\/text>\\n<\\/g>\\n<g clip-path=\\\"url(#clip7200)\\\">\\n<text style=\\\"fill:#000000; fill-opacity:1; font-family:Arial,Helvetica Neue,Helvetica,sans-serif; font-size:48px; text-anchor:middle;\\\" transform=\\\"rotate(0, 782.661, 1479.62)\\\" x=\\\"782.661\\\" y=\\\"1479.62\\\">250<\\/text>\\n<\\/g>\\n<g clip-path=\\\"url(#clip7200)\\\">\\n<text style=\\\"fill:#000000; fill-opacity:1; font-family:Arial,Helvetica Neue,Helvetica,sans-serif; font-size:48px; text-anchor:middle;\\\" transform=\\\"rotate(0, 1278.07, 1479.62)\\\" x=\\\"1278.07\\\" y=\\\"1479.62\\\">500<\\/text>\\n<\\/g>\\n<g clip-path=\\\"url(#clip7200)\\\">\\n<text style=\\\"fill:#000000; fill-opacity:1; font-family:Arial,Helvetica Neue,Helvetica,sans-serif; font-size:48px; text-anchor:middle;\\\" transform=\\\"rotate(0, 1773.47, 1479.62)\\\" x=\\\"1773.47\\\" y=\\\"1479.62\\\">750<\\/text>\\n<\\/g>\\n<g clip-path=\\\"url(#clip7200)\\\">\\n<text style=\\\"fill:#000000; fill-opacity:1; font-family:Arial,Helvetica Neue,Helvetica,sans-serif; font-size:48px; text-anchor:middle;\\\" transform=\\\"rotate(0, 2268.87, 1479.62)\\\" x=\\\"2268.87\\\" y=\\\"1479.62\\\">1000<\\/text>\\n<\\/g>\\n<g clip-path=\\\"url(#clip7200)\\\">\\n<text style=\\\"fill:#000000; fill-opacity:1; font-family:Arial,Helvetica Neue,Helvetica,sans-serif; font-size:48px; text-anchor:end;\\\" transform=\\\"rotate(0, 205.135, 1407.88)\\\" x=\\\"205.135\\\" y=\\\"1407.88\\\">0<\\/text>\\n<\\/g>\\n<g clip-path=\\\"url(#clip7200)\\\">\\n<text style=\\\"fill:#000000; fill-opacity:1; font-family:Arial,Helvetica Neue,Helvetica,sans-serif; font-size:48px; text-anchor:end;\\\" transform=\\\"rotate(0, 205.135, 1074.06)\\\" x=\\\"205.135\\\" y=\\\"1074.06\\\">200<\\/text>\\n<\\/g>\\n<g clip-path=\\\"url(#clip7200)\\\">\\n<text style=\\\"fill:#000000; fill-opacity:1; font-family:Arial,Helvetica Neue,Helvetica,sans-serif; font-size:48px; text-anchor:end;\\\" transform=\\\"rotate(0, 205.135, 740.239)\\\" x=\\\"205.135\\\" y=\\\"740.239\\\">400<\\/text>\\n<\\/g>\\n<g clip-path=\\\"url(#clip7200)\\\">\\n<text style=\\\"fill:#000000; fill-opacity:1; font-family:Arial,Helvetica Neue,Helvetica,sans-serif; font-size:48px; text-anchor:end;\\\" transform=\\\"rotate(0, 205.135, 406.417)\\\" x=\\\"205.135\\\" y=\\\"406.417\\\">600<\\/text>\\n<\\/g>\\n<g clip-path=\\\"url(#clip7200)\\\">\\n<text style=\\\"fill:#000000; fill-opacity:1; font-family:Arial,Helvetica Neue,Helvetica,sans-serif; font-size:84px; text-anchor:middle;\\\" transform=\\\"rotate(0, 1290.95, 73.2)\\\" x=\\\"1290.95\\\" y=\\\"73.2\\\">COVID-19 New vs Total Cases<\\/text>\\n<\\/g>\\n<g clip-path=\\\"url(#clip7200)\\\">\\n<text style=\\\"fill:#000000; fill-opacity:1; font-family:Arial,Helvetica Neue,Helvetica,sans-serif; font-size:66px; text-anchor:middle;\\\" transform=\\\"rotate(0, 1290.95, 1559.48)\\\" x=\\\"1290.95\\\" y=\\\"1559.48\\\">Number of Confirmed Cases<\\/text>\\n<\\/g>\\n<g clip-path=\\\"url(#clip7200)\\\">\\n<text style=\\\"fill:#000000; fill-opacity:1; font-family:Arial,Helvetica Neue,Helvetica,sans-serif; font-size:66px; text-anchor:middle;\\\" transform=\\\"rotate(-90, 89.2861, 773.647)\\\" x=\\\"89.2861\\\" y=\\\"773.647\\\">Number of New Cases (last 7 days)<\\/text>\\n<\\/g>\\n<polyline clip-path=\\\"url(#clip7202)\\\" style=\\\"stroke:#009af9; stroke-width:4; stroke-opacity:1; fill:none\\\" points=\\\"\\n  289.238,1388.71 289.238,1388.71 297.164,1382.04 309.054,1372.02 316.98,1367.02 326.888,1358.67 328.87,1357 \\n  376.429,1323.62 457.675,1255.19 491.363,1226.81 491.363,1236.83 521.087,1218.47 626.113,1138.35 626.113,1140.02 830.219,1008.16 968.933,959.753 1064.05,908.01 \\n  1299.86,709.386 1400.93,649.298 1807.16,395.593 2070.71,173.601 2292.65,158.579 \\n  \\\"\\/>\\n<circle clip-path=\\\"url(#clip7202)\\\" cx=\\\"2292.65\\\" cy=\\\"158.579\\\" r=\\\"14\\\" fill=\\\"#e26f46\\\" fill-rule=\\\"evenodd\\\" fill-opacity=\\\"1\\\" stroke=\\\"#000000\\\" stroke-opacity=\\\"1\\\" stroke-width=\\\"3.2\\\"\\/>\\n<path clip-path=\\\"url(#clip7200)\\\" d=\\\"\\nM301.135 326.155 L816.701 326.155 L816.701 205.195 L301.135 205.195  Z\\n  \\\" fill=\\\"#ffffff\\\" fill-rule=\\\"evenodd\\\" fill-opacity=\\\"1\\\"\\/>\\n<polyline clip-path=\\\"url(#clip7200)\\\" style=\\\"stroke:#000000; stroke-width:4; stroke-opacity:1; fill:none\\\" points=\\\"\\n  301.135,326.155 816.701,326.155 816.701,205.195 301.135,205.195 301.135,326.155 \\n  \\\"\\/>\\n<polyline clip-path=\\\"url(#clip7200)\\\" style=\\\"stroke:#009af9; stroke-width:4; stroke-opacity:1; fill:none\\\" points=\\\"\\n  325.135,265.675 469.135,265.675 \\n  \\\"\\/>\\n<g clip-path=\\\"url(#clip7200)\\\">\\n<text style=\\\"fill:#000000; fill-opacity:1; font-family:Arial,Helvetica Neue,Helvetica,sans-serif; font-size:48px; text-anchor:start;\\\" transform=\\\"rotate(0, 493.135, 283.175)\\\" x=\\\"493.135\\\" y=\\\"283.175\\\">Saudi Arabia<\\/text>\\n<\\/g>\\n<g clip-path=\\\"url(#clip7200)\\\">\\n<text style=\\\"fill:#000000; fill-opacity:1; font-family:Arial,Helvetica Neue,Helvetica,sans-serif; font-size:59px; text-anchor:middle;\\\" transform=\\\"rotate(0, 2292.65, 180.079)\\\" x=\\\"2292.65\\\" y=\\\"180.079\\\">Saudi Arabia<\\/text>\\n<\\/g>\\n<\\/svg>\\n\"},\"nodeType\":\"DOM\",\"type\":\"node\",\"instanceArgs\":{\"namespace\":\"html\",\"tag\":\"div\"},\"children\":[]}]}}}},\"children\":[{\"props\":{},\"nodeType\":\"ObservableNode\",\"type\":\"node\",\"instanceArgs\":{\"id\":\"ob_30\",\"name\":\"obs-node\"},\"children\":[]}]}]},\n",
       "            window,\n",
       "        );\n",
       "    } else {\n",
       "        document\n",
       "            .querySelector('[data-webio-mountpoint=\"14027602714558999714\"]')\n",
       "            .innerHTML = (\n",
       "                '<div style=\"padding: 1em; background-color: #f8d6da; border: 1px solid #f5c6cb\">' +\n",
       "                '<p><strong>WebIO not detected.</strong></p>' +\n",
       "                '<p>Please read ' +\n",
       "                '<a href=\"https://juliagizmos.github.io/WebIO.jl/latest/troubleshooting/not-detected/\" target=\"_blank\">the troubleshooting guide</a> ' +\n",
       "                'for more information on how to resolve this issue.</p>' +\n",
       "                '<p><a href=\"https://juliagizmos.github.io/WebIO.jl/latest/troubleshooting/not-detected/\" target=\"_blank\">https://juliagizmos.github.io/WebIO.jl/latest/troubleshooting/not-detected/</a></p>' +\n",
       "                '</div>'\n",
       "            );\n",
       "    }\n",
       "    </script>\n",
       "</div>\n"
      ],
      "text/plain": [
       "Node{WebIO.DOM}(WebIO.DOM(:html, :div), Any[Node{WebIO.DOM}(WebIO.DOM(:html, :div), Any[Scope(Node{WebIO.DOM}(WebIO.DOM(:html, :div), Any[Node{WebIO.DOM}(WebIO.DOM(:html, :div), Any[Node{WebIO.DOM}(WebIO.DOM(:html, :label), Any[\"day\"], Dict{Symbol,Any}(:className => \"interact \",:style => Dict{Any,Any}(:padding => \"5px 10px 0px 10px\")))], Dict{Symbol,Any}(:className => \"interact-flex-row-left\")), Node{WebIO.DOM}(WebIO.DOM(:html, :div), Any[Node{WebIO.DOM}(WebIO.DOM(:html, :input), Any[], Dict{Symbol,Any}(:max => 130,:min => 1,:attributes => Dict{Any,Any}(:type => \"range\",Symbol(\"data-bind\") => \"numericValue: index, valueUpdate: 'input', event: {change: function (){this.changes(this.changes()+1)}}\",\"orient\" => \"horizontal\"),:step => 1,:className => \"slider slider is-fullwidth\",:style => Dict{Any,Any}()))], Dict{Symbol,Any}(:className => \"interact-flex-row-center\")), Node{WebIO.DOM}(WebIO.DOM(:html, :div), Any[Node{WebIO.DOM}(WebIO.DOM(:html, :p), Any[], Dict{Symbol,Any}(:attributes => Dict(\"data-bind\" => \"text: formatted_val\")))], Dict{Symbol,Any}(:className => \"interact-flex-row-right\"))], Dict{Symbol,Any}(:className => \"interact-flex-row interact-widget\")), Dict{String,Tuple{Observables.AbstractObservable,Union{Nothing, Bool}}}(\"changes\" => (Observable{Int64} with 1 listeners. Value:\n",
       "0, nothing),\"index\" => (Observable{Int64} with 2 listeners. Value:\n",
       "65, nothing)), Set(String[]), nothing, Asset[Asset(\"js\", \"knockout\", \"/Users/saumyarawat/.julia/packages/Knockout/IP1uR/src/../assets/knockout.js\"), Asset(\"js\", \"knockout_punches\", \"/Users/saumyarawat/.julia/packages/Knockout/IP1uR/src/../assets/knockout_punches.js\"), Asset(\"js\", nothing, \"/Users/saumyarawat/.julia/packages/InteractBase/9mFwe/src/../assets/all.js\"), Asset(\"css\", nothing, \"/Users/saumyarawat/.julia/packages/InteractBase/9mFwe/src/../assets/style.css\"), Asset(\"css\", nothing, \"/Users/saumyarawat/.julia/packages/Interact/SbgIk/src/../assets/bulma_confined.min.css\")], Dict{Any,Any}(\"changes\" => Any[WebIO.JSString(\"(function (val){return (val!=this.model[\\\"changes\\\"]()) ? (this.valueFromJulia[\\\"changes\\\"]=true, this.model[\\\"changes\\\"](val)) : undefined})\")],\"index\" => Any[WebIO.JSString(\"(function (val){return (val!=this.model[\\\"index\\\"]()) ? (this.valueFromJulia[\\\"index\\\"]=true, this.model[\\\"index\\\"](val)) : undefined})\")]), WebIO.ConnectionPool(Channel{Any}(sz_max:32,sz_curr:0), Set(AbstractConnection[]), Base.GenericCondition{Base.AlwaysLockedST}(Base.InvasiveLinkedList{Task}(Task (runnable) @0x0000000133bc61d0, Task (runnable) @0x0000000133bc61d0), Base.AlwaysLockedST(1))), WebIO.JSString[WebIO.JSString(\"function () {\\n    var handler = (function (ko, koPunches) {\\n    ko.punches.enableAll();\\n    ko.bindingHandlers.numericValue = {\\n        init: function(element, valueAccessor, allBindings, data, context) {\\n            var stringified = ko.observable(ko.unwrap(valueAccessor()));\\n            stringified.subscribe(function(value) {\\n                var val = parseFloat(value);\\n                if (!isNaN(val)) {\\n                    valueAccessor()(val);\\n                }\\n            });\\n            valueAccessor().subscribe(function(value) {\\n                var str = JSON.stringify(value);\\n                if ((str == \\\"0\\\") && ([\\\"-0\\\", \\\"-0.\\\"].indexOf(stringified()) >= 0))\\n                     return;\\n                 if ([\\\"null\\\", \\\"\\\"].indexOf(str) >= 0)\\n                     return;\\n                stringified(str);\\n            });\\n            ko.applyBindingsToNode(\\n                element,\\n                {\\n                    value: stringified,\\n                    valueUpdate: allBindings.get('valueUpdate'),\\n                },\\n                context,\\n            );\\n        }\\n    };\\n    var json_data = {\\\"formatted_vals\\\":[\\\"1\\\",\\\"2\\\",\\\"3\\\",\\\"4\\\",\\\"5\\\",\\\"6\\\",\\\"7\\\",\\\"8\\\",\\\"9\\\",\\\"10\\\",\\\"11\\\",\\\"12\\\",\\\"13\\\",\\\"14\\\",\\\"15\\\",\\\"16\\\",\\\"17\\\",\\\"18\\\",\\\"19\\\",\\\"20\\\",\\\"21\\\",\\\"22\\\",\\\"23\\\",\\\"24\\\",\\\"25\\\",\\\"26\\\",\\\"27\\\",\\\"28\\\",\\\"29\\\",\\\"30\\\",\\\"31\\\",\\\"32\\\",\\\"33\\\",\\\"34\\\",\\\"35\\\",\\\"36\\\",\\\"37\\\",\\\"38\\\",\\\"39\\\",\\\"40\\\",\\\"41\\\",\\\"42\\\",\\\"43\\\",\\\"44\\\",\\\"45\\\",\\\"46\\\",\\\"47\\\",\\\"48\\\",\\\"49\\\",\\\"50\\\",\\\"51\\\",\\\"52\\\",\\\"53\\\",\\\"54\\\",\\\"55\\\",\\\"56\\\",\\\"57\\\",\\\"58\\\",\\\"59\\\",\\\"60\\\",\\\"61\\\",\\\"62\\\",\\\"63\\\",\\\"64\\\",\\\"65\\\",\\\"66\\\",\\\"67\\\",\\\"68\\\",\\\"69\\\",\\\"70\\\",\\\"71\\\",\\\"72\\\",\\\"73\\\",\\\"74\\\",\\\"75\\\",\\\"76\\\",\\\"77\\\",\\\"78\\\",\\\"79\\\",\\\"80\\\",\\\"81\\\",\\\"82\\\",\\\"83\\\",\\\"84\\\",\\\"85\\\",\\\"86\\\",\\\"87\\\",\\\"88\\\",\\\"89\\\",\\\"90\\\",\\\"91\\\",\\\"92\\\",\\\"93\\\",\\\"94\\\",\\\"95\\\",\\\"96\\\",\\\"97\\\",\\\"98\\\",\\\"99\\\",\\\"100\\\",\\\"101\\\",\\\"102\\\",\\\"103\\\",\\\"104\\\",\\\"105\\\",\\\"106\\\",\\\"107\\\",\\\"108\\\",\\\"109\\\",\\\"110\\\",\\\"111\\\",\\\"112\\\",\\\"113\\\",\\\"114\\\",\\\"115\\\",\\\"116\\\",\\\"117\\\",\\\"118\\\",\\\"119\\\",\\\"120\\\",\\\"121\\\",\\\"122\\\",\\\"123\\\",\\\"124\\\",\\\"125\\\",\\\"126\\\",\\\"127\\\",\\\"128\\\",\\\"129\\\",\\\"130\\\"],\\\"changes\\\":WebIO.getval({\\\"name\\\":\\\"changes\\\",\\\"scope\\\":\\\"6289431939844465045\\\",\\\"id\\\":\\\"ob_26\\\",\\\"type\\\":\\\"observable\\\"}),\\\"index\\\":WebIO.getval({\\\"name\\\":\\\"index\\\",\\\"scope\\\":\\\"6289431939844465045\\\",\\\"id\\\":\\\"ob_25\\\",\\\"type\\\":\\\"observable\\\"})};\\n    var self = this;\\n    function AppViewModel() {\\n        for (var key in json_data) {\\n            var el = json_data[key];\\n            this[key] = Array.isArray(el) ? ko.observableArray(el) : ko.observable(el);\\n        }\\n        \\n        [this[\\\"formatted_val\\\"]=ko.computed(    function(){\\n        return this.formatted_vals()[parseInt(this.index())-(1)];\\n    }\\n,this)]\\n        [this[\\\"changes\\\"].subscribe((function (val){!(this.valueFromJulia[\\\"changes\\\"]) ? (WebIO.setval({\\\"name\\\":\\\"changes\\\",\\\"scope\\\":\\\"6289431939844465045\\\",\\\"id\\\":\\\"ob_26\\\",\\\"type\\\":\\\"observable\\\"},val)) : undefined; return this.valueFromJulia[\\\"changes\\\"]=false}),self),this[\\\"index\\\"].subscribe((function (val){!(this.valueFromJulia[\\\"index\\\"]) ? (WebIO.setval({\\\"name\\\":\\\"index\\\",\\\"scope\\\":\\\"6289431939844465045\\\",\\\"id\\\":\\\"ob_25\\\",\\\"type\\\":\\\"observable\\\"},val)) : undefined; return this.valueFromJulia[\\\"index\\\"]=false}),self)]\\n        \\n    }\\n    self.model = new AppViewModel();\\n    self.valueFromJulia = {};\\n    for (var key in json_data) {\\n        self.valueFromJulia[key] = false;\\n    }\\n    ko.applyBindings(self.model, self.dom);\\n}\\n);\\n    (WebIO.importBlock({\\\"data\\\":[{\\\"name\\\":\\\"knockout\\\",\\\"type\\\":\\\"js\\\",\\\"url\\\":\\\"/assetserver/e30804d580242ff490836fea138ed12dab987650-knockout.js\\\"},{\\\"name\\\":\\\"knockout_punches\\\",\\\"type\\\":\\\"js\\\",\\\"url\\\":\\\"/assetserver/3b050a7a6e0183134ddf7d37e9900e424ee82b96-knockout_punches.js\\\"}],\\\"type\\\":\\\"async_block\\\"})).then((imports) => handler.apply(this, imports));\\n}\\n\")])], Dict{Symbol,Any}(:className => \"field interact-widget\")), Observable{Any} with 0 listeners. Value:\n",
       "Node{WebIO.DOM}(WebIO.DOM(:html, :div), Any[Plot{Plots.GRBackend() n=2}], Dict{Symbol,Any}(:className => \"interact-flex-row interact-widget\"))], Dict{Symbol,Any}())"
      ]
     },
     "execution_count": 65,
     "metadata": {
      "application/vnd.webio.node+json": {
       "kernelId": "72715aba-4563-4670-9af3-8d42a1a47982"
      }
     },
     "output_type": "execute_result"
    }
   ],
   "source": [
    "@manipulate for day in 1:num_days\n",
    "    plot()\n",
    "    for current_country in country\n",
    "        confirmed = data_dict[current_country][1:day]\n",
    "        newcases = new_cases[current_country][1:day]\n",
    "        \n",
    "        confirmed = replace(confirmed, 0=>NaN)\n",
    "        newcases = replace(newcases, 0=>NaN)\n",
    "        \n",
    "        plot!(confirmed, newcases,  leg=:topleft, label=current_country)\n",
    "        scatter!(confirmed[end:end], newcases[end:end],label=\"\")\n",
    "        annotate!(confirmed[day],newcases[day], text(current_country,10, :black))\n",
    "    end\n",
    "    xlabel!(\"Number of Confirmed Cases\")\n",
    "    ylabel!(\"Number of New Cases (last 7 days)\")\n",
    "    title!(\"COVID-19 New vs Total Cases\")\n",
    "end"
   ]
  },
  {
   "cell_type": "code",
   "execution_count": 30,
   "metadata": {},
   "outputs": [
    {
     "data": {
      "text/plain": [
       "\"https://raw.githubusercontent.com/23saumyar/covidData/master/no2csvData.csv\""
      ]
     },
     "execution_count": 30,
     "metadata": {},
     "output_type": "execute_result"
    }
   ],
   "source": [
    "url_no2 = \"https://raw.githubusercontent.com/23saumyar/covidData/master/no2csvData.csv\""
   ]
  },
  {
   "cell_type": "code",
   "execution_count": 31,
   "metadata": {},
   "outputs": [
    {
     "data": {
      "text/plain": [
       "\"covid_data_no2.csv\""
      ]
     },
     "execution_count": 31,
     "metadata": {},
     "output_type": "execute_result"
    }
   ],
   "source": [
    "download(url_no2, \"covid_data_no2.csv\")"
   ]
  },
  {
   "cell_type": "code",
   "execution_count": 32,
   "metadata": {},
   "outputs": [
    {
     "data": {
      "text/html": [
       "<table class=\"data-frame\"><thead><tr><th></th><th>Country</th><th>12/30/2019</th><th>12/31/2019</th><th>1/1/2020</th><th>1/2/2020</th><th>1/3/2020</th><th>1/4/2020</th></tr><tr><th></th><th>String</th><th>Float64⍰</th><th>Float64⍰</th><th>Float64⍰</th><th>Float64⍰</th><th>Float64⍰</th><th>Float64⍰</th></tr></thead><tbody><p>63 rows × 156 columns (omitted printing of 149 columns)</p><tr><th>1</th><td>United Arab Emirates</td><td>19.2</td><td>18.3</td><td>18.8</td><td>19.7</td><td>21.5</td><td>29.8</td></tr><tr><th>2</th><td>Argentina</td><td>7.4</td><td>3.7</td><td>4.6</td><td>4.6</td><td>5.1</td><td>5.5</td></tr><tr><th>3</th><td>Austria</td><td>17.24</td><td>17.06</td><td>13.66</td><td>19.04</td><td>21.42</td><td>13.94</td></tr><tr><th>4</th><td>Australia</td><td>5.12</td><td>3.5</td><td>3.16</td><td>2.7</td><td>2.99</td><td>3.39</td></tr><tr><th>5</th><td>Bosnia</td><td>7.93</td><td>11.93</td><td>14.6</td><td>11.77</td><td>17.13</td><td>15.77</td></tr><tr><th>6</th><td>Belgium</td><td>14.12</td><td>17.02</td><td>9.25</td><td>6.98</td><td>6.07</td><td>10.4</td></tr><tr><th>7</th><td>Bulgaria</td><td>4.93</td><td>5.13</td><td>2.6</td><td>3.8</td><td>9.9</td><td>9.5</td></tr><tr><th>8</th><td>Bolivia</td><td>6.7</td><td>7.8</td><td>7.7</td><td>8.5</td><td>8.6</td><td>13.1</td></tr><tr><th>9</th><td>Brazil</td><td>4.47</td><td>4.77</td><td>4.03</td><td>6.67</td><td>5.47</td><td>5.83</td></tr><tr><th>10</th><td>Canada</td><td>7.04</td><td>6.09</td><td>6.18</td><td>6.76</td><td>8.5</td><td>5.39</td></tr><tr><th>11</th><td>Switzerland</td><td>13.9</td><td>14.3</td><td>13.6</td><td>15.8</td><td>12.9</td><td>12.2</td></tr><tr><th>12</th><td>Chile</td><td>5.83</td><td>5.28</td><td>3.52</td><td>4.42</td><td>4.72</td><td>3.85</td></tr><tr><th>13</th><td>China</td><td>18.39</td><td>16.08</td><td>19.85</td><td>24.02</td><td>25.4</td><td>27.09</td></tr><tr><th>14</th><td>Colombia</td><td>12.15</td><td>10.4</td><td>5.95</td><td>7.85</td><td>9.7</td><td>12.0</td></tr><tr><th>15</th><td>Cyprus</td><td>11.8</td><td>14.2</td><td>12.7</td><td>13.0</td><td>17.8</td><td>13.8</td></tr><tr><th>16</th><td>Czechia</td><td>11.04</td><td>11.0</td><td>10.84</td><td>14.32</td><td>12.82</td><td>8.1</td></tr><tr><th>17</th><td>Germany</td><td>16.91</td><td>15.56</td><td>14.12</td><td>15.45</td><td>12.15</td><td>6.71</td></tr><tr><th>18</th><td>Denmark</td><td>9.1</td><td>3.3</td><td>3.3</td><td>6.4</td><td>6.2</td><td>1.9</td></tr><tr><th>19</th><td>Estonia</td><td>2.5</td><td>1.3</td><td>1.9</td><td>2.9</td><td>2.3</td><td>1.8</td></tr><tr><th>20</th><td>Spain</td><td>12.6</td><td>11.81</td><td>10.78</td><td>13.18</td><td>13.67</td><td>9.11</td></tr><tr><th>21</th><td>Finland</td><td>4.02</td><td>3.72</td><td>3.5</td><td>4.48</td><td>3.3</td><td>2.64</td></tr><tr><th>22</th><td>France</td><td>13.47</td><td>14.51</td><td>11.94</td><td>12.57</td><td>11.87</td><td>10.7</td></tr><tr><th>23</th><td>United Kingdom</td><td>12.54</td><td>15.15</td><td>11.09</td><td>7.3</td><td>9.08</td><td>10.3</td></tr><tr><th>24</th><td>Georgia</td><td>14.2</td><td>13.3</td><td>11.4</td><td>8.4</td><td>9.4</td><td>11.0</td></tr><tr><th>25</th><td>Greece</td><td>6.0</td><td>7.8</td><td>6.45</td><td>6.9</td><td>13.1</td><td>17.2</td></tr><tr><th>26</th><td>Hong Kong,China</td><td>21.4</td><td>18.5</td><td>13.2</td><td>21.4</td><td>27.3</td><td>26.5</td></tr><tr><th>27</th><td>Croatia</td><td>9.53</td><td>11.03</td><td>7.5</td><td>10.93</td><td>15.0</td><td>missing</td></tr><tr><th>28</th><td>Hungary</td><td>8.53</td><td>8.77</td><td>7.8</td><td>11.19</td><td>9.46</td><td>8.39</td></tr><tr><th>29</th><td>Ireland</td><td>6.4</td><td>10.6</td><td>14.4</td><td>3.3</td><td>1.0</td><td>missing</td></tr><tr><th>30</th><td>Israel</td><td>10.14</td><td>11.67</td><td>10.27</td><td>12.48</td><td>6.53</td><td>5.1</td></tr><tr><th>&vellip;</th><td>&vellip;</td><td>&vellip;</td><td>&vellip;</td><td>&vellip;</td><td>&vellip;</td><td>&vellip;</td><td>&vellip;</td></tr></tbody></table>"
      ],
      "text/latex": [
       "\\begin{tabular}{r|cccccccc}\n",
       "\t& Country & 12/30/2019 & 12/31/2019 & 1/1/2020 & 1/2/2020 & 1/3/2020 & 1/4/2020 & \\\\\n",
       "\t\\hline\n",
       "\t& String & Float64⍰ & Float64⍰ & Float64⍰ & Float64⍰ & Float64⍰ & Float64⍰ & \\\\\n",
       "\t\\hline\n",
       "\t1 & United Arab Emirates & 19.2 & 18.3 & 18.8 & 19.7 & 21.5 & 29.8 & $\\dots$ \\\\\n",
       "\t2 & Argentina & 7.4 & 3.7 & 4.6 & 4.6 & 5.1 & 5.5 & $\\dots$ \\\\\n",
       "\t3 & Austria & 17.24 & 17.06 & 13.66 & 19.04 & 21.42 & 13.94 & $\\dots$ \\\\\n",
       "\t4 & Australia & 5.12 & 3.5 & 3.16 & 2.7 & 2.99 & 3.39 & $\\dots$ \\\\\n",
       "\t5 & Bosnia & 7.93 & 11.93 & 14.6 & 11.77 & 17.13 & 15.77 & $\\dots$ \\\\\n",
       "\t6 & Belgium & 14.12 & 17.02 & 9.25 & 6.98 & 6.07 & 10.4 & $\\dots$ \\\\\n",
       "\t7 & Bulgaria & 4.93 & 5.13 & 2.6 & 3.8 & 9.9 & 9.5 & $\\dots$ \\\\\n",
       "\t8 & Bolivia & 6.7 & 7.8 & 7.7 & 8.5 & 8.6 & 13.1 & $\\dots$ \\\\\n",
       "\t9 & Brazil & 4.47 & 4.77 & 4.03 & 6.67 & 5.47 & 5.83 & $\\dots$ \\\\\n",
       "\t10 & Canada & 7.04 & 6.09 & 6.18 & 6.76 & 8.5 & 5.39 & $\\dots$ \\\\\n",
       "\t11 & Switzerland & 13.9 & 14.3 & 13.6 & 15.8 & 12.9 & 12.2 & $\\dots$ \\\\\n",
       "\t12 & Chile & 5.83 & 5.28 & 3.52 & 4.42 & 4.72 & 3.85 & $\\dots$ \\\\\n",
       "\t13 & China & 18.39 & 16.08 & 19.85 & 24.02 & 25.4 & 27.09 & $\\dots$ \\\\\n",
       "\t14 & Colombia & 12.15 & 10.4 & 5.95 & 7.85 & 9.7 & 12.0 & $\\dots$ \\\\\n",
       "\t15 & Cyprus & 11.8 & 14.2 & 12.7 & 13.0 & 17.8 & 13.8 & $\\dots$ \\\\\n",
       "\t16 & Czechia & 11.04 & 11.0 & 10.84 & 14.32 & 12.82 & 8.1 & $\\dots$ \\\\\n",
       "\t17 & Germany & 16.91 & 15.56 & 14.12 & 15.45 & 12.15 & 6.71 & $\\dots$ \\\\\n",
       "\t18 & Denmark & 9.1 & 3.3 & 3.3 & 6.4 & 6.2 & 1.9 & $\\dots$ \\\\\n",
       "\t19 & Estonia & 2.5 & 1.3 & 1.9 & 2.9 & 2.3 & 1.8 & $\\dots$ \\\\\n",
       "\t20 & Spain & 12.6 & 11.81 & 10.78 & 13.18 & 13.67 & 9.11 & $\\dots$ \\\\\n",
       "\t21 & Finland & 4.02 & 3.72 & 3.5 & 4.48 & 3.3 & 2.64 & $\\dots$ \\\\\n",
       "\t22 & France & 13.47 & 14.51 & 11.94 & 12.57 & 11.87 & 10.7 & $\\dots$ \\\\\n",
       "\t23 & United Kingdom & 12.54 & 15.15 & 11.09 & 7.3 & 9.08 & 10.3 & $\\dots$ \\\\\n",
       "\t24 & Georgia & 14.2 & 13.3 & 11.4 & 8.4 & 9.4 & 11.0 & $\\dots$ \\\\\n",
       "\t25 & Greece & 6.0 & 7.8 & 6.45 & 6.9 & 13.1 & 17.2 & $\\dots$ \\\\\n",
       "\t26 & Hong Kong,China & 21.4 & 18.5 & 13.2 & 21.4 & 27.3 & 26.5 & $\\dots$ \\\\\n",
       "\t27 & Croatia & 9.53 & 11.03 & 7.5 & 10.93 & 15.0 &  & $\\dots$ \\\\\n",
       "\t28 & Hungary & 8.53 & 8.77 & 7.8 & 11.19 & 9.46 & 8.39 & $\\dots$ \\\\\n",
       "\t29 & Ireland & 6.4 & 10.6 & 14.4 & 3.3 & 1.0 &  & $\\dots$ \\\\\n",
       "\t30 & Israel & 10.14 & 11.67 & 10.27 & 12.48 & 6.53 & 5.1 & $\\dots$ \\\\\n",
       "\t$\\dots$ & $\\dots$ & $\\dots$ & $\\dots$ & $\\dots$ & $\\dots$ & $\\dots$ & $\\dots$ &  \\\\\n",
       "\\end{tabular}\n"
      ],
      "text/plain": [
       "63×156 DataFrames.DataFrame. Omitted printing of 151 columns\n",
       "│ Row │ Country              │ 12/30/2019 │ 12/31/2019 │ 1/1/2020 │ 1/2/2020 │\n",
       "│     │ \u001b[90mString\u001b[39m               │ \u001b[90mFloat64⍰\u001b[39m   │ \u001b[90mFloat64⍰\u001b[39m   │ \u001b[90mFloat64⍰\u001b[39m │ \u001b[90mFloat64⍰\u001b[39m │\n",
       "├─────┼──────────────────────┼────────────┼────────────┼──────────┼──────────┤\n",
       "│ 1   │ United Arab Emirates │ 19.2       │ 18.3       │ 18.8     │ 19.7     │\n",
       "│ 2   │ Argentina            │ 7.4        │ 3.7        │ 4.6      │ 4.6      │\n",
       "│ 3   │ Austria              │ 17.24      │ 17.06      │ 13.66    │ 19.04    │\n",
       "│ 4   │ Australia            │ 5.12       │ 3.5        │ 3.16     │ 2.7      │\n",
       "│ 5   │ Bosnia               │ 7.93       │ 11.93      │ 14.6     │ 11.77    │\n",
       "│ 6   │ Belgium              │ 14.12      │ 17.02      │ 9.25     │ 6.98     │\n",
       "│ 7   │ Bulgaria             │ 4.93       │ 5.13       │ 2.6      │ 3.8      │\n",
       "│ 8   │ Bolivia              │ 6.7        │ 7.8        │ 7.7      │ 8.5      │\n",
       "│ 9   │ Brazil               │ 4.47       │ 4.77       │ 4.03     │ 6.67     │\n",
       "│ 10  │ Canada               │ 7.04       │ 6.09       │ 6.18     │ 6.76     │\n",
       "⋮\n",
       "│ 53  │ Saudi Arabia         │ 5.33       │ 5.83       │ 7.8      │ 5.75     │\n",
       "│ 54  │ Sweden               │ 9.48       │ 6.3        │ 7.8      │ 9.58     │\n",
       "│ 55  │ Slovakia             │ 13.3       │ 10.1       │ 10.1     │ 16.3     │\n",
       "│ 56  │ Thailand             │ 8.69       │ 7.94       │ 5.74     │ 7.21     │\n",
       "│ 57  │ Turkey               │ 16.94      │ 18.08      │ 15.41    │ 14.31    │\n",
       "│ 58  │ Taiwan*              │ 13.42      │ 9.42       │ 9.43     │ 13.12    │\n",
       "│ 59  │ US                   │ 9.01       │ 10.12      │ 7.18     │ 13.03    │\n",
       "│ 60  │ Vietnam              │ 17.07      │ 16.47      │ 15.97    │ 14.0     │\n",
       "│ 61  │ Kosovo               │ 11.9       │ 18.6       │ 16.7     │ 16.1     │\n",
       "│ 62  │ South Africa         │ 3.25       │ 3.77       │ 2.68     │ 3.06     │\n",
       "│ 63  │ World Average        │ 12.8       │ 12.02      │ 11.05    │ 13.17    │"
      ]
     },
     "execution_count": 32,
     "metadata": {},
     "output_type": "execute_result"
    }
   ],
   "source": [
    "data_no2 = CSV.read(\"covid_data_no2.csv\")"
   ]
  },
  {
   "cell_type": "code",
   "execution_count": 37,
   "metadata": {},
   "outputs": [
    {
     "data": {
      "text/plain": [
       "63-element Array{String,1}:\n",
       " \"United Arab Emirates\"\n",
       " \"Argentina\"\n",
       " \"Austria\"\n",
       " \"Australia\"\n",
       " \"Bosnia\"\n",
       " \"Belgium\"\n",
       " \"Bulgaria\"\n",
       " \"Bolivia\"\n",
       " \"Brazil\"\n",
       " \"Canada\"\n",
       " \"Switzerland\"\n",
       " \"Chile\"\n",
       " \"China\"\n",
       " ⋮\n",
       " \"Russia\"\n",
       " \"Saudi Arabia\"\n",
       " \"Sweden\"\n",
       " \"Slovakia\"\n",
       " \"Thailand\"\n",
       " \"Turkey\"\n",
       " \"Taiwan*\"\n",
       " \"US\"\n",
       " \"Vietnam\"\n",
       " \"Kosovo\"\n",
       " \"South Africa\"\n",
       " \"World Average\""
      ]
     },
     "execution_count": 37,
     "metadata": {},
     "output_type": "execute_result"
    }
   ],
   "source": [
    "all_countries = collect(data_no2[:, 1])"
   ]
  },
  {
   "cell_type": "code",
   "execution_count": 45,
   "metadata": {},
   "outputs": [
    {
     "data": {
      "text/plain": [
       "154"
      ]
     },
     "execution_count": 45,
     "metadata": {},
     "output_type": "execute_result"
    }
   ],
   "source": [
    "col_names_no2 = names(data_no2)\n",
    "dates_sym_no2 = col_names_no2[2:end-1]\n",
    "date_strings_no2 = String.(names(data_no2))[2:end-1]\n",
    "dates_no2 = parse.(Date, date_strings_no2,format)\n",
    "num_days_no2 = length(dates_no2)"
   ]
  },
  {
   "cell_type": "code",
   "execution_count": 57,
   "metadata": {},
   "outputs": [
    {
     "data": {
      "text/plain": [
       "Dict{String,Array} with 0 entries"
      ]
     },
     "execution_count": 57,
     "metadata": {},
     "output_type": "execute_result"
    }
   ],
   "source": [
    "data_dict_no2 = Dict{String,Array}()"
   ]
  },
  {
   "cell_type": "code",
   "execution_count": 60,
   "metadata": {},
   "outputs": [
    {
     "data": {
      "text/plain": [
       "Dict{String,Array} with 1 entry:\n",
       "  \"Saudi Arabia\" => Union{Missing, Float64}[5.33, 5.83, 7.8, 5.75, missing, 5.8…"
      ]
     },
     "execution_count": 60,
     "metadata": {},
     "output_type": "execute_result"
    }
   ],
   "source": [
    "data_dict_no2 = Dict{String,Array}()\n",
    "for current_country in country\n",
    "    matching_rows = data_no2[[startswith(country,current_country) for country in all_countries],:]\n",
    "    data_dict_no2[current_country] = get(data_dict_no2,current_country,zeros(num_days_no2))\n",
    "    prev_dict_values = get(data_dict_no2,current_country,zeros(num_days_no2))\n",
    "    \n",
    "    for row in eachrow(matching_rows)\n",
    "        values = convert(Vector, row[2:end-1])\n",
    "        \n",
    "        data_dict_no2[current_country] =data_dict_no2[current_country] .+ values\n",
    "    end\n",
    "end\n",
    "\n",
    "data_dict_no2"
   ]
  },
  {
   "cell_type": "code",
   "execution_count": 61,
   "metadata": {},
   "outputs": [
    {
     "data": {
      "application/vnd.webio.node+json": {
       "children": [
        {
         "children": [
          {
           "children": [
            {
             "children": [
              {
               "children": [
                {
                 "children": [
                  "day"
                 ],
                 "instanceArgs": {
                  "namespace": "html",
                  "tag": "label"
                 },
                 "nodeType": "DOM",
                 "props": {
                  "className": "interact ",
                  "style": {
                   "padding": "5px 10px 0px 10px"
                  }
                 },
                 "type": "node"
                }
               ],
               "instanceArgs": {
                "namespace": "html",
                "tag": "div"
               },
               "nodeType": "DOM",
               "props": {
                "className": "interact-flex-row-left"
               },
               "type": "node"
              },
              {
               "children": [
                {
                 "children": [],
                 "instanceArgs": {
                  "namespace": "html",
                  "tag": "input"
                 },
                 "nodeType": "DOM",
                 "props": {
                  "attributes": {
                   "data-bind": "numericValue: index, valueUpdate: 'input', event: {change: function (){this.changes(this.changes()+1)}}",
                   "orient": "horizontal",
                   "type": "range"
                  },
                  "className": "slider slider is-fullwidth",
                  "max": 154,
                  "min": 1,
                  "step": 1,
                  "style": {}
                 },
                 "type": "node"
                }
               ],
               "instanceArgs": {
                "namespace": "html",
                "tag": "div"
               },
               "nodeType": "DOM",
               "props": {
                "className": "interact-flex-row-center"
               },
               "type": "node"
              },
              {
               "children": [
                {
                 "children": [],
                 "instanceArgs": {
                  "namespace": "html",
                  "tag": "p"
                 },
                 "nodeType": "DOM",
                 "props": {
                  "attributes": {
                   "data-bind": "text: formatted_val"
                  }
                 },
                 "type": "node"
                }
               ],
               "instanceArgs": {
                "namespace": "html",
                "tag": "div"
               },
               "nodeType": "DOM",
               "props": {
                "className": "interact-flex-row-right"
               },
               "type": "node"
              }
             ],
             "instanceArgs": {
              "namespace": "html",
              "tag": "div"
             },
             "nodeType": "DOM",
             "props": {
              "className": "interact-flex-row interact-widget"
             },
             "type": "node"
            }
           ],
           "instanceArgs": {
            "handlers": {
             "changes": [
              "(function (val){return (val!=this.model[\"changes\"]()) ? (this.valueFromJulia[\"changes\"]=true, this.model[\"changes\"](val)) : undefined})"
             ],
             "index": [
              "(function (val){return (val!=this.model[\"index\"]()) ? (this.valueFromJulia[\"index\"]=true, this.model[\"index\"](val)) : undefined})"
             ]
            },
            "id": "231332520099782488",
            "imports": {
             "data": [
              {
               "name": "knockout",
               "type": "js",
               "url": "/assetserver/e30804d580242ff490836fea138ed12dab987650-knockout.js"
              },
              {
               "name": "knockout_punches",
               "type": "js",
               "url": "/assetserver/3b050a7a6e0183134ddf7d37e9900e424ee82b96-knockout_punches.js"
              },
              {
               "name": null,
               "type": "js",
               "url": "/assetserver/72820b874a45543a799a471aa05eefa33c06bf5a-all.js"
              },
              {
               "name": null,
               "type": "css",
               "url": "/assetserver/e7517b5a7de555d89430fc976892a64cbe24a2bc-style.css"
              },
              {
               "name": null,
               "type": "css",
               "url": "/assetserver/8371af573dfc972c716f005fa6460852db032b9c-bulma_confined.min.css"
              }
             ],
             "type": "async_block"
            },
            "mount_callbacks": [
             "function () {\n    var handler = (function (ko, koPunches) {\n    ko.punches.enableAll();\n    ko.bindingHandlers.numericValue = {\n        init: function(element, valueAccessor, allBindings, data, context) {\n            var stringified = ko.observable(ko.unwrap(valueAccessor()));\n            stringified.subscribe(function(value) {\n                var val = parseFloat(value);\n                if (!isNaN(val)) {\n                    valueAccessor()(val);\n                }\n            });\n            valueAccessor().subscribe(function(value) {\n                var str = JSON.stringify(value);\n                if ((str == \"0\") && ([\"-0\", \"-0.\"].indexOf(stringified()) >= 0))\n                     return;\n                 if ([\"null\", \"\"].indexOf(str) >= 0)\n                     return;\n                stringified(str);\n            });\n            ko.applyBindingsToNode(\n                element,\n                {\n                    value: stringified,\n                    valueUpdate: allBindings.get('valueUpdate'),\n                },\n                context,\n            );\n        }\n    };\n    var json_data = {\"formatted_vals\":[\"1\",\"2\",\"3\",\"4\",\"5\",\"6\",\"7\",\"8\",\"9\",\"10\",\"11\",\"12\",\"13\",\"14\",\"15\",\"16\",\"17\",\"18\",\"19\",\"20\",\"21\",\"22\",\"23\",\"24\",\"25\",\"26\",\"27\",\"28\",\"29\",\"30\",\"31\",\"32\",\"33\",\"34\",\"35\",\"36\",\"37\",\"38\",\"39\",\"40\",\"41\",\"42\",\"43\",\"44\",\"45\",\"46\",\"47\",\"48\",\"49\",\"50\",\"51\",\"52\",\"53\",\"54\",\"55\",\"56\",\"57\",\"58\",\"59\",\"60\",\"61\",\"62\",\"63\",\"64\",\"65\",\"66\",\"67\",\"68\",\"69\",\"70\",\"71\",\"72\",\"73\",\"74\",\"75\",\"76\",\"77\",\"78\",\"79\",\"80\",\"81\",\"82\",\"83\",\"84\",\"85\",\"86\",\"87\",\"88\",\"89\",\"90\",\"91\",\"92\",\"93\",\"94\",\"95\",\"96\",\"97\",\"98\",\"99\",\"100\",\"101\",\"102\",\"103\",\"104\",\"105\",\"106\",\"107\",\"108\",\"109\",\"110\",\"111\",\"112\",\"113\",\"114\",\"115\",\"116\",\"117\",\"118\",\"119\",\"120\",\"121\",\"122\",\"123\",\"124\",\"125\",\"126\",\"127\",\"128\",\"129\",\"130\",\"131\",\"132\",\"133\",\"134\",\"135\",\"136\",\"137\",\"138\",\"139\",\"140\",\"141\",\"142\",\"143\",\"144\",\"145\",\"146\",\"147\",\"148\",\"149\",\"150\",\"151\",\"152\",\"153\",\"154\"],\"changes\":WebIO.getval({\"name\":\"changes\",\"scope\":\"231332520099782488\",\"id\":\"ob_18\",\"type\":\"observable\"}),\"index\":WebIO.getval({\"name\":\"index\",\"scope\":\"231332520099782488\",\"id\":\"ob_17\",\"type\":\"observable\"})};\n    var self = this;\n    function AppViewModel() {\n        for (var key in json_data) {\n            var el = json_data[key];\n            this[key] = Array.isArray(el) ? ko.observableArray(el) : ko.observable(el);\n        }\n        \n        [this[\"formatted_val\"]=ko.computed(    function(){\n        return this.formatted_vals()[parseInt(this.index())-(1)];\n    }\n,this)]\n        [this[\"changes\"].subscribe((function (val){!(this.valueFromJulia[\"changes\"]) ? (WebIO.setval({\"name\":\"changes\",\"scope\":\"231332520099782488\",\"id\":\"ob_18\",\"type\":\"observable\"},val)) : undefined; return this.valueFromJulia[\"changes\"]=false}),self),this[\"index\"].subscribe((function (val){!(this.valueFromJulia[\"index\"]) ? (WebIO.setval({\"name\":\"index\",\"scope\":\"231332520099782488\",\"id\":\"ob_17\",\"type\":\"observable\"},val)) : undefined; return this.valueFromJulia[\"index\"]=false}),self)]\n        \n    }\n    self.model = new AppViewModel();\n    self.valueFromJulia = {};\n    for (var key in json_data) {\n        self.valueFromJulia[key] = false;\n    }\n    ko.applyBindings(self.model, self.dom);\n}\n);\n    (WebIO.importBlock({\"data\":[{\"name\":\"knockout\",\"type\":\"js\",\"url\":\"/assetserver/e30804d580242ff490836fea138ed12dab987650-knockout.js\"},{\"name\":\"knockout_punches\",\"type\":\"js\",\"url\":\"/assetserver/3b050a7a6e0183134ddf7d37e9900e424ee82b96-knockout_punches.js\"}],\"type\":\"async_block\"})).then((imports) => handler.apply(this, imports));\n}\n"
            ],
            "observables": {
             "changes": {
              "id": "ob_18",
              "sync": false,
              "value": 0
             },
             "index": {
              "id": "ob_17",
              "sync": true,
              "value": 77
             }
            },
            "systemjs_options": null
           },
           "nodeType": "Scope",
           "props": {},
           "type": "node"
          }
         ],
         "instanceArgs": {
          "namespace": "html",
          "tag": "div"
         },
         "nodeType": "DOM",
         "props": {
          "className": "field interact-widget"
         },
         "type": "node"
        },
        {
         "children": [
          {
           "children": [],
           "instanceArgs": {
            "id": "ob_24",
            "name": "obs-node"
           },
           "nodeType": "ObservableNode",
           "props": {},
           "type": "node"
          }
         ],
         "instanceArgs": {
          "handlers": {},
          "id": "9007590786095737668",
          "imports": {
           "data": [],
           "type": "async_block"
          },
          "mount_callbacks": [],
          "observables": {
           "obs-node": {
            "id": "ob_24",
            "sync": false,
            "value": {
             "children": [
              {
               "children": [],
               "instanceArgs": {
                "namespace": "html",
                "tag": "div"
               },
               "nodeType": "DOM",
               "props": {
                "setInnerHtml": "<?xml version=\"1.0\" encoding=\"utf-8\"?>\n<svg xmlns=\"http://www.w3.org/2000/svg\" xmlns:xlink=\"http://www.w3.org/1999/xlink\" width=\"600\" height=\"400\" viewBox=\"0 0 2400 1600\">\n<defs>\n  <clipPath id=\"clip6000\">\n    <rect x=\"0\" y=\"0\" width=\"2400\" height=\"1600\"/>\n  </clipPath>\n</defs>\n<path clip-path=\"url(#clip6000)\" d=\"\nM0 1600 L2400 1600 L2400 0 L0 0  Z\n  \" fill=\"#ffffff\" fill-rule=\"evenodd\" fill-opacity=\"1\"/>\n<defs>\n  <clipPath id=\"clip6001\">\n    <rect x=\"480\" y=\"0\" width=\"1681\" height=\"1600\"/>\n  </clipPath>\n</defs>\n<path clip-path=\"url(#clip6000)\" d=\"\nM291.853 1425.62 L2352.76 1425.62 L2352.76 121.675 L291.853 121.675  Z\n  \" fill=\"#ffffff\" fill-rule=\"evenodd\" fill-opacity=\"1\"/>\n<defs>\n  <clipPath id=\"clip6002\">\n    <rect x=\"291\" y=\"121\" width=\"2062\" height=\"1305\"/>\n  </clipPath>\n</defs>\n<polyline clip-path=\"url(#clip6002)\" style=\"stroke:#000000; stroke-width:2; stroke-opacity:0.1; fill:none\" points=\"\n  401.345,1425.62 401.345,121.675 \n  \"/>\n<polyline clip-path=\"url(#clip6002)\" style=\"stroke:#000000; stroke-width:2; stroke-opacity:0.1; fill:none\" points=\"\n  1194.39,1425.62 1194.39,121.675 \n  \"/>\n<polyline clip-path=\"url(#clip6002)\" style=\"stroke:#000000; stroke-width:2; stroke-opacity:0.1; fill:none\" points=\"\n  1936.28,1425.62 1936.28,121.675 \n  \"/>\n<polyline clip-path=\"url(#clip6002)\" style=\"stroke:#000000; stroke-width:2; stroke-opacity:0.1; fill:none\" points=\"\n  291.853,1390.86 2352.76,1390.86 \n  \"/>\n<polyline clip-path=\"url(#clip6002)\" style=\"stroke:#000000; stroke-width:2; stroke-opacity:0.1; fill:none\" points=\"\n  291.853,1182.74 2352.76,1182.74 \n  \"/>\n<polyline clip-path=\"url(#clip6002)\" style=\"stroke:#000000; stroke-width:2; stroke-opacity:0.1; fill:none\" points=\"\n  291.853,974.614 2352.76,974.614 \n  \"/>\n<polyline clip-path=\"url(#clip6002)\" style=\"stroke:#000000; stroke-width:2; stroke-opacity:0.1; fill:none\" points=\"\n  291.853,766.492 2352.76,766.492 \n  \"/>\n<polyline clip-path=\"url(#clip6002)\" style=\"stroke:#000000; stroke-width:2; stroke-opacity:0.1; fill:none\" points=\"\n  291.853,558.37 2352.76,558.37 \n  \"/>\n<polyline clip-path=\"url(#clip6002)\" style=\"stroke:#000000; stroke-width:2; stroke-opacity:0.1; fill:none\" points=\"\n  291.853,350.248 2352.76,350.248 \n  \"/>\n<polyline clip-path=\"url(#clip6002)\" style=\"stroke:#000000; stroke-width:2; stroke-opacity:0.1; fill:none\" points=\"\n  291.853,142.126 2352.76,142.126 \n  \"/>\n<polyline clip-path=\"url(#clip6000)\" style=\"stroke:#000000; stroke-width:4; stroke-opacity:1; fill:none\" points=\"\n  291.853,1425.62 2352.76,1425.62 \n  \"/>\n<polyline clip-path=\"url(#clip6000)\" style=\"stroke:#000000; stroke-width:4; stroke-opacity:1; fill:none\" points=\"\n  291.853,1425.62 291.853,121.675 \n  \"/>\n<polyline clip-path=\"url(#clip6000)\" style=\"stroke:#000000; stroke-width:4; stroke-opacity:1; fill:none\" points=\"\n  401.345,1425.62 401.345,1409.97 \n  \"/>\n<polyline clip-path=\"url(#clip6000)\" style=\"stroke:#000000; stroke-width:4; stroke-opacity:1; fill:none\" points=\"\n  1194.39,1425.62 1194.39,1409.97 \n  \"/>\n<polyline clip-path=\"url(#clip6000)\" style=\"stroke:#000000; stroke-width:4; stroke-opacity:1; fill:none\" points=\"\n  1936.28,1425.62 1936.28,1409.97 \n  \"/>\n<polyline clip-path=\"url(#clip6000)\" style=\"stroke:#000000; stroke-width:4; stroke-opacity:1; fill:none\" points=\"\n  291.853,1390.86 316.584,1390.86 \n  \"/>\n<polyline clip-path=\"url(#clip6000)\" style=\"stroke:#000000; stroke-width:4; stroke-opacity:1; fill:none\" points=\"\n  291.853,1182.74 316.584,1182.74 \n  \"/>\n<polyline clip-path=\"url(#clip6000)\" style=\"stroke:#000000; stroke-width:4; stroke-opacity:1; fill:none\" points=\"\n  291.853,974.614 316.584,974.614 \n  \"/>\n<polyline clip-path=\"url(#clip6000)\" style=\"stroke:#000000; stroke-width:4; stroke-opacity:1; fill:none\" points=\"\n  291.853,766.492 316.584,766.492 \n  \"/>\n<polyline clip-path=\"url(#clip6000)\" style=\"stroke:#000000; stroke-width:4; stroke-opacity:1; fill:none\" points=\"\n  291.853,558.37 316.584,558.37 \n  \"/>\n<polyline clip-path=\"url(#clip6000)\" style=\"stroke:#000000; stroke-width:4; stroke-opacity:1; fill:none\" points=\"\n  291.853,350.248 316.584,350.248 \n  \"/>\n<polyline clip-path=\"url(#clip6000)\" style=\"stroke:#000000; stroke-width:4; stroke-opacity:1; fill:none\" points=\"\n  291.853,142.126 316.584,142.126 \n  \"/>\n<g clip-path=\"url(#clip6000)\">\n<text style=\"fill:#000000; fill-opacity:1; font-family:Arial,Helvetica Neue,Helvetica,sans-serif; font-size:48px; text-anchor:middle;\" transform=\"rotate(0, 401.345, 1479.62)\" x=\"401.345\" y=\"1479.62\">2020-01-01</text>\n</g>\n<g clip-path=\"url(#clip6000)\">\n<text style=\"fill:#000000; fill-opacity:1; font-family:Arial,Helvetica Neue,Helvetica,sans-serif; font-size:48px; text-anchor:middle;\" transform=\"rotate(0, 1194.39, 1479.62)\" x=\"1194.39\" y=\"1479.62\">2020-02-01</text>\n</g>\n<g clip-path=\"url(#clip6000)\">\n<text style=\"fill:#000000; fill-opacity:1; font-family:Arial,Helvetica Neue,Helvetica,sans-serif; font-size:48px; text-anchor:middle;\" transform=\"rotate(0, 1936.28, 1479.62)\" x=\"1936.28\" y=\"1479.62\">2020-03-01</text>\n</g>\n<g clip-path=\"url(#clip6000)\">\n<text style=\"fill:#000000; fill-opacity:1; font-family:Arial,Helvetica Neue,Helvetica,sans-serif; font-size:48px; text-anchor:start;\" transform=\"rotate(0, 159.968, 1414.59)\" x=\"159.968\" y=\"1414.59\">10</text>\n</g>\n<g clip-path=\"url(#clip6000)\">\n<text style=\"fill:#000000; fill-opacity:1; font-family:Arial,Helvetica Neue,Helvetica,sans-serif; font-size:38px; text-anchor:start;\" transform=\"rotate(0, 213.492, 1387.18)\" x=\"213.492\" y=\"1387.18\">0.3</text>\n</g>\n<g clip-path=\"url(#clip6000)\">\n<text style=\"fill:#000000; fill-opacity:1; font-family:Arial,Helvetica Neue,Helvetica,sans-serif; font-size:48px; text-anchor:start;\" transform=\"rotate(0, 159.968, 1206.46)\" x=\"159.968\" y=\"1206.46\">10</text>\n</g>\n<g clip-path=\"url(#clip6000)\">\n<text style=\"fill:#000000; fill-opacity:1; font-family:Arial,Helvetica Neue,Helvetica,sans-serif; font-size:38px; text-anchor:start;\" transform=\"rotate(0, 213.492, 1179.05)\" x=\"213.492\" y=\"1179.05\">0.4</text>\n</g>\n<g clip-path=\"url(#clip6000)\">\n<text style=\"fill:#000000; fill-opacity:1; font-family:Arial,Helvetica Neue,Helvetica,sans-serif; font-size:48px; text-anchor:start;\" transform=\"rotate(0, 159.968, 998.342)\" x=\"159.968\" y=\"998.342\">10</text>\n</g>\n<g clip-path=\"url(#clip6000)\">\n<text style=\"fill:#000000; fill-opacity:1; font-family:Arial,Helvetica Neue,Helvetica,sans-serif; font-size:38px; text-anchor:start;\" transform=\"rotate(0, 213.492, 970.931)\" x=\"213.492\" y=\"970.931\">0.5</text>\n</g>\n<g clip-path=\"url(#clip6000)\">\n<text style=\"fill:#000000; fill-opacity:1; font-family:Arial,Helvetica Neue,Helvetica,sans-serif; font-size:48px; text-anchor:start;\" transform=\"rotate(0, 159.968, 790.22)\" x=\"159.968\" y=\"790.22\">10</text>\n</g>\n<g clip-path=\"url(#clip6000)\">\n<text style=\"fill:#000000; fill-opacity:1; font-family:Arial,Helvetica Neue,Helvetica,sans-serif; font-size:38px; text-anchor:start;\" transform=\"rotate(0, 213.492, 762.809)\" x=\"213.492\" y=\"762.809\">0.6</text>\n</g>\n<g clip-path=\"url(#clip6000)\">\n<text style=\"fill:#000000; fill-opacity:1; font-family:Arial,Helvetica Neue,Helvetica,sans-serif; font-size:48px; text-anchor:start;\" transform=\"rotate(0, 159.968, 582.098)\" x=\"159.968\" y=\"582.098\">10</text>\n</g>\n<g clip-path=\"url(#clip6000)\">\n<text style=\"fill:#000000; fill-opacity:1; font-family:Arial,Helvetica Neue,Helvetica,sans-serif; font-size:38px; text-anchor:start;\" transform=\"rotate(0, 213.492, 554.687)\" x=\"213.492\" y=\"554.687\">0.7</text>\n</g>\n<g clip-path=\"url(#clip6000)\">\n<text style=\"fill:#000000; fill-opacity:1; font-family:Arial,Helvetica Neue,Helvetica,sans-serif; font-size:48px; text-anchor:start;\" transform=\"rotate(0, 159.968, 373.976)\" x=\"159.968\" y=\"373.976\">10</text>\n</g>\n<g clip-path=\"url(#clip6000)\">\n<text style=\"fill:#000000; fill-opacity:1; font-family:Arial,Helvetica Neue,Helvetica,sans-serif; font-size:38px; text-anchor:start;\" transform=\"rotate(0, 213.492, 346.566)\" x=\"213.492\" y=\"346.566\">0.8</text>\n</g>\n<g clip-path=\"url(#clip6000)\">\n<text style=\"fill:#000000; fill-opacity:1; font-family:Arial,Helvetica Neue,Helvetica,sans-serif; font-size:48px; text-anchor:start;\" transform=\"rotate(0, 159.968, 165.854)\" x=\"159.968\" y=\"165.854\">10</text>\n</g>\n<g clip-path=\"url(#clip6000)\">\n<text style=\"fill:#000000; fill-opacity:1; font-family:Arial,Helvetica Neue,Helvetica,sans-serif; font-size:38px; text-anchor:start;\" transform=\"rotate(0, 213.492, 138.444)\" x=\"213.492\" y=\"138.444\">0.9</text>\n</g>\n<g clip-path=\"url(#clip6000)\">\n<text style=\"fill:#000000; fill-opacity:1; font-family:Arial,Helvetica Neue,Helvetica,sans-serif; font-size:84px; text-anchor:middle;\" transform=\"rotate(0, 1322.3, 73.2)\" x=\"1322.3\" y=\"73.2\">Pollution</text>\n</g>\n<g clip-path=\"url(#clip6000)\">\n<text style=\"fill:#000000; fill-opacity:1; font-family:Arial,Helvetica Neue,Helvetica,sans-serif; font-size:66px; text-anchor:middle;\" transform=\"rotate(0, 1322.3, 1559.48)\" x=\"1322.3\" y=\"1559.48\">Date</text>\n</g>\n<g clip-path=\"url(#clip6000)\">\n<text style=\"fill:#000000; fill-opacity:1; font-family:Arial,Helvetica Neue,Helvetica,sans-serif; font-size:66px; text-anchor:middle;\" transform=\"rotate(-90, 89.2861, 773.647)\" x=\"89.2861\" y=\"773.647\">No2 Concentration</text>\n</g>\n<polyline clip-path=\"url(#clip6002)\" style=\"stroke:#009af9; stroke-width:4; stroke-opacity:1; fill:none\" points=\"\n  350.181,502.745 375.763,421.7 401.345,158.579 426.928,434.188 \n  \"/>\n<polyline clip-path=\"url(#clip6002)\" style=\"stroke:#009af9; stroke-width:4; stroke-opacity:1; fill:none\" points=\"\n  478.092,426.363 503.674,801.459 529.256,597.411 554.839,560.514 580.421,256.389 606.003,525.064 631.585,690.553 657.167,840.03 682.75,762.205 708.332,395.72 \n  733.914,224.672 759.496,224.672 785.078,474.367 810.661,282.59 836.243,718.105 861.825,655.745 887.407,655.745 912.989,669.916 938.572,1084.59 964.154,1302.57 \n  \n  \"/>\n<polyline clip-path=\"url(#clip6002)\" style=\"stroke:#009af9; stroke-width:4; stroke-opacity:1; fill:none\" points=\"\n  1092.06,882.899 1117.65,830.232 1143.23,707.409 1168.81,655.745 1194.39,606.876 1219.98,1114.12 1245.56,808.567 1271.14,718.105 1296.72,808.567 1322.3,1022.23 \n  1347.89,635.879 1373.47,808.567 1399.05,808.567 1424.63,963.896 1450.22,1302.57 1475.8,1388.71 1501.38,1151.57 1526.96,525.064 1552.54,597.411 1578.13,560.514 \n  1603.71,963.896 1629.29,1022.23 1654.87,963.896 1680.46,1022.23 1706.04,1223.92 1731.62,963.896 \n  \"/>\n<polyline clip-path=\"url(#clip6002)\" style=\"stroke:#009af9; stroke-width:4; stroke-opacity:1; fill:none\" points=\"\n  1782.78,909.1 1808.37,963.896 1833.95,707.409 1859.53,762.205 \n  \"/>\n<polyline clip-path=\"url(#clip6002)\" style=\"stroke:#009af9; stroke-width:4; stroke-opacity:1; fill:none\" points=\"\n  1910.7,516.414 1936.28,560.514 1961.86,622.229 \n  \"/>\n<polyline clip-path=\"url(#clip6002)\" style=\"stroke:#009af9; stroke-width:4; stroke-opacity:1; fill:none\" points=\"\n  2013.02,502.745 2038.61,395.72 2064.19,606.876 2089.77,762.205 2115.35,882.899 2140.94,882.899 2166.52,909.1 2192.1,635.879 2217.68,762.205 \n  \"/>\n<path clip-path=\"url(#clip6002)\" d=\"M350.181 518.745 L338.869 514.057 L334.181 502.745 L338.869 491.433 L350.181 486.745 L361.493 491.433 L366.181 502.745 L361.493 514.057 Z\" fill=\"#009af9\" fill-rule=\"evenodd\" fill-opacity=\"1\" stroke=\"#000000\" stroke-opacity=\"1\" stroke-width=\"3.2\"/>\n<path clip-path=\"url(#clip6002)\" d=\"M375.763 437.7 L364.451 433.012 L359.763 421.7 L364.451 410.388 L375.763 405.7 L387.075 410.388 L391.763 421.7 L387.075 433.012 Z\" fill=\"#009af9\" fill-rule=\"evenodd\" fill-opacity=\"1\" stroke=\"#000000\" stroke-opacity=\"1\" stroke-width=\"3.2\"/>\n<path clip-path=\"url(#clip6002)\" d=\"M401.345 174.579 L390.033 169.891 L385.345 158.579 L390.033 147.267 L401.345 142.579 L412.657 147.267 L417.345 158.579 L412.657 169.891 Z\" fill=\"#009af9\" fill-rule=\"evenodd\" fill-opacity=\"1\" stroke=\"#000000\" stroke-opacity=\"1\" stroke-width=\"3.2\"/>\n<path clip-path=\"url(#clip6002)\" d=\"M426.928 450.188 L415.616 445.5 L410.928 434.188 L415.616 422.876 L426.928 418.188 L438.24 422.876 L442.928 434.188 L438.24 445.5 Z\" fill=\"#009af9\" fill-rule=\"evenodd\" fill-opacity=\"1\" stroke=\"#000000\" stroke-opacity=\"1\" stroke-width=\"3.2\"/>\n<path clip-path=\"url(#clip6002)\" d=\"M478.092 442.363 L466.78 437.675 L462.092 426.363 L466.78 415.051 L478.092 410.363 L489.404 415.051 L494.092 426.363 L489.404 437.675 Z\" fill=\"#009af9\" fill-rule=\"evenodd\" fill-opacity=\"1\" stroke=\"#000000\" stroke-opacity=\"1\" stroke-width=\"3.2\"/>\n<path clip-path=\"url(#clip6002)\" d=\"M503.674 817.459 L492.362 812.771 L487.674 801.459 L492.362 790.147 L503.674 785.459 L514.986 790.147 L519.674 801.459 L514.986 812.771 Z\" fill=\"#009af9\" fill-rule=\"evenodd\" fill-opacity=\"1\" stroke=\"#000000\" stroke-opacity=\"1\" stroke-width=\"3.2\"/>\n<path clip-path=\"url(#clip6002)\" d=\"M529.256 613.411 L517.944 608.723 L513.256 597.411 L517.944 586.099 L529.256 581.411 L540.568 586.099 L545.256 597.411 L540.568 608.723 Z\" fill=\"#009af9\" fill-rule=\"evenodd\" fill-opacity=\"1\" stroke=\"#000000\" stroke-opacity=\"1\" stroke-width=\"3.2\"/>\n<path clip-path=\"url(#clip6002)\" d=\"M554.839 576.514 L543.527 571.826 L538.839 560.514 L543.527 549.202 L554.839 544.514 L566.151 549.202 L570.839 560.514 L566.151 571.826 Z\" fill=\"#009af9\" fill-rule=\"evenodd\" fill-opacity=\"1\" stroke=\"#000000\" stroke-opacity=\"1\" stroke-width=\"3.2\"/>\n<path clip-path=\"url(#clip6002)\" d=\"M580.421 272.389 L569.109 267.701 L564.421 256.389 L569.109 245.077 L580.421 240.389 L591.733 245.077 L596.421 256.389 L591.733 267.701 Z\" fill=\"#009af9\" fill-rule=\"evenodd\" fill-opacity=\"1\" stroke=\"#000000\" stroke-opacity=\"1\" stroke-width=\"3.2\"/>\n<path clip-path=\"url(#clip6002)\" d=\"M606.003 541.064 L594.691 536.376 L590.003 525.064 L594.691 513.752 L606.003 509.064 L617.315 513.752 L622.003 525.064 L617.315 536.376 Z\" fill=\"#009af9\" fill-rule=\"evenodd\" fill-opacity=\"1\" stroke=\"#000000\" stroke-opacity=\"1\" stroke-width=\"3.2\"/>\n<path clip-path=\"url(#clip6002)\" d=\"M631.585 706.553 L620.273 701.865 L615.585 690.553 L620.273 679.241 L631.585 674.553 L642.897 679.241 L647.585 690.553 L642.897 701.865 Z\" fill=\"#009af9\" fill-rule=\"evenodd\" fill-opacity=\"1\" stroke=\"#000000\" stroke-opacity=\"1\" stroke-width=\"3.2\"/>\n<path clip-path=\"url(#clip6002)\" d=\"M657.167 856.03 L645.855 851.342 L641.167 840.03 L645.855 828.718 L657.167 824.03 L668.479 828.718 L673.167 840.03 L668.479 851.342 Z\" fill=\"#009af9\" fill-rule=\"evenodd\" fill-opacity=\"1\" stroke=\"#000000\" stroke-opacity=\"1\" stroke-width=\"3.2\"/>\n<path clip-path=\"url(#clip6002)\" d=\"M682.75 778.205 L671.438 773.517 L666.75 762.205 L671.438 750.893 L682.75 746.205 L694.062 750.893 L698.75 762.205 L694.062 773.517 Z\" fill=\"#009af9\" fill-rule=\"evenodd\" fill-opacity=\"1\" stroke=\"#000000\" stroke-opacity=\"1\" stroke-width=\"3.2\"/>\n<path clip-path=\"url(#clip6002)\" d=\"M708.332 411.72 L697.02 407.032 L692.332 395.72 L697.02 384.408 L708.332 379.72 L719.644 384.408 L724.332 395.72 L719.644 407.032 Z\" fill=\"#009af9\" fill-rule=\"evenodd\" fill-opacity=\"1\" stroke=\"#000000\" stroke-opacity=\"1\" stroke-width=\"3.2\"/>\n<path clip-path=\"url(#clip6002)\" d=\"M733.914 240.672 L722.602 235.984 L717.914 224.672 L722.602 213.36 L733.914 208.672 L745.226 213.36 L749.914 224.672 L745.226 235.984 Z\" fill=\"#009af9\" fill-rule=\"evenodd\" fill-opacity=\"1\" stroke=\"#000000\" stroke-opacity=\"1\" stroke-width=\"3.2\"/>\n<path clip-path=\"url(#clip6002)\" d=\"M759.496 240.672 L748.184 235.984 L743.496 224.672 L748.184 213.36 L759.496 208.672 L770.808 213.36 L775.496 224.672 L770.808 235.984 Z\" fill=\"#009af9\" fill-rule=\"evenodd\" fill-opacity=\"1\" stroke=\"#000000\" stroke-opacity=\"1\" stroke-width=\"3.2\"/>\n<path clip-path=\"url(#clip6002)\" d=\"M785.078 490.367 L773.766 485.679 L769.078 474.367 L773.766 463.055 L785.078 458.367 L796.39 463.055 L801.078 474.367 L796.39 485.679 Z\" fill=\"#009af9\" fill-rule=\"evenodd\" fill-opacity=\"1\" stroke=\"#000000\" stroke-opacity=\"1\" stroke-width=\"3.2\"/>\n<path clip-path=\"url(#clip6002)\" d=\"M810.661 298.59 L799.349 293.902 L794.661 282.59 L799.349 271.278 L810.661 266.59 L821.973 271.278 L826.661 282.59 L821.973 293.902 Z\" fill=\"#009af9\" fill-rule=\"evenodd\" fill-opacity=\"1\" stroke=\"#000000\" stroke-opacity=\"1\" stroke-width=\"3.2\"/>\n<path clip-path=\"url(#clip6002)\" d=\"M836.243 734.105 L824.931 729.417 L820.243 718.105 L824.931 706.793 L836.243 702.105 L847.555 706.793 L852.243 718.105 L847.555 729.417 Z\" fill=\"#009af9\" fill-rule=\"evenodd\" fill-opacity=\"1\" stroke=\"#000000\" stroke-opacity=\"1\" stroke-width=\"3.2\"/>\n<path clip-path=\"url(#clip6002)\" d=\"M861.825 671.745 L850.513 667.057 L845.825 655.745 L850.513 644.433 L861.825 639.745 L873.137 644.433 L877.825 655.745 L873.137 667.057 Z\" fill=\"#009af9\" fill-rule=\"evenodd\" fill-opacity=\"1\" stroke=\"#000000\" stroke-opacity=\"1\" stroke-width=\"3.2\"/>\n<path clip-path=\"url(#clip6002)\" d=\"M887.407 671.745 L876.095 667.057 L871.407 655.745 L876.095 644.433 L887.407 639.745 L898.719 644.433 L903.407 655.745 L898.719 667.057 Z\" fill=\"#009af9\" fill-rule=\"evenodd\" fill-opacity=\"1\" stroke=\"#000000\" stroke-opacity=\"1\" stroke-width=\"3.2\"/>\n<path clip-path=\"url(#clip6002)\" d=\"M912.989 685.916 L901.677 681.228 L896.989 669.916 L901.677 658.604 L912.989 653.916 L924.301 658.604 L928.989 669.916 L924.301 681.228 Z\" fill=\"#009af9\" fill-rule=\"evenodd\" fill-opacity=\"1\" stroke=\"#000000\" stroke-opacity=\"1\" stroke-width=\"3.2\"/>\n<path clip-path=\"url(#clip6002)\" d=\"M938.572 1100.59 L927.26 1095.9 L922.572 1084.59 L927.26 1073.28 L938.572 1068.59 L949.884 1073.28 L954.572 1084.59 L949.884 1095.9 Z\" fill=\"#009af9\" fill-rule=\"evenodd\" fill-opacity=\"1\" stroke=\"#000000\" stroke-opacity=\"1\" stroke-width=\"3.2\"/>\n<path clip-path=\"url(#clip6002)\" d=\"M964.154 1318.57 L952.842 1313.88 L948.154 1302.57 L952.842 1291.26 L964.154 1286.57 L975.466 1291.26 L980.154 1302.57 L975.466 1313.88 Z\" fill=\"#009af9\" fill-rule=\"evenodd\" fill-opacity=\"1\" stroke=\"#000000\" stroke-opacity=\"1\" stroke-width=\"3.2\"/>\n<path clip-path=\"url(#clip6002)\" d=\"M1092.06 898.899 L1080.75 894.211 L1076.06 882.899 L1080.75 871.587 L1092.06 866.899 L1103.38 871.587 L1108.06 882.899 L1103.38 894.211 Z\" fill=\"#009af9\" fill-rule=\"evenodd\" fill-opacity=\"1\" stroke=\"#000000\" stroke-opacity=\"1\" stroke-width=\"3.2\"/>\n<path clip-path=\"url(#clip6002)\" d=\"M1117.65 846.232 L1106.34 841.544 L1101.65 830.232 L1106.34 818.92 L1117.65 814.232 L1128.96 818.92 L1133.65 830.232 L1128.96 841.544 Z\" fill=\"#009af9\" fill-rule=\"evenodd\" fill-opacity=\"1\" stroke=\"#000000\" stroke-opacity=\"1\" stroke-width=\"3.2\"/>\n<path clip-path=\"url(#clip6002)\" d=\"M1143.23 723.409 L1131.92 718.721 L1127.23 707.409 L1131.92 696.097 L1143.23 691.409 L1154.54 696.097 L1159.23 707.409 L1154.54 718.721 Z\" fill=\"#009af9\" fill-rule=\"evenodd\" fill-opacity=\"1\" stroke=\"#000000\" stroke-opacity=\"1\" stroke-width=\"3.2\"/>\n<path clip-path=\"url(#clip6002)\" d=\"M1168.81 671.745 L1157.5 667.057 L1152.81 655.745 L1157.5 644.433 L1168.81 639.745 L1180.12 644.433 L1184.81 655.745 L1180.12 667.057 Z\" fill=\"#009af9\" fill-rule=\"evenodd\" fill-opacity=\"1\" stroke=\"#000000\" stroke-opacity=\"1\" stroke-width=\"3.2\"/>\n<path clip-path=\"url(#clip6002)\" d=\"M1194.39 622.876 L1183.08 618.188 L1178.39 606.876 L1183.08 595.564 L1194.39 590.876 L1205.71 595.564 L1210.39 606.876 L1205.71 618.188 Z\" fill=\"#009af9\" fill-rule=\"evenodd\" fill-opacity=\"1\" stroke=\"#000000\" stroke-opacity=\"1\" stroke-width=\"3.2\"/>\n<path clip-path=\"url(#clip6002)\" d=\"M1219.98 1130.12 L1208.66 1125.43 L1203.98 1114.12 L1208.66 1102.81 L1219.98 1098.12 L1231.29 1102.81 L1235.98 1114.12 L1231.29 1125.43 Z\" fill=\"#009af9\" fill-rule=\"evenodd\" fill-opacity=\"1\" stroke=\"#000000\" stroke-opacity=\"1\" stroke-width=\"3.2\"/>\n<path clip-path=\"url(#clip6002)\" d=\"M1245.56 824.567 L1234.25 819.879 L1229.56 808.567 L1234.25 797.255 L1245.56 792.567 L1256.87 797.255 L1261.56 808.567 L1256.87 819.879 Z\" fill=\"#009af9\" fill-rule=\"evenodd\" fill-opacity=\"1\" stroke=\"#000000\" stroke-opacity=\"1\" stroke-width=\"3.2\"/>\n<path clip-path=\"url(#clip6002)\" d=\"M1271.14 734.105 L1259.83 729.417 L1255.14 718.105 L1259.83 706.793 L1271.14 702.105 L1282.45 706.793 L1287.14 718.105 L1282.45 729.417 Z\" fill=\"#009af9\" fill-rule=\"evenodd\" fill-opacity=\"1\" stroke=\"#000000\" stroke-opacity=\"1\" stroke-width=\"3.2\"/>\n<path clip-path=\"url(#clip6002)\" d=\"M1296.72 824.567 L1285.41 819.879 L1280.72 808.567 L1285.41 797.255 L1296.72 792.567 L1308.03 797.255 L1312.72 808.567 L1308.03 819.879 Z\" fill=\"#009af9\" fill-rule=\"evenodd\" fill-opacity=\"1\" stroke=\"#000000\" stroke-opacity=\"1\" stroke-width=\"3.2\"/>\n<path clip-path=\"url(#clip6002)\" d=\"M1322.3 1038.23 L1310.99 1033.54 L1306.3 1022.23 L1310.99 1010.92 L1322.3 1006.23 L1333.62 1010.92 L1338.3 1022.23 L1333.62 1033.54 Z\" fill=\"#009af9\" fill-rule=\"evenodd\" fill-opacity=\"1\" stroke=\"#000000\" stroke-opacity=\"1\" stroke-width=\"3.2\"/>\n<path clip-path=\"url(#clip6002)\" d=\"M1347.89 651.879 L1336.57 647.191 L1331.89 635.879 L1336.57 624.567 L1347.89 619.879 L1359.2 624.567 L1363.89 635.879 L1359.2 647.191 Z\" fill=\"#009af9\" fill-rule=\"evenodd\" fill-opacity=\"1\" stroke=\"#000000\" stroke-opacity=\"1\" stroke-width=\"3.2\"/>\n<path clip-path=\"url(#clip6002)\" d=\"M1373.47 824.567 L1362.16 819.879 L1357.47 808.567 L1362.16 797.255 L1373.47 792.567 L1384.78 797.255 L1389.47 808.567 L1384.78 819.879 Z\" fill=\"#009af9\" fill-rule=\"evenodd\" fill-opacity=\"1\" stroke=\"#000000\" stroke-opacity=\"1\" stroke-width=\"3.2\"/>\n<path clip-path=\"url(#clip6002)\" d=\"M1399.05 824.567 L1387.74 819.879 L1383.05 808.567 L1387.74 797.255 L1399.05 792.567 L1410.36 797.255 L1415.05 808.567 L1410.36 819.879 Z\" fill=\"#009af9\" fill-rule=\"evenodd\" fill-opacity=\"1\" stroke=\"#000000\" stroke-opacity=\"1\" stroke-width=\"3.2\"/>\n<path clip-path=\"url(#clip6002)\" d=\"M1424.63 979.896 L1413.32 975.208 L1408.63 963.896 L1413.32 952.584 L1424.63 947.896 L1435.95 952.584 L1440.63 963.896 L1435.95 975.208 Z\" fill=\"#009af9\" fill-rule=\"evenodd\" fill-opacity=\"1\" stroke=\"#000000\" stroke-opacity=\"1\" stroke-width=\"3.2\"/>\n<path clip-path=\"url(#clip6002)\" d=\"M1450.22 1318.57 L1438.9 1313.88 L1434.22 1302.57 L1438.9 1291.26 L1450.22 1286.57 L1461.53 1291.26 L1466.22 1302.57 L1461.53 1313.88 Z\" fill=\"#009af9\" fill-rule=\"evenodd\" fill-opacity=\"1\" stroke=\"#000000\" stroke-opacity=\"1\" stroke-width=\"3.2\"/>\n<path clip-path=\"url(#clip6002)\" d=\"M1475.8 1404.71 L1464.49 1400.03 L1459.8 1388.71 L1464.49 1377.4 L1475.8 1372.71 L1487.11 1377.4 L1491.8 1388.71 L1487.11 1400.03 Z\" fill=\"#009af9\" fill-rule=\"evenodd\" fill-opacity=\"1\" stroke=\"#000000\" stroke-opacity=\"1\" stroke-width=\"3.2\"/>\n<path clip-path=\"url(#clip6002)\" d=\"M1501.38 1167.57 L1490.07 1162.89 L1485.38 1151.57 L1490.07 1140.26 L1501.38 1135.57 L1512.69 1140.26 L1517.38 1151.57 L1512.69 1162.89 Z\" fill=\"#009af9\" fill-rule=\"evenodd\" fill-opacity=\"1\" stroke=\"#000000\" stroke-opacity=\"1\" stroke-width=\"3.2\"/>\n<path clip-path=\"url(#clip6002)\" d=\"M1526.96 541.064 L1515.65 536.376 L1510.96 525.064 L1515.65 513.752 L1526.96 509.064 L1538.27 513.752 L1542.96 525.064 L1538.27 536.376 Z\" fill=\"#009af9\" fill-rule=\"evenodd\" fill-opacity=\"1\" stroke=\"#000000\" stroke-opacity=\"1\" stroke-width=\"3.2\"/>\n<path clip-path=\"url(#clip6002)\" d=\"M1552.54 613.411 L1541.23 608.723 L1536.54 597.411 L1541.23 586.099 L1552.54 581.411 L1563.86 586.099 L1568.54 597.411 L1563.86 608.723 Z\" fill=\"#009af9\" fill-rule=\"evenodd\" fill-opacity=\"1\" stroke=\"#000000\" stroke-opacity=\"1\" stroke-width=\"3.2\"/>\n<path clip-path=\"url(#clip6002)\" d=\"M1578.13 576.514 L1566.81 571.826 L1562.13 560.514 L1566.81 549.202 L1578.13 544.514 L1589.44 549.202 L1594.13 560.514 L1589.44 571.826 Z\" fill=\"#009af9\" fill-rule=\"evenodd\" fill-opacity=\"1\" stroke=\"#000000\" stroke-opacity=\"1\" stroke-width=\"3.2\"/>\n<path clip-path=\"url(#clip6002)\" d=\"M1603.71 979.896 L1592.4 975.208 L1587.71 963.896 L1592.4 952.584 L1603.71 947.896 L1615.02 952.584 L1619.71 963.896 L1615.02 975.208 Z\" fill=\"#009af9\" fill-rule=\"evenodd\" fill-opacity=\"1\" stroke=\"#000000\" stroke-opacity=\"1\" stroke-width=\"3.2\"/>\n<path clip-path=\"url(#clip6002)\" d=\"M1629.29 1038.23 L1617.98 1033.54 L1613.29 1022.23 L1617.98 1010.92 L1629.29 1006.23 L1640.6 1010.92 L1645.29 1022.23 L1640.6 1033.54 Z\" fill=\"#009af9\" fill-rule=\"evenodd\" fill-opacity=\"1\" stroke=\"#000000\" stroke-opacity=\"1\" stroke-width=\"3.2\"/>\n<path clip-path=\"url(#clip6002)\" d=\"M1654.87 979.896 L1643.56 975.208 L1638.87 963.896 L1643.56 952.584 L1654.87 947.896 L1666.19 952.584 L1670.87 963.896 L1666.19 975.208 Z\" fill=\"#009af9\" fill-rule=\"evenodd\" fill-opacity=\"1\" stroke=\"#000000\" stroke-opacity=\"1\" stroke-width=\"3.2\"/>\n<path clip-path=\"url(#clip6002)\" d=\"M1680.46 1038.23 L1669.14 1033.54 L1664.46 1022.23 L1669.14 1010.92 L1680.46 1006.23 L1691.77 1010.92 L1696.46 1022.23 L1691.77 1033.54 Z\" fill=\"#009af9\" fill-rule=\"evenodd\" fill-opacity=\"1\" stroke=\"#000000\" stroke-opacity=\"1\" stroke-width=\"3.2\"/>\n<path clip-path=\"url(#clip6002)\" d=\"M1706.04 1239.92 L1694.73 1235.23 L1690.04 1223.92 L1694.73 1212.61 L1706.04 1207.92 L1717.35 1212.61 L1722.04 1223.92 L1717.35 1235.23 Z\" fill=\"#009af9\" fill-rule=\"evenodd\" fill-opacity=\"1\" stroke=\"#000000\" stroke-opacity=\"1\" stroke-width=\"3.2\"/>\n<path clip-path=\"url(#clip6002)\" d=\"M1731.62 979.896 L1720.31 975.208 L1715.62 963.896 L1720.31 952.584 L1731.62 947.896 L1742.93 952.584 L1747.62 963.896 L1742.93 975.208 Z\" fill=\"#009af9\" fill-rule=\"evenodd\" fill-opacity=\"1\" stroke=\"#000000\" stroke-opacity=\"1\" stroke-width=\"3.2\"/>\n<path clip-path=\"url(#clip6002)\" d=\"M1782.78 925.1 L1771.47 920.412 L1766.78 909.1 L1771.47 897.788 L1782.78 893.1 L1794.1 897.788 L1798.78 909.1 L1794.1 920.412 Z\" fill=\"#009af9\" fill-rule=\"evenodd\" fill-opacity=\"1\" stroke=\"#000000\" stroke-opacity=\"1\" stroke-width=\"3.2\"/>\n<path clip-path=\"url(#clip6002)\" d=\"M1808.37 979.896 L1797.05 975.208 L1792.37 963.896 L1797.05 952.584 L1808.37 947.896 L1819.68 952.584 L1824.37 963.896 L1819.68 975.208 Z\" fill=\"#009af9\" fill-rule=\"evenodd\" fill-opacity=\"1\" stroke=\"#000000\" stroke-opacity=\"1\" stroke-width=\"3.2\"/>\n<path clip-path=\"url(#clip6002)\" d=\"M1833.95 723.409 L1822.64 718.721 L1817.95 707.409 L1822.64 696.097 L1833.95 691.409 L1845.26 696.097 L1849.95 707.409 L1845.26 718.721 Z\" fill=\"#009af9\" fill-rule=\"evenodd\" fill-opacity=\"1\" stroke=\"#000000\" stroke-opacity=\"1\" stroke-width=\"3.2\"/>\n<path clip-path=\"url(#clip6002)\" d=\"M1859.53 778.205 L1848.22 773.517 L1843.53 762.205 L1848.22 750.893 L1859.53 746.205 L1870.84 750.893 L1875.53 762.205 L1870.84 773.517 Z\" fill=\"#009af9\" fill-rule=\"evenodd\" fill-opacity=\"1\" stroke=\"#000000\" stroke-opacity=\"1\" stroke-width=\"3.2\"/>\n<path clip-path=\"url(#clip6002)\" d=\"M1910.7 532.414 L1899.38 527.726 L1894.7 516.414 L1899.38 505.102 L1910.7 500.414 L1922.01 505.102 L1926.7 516.414 L1922.01 527.726 Z\" fill=\"#009af9\" fill-rule=\"evenodd\" fill-opacity=\"1\" stroke=\"#000000\" stroke-opacity=\"1\" stroke-width=\"3.2\"/>\n<path clip-path=\"url(#clip6002)\" d=\"M1936.28 576.514 L1924.97 571.826 L1920.28 560.514 L1924.97 549.202 L1936.28 544.514 L1947.59 549.202 L1952.28 560.514 L1947.59 571.826 Z\" fill=\"#009af9\" fill-rule=\"evenodd\" fill-opacity=\"1\" stroke=\"#000000\" stroke-opacity=\"1\" stroke-width=\"3.2\"/>\n<path clip-path=\"url(#clip6002)\" d=\"M1961.86 638.229 L1950.55 633.541 L1945.86 622.229 L1950.55 610.917 L1961.86 606.229 L1973.17 610.917 L1977.86 622.229 L1973.17 633.541 Z\" fill=\"#009af9\" fill-rule=\"evenodd\" fill-opacity=\"1\" stroke=\"#000000\" stroke-opacity=\"1\" stroke-width=\"3.2\"/>\n<path clip-path=\"url(#clip6002)\" d=\"M2013.02 518.745 L2001.71 514.057 L1997.02 502.745 L2001.71 491.433 L2013.02 486.745 L2024.34 491.433 L2029.02 502.745 L2024.34 514.057 Z\" fill=\"#009af9\" fill-rule=\"evenodd\" fill-opacity=\"1\" stroke=\"#000000\" stroke-opacity=\"1\" stroke-width=\"3.2\"/>\n<path clip-path=\"url(#clip6002)\" d=\"M2038.61 411.72 L2027.29 407.032 L2022.61 395.72 L2027.29 384.408 L2038.61 379.72 L2049.92 384.408 L2054.61 395.72 L2049.92 407.032 Z\" fill=\"#009af9\" fill-rule=\"evenodd\" fill-opacity=\"1\" stroke=\"#000000\" stroke-opacity=\"1\" stroke-width=\"3.2\"/>\n<path clip-path=\"url(#clip6002)\" d=\"M2064.19 622.876 L2052.88 618.188 L2048.19 606.876 L2052.88 595.564 L2064.19 590.876 L2075.5 595.564 L2080.19 606.876 L2075.5 618.188 Z\" fill=\"#009af9\" fill-rule=\"evenodd\" fill-opacity=\"1\" stroke=\"#000000\" stroke-opacity=\"1\" stroke-width=\"3.2\"/>\n<path clip-path=\"url(#clip6002)\" d=\"M2089.77 778.205 L2078.46 773.517 L2073.77 762.205 L2078.46 750.893 L2089.77 746.205 L2101.08 750.893 L2105.77 762.205 L2101.08 773.517 Z\" fill=\"#009af9\" fill-rule=\"evenodd\" fill-opacity=\"1\" stroke=\"#000000\" stroke-opacity=\"1\" stroke-width=\"3.2\"/>\n<path clip-path=\"url(#clip6002)\" d=\"M2115.35 898.899 L2104.04 894.211 L2099.35 882.899 L2104.04 871.587 L2115.35 866.899 L2126.67 871.587 L2131.35 882.899 L2126.67 894.211 Z\" fill=\"#009af9\" fill-rule=\"evenodd\" fill-opacity=\"1\" stroke=\"#000000\" stroke-opacity=\"1\" stroke-width=\"3.2\"/>\n<path clip-path=\"url(#clip6002)\" d=\"M2140.94 898.899 L2129.62 894.211 L2124.94 882.899 L2129.62 871.587 L2140.94 866.899 L2152.25 871.587 L2156.94 882.899 L2152.25 894.211 Z\" fill=\"#009af9\" fill-rule=\"evenodd\" fill-opacity=\"1\" stroke=\"#000000\" stroke-opacity=\"1\" stroke-width=\"3.2\"/>\n<path clip-path=\"url(#clip6002)\" d=\"M2166.52 925.1 L2155.21 920.412 L2150.52 909.1 L2155.21 897.788 L2166.52 893.1 L2177.83 897.788 L2182.52 909.1 L2177.83 920.412 Z\" fill=\"#009af9\" fill-rule=\"evenodd\" fill-opacity=\"1\" stroke=\"#000000\" stroke-opacity=\"1\" stroke-width=\"3.2\"/>\n<path clip-path=\"url(#clip6002)\" d=\"M2192.1 651.879 L2180.79 647.191 L2176.1 635.879 L2180.79 624.567 L2192.1 619.879 L2203.41 624.567 L2208.1 635.879 L2203.41 647.191 Z\" fill=\"#009af9\" fill-rule=\"evenodd\" fill-opacity=\"1\" stroke=\"#000000\" stroke-opacity=\"1\" stroke-width=\"3.2\"/>\n<path clip-path=\"url(#clip6002)\" d=\"M2217.68 778.205 L2206.37 773.517 L2201.68 762.205 L2206.37 750.893 L2217.68 746.205 L2228.99 750.893 L2233.68 762.205 L2228.99 773.517 Z\" fill=\"#009af9\" fill-rule=\"evenodd\" fill-opacity=\"1\" stroke=\"#000000\" stroke-opacity=\"1\" stroke-width=\"3.2\"/>\n<path clip-path=\"url(#clip6002)\" d=\"M2294.43 1404.71 L2283.12 1400.03 L2278.43 1388.71 L2283.12 1377.4 L2294.43 1372.71 L2305.74 1377.4 L2310.43 1388.71 L2305.74 1400.03 Z\" fill=\"#009af9\" fill-rule=\"evenodd\" fill-opacity=\"1\" stroke=\"#000000\" stroke-opacity=\"1\" stroke-width=\"3.2\"/>\n<path clip-path=\"url(#clip6000)\" d=\"\nM363.853 326.155 L879.419 326.155 L879.419 205.195 L363.853 205.195  Z\n  \" fill=\"#ffffff\" fill-rule=\"evenodd\" fill-opacity=\"1\"/>\n<polyline clip-path=\"url(#clip6000)\" style=\"stroke:#000000; stroke-width:4; stroke-opacity:1; fill:none\" points=\"\n  363.853,326.155 879.419,326.155 879.419,205.195 363.853,205.195 363.853,326.155 \n  \"/>\n<polyline clip-path=\"url(#clip6000)\" style=\"stroke:#009af9; stroke-width:4; stroke-opacity:1; fill:none\" points=\"\n  387.853,265.675 531.853,265.675 \n  \"/>\n<path clip-path=\"url(#clip6000)\" d=\"M471.853 289.675 L454.885 282.643 L447.853 265.675 L454.885 248.707 L471.853 241.675 L488.821 248.707 L495.853 265.675 L488.821 282.643 Z\" fill=\"#009af9\" fill-rule=\"evenodd\" fill-opacity=\"1\" stroke=\"#000000\" stroke-opacity=\"1\" stroke-width=\"3.2\"/>\n<g clip-path=\"url(#clip6000)\">\n<text style=\"fill:#000000; fill-opacity:1; font-family:Arial,Helvetica Neue,Helvetica,sans-serif; font-size:48px; text-anchor:start;\" transform=\"rotate(0, 555.853, 283.175)\" x=\"555.853\" y=\"283.175\">Saudi Arabia</text>\n</g>\n</svg>\n"
               },
               "type": "node"
              }
             ],
             "instanceArgs": {
              "namespace": "html",
              "tag": "div"
             },
             "nodeType": "DOM",
             "props": {
              "className": "interact-flex-row interact-widget"
             },
             "type": "node"
            }
           }
          },
          "systemjs_options": null
         },
         "nodeType": "Scope",
         "props": {},
         "type": "node"
        }
       ],
       "instanceArgs": {
        "namespace": "html",
        "tag": "div"
       },
       "nodeType": "DOM",
       "props": {},
       "type": "node"
      },
      "text/html": [
       "<div\n",
       "    class=\"webio-mountpoint\"\n",
       "    data-webio-mountpoint=\"11401610555195151901\"\n",
       ">\n",
       "    <script>\n",
       "    if (window.require && require.defined && require.defined(\"nbextensions/webio-jupyter-notebook\")) {\n",
       "        console.log(\"Jupyter WebIO extension detected, not mounting.\");\n",
       "    } else if (window.WebIO) {\n",
       "        WebIO.mount(\n",
       "            document.querySelector('[data-webio-mountpoint=\"11401610555195151901\"]'),\n",
       "            {\"props\":{},\"nodeType\":\"DOM\",\"type\":\"node\",\"instanceArgs\":{\"namespace\":\"html\",\"tag\":\"div\"},\"children\":[{\"props\":{\"className\":\"field interact-widget\"},\"nodeType\":\"DOM\",\"type\":\"node\",\"instanceArgs\":{\"namespace\":\"html\",\"tag\":\"div\"},\"children\":[{\"props\":{},\"nodeType\":\"Scope\",\"type\":\"node\",\"instanceArgs\":{\"imports\":{\"data\":[{\"name\":\"knockout\",\"type\":\"js\",\"url\":\"\\/assetserver\\/e30804d580242ff490836fea138ed12dab987650-knockout.js\"},{\"name\":\"knockout_punches\",\"type\":\"js\",\"url\":\"\\/assetserver\\/3b050a7a6e0183134ddf7d37e9900e424ee82b96-knockout_punches.js\"},{\"name\":null,\"type\":\"js\",\"url\":\"\\/assetserver\\/72820b874a45543a799a471aa05eefa33c06bf5a-all.js\"},{\"name\":null,\"type\":\"css\",\"url\":\"\\/assetserver\\/e7517b5a7de555d89430fc976892a64cbe24a2bc-style.css\"},{\"name\":null,\"type\":\"css\",\"url\":\"\\/assetserver\\/8371af573dfc972c716f005fa6460852db032b9c-bulma_confined.min.css\"}],\"type\":\"async_block\"},\"id\":\"231332520099782488\",\"handlers\":{\"changes\":[\"(function (val){return (val!=this.model[\\\"changes\\\"]()) ? (this.valueFromJulia[\\\"changes\\\"]=true, this.model[\\\"changes\\\"](val)) : undefined})\"],\"index\":[\"(function (val){return (val!=this.model[\\\"index\\\"]()) ? (this.valueFromJulia[\\\"index\\\"]=true, this.model[\\\"index\\\"](val)) : undefined})\"]},\"systemjs_options\":null,\"mount_callbacks\":[\"function () {\\n    var handler = (function (ko, koPunches) {\\n    ko.punches.enableAll();\\n    ko.bindingHandlers.numericValue = {\\n        init: function(element, valueAccessor, allBindings, data, context) {\\n            var stringified = ko.observable(ko.unwrap(valueAccessor()));\\n            stringified.subscribe(function(value) {\\n                var val = parseFloat(value);\\n                if (!isNaN(val)) {\\n                    valueAccessor()(val);\\n                }\\n            });\\n            valueAccessor().subscribe(function(value) {\\n                var str = JSON.stringify(value);\\n                if ((str == \\\"0\\\") && ([\\\"-0\\\", \\\"-0.\\\"].indexOf(stringified()) >= 0))\\n                     return;\\n                 if ([\\\"null\\\", \\\"\\\"].indexOf(str) >= 0)\\n                     return;\\n                stringified(str);\\n            });\\n            ko.applyBindingsToNode(\\n                element,\\n                {\\n                    value: stringified,\\n                    valueUpdate: allBindings.get('valueUpdate'),\\n                },\\n                context,\\n            );\\n        }\\n    };\\n    var json_data = {\\\"formatted_vals\\\":[\\\"1\\\",\\\"2\\\",\\\"3\\\",\\\"4\\\",\\\"5\\\",\\\"6\\\",\\\"7\\\",\\\"8\\\",\\\"9\\\",\\\"10\\\",\\\"11\\\",\\\"12\\\",\\\"13\\\",\\\"14\\\",\\\"15\\\",\\\"16\\\",\\\"17\\\",\\\"18\\\",\\\"19\\\",\\\"20\\\",\\\"21\\\",\\\"22\\\",\\\"23\\\",\\\"24\\\",\\\"25\\\",\\\"26\\\",\\\"27\\\",\\\"28\\\",\\\"29\\\",\\\"30\\\",\\\"31\\\",\\\"32\\\",\\\"33\\\",\\\"34\\\",\\\"35\\\",\\\"36\\\",\\\"37\\\",\\\"38\\\",\\\"39\\\",\\\"40\\\",\\\"41\\\",\\\"42\\\",\\\"43\\\",\\\"44\\\",\\\"45\\\",\\\"46\\\",\\\"47\\\",\\\"48\\\",\\\"49\\\",\\\"50\\\",\\\"51\\\",\\\"52\\\",\\\"53\\\",\\\"54\\\",\\\"55\\\",\\\"56\\\",\\\"57\\\",\\\"58\\\",\\\"59\\\",\\\"60\\\",\\\"61\\\",\\\"62\\\",\\\"63\\\",\\\"64\\\",\\\"65\\\",\\\"66\\\",\\\"67\\\",\\\"68\\\",\\\"69\\\",\\\"70\\\",\\\"71\\\",\\\"72\\\",\\\"73\\\",\\\"74\\\",\\\"75\\\",\\\"76\\\",\\\"77\\\",\\\"78\\\",\\\"79\\\",\\\"80\\\",\\\"81\\\",\\\"82\\\",\\\"83\\\",\\\"84\\\",\\\"85\\\",\\\"86\\\",\\\"87\\\",\\\"88\\\",\\\"89\\\",\\\"90\\\",\\\"91\\\",\\\"92\\\",\\\"93\\\",\\\"94\\\",\\\"95\\\",\\\"96\\\",\\\"97\\\",\\\"98\\\",\\\"99\\\",\\\"100\\\",\\\"101\\\",\\\"102\\\",\\\"103\\\",\\\"104\\\",\\\"105\\\",\\\"106\\\",\\\"107\\\",\\\"108\\\",\\\"109\\\",\\\"110\\\",\\\"111\\\",\\\"112\\\",\\\"113\\\",\\\"114\\\",\\\"115\\\",\\\"116\\\",\\\"117\\\",\\\"118\\\",\\\"119\\\",\\\"120\\\",\\\"121\\\",\\\"122\\\",\\\"123\\\",\\\"124\\\",\\\"125\\\",\\\"126\\\",\\\"127\\\",\\\"128\\\",\\\"129\\\",\\\"130\\\",\\\"131\\\",\\\"132\\\",\\\"133\\\",\\\"134\\\",\\\"135\\\",\\\"136\\\",\\\"137\\\",\\\"138\\\",\\\"139\\\",\\\"140\\\",\\\"141\\\",\\\"142\\\",\\\"143\\\",\\\"144\\\",\\\"145\\\",\\\"146\\\",\\\"147\\\",\\\"148\\\",\\\"149\\\",\\\"150\\\",\\\"151\\\",\\\"152\\\",\\\"153\\\",\\\"154\\\"],\\\"changes\\\":WebIO.getval({\\\"name\\\":\\\"changes\\\",\\\"scope\\\":\\\"231332520099782488\\\",\\\"id\\\":\\\"ob_18\\\",\\\"type\\\":\\\"observable\\\"}),\\\"index\\\":WebIO.getval({\\\"name\\\":\\\"index\\\",\\\"scope\\\":\\\"231332520099782488\\\",\\\"id\\\":\\\"ob_17\\\",\\\"type\\\":\\\"observable\\\"})};\\n    var self = this;\\n    function AppViewModel() {\\n        for (var key in json_data) {\\n            var el = json_data[key];\\n            this[key] = Array.isArray(el) ? ko.observableArray(el) : ko.observable(el);\\n        }\\n        \\n        [this[\\\"formatted_val\\\"]=ko.computed(    function(){\\n        return this.formatted_vals()[parseInt(this.index())-(1)];\\n    }\\n,this)]\\n        [this[\\\"changes\\\"].subscribe((function (val){!(this.valueFromJulia[\\\"changes\\\"]) ? (WebIO.setval({\\\"name\\\":\\\"changes\\\",\\\"scope\\\":\\\"231332520099782488\\\",\\\"id\\\":\\\"ob_18\\\",\\\"type\\\":\\\"observable\\\"},val)) : undefined; return this.valueFromJulia[\\\"changes\\\"]=false}),self),this[\\\"index\\\"].subscribe((function (val){!(this.valueFromJulia[\\\"index\\\"]) ? (WebIO.setval({\\\"name\\\":\\\"index\\\",\\\"scope\\\":\\\"231332520099782488\\\",\\\"id\\\":\\\"ob_17\\\",\\\"type\\\":\\\"observable\\\"},val)) : undefined; return this.valueFromJulia[\\\"index\\\"]=false}),self)]\\n        \\n    }\\n    self.model = new AppViewModel();\\n    self.valueFromJulia = {};\\n    for (var key in json_data) {\\n        self.valueFromJulia[key] = false;\\n    }\\n    ko.applyBindings(self.model, self.dom);\\n}\\n);\\n    (WebIO.importBlock({\\\"data\\\":[{\\\"name\\\":\\\"knockout\\\",\\\"type\\\":\\\"js\\\",\\\"url\\\":\\\"\\/assetserver\\/e30804d580242ff490836fea138ed12dab987650-knockout.js\\\"},{\\\"name\\\":\\\"knockout_punches\\\",\\\"type\\\":\\\"js\\\",\\\"url\\\":\\\"\\/assetserver\\/3b050a7a6e0183134ddf7d37e9900e424ee82b96-knockout_punches.js\\\"}],\\\"type\\\":\\\"async_block\\\"})).then((imports) => handler.apply(this, imports));\\n}\\n\"],\"observables\":{\"changes\":{\"sync\":false,\"id\":\"ob_18\",\"value\":0},\"index\":{\"sync\":true,\"id\":\"ob_17\",\"value\":77}}},\"children\":[{\"props\":{\"className\":\"interact-flex-row interact-widget\"},\"nodeType\":\"DOM\",\"type\":\"node\",\"instanceArgs\":{\"namespace\":\"html\",\"tag\":\"div\"},\"children\":[{\"props\":{\"className\":\"interact-flex-row-left\"},\"nodeType\":\"DOM\",\"type\":\"node\",\"instanceArgs\":{\"namespace\":\"html\",\"tag\":\"div\"},\"children\":[{\"props\":{\"className\":\"interact \",\"style\":{\"padding\":\"5px 10px 0px 10px\"}},\"nodeType\":\"DOM\",\"type\":\"node\",\"instanceArgs\":{\"namespace\":\"html\",\"tag\":\"label\"},\"children\":[\"day\"]}]},{\"props\":{\"className\":\"interact-flex-row-center\"},\"nodeType\":\"DOM\",\"type\":\"node\",\"instanceArgs\":{\"namespace\":\"html\",\"tag\":\"div\"},\"children\":[{\"props\":{\"max\":154,\"min\":1,\"attributes\":{\"type\":\"range\",\"data-bind\":\"numericValue: index, valueUpdate: 'input', event: {change: function (){this.changes(this.changes()+1)}}\",\"orient\":\"horizontal\"},\"step\":1,\"className\":\"slider slider is-fullwidth\",\"style\":{}},\"nodeType\":\"DOM\",\"type\":\"node\",\"instanceArgs\":{\"namespace\":\"html\",\"tag\":\"input\"},\"children\":[]}]},{\"props\":{\"className\":\"interact-flex-row-right\"},\"nodeType\":\"DOM\",\"type\":\"node\",\"instanceArgs\":{\"namespace\":\"html\",\"tag\":\"div\"},\"children\":[{\"props\":{\"attributes\":{\"data-bind\":\"text: formatted_val\"}},\"nodeType\":\"DOM\",\"type\":\"node\",\"instanceArgs\":{\"namespace\":\"html\",\"tag\":\"p\"},\"children\":[]}]}]}]}]},{\"props\":{},\"nodeType\":\"Scope\",\"type\":\"node\",\"instanceArgs\":{\"imports\":{\"data\":[],\"type\":\"async_block\"},\"id\":\"2700892100990242517\",\"handlers\":{},\"systemjs_options\":null,\"mount_callbacks\":[],\"observables\":{\"obs-node\":{\"sync\":false,\"id\":\"ob_22\",\"value\":{\"props\":{\"className\":\"interact-flex-row interact-widget\"},\"nodeType\":\"DOM\",\"type\":\"node\",\"instanceArgs\":{\"namespace\":\"html\",\"tag\":\"div\"},\"children\":[{\"props\":{\"setInnerHtml\":\"<?xml version=\\\"1.0\\\" encoding=\\\"utf-8\\\"?>\\n<svg xmlns=\\\"http:\\/\\/www.w3.org\\/2000\\/svg\\\" xmlns:xlink=\\\"http:\\/\\/www.w3.org\\/1999\\/xlink\\\" width=\\\"600\\\" height=\\\"400\\\" viewBox=\\\"0 0 2400 1600\\\">\\n<defs>\\n  <clipPath id=\\\"clip5600\\\">\\n    <rect x=\\\"0\\\" y=\\\"0\\\" width=\\\"2400\\\" height=\\\"1600\\\"\\/>\\n  <\\/clipPath>\\n<\\/defs>\\n<path clip-path=\\\"url(#clip5600)\\\" d=\\\"\\nM0 1600 L2400 1600 L2400 0 L0 0  Z\\n  \\\" fill=\\\"#ffffff\\\" fill-rule=\\\"evenodd\\\" fill-opacity=\\\"1\\\"\\/>\\n<defs>\\n  <clipPath id=\\\"clip5601\\\">\\n    <rect x=\\\"480\\\" y=\\\"0\\\" width=\\\"1681\\\" height=\\\"1600\\\"\\/>\\n  <\\/clipPath>\\n<\\/defs>\\n<path clip-path=\\\"url(#clip5600)\\\" d=\\\"\\nM291.853 1425.62 L2352.76 1425.62 L2352.76 121.675 L291.853 121.675  Z\\n  \\\" fill=\\\"#ffffff\\\" fill-rule=\\\"evenodd\\\" fill-opacity=\\\"1\\\"\\/>\\n<defs>\\n  <clipPath id=\\\"clip5602\\\">\\n    <rect x=\\\"291\\\" y=\\\"121\\\" width=\\\"2062\\\" height=\\\"1305\\\"\\/>\\n  <\\/clipPath>\\n<\\/defs>\\n<polyline clip-path=\\\"url(#clip5602)\\\" style=\\\"stroke:#000000; stroke-width:2; stroke-opacity:0.1; fill:none\\\" points=\\\"\\n  401.345,1425.62 401.345,121.675 \\n  \\\"\\/>\\n<polyline clip-path=\\\"url(#clip5602)\\\" style=\\\"stroke:#000000; stroke-width:2; stroke-opacity:0.1; fill:none\\\" points=\\\"\\n  1194.39,1425.62 1194.39,121.675 \\n  \\\"\\/>\\n<polyline clip-path=\\\"url(#clip5602)\\\" style=\\\"stroke:#000000; stroke-width:2; stroke-opacity:0.1; fill:none\\\" points=\\\"\\n  1936.28,1425.62 1936.28,121.675 \\n  \\\"\\/>\\n<polyline clip-path=\\\"url(#clip5602)\\\" style=\\\"stroke:#000000; stroke-width:2; stroke-opacity:0.1; fill:none\\\" points=\\\"\\n  291.853,1390.86 2352.76,1390.86 \\n  \\\"\\/>\\n<polyline clip-path=\\\"url(#clip5602)\\\" style=\\\"stroke:#000000; stroke-width:2; stroke-opacity:0.1; fill:none\\\" points=\\\"\\n  291.853,1182.74 2352.76,1182.74 \\n  \\\"\\/>\\n<polyline clip-path=\\\"url(#clip5602)\\\" style=\\\"stroke:#000000; stroke-width:2; stroke-opacity:0.1; fill:none\\\" points=\\\"\\n  291.853,974.614 2352.76,974.614 \\n  \\\"\\/>\\n<polyline clip-path=\\\"url(#clip5602)\\\" style=\\\"stroke:#000000; stroke-width:2; stroke-opacity:0.1; fill:none\\\" points=\\\"\\n  291.853,766.492 2352.76,766.492 \\n  \\\"\\/>\\n<polyline clip-path=\\\"url(#clip5602)\\\" style=\\\"stroke:#000000; stroke-width:2; stroke-opacity:0.1; fill:none\\\" points=\\\"\\n  291.853,558.37 2352.76,558.37 \\n  \\\"\\/>\\n<polyline clip-path=\\\"url(#clip5602)\\\" style=\\\"stroke:#000000; stroke-width:2; stroke-opacity:0.1; fill:none\\\" points=\\\"\\n  291.853,350.248 2352.76,350.248 \\n  \\\"\\/>\\n<polyline clip-path=\\\"url(#clip5602)\\\" style=\\\"stroke:#000000; stroke-width:2; stroke-opacity:0.1; fill:none\\\" points=\\\"\\n  291.853,142.126 2352.76,142.126 \\n  \\\"\\/>\\n<polyline clip-path=\\\"url(#clip5600)\\\" style=\\\"stroke:#000000; stroke-width:4; stroke-opacity:1; fill:none\\\" points=\\\"\\n  291.853,1425.62 2352.76,1425.62 \\n  \\\"\\/>\\n<polyline clip-path=\\\"url(#clip5600)\\\" style=\\\"stroke:#000000; stroke-width:4; stroke-opacity:1; fill:none\\\" points=\\\"\\n  291.853,1425.62 291.853,121.675 \\n  \\\"\\/>\\n<polyline clip-path=\\\"url(#clip5600)\\\" style=\\\"stroke:#000000; stroke-width:4; stroke-opacity:1; fill:none\\\" points=\\\"\\n  401.345,1425.62 401.345,1409.97 \\n  \\\"\\/>\\n<polyline clip-path=\\\"url(#clip5600)\\\" style=\\\"stroke:#000000; stroke-width:4; stroke-opacity:1; fill:none\\\" points=\\\"\\n  1194.39,1425.62 1194.39,1409.97 \\n  \\\"\\/>\\n<polyline clip-path=\\\"url(#clip5600)\\\" style=\\\"stroke:#000000; stroke-width:4; stroke-opacity:1; fill:none\\\" points=\\\"\\n  1936.28,1425.62 1936.28,1409.97 \\n  \\\"\\/>\\n<polyline clip-path=\\\"url(#clip5600)\\\" style=\\\"stroke:#000000; stroke-width:4; stroke-opacity:1; fill:none\\\" points=\\\"\\n  291.853,1390.86 316.584,1390.86 \\n  \\\"\\/>\\n<polyline clip-path=\\\"url(#clip5600)\\\" style=\\\"stroke:#000000; stroke-width:4; stroke-opacity:1; fill:none\\\" points=\\\"\\n  291.853,1182.74 316.584,1182.74 \\n  \\\"\\/>\\n<polyline clip-path=\\\"url(#clip5600)\\\" style=\\\"stroke:#000000; stroke-width:4; stroke-opacity:1; fill:none\\\" points=\\\"\\n  291.853,974.614 316.584,974.614 \\n  \\\"\\/>\\n<polyline clip-path=\\\"url(#clip5600)\\\" style=\\\"stroke:#000000; stroke-width:4; stroke-opacity:1; fill:none\\\" points=\\\"\\n  291.853,766.492 316.584,766.492 \\n  \\\"\\/>\\n<polyline clip-path=\\\"url(#clip5600)\\\" style=\\\"stroke:#000000; stroke-width:4; stroke-opacity:1; fill:none\\\" points=\\\"\\n  291.853,558.37 316.584,558.37 \\n  \\\"\\/>\\n<polyline clip-path=\\\"url(#clip5600)\\\" style=\\\"stroke:#000000; stroke-width:4; stroke-opacity:1; fill:none\\\" points=\\\"\\n  291.853,350.248 316.584,350.248 \\n  \\\"\\/>\\n<polyline clip-path=\\\"url(#clip5600)\\\" style=\\\"stroke:#000000; stroke-width:4; stroke-opacity:1; fill:none\\\" points=\\\"\\n  291.853,142.126 316.584,142.126 \\n  \\\"\\/>\\n<g clip-path=\\\"url(#clip5600)\\\">\\n<text style=\\\"fill:#000000; fill-opacity:1; font-family:Arial,Helvetica Neue,Helvetica,sans-serif; font-size:48px; text-anchor:middle;\\\" transform=\\\"rotate(0, 401.345, 1479.62)\\\" x=\\\"401.345\\\" y=\\\"1479.62\\\">2020-01-01<\\/text>\\n<\\/g>\\n<g clip-path=\\\"url(#clip5600)\\\">\\n<text style=\\\"fill:#000000; fill-opacity:1; font-family:Arial,Helvetica Neue,Helvetica,sans-serif; font-size:48px; text-anchor:middle;\\\" transform=\\\"rotate(0, 1194.39, 1479.62)\\\" x=\\\"1194.39\\\" y=\\\"1479.62\\\">2020-02-01<\\/text>\\n<\\/g>\\n<g clip-path=\\\"url(#clip5600)\\\">\\n<text style=\\\"fill:#000000; fill-opacity:1; font-family:Arial,Helvetica Neue,Helvetica,sans-serif; font-size:48px; text-anchor:middle;\\\" transform=\\\"rotate(0, 1936.28, 1479.62)\\\" x=\\\"1936.28\\\" y=\\\"1479.62\\\">2020-03-01<\\/text>\\n<\\/g>\\n<g clip-path=\\\"url(#clip5600)\\\">\\n<text style=\\\"fill:#000000; fill-opacity:1; font-family:Arial,Helvetica Neue,Helvetica,sans-serif; font-size:48px; text-anchor:start;\\\" transform=\\\"rotate(0, 159.968, 1414.59)\\\" x=\\\"159.968\\\" y=\\\"1414.59\\\">10<\\/text>\\n<\\/g>\\n<g clip-path=\\\"url(#clip5600)\\\">\\n<text style=\\\"fill:#000000; fill-opacity:1; font-family:Arial,Helvetica Neue,Helvetica,sans-serif; font-size:38px; text-anchor:start;\\\" transform=\\\"rotate(0, 213.492, 1387.18)\\\" x=\\\"213.492\\\" y=\\\"1387.18\\\">0.3<\\/text>\\n<\\/g>\\n<g clip-path=\\\"url(#clip5600)\\\">\\n<text style=\\\"fill:#000000; fill-opacity:1; font-family:Arial,Helvetica Neue,Helvetica,sans-serif; font-size:48px; text-anchor:start;\\\" transform=\\\"rotate(0, 159.968, 1206.46)\\\" x=\\\"159.968\\\" y=\\\"1206.46\\\">10<\\/text>\\n<\\/g>\\n<g clip-path=\\\"url(#clip5600)\\\">\\n<text style=\\\"fill:#000000; fill-opacity:1; font-family:Arial,Helvetica Neue,Helvetica,sans-serif; font-size:38px; text-anchor:start;\\\" transform=\\\"rotate(0, 213.492, 1179.05)\\\" x=\\\"213.492\\\" y=\\\"1179.05\\\">0.4<\\/text>\\n<\\/g>\\n<g clip-path=\\\"url(#clip5600)\\\">\\n<text style=\\\"fill:#000000; fill-opacity:1; font-family:Arial,Helvetica Neue,Helvetica,sans-serif; font-size:48px; text-anchor:start;\\\" transform=\\\"rotate(0, 159.968, 998.342)\\\" x=\\\"159.968\\\" y=\\\"998.342\\\">10<\\/text>\\n<\\/g>\\n<g clip-path=\\\"url(#clip5600)\\\">\\n<text style=\\\"fill:#000000; fill-opacity:1; font-family:Arial,Helvetica Neue,Helvetica,sans-serif; font-size:38px; text-anchor:start;\\\" transform=\\\"rotate(0, 213.492, 970.931)\\\" x=\\\"213.492\\\" y=\\\"970.931\\\">0.5<\\/text>\\n<\\/g>\\n<g clip-path=\\\"url(#clip5600)\\\">\\n<text style=\\\"fill:#000000; fill-opacity:1; font-family:Arial,Helvetica Neue,Helvetica,sans-serif; font-size:48px; text-anchor:start;\\\" transform=\\\"rotate(0, 159.968, 790.22)\\\" x=\\\"159.968\\\" y=\\\"790.22\\\">10<\\/text>\\n<\\/g>\\n<g clip-path=\\\"url(#clip5600)\\\">\\n<text style=\\\"fill:#000000; fill-opacity:1; font-family:Arial,Helvetica Neue,Helvetica,sans-serif; font-size:38px; text-anchor:start;\\\" transform=\\\"rotate(0, 213.492, 762.809)\\\" x=\\\"213.492\\\" y=\\\"762.809\\\">0.6<\\/text>\\n<\\/g>\\n<g clip-path=\\\"url(#clip5600)\\\">\\n<text style=\\\"fill:#000000; fill-opacity:1; font-family:Arial,Helvetica Neue,Helvetica,sans-serif; font-size:48px; text-anchor:start;\\\" transform=\\\"rotate(0, 159.968, 582.098)\\\" x=\\\"159.968\\\" y=\\\"582.098\\\">10<\\/text>\\n<\\/g>\\n<g clip-path=\\\"url(#clip5600)\\\">\\n<text style=\\\"fill:#000000; fill-opacity:1; font-family:Arial,Helvetica Neue,Helvetica,sans-serif; font-size:38px; text-anchor:start;\\\" transform=\\\"rotate(0, 213.492, 554.687)\\\" x=\\\"213.492\\\" y=\\\"554.687\\\">0.7<\\/text>\\n<\\/g>\\n<g clip-path=\\\"url(#clip5600)\\\">\\n<text style=\\\"fill:#000000; fill-opacity:1; font-family:Arial,Helvetica Neue,Helvetica,sans-serif; font-size:48px; text-anchor:start;\\\" transform=\\\"rotate(0, 159.968, 373.976)\\\" x=\\\"159.968\\\" y=\\\"373.976\\\">10<\\/text>\\n<\\/g>\\n<g clip-path=\\\"url(#clip5600)\\\">\\n<text style=\\\"fill:#000000; fill-opacity:1; font-family:Arial,Helvetica Neue,Helvetica,sans-serif; font-size:38px; text-anchor:start;\\\" transform=\\\"rotate(0, 213.492, 346.566)\\\" x=\\\"213.492\\\" y=\\\"346.566\\\">0.8<\\/text>\\n<\\/g>\\n<g clip-path=\\\"url(#clip5600)\\\">\\n<text style=\\\"fill:#000000; fill-opacity:1; font-family:Arial,Helvetica Neue,Helvetica,sans-serif; font-size:48px; text-anchor:start;\\\" transform=\\\"rotate(0, 159.968, 165.854)\\\" x=\\\"159.968\\\" y=\\\"165.854\\\">10<\\/text>\\n<\\/g>\\n<g clip-path=\\\"url(#clip5600)\\\">\\n<text style=\\\"fill:#000000; fill-opacity:1; font-family:Arial,Helvetica Neue,Helvetica,sans-serif; font-size:38px; text-anchor:start;\\\" transform=\\\"rotate(0, 213.492, 138.444)\\\" x=\\\"213.492\\\" y=\\\"138.444\\\">0.9<\\/text>\\n<\\/g>\\n<g clip-path=\\\"url(#clip5600)\\\">\\n<text style=\\\"fill:#000000; fill-opacity:1; font-family:Arial,Helvetica Neue,Helvetica,sans-serif; font-size:84px; text-anchor:middle;\\\" transform=\\\"rotate(0, 1322.3, 73.2)\\\" x=\\\"1322.3\\\" y=\\\"73.2\\\">Pollution<\\/text>\\n<\\/g>\\n<g clip-path=\\\"url(#clip5600)\\\">\\n<text style=\\\"fill:#000000; fill-opacity:1; font-family:Arial,Helvetica Neue,Helvetica,sans-serif; font-size:66px; text-anchor:middle;\\\" transform=\\\"rotate(0, 1322.3, 1559.48)\\\" x=\\\"1322.3\\\" y=\\\"1559.48\\\">Date<\\/text>\\n<\\/g>\\n<g clip-path=\\\"url(#clip5600)\\\">\\n<text style=\\\"fill:#000000; fill-opacity:1; font-family:Arial,Helvetica Neue,Helvetica,sans-serif; font-size:66px; text-anchor:middle;\\\" transform=\\\"rotate(-90, 89.2861, 773.647)\\\" x=\\\"89.2861\\\" y=\\\"773.647\\\">No2 Concentration<\\/text>\\n<\\/g>\\n<polyline clip-path=\\\"url(#clip5602)\\\" style=\\\"stroke:#009af9; stroke-width:4; stroke-opacity:1; fill:none\\\" points=\\\"\\n  350.181,502.745 375.763,421.7 401.345,158.579 426.928,434.188 \\n  \\\"\\/>\\n<polyline clip-path=\\\"url(#clip5602)\\\" style=\\\"stroke:#009af9; stroke-width:4; stroke-opacity:1; fill:none\\\" points=\\\"\\n  478.092,426.363 503.674,801.459 529.256,597.411 554.839,560.514 580.421,256.389 606.003,525.064 631.585,690.553 657.167,840.03 682.75,762.205 708.332,395.72 \\n  733.914,224.672 759.496,224.672 785.078,474.367 810.661,282.59 836.243,718.105 861.825,655.745 887.407,655.745 912.989,669.916 938.572,1084.59 964.154,1302.57 \\n  \\n  \\\"\\/>\\n<polyline clip-path=\\\"url(#clip5602)\\\" style=\\\"stroke:#009af9; stroke-width:4; stroke-opacity:1; fill:none\\\" points=\\\"\\n  1092.06,882.899 1117.65,830.232 1143.23,707.409 1168.81,655.745 1194.39,606.876 1219.98,1114.12 1245.56,808.567 1271.14,718.105 1296.72,808.567 1322.3,1022.23 \\n  1347.89,635.879 1373.47,808.567 1399.05,808.567 1424.63,963.896 1450.22,1302.57 1475.8,1388.71 1501.38,1151.57 1526.96,525.064 1552.54,597.411 1578.13,560.514 \\n  1603.71,963.896 1629.29,1022.23 1654.87,963.896 1680.46,1022.23 1706.04,1223.92 1731.62,963.896 \\n  \\\"\\/>\\n<polyline clip-path=\\\"url(#clip5602)\\\" style=\\\"stroke:#009af9; stroke-width:4; stroke-opacity:1; fill:none\\\" points=\\\"\\n  1782.78,909.1 1808.37,963.896 1833.95,707.409 1859.53,762.205 \\n  \\\"\\/>\\n<polyline clip-path=\\\"url(#clip5602)\\\" style=\\\"stroke:#009af9; stroke-width:4; stroke-opacity:1; fill:none\\\" points=\\\"\\n  1910.7,516.414 1936.28,560.514 1961.86,622.229 \\n  \\\"\\/>\\n<polyline clip-path=\\\"url(#clip5602)\\\" style=\\\"stroke:#009af9; stroke-width:4; stroke-opacity:1; fill:none\\\" points=\\\"\\n  2013.02,502.745 2038.61,395.72 2064.19,606.876 2089.77,762.205 2115.35,882.899 2140.94,882.899 2166.52,909.1 2192.1,635.879 2217.68,762.205 \\n  \\\"\\/>\\n<path clip-path=\\\"url(#clip5602)\\\" d=\\\"M350.181 518.745 L338.869 514.057 L334.181 502.745 L338.869 491.433 L350.181 486.745 L361.493 491.433 L366.181 502.745 L361.493 514.057 Z\\\" fill=\\\"#009af9\\\" fill-rule=\\\"evenodd\\\" fill-opacity=\\\"1\\\" stroke=\\\"#000000\\\" stroke-opacity=\\\"1\\\" stroke-width=\\\"3.2\\\"\\/>\\n<path clip-path=\\\"url(#clip5602)\\\" d=\\\"M375.763 437.7 L364.451 433.012 L359.763 421.7 L364.451 410.388 L375.763 405.7 L387.075 410.388 L391.763 421.7 L387.075 433.012 Z\\\" fill=\\\"#009af9\\\" fill-rule=\\\"evenodd\\\" fill-opacity=\\\"1\\\" stroke=\\\"#000000\\\" stroke-opacity=\\\"1\\\" stroke-width=\\\"3.2\\\"\\/>\\n<path clip-path=\\\"url(#clip5602)\\\" d=\\\"M401.345 174.579 L390.033 169.891 L385.345 158.579 L390.033 147.267 L401.345 142.579 L412.657 147.267 L417.345 158.579 L412.657 169.891 Z\\\" fill=\\\"#009af9\\\" fill-rule=\\\"evenodd\\\" fill-opacity=\\\"1\\\" stroke=\\\"#000000\\\" stroke-opacity=\\\"1\\\" stroke-width=\\\"3.2\\\"\\/>\\n<path clip-path=\\\"url(#clip5602)\\\" d=\\\"M426.928 450.188 L415.616 445.5 L410.928 434.188 L415.616 422.876 L426.928 418.188 L438.24 422.876 L442.928 434.188 L438.24 445.5 Z\\\" fill=\\\"#009af9\\\" fill-rule=\\\"evenodd\\\" fill-opacity=\\\"1\\\" stroke=\\\"#000000\\\" stroke-opacity=\\\"1\\\" stroke-width=\\\"3.2\\\"\\/>\\n<path clip-path=\\\"url(#clip5602)\\\" d=\\\"M478.092 442.363 L466.78 437.675 L462.092 426.363 L466.78 415.051 L478.092 410.363 L489.404 415.051 L494.092 426.363 L489.404 437.675 Z\\\" fill=\\\"#009af9\\\" fill-rule=\\\"evenodd\\\" fill-opacity=\\\"1\\\" stroke=\\\"#000000\\\" stroke-opacity=\\\"1\\\" stroke-width=\\\"3.2\\\"\\/>\\n<path clip-path=\\\"url(#clip5602)\\\" d=\\\"M503.674 817.459 L492.362 812.771 L487.674 801.459 L492.362 790.147 L503.674 785.459 L514.986 790.147 L519.674 801.459 L514.986 812.771 Z\\\" fill=\\\"#009af9\\\" fill-rule=\\\"evenodd\\\" fill-opacity=\\\"1\\\" stroke=\\\"#000000\\\" stroke-opacity=\\\"1\\\" stroke-width=\\\"3.2\\\"\\/>\\n<path clip-path=\\\"url(#clip5602)\\\" d=\\\"M529.256 613.411 L517.944 608.723 L513.256 597.411 L517.944 586.099 L529.256 581.411 L540.568 586.099 L545.256 597.411 L540.568 608.723 Z\\\" fill=\\\"#009af9\\\" fill-rule=\\\"evenodd\\\" fill-opacity=\\\"1\\\" stroke=\\\"#000000\\\" stroke-opacity=\\\"1\\\" stroke-width=\\\"3.2\\\"\\/>\\n<path clip-path=\\\"url(#clip5602)\\\" d=\\\"M554.839 576.514 L543.527 571.826 L538.839 560.514 L543.527 549.202 L554.839 544.514 L566.151 549.202 L570.839 560.514 L566.151 571.826 Z\\\" fill=\\\"#009af9\\\" fill-rule=\\\"evenodd\\\" fill-opacity=\\\"1\\\" stroke=\\\"#000000\\\" stroke-opacity=\\\"1\\\" stroke-width=\\\"3.2\\\"\\/>\\n<path clip-path=\\\"url(#clip5602)\\\" d=\\\"M580.421 272.389 L569.109 267.701 L564.421 256.389 L569.109 245.077 L580.421 240.389 L591.733 245.077 L596.421 256.389 L591.733 267.701 Z\\\" fill=\\\"#009af9\\\" fill-rule=\\\"evenodd\\\" fill-opacity=\\\"1\\\" stroke=\\\"#000000\\\" stroke-opacity=\\\"1\\\" stroke-width=\\\"3.2\\\"\\/>\\n<path clip-path=\\\"url(#clip5602)\\\" d=\\\"M606.003 541.064 L594.691 536.376 L590.003 525.064 L594.691 513.752 L606.003 509.064 L617.315 513.752 L622.003 525.064 L617.315 536.376 Z\\\" fill=\\\"#009af9\\\" fill-rule=\\\"evenodd\\\" fill-opacity=\\\"1\\\" stroke=\\\"#000000\\\" stroke-opacity=\\\"1\\\" stroke-width=\\\"3.2\\\"\\/>\\n<path clip-path=\\\"url(#clip5602)\\\" d=\\\"M631.585 706.553 L620.273 701.865 L615.585 690.553 L620.273 679.241 L631.585 674.553 L642.897 679.241 L647.585 690.553 L642.897 701.865 Z\\\" fill=\\\"#009af9\\\" fill-rule=\\\"evenodd\\\" fill-opacity=\\\"1\\\" stroke=\\\"#000000\\\" stroke-opacity=\\\"1\\\" stroke-width=\\\"3.2\\\"\\/>\\n<path clip-path=\\\"url(#clip5602)\\\" d=\\\"M657.167 856.03 L645.855 851.342 L641.167 840.03 L645.855 828.718 L657.167 824.03 L668.479 828.718 L673.167 840.03 L668.479 851.342 Z\\\" fill=\\\"#009af9\\\" fill-rule=\\\"evenodd\\\" fill-opacity=\\\"1\\\" stroke=\\\"#000000\\\" stroke-opacity=\\\"1\\\" stroke-width=\\\"3.2\\\"\\/>\\n<path clip-path=\\\"url(#clip5602)\\\" d=\\\"M682.75 778.205 L671.438 773.517 L666.75 762.205 L671.438 750.893 L682.75 746.205 L694.062 750.893 L698.75 762.205 L694.062 773.517 Z\\\" fill=\\\"#009af9\\\" fill-rule=\\\"evenodd\\\" fill-opacity=\\\"1\\\" stroke=\\\"#000000\\\" stroke-opacity=\\\"1\\\" stroke-width=\\\"3.2\\\"\\/>\\n<path clip-path=\\\"url(#clip5602)\\\" d=\\\"M708.332 411.72 L697.02 407.032 L692.332 395.72 L697.02 384.408 L708.332 379.72 L719.644 384.408 L724.332 395.72 L719.644 407.032 Z\\\" fill=\\\"#009af9\\\" fill-rule=\\\"evenodd\\\" fill-opacity=\\\"1\\\" stroke=\\\"#000000\\\" stroke-opacity=\\\"1\\\" stroke-width=\\\"3.2\\\"\\/>\\n<path clip-path=\\\"url(#clip5602)\\\" d=\\\"M733.914 240.672 L722.602 235.984 L717.914 224.672 L722.602 213.36 L733.914 208.672 L745.226 213.36 L749.914 224.672 L745.226 235.984 Z\\\" fill=\\\"#009af9\\\" fill-rule=\\\"evenodd\\\" fill-opacity=\\\"1\\\" stroke=\\\"#000000\\\" stroke-opacity=\\\"1\\\" stroke-width=\\\"3.2\\\"\\/>\\n<path clip-path=\\\"url(#clip5602)\\\" d=\\\"M759.496 240.672 L748.184 235.984 L743.496 224.672 L748.184 213.36 L759.496 208.672 L770.808 213.36 L775.496 224.672 L770.808 235.984 Z\\\" fill=\\\"#009af9\\\" fill-rule=\\\"evenodd\\\" fill-opacity=\\\"1\\\" stroke=\\\"#000000\\\" stroke-opacity=\\\"1\\\" stroke-width=\\\"3.2\\\"\\/>\\n<path clip-path=\\\"url(#clip5602)\\\" d=\\\"M785.078 490.367 L773.766 485.679 L769.078 474.367 L773.766 463.055 L785.078 458.367 L796.39 463.055 L801.078 474.367 L796.39 485.679 Z\\\" fill=\\\"#009af9\\\" fill-rule=\\\"evenodd\\\" fill-opacity=\\\"1\\\" stroke=\\\"#000000\\\" stroke-opacity=\\\"1\\\" stroke-width=\\\"3.2\\\"\\/>\\n<path clip-path=\\\"url(#clip5602)\\\" d=\\\"M810.661 298.59 L799.349 293.902 L794.661 282.59 L799.349 271.278 L810.661 266.59 L821.973 271.278 L826.661 282.59 L821.973 293.902 Z\\\" fill=\\\"#009af9\\\" fill-rule=\\\"evenodd\\\" fill-opacity=\\\"1\\\" stroke=\\\"#000000\\\" stroke-opacity=\\\"1\\\" stroke-width=\\\"3.2\\\"\\/>\\n<path clip-path=\\\"url(#clip5602)\\\" d=\\\"M836.243 734.105 L824.931 729.417 L820.243 718.105 L824.931 706.793 L836.243 702.105 L847.555 706.793 L852.243 718.105 L847.555 729.417 Z\\\" fill=\\\"#009af9\\\" fill-rule=\\\"evenodd\\\" fill-opacity=\\\"1\\\" stroke=\\\"#000000\\\" stroke-opacity=\\\"1\\\" stroke-width=\\\"3.2\\\"\\/>\\n<path clip-path=\\\"url(#clip5602)\\\" d=\\\"M861.825 671.745 L850.513 667.057 L845.825 655.745 L850.513 644.433 L861.825 639.745 L873.137 644.433 L877.825 655.745 L873.137 667.057 Z\\\" fill=\\\"#009af9\\\" fill-rule=\\\"evenodd\\\" fill-opacity=\\\"1\\\" stroke=\\\"#000000\\\" stroke-opacity=\\\"1\\\" stroke-width=\\\"3.2\\\"\\/>\\n<path clip-path=\\\"url(#clip5602)\\\" d=\\\"M887.407 671.745 L876.095 667.057 L871.407 655.745 L876.095 644.433 L887.407 639.745 L898.719 644.433 L903.407 655.745 L898.719 667.057 Z\\\" fill=\\\"#009af9\\\" fill-rule=\\\"evenodd\\\" fill-opacity=\\\"1\\\" stroke=\\\"#000000\\\" stroke-opacity=\\\"1\\\" stroke-width=\\\"3.2\\\"\\/>\\n<path clip-path=\\\"url(#clip5602)\\\" d=\\\"M912.989 685.916 L901.677 681.228 L896.989 669.916 L901.677 658.604 L912.989 653.916 L924.301 658.604 L928.989 669.916 L924.301 681.228 Z\\\" fill=\\\"#009af9\\\" fill-rule=\\\"evenodd\\\" fill-opacity=\\\"1\\\" stroke=\\\"#000000\\\" stroke-opacity=\\\"1\\\" stroke-width=\\\"3.2\\\"\\/>\\n<path clip-path=\\\"url(#clip5602)\\\" d=\\\"M938.572 1100.59 L927.26 1095.9 L922.572 1084.59 L927.26 1073.28 L938.572 1068.59 L949.884 1073.28 L954.572 1084.59 L949.884 1095.9 Z\\\" fill=\\\"#009af9\\\" fill-rule=\\\"evenodd\\\" fill-opacity=\\\"1\\\" stroke=\\\"#000000\\\" stroke-opacity=\\\"1\\\" stroke-width=\\\"3.2\\\"\\/>\\n<path clip-path=\\\"url(#clip5602)\\\" d=\\\"M964.154 1318.57 L952.842 1313.88 L948.154 1302.57 L952.842 1291.26 L964.154 1286.57 L975.466 1291.26 L980.154 1302.57 L975.466 1313.88 Z\\\" fill=\\\"#009af9\\\" fill-rule=\\\"evenodd\\\" fill-opacity=\\\"1\\\" stroke=\\\"#000000\\\" stroke-opacity=\\\"1\\\" stroke-width=\\\"3.2\\\"\\/>\\n<path clip-path=\\\"url(#clip5602)\\\" d=\\\"M1092.06 898.899 L1080.75 894.211 L1076.06 882.899 L1080.75 871.587 L1092.06 866.899 L1103.38 871.587 L1108.06 882.899 L1103.38 894.211 Z\\\" fill=\\\"#009af9\\\" fill-rule=\\\"evenodd\\\" fill-opacity=\\\"1\\\" stroke=\\\"#000000\\\" stroke-opacity=\\\"1\\\" stroke-width=\\\"3.2\\\"\\/>\\n<path clip-path=\\\"url(#clip5602)\\\" d=\\\"M1117.65 846.232 L1106.34 841.544 L1101.65 830.232 L1106.34 818.92 L1117.65 814.232 L1128.96 818.92 L1133.65 830.232 L1128.96 841.544 Z\\\" fill=\\\"#009af9\\\" fill-rule=\\\"evenodd\\\" fill-opacity=\\\"1\\\" stroke=\\\"#000000\\\" stroke-opacity=\\\"1\\\" stroke-width=\\\"3.2\\\"\\/>\\n<path clip-path=\\\"url(#clip5602)\\\" d=\\\"M1143.23 723.409 L1131.92 718.721 L1127.23 707.409 L1131.92 696.097 L1143.23 691.409 L1154.54 696.097 L1159.23 707.409 L1154.54 718.721 Z\\\" fill=\\\"#009af9\\\" fill-rule=\\\"evenodd\\\" fill-opacity=\\\"1\\\" stroke=\\\"#000000\\\" stroke-opacity=\\\"1\\\" stroke-width=\\\"3.2\\\"\\/>\\n<path clip-path=\\\"url(#clip5602)\\\" d=\\\"M1168.81 671.745 L1157.5 667.057 L1152.81 655.745 L1157.5 644.433 L1168.81 639.745 L1180.12 644.433 L1184.81 655.745 L1180.12 667.057 Z\\\" fill=\\\"#009af9\\\" fill-rule=\\\"evenodd\\\" fill-opacity=\\\"1\\\" stroke=\\\"#000000\\\" stroke-opacity=\\\"1\\\" stroke-width=\\\"3.2\\\"\\/>\\n<path clip-path=\\\"url(#clip5602)\\\" d=\\\"M1194.39 622.876 L1183.08 618.188 L1178.39 606.876 L1183.08 595.564 L1194.39 590.876 L1205.71 595.564 L1210.39 606.876 L1205.71 618.188 Z\\\" fill=\\\"#009af9\\\" fill-rule=\\\"evenodd\\\" fill-opacity=\\\"1\\\" stroke=\\\"#000000\\\" stroke-opacity=\\\"1\\\" stroke-width=\\\"3.2\\\"\\/>\\n<path clip-path=\\\"url(#clip5602)\\\" d=\\\"M1219.98 1130.12 L1208.66 1125.43 L1203.98 1114.12 L1208.66 1102.81 L1219.98 1098.12 L1231.29 1102.81 L1235.98 1114.12 L1231.29 1125.43 Z\\\" fill=\\\"#009af9\\\" fill-rule=\\\"evenodd\\\" fill-opacity=\\\"1\\\" stroke=\\\"#000000\\\" stroke-opacity=\\\"1\\\" stroke-width=\\\"3.2\\\"\\/>\\n<path clip-path=\\\"url(#clip5602)\\\" d=\\\"M1245.56 824.567 L1234.25 819.879 L1229.56 808.567 L1234.25 797.255 L1245.56 792.567 L1256.87 797.255 L1261.56 808.567 L1256.87 819.879 Z\\\" fill=\\\"#009af9\\\" fill-rule=\\\"evenodd\\\" fill-opacity=\\\"1\\\" stroke=\\\"#000000\\\" stroke-opacity=\\\"1\\\" stroke-width=\\\"3.2\\\"\\/>\\n<path clip-path=\\\"url(#clip5602)\\\" d=\\\"M1271.14 734.105 L1259.83 729.417 L1255.14 718.105 L1259.83 706.793 L1271.14 702.105 L1282.45 706.793 L1287.14 718.105 L1282.45 729.417 Z\\\" fill=\\\"#009af9\\\" fill-rule=\\\"evenodd\\\" fill-opacity=\\\"1\\\" stroke=\\\"#000000\\\" stroke-opacity=\\\"1\\\" stroke-width=\\\"3.2\\\"\\/>\\n<path clip-path=\\\"url(#clip5602)\\\" d=\\\"M1296.72 824.567 L1285.41 819.879 L1280.72 808.567 L1285.41 797.255 L1296.72 792.567 L1308.03 797.255 L1312.72 808.567 L1308.03 819.879 Z\\\" fill=\\\"#009af9\\\" fill-rule=\\\"evenodd\\\" fill-opacity=\\\"1\\\" stroke=\\\"#000000\\\" stroke-opacity=\\\"1\\\" stroke-width=\\\"3.2\\\"\\/>\\n<path clip-path=\\\"url(#clip5602)\\\" d=\\\"M1322.3 1038.23 L1310.99 1033.54 L1306.3 1022.23 L1310.99 1010.92 L1322.3 1006.23 L1333.62 1010.92 L1338.3 1022.23 L1333.62 1033.54 Z\\\" fill=\\\"#009af9\\\" fill-rule=\\\"evenodd\\\" fill-opacity=\\\"1\\\" stroke=\\\"#000000\\\" stroke-opacity=\\\"1\\\" stroke-width=\\\"3.2\\\"\\/>\\n<path clip-path=\\\"url(#clip5602)\\\" d=\\\"M1347.89 651.879 L1336.57 647.191 L1331.89 635.879 L1336.57 624.567 L1347.89 619.879 L1359.2 624.567 L1363.89 635.879 L1359.2 647.191 Z\\\" fill=\\\"#009af9\\\" fill-rule=\\\"evenodd\\\" fill-opacity=\\\"1\\\" stroke=\\\"#000000\\\" stroke-opacity=\\\"1\\\" stroke-width=\\\"3.2\\\"\\/>\\n<path clip-path=\\\"url(#clip5602)\\\" d=\\\"M1373.47 824.567 L1362.16 819.879 L1357.47 808.567 L1362.16 797.255 L1373.47 792.567 L1384.78 797.255 L1389.47 808.567 L1384.78 819.879 Z\\\" fill=\\\"#009af9\\\" fill-rule=\\\"evenodd\\\" fill-opacity=\\\"1\\\" stroke=\\\"#000000\\\" stroke-opacity=\\\"1\\\" stroke-width=\\\"3.2\\\"\\/>\\n<path clip-path=\\\"url(#clip5602)\\\" d=\\\"M1399.05 824.567 L1387.74 819.879 L1383.05 808.567 L1387.74 797.255 L1399.05 792.567 L1410.36 797.255 L1415.05 808.567 L1410.36 819.879 Z\\\" fill=\\\"#009af9\\\" fill-rule=\\\"evenodd\\\" fill-opacity=\\\"1\\\" stroke=\\\"#000000\\\" stroke-opacity=\\\"1\\\" stroke-width=\\\"3.2\\\"\\/>\\n<path clip-path=\\\"url(#clip5602)\\\" d=\\\"M1424.63 979.896 L1413.32 975.208 L1408.63 963.896 L1413.32 952.584 L1424.63 947.896 L1435.95 952.584 L1440.63 963.896 L1435.95 975.208 Z\\\" fill=\\\"#009af9\\\" fill-rule=\\\"evenodd\\\" fill-opacity=\\\"1\\\" stroke=\\\"#000000\\\" stroke-opacity=\\\"1\\\" stroke-width=\\\"3.2\\\"\\/>\\n<path clip-path=\\\"url(#clip5602)\\\" d=\\\"M1450.22 1318.57 L1438.9 1313.88 L1434.22 1302.57 L1438.9 1291.26 L1450.22 1286.57 L1461.53 1291.26 L1466.22 1302.57 L1461.53 1313.88 Z\\\" fill=\\\"#009af9\\\" fill-rule=\\\"evenodd\\\" fill-opacity=\\\"1\\\" stroke=\\\"#000000\\\" stroke-opacity=\\\"1\\\" stroke-width=\\\"3.2\\\"\\/>\\n<path clip-path=\\\"url(#clip5602)\\\" d=\\\"M1475.8 1404.71 L1464.49 1400.03 L1459.8 1388.71 L1464.49 1377.4 L1475.8 1372.71 L1487.11 1377.4 L1491.8 1388.71 L1487.11 1400.03 Z\\\" fill=\\\"#009af9\\\" fill-rule=\\\"evenodd\\\" fill-opacity=\\\"1\\\" stroke=\\\"#000000\\\" stroke-opacity=\\\"1\\\" stroke-width=\\\"3.2\\\"\\/>\\n<path clip-path=\\\"url(#clip5602)\\\" d=\\\"M1501.38 1167.57 L1490.07 1162.89 L1485.38 1151.57 L1490.07 1140.26 L1501.38 1135.57 L1512.69 1140.26 L1517.38 1151.57 L1512.69 1162.89 Z\\\" fill=\\\"#009af9\\\" fill-rule=\\\"evenodd\\\" fill-opacity=\\\"1\\\" stroke=\\\"#000000\\\" stroke-opacity=\\\"1\\\" stroke-width=\\\"3.2\\\"\\/>\\n<path clip-path=\\\"url(#clip5602)\\\" d=\\\"M1526.96 541.064 L1515.65 536.376 L1510.96 525.064 L1515.65 513.752 L1526.96 509.064 L1538.27 513.752 L1542.96 525.064 L1538.27 536.376 Z\\\" fill=\\\"#009af9\\\" fill-rule=\\\"evenodd\\\" fill-opacity=\\\"1\\\" stroke=\\\"#000000\\\" stroke-opacity=\\\"1\\\" stroke-width=\\\"3.2\\\"\\/>\\n<path clip-path=\\\"url(#clip5602)\\\" d=\\\"M1552.54 613.411 L1541.23 608.723 L1536.54 597.411 L1541.23 586.099 L1552.54 581.411 L1563.86 586.099 L1568.54 597.411 L1563.86 608.723 Z\\\" fill=\\\"#009af9\\\" fill-rule=\\\"evenodd\\\" fill-opacity=\\\"1\\\" stroke=\\\"#000000\\\" stroke-opacity=\\\"1\\\" stroke-width=\\\"3.2\\\"\\/>\\n<path clip-path=\\\"url(#clip5602)\\\" d=\\\"M1578.13 576.514 L1566.81 571.826 L1562.13 560.514 L1566.81 549.202 L1578.13 544.514 L1589.44 549.202 L1594.13 560.514 L1589.44 571.826 Z\\\" fill=\\\"#009af9\\\" fill-rule=\\\"evenodd\\\" fill-opacity=\\\"1\\\" stroke=\\\"#000000\\\" stroke-opacity=\\\"1\\\" stroke-width=\\\"3.2\\\"\\/>\\n<path clip-path=\\\"url(#clip5602)\\\" d=\\\"M1603.71 979.896 L1592.4 975.208 L1587.71 963.896 L1592.4 952.584 L1603.71 947.896 L1615.02 952.584 L1619.71 963.896 L1615.02 975.208 Z\\\" fill=\\\"#009af9\\\" fill-rule=\\\"evenodd\\\" fill-opacity=\\\"1\\\" stroke=\\\"#000000\\\" stroke-opacity=\\\"1\\\" stroke-width=\\\"3.2\\\"\\/>\\n<path clip-path=\\\"url(#clip5602)\\\" d=\\\"M1629.29 1038.23 L1617.98 1033.54 L1613.29 1022.23 L1617.98 1010.92 L1629.29 1006.23 L1640.6 1010.92 L1645.29 1022.23 L1640.6 1033.54 Z\\\" fill=\\\"#009af9\\\" fill-rule=\\\"evenodd\\\" fill-opacity=\\\"1\\\" stroke=\\\"#000000\\\" stroke-opacity=\\\"1\\\" stroke-width=\\\"3.2\\\"\\/>\\n<path clip-path=\\\"url(#clip5602)\\\" d=\\\"M1654.87 979.896 L1643.56 975.208 L1638.87 963.896 L1643.56 952.584 L1654.87 947.896 L1666.19 952.584 L1670.87 963.896 L1666.19 975.208 Z\\\" fill=\\\"#009af9\\\" fill-rule=\\\"evenodd\\\" fill-opacity=\\\"1\\\" stroke=\\\"#000000\\\" stroke-opacity=\\\"1\\\" stroke-width=\\\"3.2\\\"\\/>\\n<path clip-path=\\\"url(#clip5602)\\\" d=\\\"M1680.46 1038.23 L1669.14 1033.54 L1664.46 1022.23 L1669.14 1010.92 L1680.46 1006.23 L1691.77 1010.92 L1696.46 1022.23 L1691.77 1033.54 Z\\\" fill=\\\"#009af9\\\" fill-rule=\\\"evenodd\\\" fill-opacity=\\\"1\\\" stroke=\\\"#000000\\\" stroke-opacity=\\\"1\\\" stroke-width=\\\"3.2\\\"\\/>\\n<path clip-path=\\\"url(#clip5602)\\\" d=\\\"M1706.04 1239.92 L1694.73 1235.23 L1690.04 1223.92 L1694.73 1212.61 L1706.04 1207.92 L1717.35 1212.61 L1722.04 1223.92 L1717.35 1235.23 Z\\\" fill=\\\"#009af9\\\" fill-rule=\\\"evenodd\\\" fill-opacity=\\\"1\\\" stroke=\\\"#000000\\\" stroke-opacity=\\\"1\\\" stroke-width=\\\"3.2\\\"\\/>\\n<path clip-path=\\\"url(#clip5602)\\\" d=\\\"M1731.62 979.896 L1720.31 975.208 L1715.62 963.896 L1720.31 952.584 L1731.62 947.896 L1742.93 952.584 L1747.62 963.896 L1742.93 975.208 Z\\\" fill=\\\"#009af9\\\" fill-rule=\\\"evenodd\\\" fill-opacity=\\\"1\\\" stroke=\\\"#000000\\\" stroke-opacity=\\\"1\\\" stroke-width=\\\"3.2\\\"\\/>\\n<path clip-path=\\\"url(#clip5602)\\\" d=\\\"M1782.78 925.1 L1771.47 920.412 L1766.78 909.1 L1771.47 897.788 L1782.78 893.1 L1794.1 897.788 L1798.78 909.1 L1794.1 920.412 Z\\\" fill=\\\"#009af9\\\" fill-rule=\\\"evenodd\\\" fill-opacity=\\\"1\\\" stroke=\\\"#000000\\\" stroke-opacity=\\\"1\\\" stroke-width=\\\"3.2\\\"\\/>\\n<path clip-path=\\\"url(#clip5602)\\\" d=\\\"M1808.37 979.896 L1797.05 975.208 L1792.37 963.896 L1797.05 952.584 L1808.37 947.896 L1819.68 952.584 L1824.37 963.896 L1819.68 975.208 Z\\\" fill=\\\"#009af9\\\" fill-rule=\\\"evenodd\\\" fill-opacity=\\\"1\\\" stroke=\\\"#000000\\\" stroke-opacity=\\\"1\\\" stroke-width=\\\"3.2\\\"\\/>\\n<path clip-path=\\\"url(#clip5602)\\\" d=\\\"M1833.95 723.409 L1822.64 718.721 L1817.95 707.409 L1822.64 696.097 L1833.95 691.409 L1845.26 696.097 L1849.95 707.409 L1845.26 718.721 Z\\\" fill=\\\"#009af9\\\" fill-rule=\\\"evenodd\\\" fill-opacity=\\\"1\\\" stroke=\\\"#000000\\\" stroke-opacity=\\\"1\\\" stroke-width=\\\"3.2\\\"\\/>\\n<path clip-path=\\\"url(#clip5602)\\\" d=\\\"M1859.53 778.205 L1848.22 773.517 L1843.53 762.205 L1848.22 750.893 L1859.53 746.205 L1870.84 750.893 L1875.53 762.205 L1870.84 773.517 Z\\\" fill=\\\"#009af9\\\" fill-rule=\\\"evenodd\\\" fill-opacity=\\\"1\\\" stroke=\\\"#000000\\\" stroke-opacity=\\\"1\\\" stroke-width=\\\"3.2\\\"\\/>\\n<path clip-path=\\\"url(#clip5602)\\\" d=\\\"M1910.7 532.414 L1899.38 527.726 L1894.7 516.414 L1899.38 505.102 L1910.7 500.414 L1922.01 505.102 L1926.7 516.414 L1922.01 527.726 Z\\\" fill=\\\"#009af9\\\" fill-rule=\\\"evenodd\\\" fill-opacity=\\\"1\\\" stroke=\\\"#000000\\\" stroke-opacity=\\\"1\\\" stroke-width=\\\"3.2\\\"\\/>\\n<path clip-path=\\\"url(#clip5602)\\\" d=\\\"M1936.28 576.514 L1924.97 571.826 L1920.28 560.514 L1924.97 549.202 L1936.28 544.514 L1947.59 549.202 L1952.28 560.514 L1947.59 571.826 Z\\\" fill=\\\"#009af9\\\" fill-rule=\\\"evenodd\\\" fill-opacity=\\\"1\\\" stroke=\\\"#000000\\\" stroke-opacity=\\\"1\\\" stroke-width=\\\"3.2\\\"\\/>\\n<path clip-path=\\\"url(#clip5602)\\\" d=\\\"M1961.86 638.229 L1950.55 633.541 L1945.86 622.229 L1950.55 610.917 L1961.86 606.229 L1973.17 610.917 L1977.86 622.229 L1973.17 633.541 Z\\\" fill=\\\"#009af9\\\" fill-rule=\\\"evenodd\\\" fill-opacity=\\\"1\\\" stroke=\\\"#000000\\\" stroke-opacity=\\\"1\\\" stroke-width=\\\"3.2\\\"\\/>\\n<path clip-path=\\\"url(#clip5602)\\\" d=\\\"M2013.02 518.745 L2001.71 514.057 L1997.02 502.745 L2001.71 491.433 L2013.02 486.745 L2024.34 491.433 L2029.02 502.745 L2024.34 514.057 Z\\\" fill=\\\"#009af9\\\" fill-rule=\\\"evenodd\\\" fill-opacity=\\\"1\\\" stroke=\\\"#000000\\\" stroke-opacity=\\\"1\\\" stroke-width=\\\"3.2\\\"\\/>\\n<path clip-path=\\\"url(#clip5602)\\\" d=\\\"M2038.61 411.72 L2027.29 407.032 L2022.61 395.72 L2027.29 384.408 L2038.61 379.72 L2049.92 384.408 L2054.61 395.72 L2049.92 407.032 Z\\\" fill=\\\"#009af9\\\" fill-rule=\\\"evenodd\\\" fill-opacity=\\\"1\\\" stroke=\\\"#000000\\\" stroke-opacity=\\\"1\\\" stroke-width=\\\"3.2\\\"\\/>\\n<path clip-path=\\\"url(#clip5602)\\\" d=\\\"M2064.19 622.876 L2052.88 618.188 L2048.19 606.876 L2052.88 595.564 L2064.19 590.876 L2075.5 595.564 L2080.19 606.876 L2075.5 618.188 Z\\\" fill=\\\"#009af9\\\" fill-rule=\\\"evenodd\\\" fill-opacity=\\\"1\\\" stroke=\\\"#000000\\\" stroke-opacity=\\\"1\\\" stroke-width=\\\"3.2\\\"\\/>\\n<path clip-path=\\\"url(#clip5602)\\\" d=\\\"M2089.77 778.205 L2078.46 773.517 L2073.77 762.205 L2078.46 750.893 L2089.77 746.205 L2101.08 750.893 L2105.77 762.205 L2101.08 773.517 Z\\\" fill=\\\"#009af9\\\" fill-rule=\\\"evenodd\\\" fill-opacity=\\\"1\\\" stroke=\\\"#000000\\\" stroke-opacity=\\\"1\\\" stroke-width=\\\"3.2\\\"\\/>\\n<path clip-path=\\\"url(#clip5602)\\\" d=\\\"M2115.35 898.899 L2104.04 894.211 L2099.35 882.899 L2104.04 871.587 L2115.35 866.899 L2126.67 871.587 L2131.35 882.899 L2126.67 894.211 Z\\\" fill=\\\"#009af9\\\" fill-rule=\\\"evenodd\\\" fill-opacity=\\\"1\\\" stroke=\\\"#000000\\\" stroke-opacity=\\\"1\\\" stroke-width=\\\"3.2\\\"\\/>\\n<path clip-path=\\\"url(#clip5602)\\\" d=\\\"M2140.94 898.899 L2129.62 894.211 L2124.94 882.899 L2129.62 871.587 L2140.94 866.899 L2152.25 871.587 L2156.94 882.899 L2152.25 894.211 Z\\\" fill=\\\"#009af9\\\" fill-rule=\\\"evenodd\\\" fill-opacity=\\\"1\\\" stroke=\\\"#000000\\\" stroke-opacity=\\\"1\\\" stroke-width=\\\"3.2\\\"\\/>\\n<path clip-path=\\\"url(#clip5602)\\\" d=\\\"M2166.52 925.1 L2155.21 920.412 L2150.52 909.1 L2155.21 897.788 L2166.52 893.1 L2177.83 897.788 L2182.52 909.1 L2177.83 920.412 Z\\\" fill=\\\"#009af9\\\" fill-rule=\\\"evenodd\\\" fill-opacity=\\\"1\\\" stroke=\\\"#000000\\\" stroke-opacity=\\\"1\\\" stroke-width=\\\"3.2\\\"\\/>\\n<path clip-path=\\\"url(#clip5602)\\\" d=\\\"M2192.1 651.879 L2180.79 647.191 L2176.1 635.879 L2180.79 624.567 L2192.1 619.879 L2203.41 624.567 L2208.1 635.879 L2203.41 647.191 Z\\\" fill=\\\"#009af9\\\" fill-rule=\\\"evenodd\\\" fill-opacity=\\\"1\\\" stroke=\\\"#000000\\\" stroke-opacity=\\\"1\\\" stroke-width=\\\"3.2\\\"\\/>\\n<path clip-path=\\\"url(#clip5602)\\\" d=\\\"M2217.68 778.205 L2206.37 773.517 L2201.68 762.205 L2206.37 750.893 L2217.68 746.205 L2228.99 750.893 L2233.68 762.205 L2228.99 773.517 Z\\\" fill=\\\"#009af9\\\" fill-rule=\\\"evenodd\\\" fill-opacity=\\\"1\\\" stroke=\\\"#000000\\\" stroke-opacity=\\\"1\\\" stroke-width=\\\"3.2\\\"\\/>\\n<path clip-path=\\\"url(#clip5602)\\\" d=\\\"M2294.43 1404.71 L2283.12 1400.03 L2278.43 1388.71 L2283.12 1377.4 L2294.43 1372.71 L2305.74 1377.4 L2310.43 1388.71 L2305.74 1400.03 Z\\\" fill=\\\"#009af9\\\" fill-rule=\\\"evenodd\\\" fill-opacity=\\\"1\\\" stroke=\\\"#000000\\\" stroke-opacity=\\\"1\\\" stroke-width=\\\"3.2\\\"\\/>\\n<path clip-path=\\\"url(#clip5600)\\\" d=\\\"\\nM363.853 326.155 L879.419 326.155 L879.419 205.195 L363.853 205.195  Z\\n  \\\" fill=\\\"#ffffff\\\" fill-rule=\\\"evenodd\\\" fill-opacity=\\\"1\\\"\\/>\\n<polyline clip-path=\\\"url(#clip5600)\\\" style=\\\"stroke:#000000; stroke-width:4; stroke-opacity:1; fill:none\\\" points=\\\"\\n  363.853,326.155 879.419,326.155 879.419,205.195 363.853,205.195 363.853,326.155 \\n  \\\"\\/>\\n<polyline clip-path=\\\"url(#clip5600)\\\" style=\\\"stroke:#009af9; stroke-width:4; stroke-opacity:1; fill:none\\\" points=\\\"\\n  387.853,265.675 531.853,265.675 \\n  \\\"\\/>\\n<path clip-path=\\\"url(#clip5600)\\\" d=\\\"M471.853 289.675 L454.885 282.643 L447.853 265.675 L454.885 248.707 L471.853 241.675 L488.821 248.707 L495.853 265.675 L488.821 282.643 Z\\\" fill=\\\"#009af9\\\" fill-rule=\\\"evenodd\\\" fill-opacity=\\\"1\\\" stroke=\\\"#000000\\\" stroke-opacity=\\\"1\\\" stroke-width=\\\"3.2\\\"\\/>\\n<g clip-path=\\\"url(#clip5600)\\\">\\n<text style=\\\"fill:#000000; fill-opacity:1; font-family:Arial,Helvetica Neue,Helvetica,sans-serif; font-size:48px; text-anchor:start;\\\" transform=\\\"rotate(0, 555.853, 283.175)\\\" x=\\\"555.853\\\" y=\\\"283.175\\\">Saudi Arabia<\\/text>\\n<\\/g>\\n<\\/svg>\\n\"},\"nodeType\":\"DOM\",\"type\":\"node\",\"instanceArgs\":{\"namespace\":\"html\",\"tag\":\"div\"},\"children\":[]}]}}}},\"children\":[{\"props\":{},\"nodeType\":\"ObservableNode\",\"type\":\"node\",\"instanceArgs\":{\"id\":\"ob_22\",\"name\":\"obs-node\"},\"children\":[]}]}]},\n",
       "            window,\n",
       "        );\n",
       "    } else {\n",
       "        document\n",
       "            .querySelector('[data-webio-mountpoint=\"11401610555195151901\"]')\n",
       "            .innerHTML = (\n",
       "                '<div style=\"padding: 1em; background-color: #f8d6da; border: 1px solid #f5c6cb\">' +\n",
       "                '<p><strong>WebIO not detected.</strong></p>' +\n",
       "                '<p>Please read ' +\n",
       "                '<a href=\"https://juliagizmos.github.io/WebIO.jl/latest/troubleshooting/not-detected/\" target=\"_blank\">the troubleshooting guide</a> ' +\n",
       "                'for more information on how to resolve this issue.</p>' +\n",
       "                '<p><a href=\"https://juliagizmos.github.io/WebIO.jl/latest/troubleshooting/not-detected/\" target=\"_blank\">https://juliagizmos.github.io/WebIO.jl/latest/troubleshooting/not-detected/</a></p>' +\n",
       "                '</div>'\n",
       "            );\n",
       "    }\n",
       "    </script>\n",
       "</div>\n"
      ],
      "text/plain": [
       "Node{WebIO.DOM}(WebIO.DOM(:html, :div), Any[Node{WebIO.DOM}(WebIO.DOM(:html, :div), Any[Scope(Node{WebIO.DOM}(WebIO.DOM(:html, :div), Any[Node{WebIO.DOM}(WebIO.DOM(:html, :div), Any[Node{WebIO.DOM}(WebIO.DOM(:html, :label), Any[\"day\"], Dict{Symbol,Any}(:className => \"interact \",:style => Dict{Any,Any}(:padding => \"5px 10px 0px 10px\")))], Dict{Symbol,Any}(:className => \"interact-flex-row-left\")), Node{WebIO.DOM}(WebIO.DOM(:html, :div), Any[Node{WebIO.DOM}(WebIO.DOM(:html, :input), Any[], Dict{Symbol,Any}(:max => 154,:min => 1,:attributes => Dict{Any,Any}(:type => \"range\",Symbol(\"data-bind\") => \"numericValue: index, valueUpdate: 'input', event: {change: function (){this.changes(this.changes()+1)}}\",\"orient\" => \"horizontal\"),:step => 1,:className => \"slider slider is-fullwidth\",:style => Dict{Any,Any}()))], Dict{Symbol,Any}(:className => \"interact-flex-row-center\")), Node{WebIO.DOM}(WebIO.DOM(:html, :div), Any[Node{WebIO.DOM}(WebIO.DOM(:html, :p), Any[], Dict{Symbol,Any}(:attributes => Dict(\"data-bind\" => \"text: formatted_val\")))], Dict{Symbol,Any}(:className => \"interact-flex-row-right\"))], Dict{Symbol,Any}(:className => \"interact-flex-row interact-widget\")), Dict{String,Tuple{Observables.AbstractObservable,Union{Nothing, Bool}}}(\"changes\" => (Observable{Int64} with 1 listeners. Value:\n",
       "0, nothing),\"index\" => (Observable{Int64} with 2 listeners. Value:\n",
       "77, nothing)), Set(String[]), nothing, Asset[Asset(\"js\", \"knockout\", \"/Users/saumyarawat/.julia/packages/Knockout/IP1uR/src/../assets/knockout.js\"), Asset(\"js\", \"knockout_punches\", \"/Users/saumyarawat/.julia/packages/Knockout/IP1uR/src/../assets/knockout_punches.js\"), Asset(\"js\", nothing, \"/Users/saumyarawat/.julia/packages/InteractBase/9mFwe/src/../assets/all.js\"), Asset(\"css\", nothing, \"/Users/saumyarawat/.julia/packages/InteractBase/9mFwe/src/../assets/style.css\"), Asset(\"css\", nothing, \"/Users/saumyarawat/.julia/packages/Interact/SbgIk/src/../assets/bulma_confined.min.css\")], Dict{Any,Any}(\"changes\" => Any[WebIO.JSString(\"(function (val){return (val!=this.model[\\\"changes\\\"]()) ? (this.valueFromJulia[\\\"changes\\\"]=true, this.model[\\\"changes\\\"](val)) : undefined})\")],\"index\" => Any[WebIO.JSString(\"(function (val){return (val!=this.model[\\\"index\\\"]()) ? (this.valueFromJulia[\\\"index\\\"]=true, this.model[\\\"index\\\"](val)) : undefined})\")]), WebIO.ConnectionPool(Channel{Any}(sz_max:32,sz_curr:0), Set(AbstractConnection[]), Base.GenericCondition{Base.AlwaysLockedST}(Base.InvasiveLinkedList{Task}(Task (runnable) @0x00000001333df190, Task (runnable) @0x00000001333df190), Base.AlwaysLockedST(1))), WebIO.JSString[WebIO.JSString(\"function () {\\n    var handler = (function (ko, koPunches) {\\n    ko.punches.enableAll();\\n    ko.bindingHandlers.numericValue = {\\n        init: function(element, valueAccessor, allBindings, data, context) {\\n            var stringified = ko.observable(ko.unwrap(valueAccessor()));\\n            stringified.subscribe(function(value) {\\n                var val = parseFloat(value);\\n                if (!isNaN(val)) {\\n                    valueAccessor()(val);\\n                }\\n            });\\n            valueAccessor().subscribe(function(value) {\\n                var str = JSON.stringify(value);\\n                if ((str == \\\"0\\\") && ([\\\"-0\\\", \\\"-0.\\\"].indexOf(stringified()) >= 0))\\n                     return;\\n                 if ([\\\"null\\\", \\\"\\\"].indexOf(str) >= 0)\\n                     return;\\n                stringified(str);\\n            });\\n            ko.applyBindingsToNode(\\n                element,\\n                {\\n                    value: stringified,\\n                    valueUpdate: allBindings.get('valueUpdate'),\\n                },\\n                context,\\n            );\\n        }\\n    };\\n    var json_data = {\\\"formatted_vals\\\":[\\\"1\\\",\\\"2\\\",\\\"3\\\",\\\"4\\\",\\\"5\\\",\\\"6\\\",\\\"7\\\",\\\"8\\\",\\\"9\\\",\\\"10\\\",\\\"11\\\",\\\"12\\\",\\\"13\\\",\\\"14\\\",\\\"15\\\",\\\"16\\\",\\\"17\\\",\\\"18\\\",\\\"19\\\",\\\"20\\\",\\\"21\\\",\\\"22\\\",\\\"23\\\",\\\"24\\\",\\\"25\\\",\\\"26\\\",\\\"27\\\",\\\"28\\\",\\\"29\\\",\\\"30\\\",\\\"31\\\",\\\"32\\\",\\\"33\\\",\\\"34\\\",\\\"35\\\",\\\"36\\\",\\\"37\\\",\\\"38\\\",\\\"39\\\",\\\"40\\\",\\\"41\\\",\\\"42\\\",\\\"43\\\",\\\"44\\\",\\\"45\\\",\\\"46\\\",\\\"47\\\",\\\"48\\\",\\\"49\\\",\\\"50\\\",\\\"51\\\",\\\"52\\\",\\\"53\\\",\\\"54\\\",\\\"55\\\",\\\"56\\\",\\\"57\\\",\\\"58\\\",\\\"59\\\",\\\"60\\\",\\\"61\\\",\\\"62\\\",\\\"63\\\",\\\"64\\\",\\\"65\\\",\\\"66\\\",\\\"67\\\",\\\"68\\\",\\\"69\\\",\\\"70\\\",\\\"71\\\",\\\"72\\\",\\\"73\\\",\\\"74\\\",\\\"75\\\",\\\"76\\\",\\\"77\\\",\\\"78\\\",\\\"79\\\",\\\"80\\\",\\\"81\\\",\\\"82\\\",\\\"83\\\",\\\"84\\\",\\\"85\\\",\\\"86\\\",\\\"87\\\",\\\"88\\\",\\\"89\\\",\\\"90\\\",\\\"91\\\",\\\"92\\\",\\\"93\\\",\\\"94\\\",\\\"95\\\",\\\"96\\\",\\\"97\\\",\\\"98\\\",\\\"99\\\",\\\"100\\\",\\\"101\\\",\\\"102\\\",\\\"103\\\",\\\"104\\\",\\\"105\\\",\\\"106\\\",\\\"107\\\",\\\"108\\\",\\\"109\\\",\\\"110\\\",\\\"111\\\",\\\"112\\\",\\\"113\\\",\\\"114\\\",\\\"115\\\",\\\"116\\\",\\\"117\\\",\\\"118\\\",\\\"119\\\",\\\"120\\\",\\\"121\\\",\\\"122\\\",\\\"123\\\",\\\"124\\\",\\\"125\\\",\\\"126\\\",\\\"127\\\",\\\"128\\\",\\\"129\\\",\\\"130\\\",\\\"131\\\",\\\"132\\\",\\\"133\\\",\\\"134\\\",\\\"135\\\",\\\"136\\\",\\\"137\\\",\\\"138\\\",\\\"139\\\",\\\"140\\\",\\\"141\\\",\\\"142\\\",\\\"143\\\",\\\"144\\\",\\\"145\\\",\\\"146\\\",\\\"147\\\",\\\"148\\\",\\\"149\\\",\\\"150\\\",\\\"151\\\",\\\"152\\\",\\\"153\\\",\\\"154\\\"],\\\"changes\\\":WebIO.getval({\\\"name\\\":\\\"changes\\\",\\\"scope\\\":\\\"231332520099782488\\\",\\\"id\\\":\\\"ob_18\\\",\\\"type\\\":\\\"observable\\\"}),\\\"index\\\":WebIO.getval({\\\"name\\\":\\\"index\\\",\\\"scope\\\":\\\"231332520099782488\\\",\\\"id\\\":\\\"ob_17\\\",\\\"type\\\":\\\"observable\\\"})};\\n    var self = this;\\n    function AppViewModel() {\\n        for (var key in json_data) {\\n            var el = json_data[key];\\n            this[key] = Array.isArray(el) ? ko.observableArray(el) : ko.observable(el);\\n        }\\n        \\n        [this[\\\"formatted_val\\\"]=ko.computed(    function(){\\n        return this.formatted_vals()[parseInt(this.index())-(1)];\\n    }\\n,this)]\\n        [this[\\\"changes\\\"].subscribe((function (val){!(this.valueFromJulia[\\\"changes\\\"]) ? (WebIO.setval({\\\"name\\\":\\\"changes\\\",\\\"scope\\\":\\\"231332520099782488\\\",\\\"id\\\":\\\"ob_18\\\",\\\"type\\\":\\\"observable\\\"},val)) : undefined; return this.valueFromJulia[\\\"changes\\\"]=false}),self),this[\\\"index\\\"].subscribe((function (val){!(this.valueFromJulia[\\\"index\\\"]) ? (WebIO.setval({\\\"name\\\":\\\"index\\\",\\\"scope\\\":\\\"231332520099782488\\\",\\\"id\\\":\\\"ob_17\\\",\\\"type\\\":\\\"observable\\\"},val)) : undefined; return this.valueFromJulia[\\\"index\\\"]=false}),self)]\\n        \\n    }\\n    self.model = new AppViewModel();\\n    self.valueFromJulia = {};\\n    for (var key in json_data) {\\n        self.valueFromJulia[key] = false;\\n    }\\n    ko.applyBindings(self.model, self.dom);\\n}\\n);\\n    (WebIO.importBlock({\\\"data\\\":[{\\\"name\\\":\\\"knockout\\\",\\\"type\\\":\\\"js\\\",\\\"url\\\":\\\"/assetserver/e30804d580242ff490836fea138ed12dab987650-knockout.js\\\"},{\\\"name\\\":\\\"knockout_punches\\\",\\\"type\\\":\\\"js\\\",\\\"url\\\":\\\"/assetserver/3b050a7a6e0183134ddf7d37e9900e424ee82b96-knockout_punches.js\\\"}],\\\"type\\\":\\\"async_block\\\"})).then((imports) => handler.apply(this, imports));\\n}\\n\")])], Dict{Symbol,Any}(:className => \"field interact-widget\")), Observable{Any} with 0 listeners. Value:\n",
       "Node{WebIO.DOM}(WebIO.DOM(:html, :div), Any[Plot{Plots.GRBackend() n=1}], Dict{Symbol,Any}(:className => \"interact-flex-row interact-widget\"))], Dict{Symbol,Any}())"
      ]
     },
     "execution_count": 61,
     "metadata": {
      "application/vnd.webio.node+json": {
       "kernelId": "72715aba-4563-4670-9af3-8d42a1a47982"
      }
     },
     "output_type": "execute_result"
    }
   ],
   "source": [
    "@manipulate for day in 1:num_days_no2\n",
    "    plot()\n",
    "    for current_country in country\n",
    "        amt = data_dict_no2[current_country][1:day]\n",
    "        amt = replace(amt, 0=>NaN)\n",
    "        plot!(dates_no2[1:day], amt, yscale=:log10, leg=:topleft, label=current_country, m=:o)\n",
    "    end\n",
    "    xlabel!(\"Date\")\n",
    "    ylabel!(\"No2 Concentration\")\n",
    "    title!(\"Pollution\")\n",
    "end"
   ]
  },
  {
   "cell_type": "code",
   "execution_count": null,
   "metadata": {},
   "outputs": [],
   "source": []
  }
 ],
 "metadata": {
  "@webio": {
   "lastCommId": "95c0304aee4a44fc9ba599d70e16fa9d",
   "lastKernelId": "72715aba-4563-4670-9af3-8d42a1a47982"
  },
  "kernelspec": {
   "display_name": "Julia 1.4.0",
   "language": "julia",
   "name": "julia-1.4"
  },
  "language_info": {
   "file_extension": ".jl",
   "mimetype": "application/julia",
   "name": "julia",
   "version": "1.4.0"
  }
 },
 "nbformat": 4,
 "nbformat_minor": 4
}
