{
 "cells": [
  {
   "cell_type": "markdown",
   "metadata": {},
   "source": [
    "<h1> This code produces pandemic cases and NO2 data based on a nearest neighbor approach produced country</h1>"
   ]
  },
  {
   "cell_type": "code",
   "execution_count": 8,
   "metadata": {},
   "outputs": [
    {
     "name": "stdout",
     "output_type": "stream",
     "text": [
      "Input your population density 25\n",
      "Input number of hospital beds per 1000 people 525\n",
      "Input percentage of population above 65 years old 235\n",
      "Input number of airport arrivals 253\n",
      "Input fraction of people in poverty 235\n",
      "25\n",
      "525\n",
      "235\n",
      "253\n",
      "235"
     ]
    }
   ],
   "source": [
    "inDensity = (IJulia.readprompt(\"Input your population density \"))\n",
    "inBeds = (IJulia.readprompt(\"Input number of hospital beds per 1000 people \"))\n",
    "inSeniors =(IJulia.readprompt(\"Input percentage of population above 65 years old \"))\n",
    "inTourism = (IJulia.readprompt(\"Input number of airport arrivals \"))\n",
    "inPoverty = (IJulia.readprompt(\"Input fraction of people in poverty \"))\n",
    "\n",
    "inputs = string(inDensity,\"\\n\",inBeds,\"\\n\",inSeniors,\"\\n\",inTourism,\"\\n\",inPoverty)\n",
    "print(inputs)\n",
    "\n",
    "inputFile = open(\"input.txt\", \"w\");\n",
    "write(inputFile, inputs)\n",
    "close(inputFile)"
   ]
  },
  {
   "cell_type": "code",
   "execution_count": 9,
   "metadata": {},
   "outputs": [
    {
     "name": "stdout",
     "output_type": "stream",
     "text": [
      "['25\\n', '525\\n', '235\\n', '253\\n', '235']\n"
     ]
    },
    {
     "data": {
      "text/plain": [
       "\"https://raw.githubusercontent.com/CSSEGISandData/COVID-19/master/csse_covid_19_data/csse_covid_19_time_series/time_series_covid19_confirmed_global.csv\""
      ]
     },
     "execution_count": 9,
     "metadata": {},
     "output_type": "execute_result"
    }
   ],
   "source": [
    "run(`python codePredictSimilarCountry.py`)\n",
    "# exec(open(\"./codePredictSimilarCountry.py\"))\n",
    "\n",
    "url = \"https://raw.githubusercontent.com/CSSEGISandData/COVID-19/master/csse_covid_19_data/csse_covid_19_time_series/time_series_covid19_confirmed_global.csv\""
   ]
  },
  {
   "cell_type": "code",
   "execution_count": 10,
   "metadata": {},
   "outputs": [
    {
     "data": {
      "text/plain": [
       "\"covid_data.csv\""
      ]
     },
     "execution_count": 10,
     "metadata": {},
     "output_type": "execute_result"
    }
   ],
   "source": [
    "download(url, \"covid_data.csv\")"
   ]
  },
  {
   "cell_type": "code",
   "execution_count": null,
   "metadata": {},
   "outputs": [],
   "source": [
    "using Pkg   # built-in package manager in Julia: Pkg\n",
    "Pkg.add(\"CSV\")   # calls the `add` function from the module Pkg.  This installs a package\n",
    "Pkg.add(\"Interact\")\n",
    "Pkg.build(\"Plots\")\n",
    "Pkg.build(\"Interact\")"
   ]
  },
  {
   "cell_type": "code",
   "execution_count": null,
   "metadata": {},
   "outputs": [],
   "source": [
    "using CSV   # Comma Separated Values"
   ]
  },
  {
   "cell_type": "code",
   "execution_count": null,
   "metadata": {},
   "outputs": [],
   "source": [
    "data = CSV.read(\"covid_data.csv\")  # run the function `read` from the package CSV"
   ]
  },
  {
   "cell_type": "code",
   "execution_count": null,
   "metadata": {},
   "outputs": [],
   "source": [
    "all_countries = collect(data[:, 2])"
   ]
  },
  {
   "cell_type": "code",
   "execution_count": null,
   "metadata": {},
   "outputs": [],
   "source": [
    "countryFile = open(\"request.txt\", \"r\");\n",
    "country = [read(countryFile, String)]\n",
    "close(countryFile)\n",
    "print(country)\n",
    "country = [\"US\"]"
   ]
  },
  {
   "cell_type": "code",
   "execution_count": null,
   "metadata": {},
   "outputs": [],
   "source": [
    "col_names = names(data)\n",
    "dates_sym = col_names[5:end]\n",
    "date_strings = String.(names(data))[5:end]  # apply String function to each element\n",
    "using Dates\n",
    "format = Dates.DateFormat(\"m/d/Y\")\n",
    "dates = parse.(Date, date_strings,format) .+ Year(2000)\n",
    "num_days = length(dates)"
   ]
  },
  {
   "cell_type": "code",
   "execution_count": null,
   "metadata": {},
   "outputs": [],
   "source": [
    "data_dict = Dict{String,Array}()\n",
    "for current_country in country\n",
    "    matching_rows = data[[startswith(country,current_country) for country in all_countries],:]\n",
    "    data_dict[current_country] = get(data_dict,current_country,zeros(num_days))\n",
    "    prev_dict_values = get(data_dict,current_country,zeros(num_days))\n",
    "    \n",
    "    for row in eachrow(matching_rows)\n",
    "        values = convert(Vector, row[5:end])\n",
    "        \n",
    "        data_dict[current_country] =data_dict[current_country] .+ values\n",
    "        \n",
    "    end\n",
    "end\n",
    "\n",
    "data_dict"
   ]
  },
  {
   "cell_type": "code",
   "execution_count": null,
   "metadata": {},
   "outputs": [],
   "source": [
    "using Interact\n",
    "using Plots"
   ]
  },
  {
   "cell_type": "code",
   "execution_count": null,
   "metadata": {
    "scrolled": false
   },
   "outputs": [],
   "source": [
    "@manipulate for day in 1:num_days\n",
    "    plot()\n",
    "    for current_country in country\n",
    "        amt = data_dict[current_country][1:day]\n",
    "        amt = replace(amt, 0=>NaN)\n",
    "        plot!(dates[1:day], amt, yscale=:log10, leg=:topleft, label=current_country, m=:o)\n",
    "    end\n",
    "    xlabel!(\"Date\")\n",
    "    ylabel!(\"Number of Confirmed Cases\")\n",
    "    title!(\"COVID-19 Cases\")\n",
    "end"
   ]
  },
  {
   "cell_type": "code",
   "execution_count": null,
   "metadata": {},
   "outputs": [],
   "source": [
    "total_cases_to_date = data_dict\n",
    "new_cases = Dict{String,Array}()\n",
    "for current_country in country\n",
    "    new_cases[current_country] = get(new_cases,current_country,zeros(num_days))\n",
    "    for day in 1:num_days\n",
    "        start = day-7\n",
    "        if start<1\n",
    "            start=1\n",
    "        end\n",
    "        new_cases[current_country][day] = total_cases_to_date[current_country][day] - total_cases_to_date[current_country][start]\n",
    "    end\n",
    "end\n",
    "new_cases"
   ]
  },
  {
   "cell_type": "code",
   "execution_count": null,
   "metadata": {},
   "outputs": [],
   "source": [
    "@manipulate for day in 1:num_days\n",
    "    plot()\n",
    "    for current_country in country\n",
    "        confirmed = data_dict[current_country][1:day]\n",
    "        newcases = new_cases[current_country][1:day]\n",
    "        \n",
    "        confirmed = replace(confirmed, 0=>NaN)\n",
    "        newcases = replace(newcases, 0=>NaN)\n",
    "        \n",
    "        plot!(confirmed, newcases,  leg=:topleft, label=current_country)\n",
    "        scatter!(confirmed[end:end], newcases[end:end],label=\"\")\n",
    "        annotate!(confirmed[day],newcases[day], text(current_country,10, :black))\n",
    "    end\n",
    "    xlabel!(\"Number of Confirmed Cases\")\n",
    "    ylabel!(\"Number of New Cases (last 7 days)\")\n",
    "    title!(\"COVID-19 New Cases\")\n",
    "end"
   ]
  },
  {
   "cell_type": "code",
   "execution_count": null,
   "metadata": {},
   "outputs": [],
   "source": [
    "url_no2 = \"https://raw.githubusercontent.com/23saumyar/covidData/master/no2csvData.csv\"\n",
    "download(url_no2, \"covid_data_no2.csv\")\n",
    "data_no2 = CSV.read(\"covid_data_no2.csv\")\n",
    "\n",
    "all_countries = collect(data_no2[:, 1])\n",
    "\n",
    "col_names_no2 = names(data_no2)\n",
    "dates_sym_no2 = col_names_no2[2:end-1]\n",
    "date_strings_no2 = String.(names(data_no2))[2:end-1]\n",
    "dates_no2 = parse.(Date, date_strings_no2,format)\n",
    "num_days_no2 = length(dates_no2)"
   ]
  },
  {
   "cell_type": "code",
   "execution_count": null,
   "metadata": {},
   "outputs": [],
   "source": [
    "data_dict_no2 = Dict{String,Array}()\n",
    "for current_country in country\n",
    "    matching_rows = data_no2[[startswith(country,current_country) for country in all_countries],:]\n",
    "    data_dict_no2[current_country] = get(data_dict_no2,current_country,zeros(num_days_no2))\n",
    "    prev_dict_values = get(data_dict_no2,current_country,zeros(num_days_no2))\n",
    "    \n",
    "    for row in eachrow(matching_rows)\n",
    "        values = convert(Vector, row[2:end-1])\n",
    "        \n",
    "        data_dict_no2[current_country] =data_dict_no2[current_country] .+ values\n",
    "    end\n",
    "end\n",
    "\n",
    "data_dict_no2"
   ]
  },
  {
   "cell_type": "code",
   "execution_count": 121,
   "metadata": {},
   "outputs": [
    {
     "data": {
      "application/vnd.webio.node+json": {
       "children": [
        {
         "children": [
          {
           "children": [
            {
             "children": [
              {
               "children": [
                {
                 "children": [
                  "day"
                 ],
                 "instanceArgs": {
                  "namespace": "html",
                  "tag": "label"
                 },
                 "nodeType": "DOM",
                 "props": {
                  "className": "interact ",
                  "style": {
                   "padding": "5px 10px 0px 10px"
                  }
                 },
                 "type": "node"
                }
               ],
               "instanceArgs": {
                "namespace": "html",
                "tag": "div"
               },
               "nodeType": "DOM",
               "props": {
                "className": "interact-flex-row-left"
               },
               "type": "node"
              },
              {
               "children": [
                {
                 "children": [],
                 "instanceArgs": {
                  "namespace": "html",
                  "tag": "input"
                 },
                 "nodeType": "DOM",
                 "props": {
                  "attributes": {
                   "data-bind": "numericValue: index, valueUpdate: 'input', event: {change: function (){this.changes(this.changes()+1)}}",
                   "orient": "horizontal",
                   "type": "range"
                  },
                  "className": "slider slider is-fullwidth",
                  "max": 154,
                  "min": 1,
                  "step": 1,
                  "style": {}
                 },
                 "type": "node"
                }
               ],
               "instanceArgs": {
                "namespace": "html",
                "tag": "div"
               },
               "nodeType": "DOM",
               "props": {
                "className": "interact-flex-row-center"
               },
               "type": "node"
              },
              {
               "children": [
                {
                 "children": [],
                 "instanceArgs": {
                  "namespace": "html",
                  "tag": "p"
                 },
                 "nodeType": "DOM",
                 "props": {
                  "attributes": {
                   "data-bind": "text: formatted_val"
                  }
                 },
                 "type": "node"
                }
               ],
               "instanceArgs": {
                "namespace": "html",
                "tag": "div"
               },
               "nodeType": "DOM",
               "props": {
                "className": "interact-flex-row-right"
               },
               "type": "node"
              }
             ],
             "instanceArgs": {
              "namespace": "html",
              "tag": "div"
             },
             "nodeType": "DOM",
             "props": {
              "className": "interact-flex-row interact-widget"
             },
             "type": "node"
            }
           ],
           "instanceArgs": {
            "handlers": {
             "changes": [
              "(function (val){return (val!=this.model[\"changes\"]()) ? (this.valueFromJulia[\"changes\"]=true, this.model[\"changes\"](val)) : undefined})"
             ],
             "index": [
              "(function (val){return (val!=this.model[\"index\"]()) ? (this.valueFromJulia[\"index\"]=true, this.model[\"index\"](val)) : undefined})"
             ]
            },
            "id": "323744737553802340",
            "imports": {
             "data": [
              {
               "name": "knockout",
               "type": "js",
               "url": "/assetserver/e30804d580242ff490836fea138ed12dab987650-knockout.js"
              },
              {
               "name": "knockout_punches",
               "type": "js",
               "url": "/assetserver/3b050a7a6e0183134ddf7d37e9900e424ee82b96-knockout_punches.js"
              },
              {
               "name": null,
               "type": "js",
               "url": "/assetserver/72820b874a45543a799a471aa05eefa33c06bf5a-all.js"
              },
              {
               "name": null,
               "type": "css",
               "url": "/assetserver/e7517b5a7de555d89430fc976892a64cbe24a2bc-style.css"
              },
              {
               "name": null,
               "type": "css",
               "url": "/assetserver/8371af573dfc972c716f005fa6460852db032b9c-bulma_confined.min.css"
              }
             ],
             "type": "async_block"
            },
            "mount_callbacks": [
             "function () {\n    var handler = (function (ko, koPunches) {\n    ko.punches.enableAll();\n    ko.bindingHandlers.numericValue = {\n        init: function(element, valueAccessor, allBindings, data, context) {\n            var stringified = ko.observable(ko.unwrap(valueAccessor()));\n            stringified.subscribe(function(value) {\n                var val = parseFloat(value);\n                if (!isNaN(val)) {\n                    valueAccessor()(val);\n                }\n            });\n            valueAccessor().subscribe(function(value) {\n                var str = JSON.stringify(value);\n                if ((str == \"0\") && ([\"-0\", \"-0.\"].indexOf(stringified()) >= 0))\n                     return;\n                 if ([\"null\", \"\"].indexOf(str) >= 0)\n                     return;\n                stringified(str);\n            });\n            ko.applyBindingsToNode(\n                element,\n                {\n                    value: stringified,\n                    valueUpdate: allBindings.get('valueUpdate'),\n                },\n                context,\n            );\n        }\n    };\n    var json_data = {\"formatted_vals\":[\"1\",\"2\",\"3\",\"4\",\"5\",\"6\",\"7\",\"8\",\"9\",\"10\",\"11\",\"12\",\"13\",\"14\",\"15\",\"16\",\"17\",\"18\",\"19\",\"20\",\"21\",\"22\",\"23\",\"24\",\"25\",\"26\",\"27\",\"28\",\"29\",\"30\",\"31\",\"32\",\"33\",\"34\",\"35\",\"36\",\"37\",\"38\",\"39\",\"40\",\"41\",\"42\",\"43\",\"44\",\"45\",\"46\",\"47\",\"48\",\"49\",\"50\",\"51\",\"52\",\"53\",\"54\",\"55\",\"56\",\"57\",\"58\",\"59\",\"60\",\"61\",\"62\",\"63\",\"64\",\"65\",\"66\",\"67\",\"68\",\"69\",\"70\",\"71\",\"72\",\"73\",\"74\",\"75\",\"76\",\"77\",\"78\",\"79\",\"80\",\"81\",\"82\",\"83\",\"84\",\"85\",\"86\",\"87\",\"88\",\"89\",\"90\",\"91\",\"92\",\"93\",\"94\",\"95\",\"96\",\"97\",\"98\",\"99\",\"100\",\"101\",\"102\",\"103\",\"104\",\"105\",\"106\",\"107\",\"108\",\"109\",\"110\",\"111\",\"112\",\"113\",\"114\",\"115\",\"116\",\"117\",\"118\",\"119\",\"120\",\"121\",\"122\",\"123\",\"124\",\"125\",\"126\",\"127\",\"128\",\"129\",\"130\",\"131\",\"132\",\"133\",\"134\",\"135\",\"136\",\"137\",\"138\",\"139\",\"140\",\"141\",\"142\",\"143\",\"144\",\"145\",\"146\",\"147\",\"148\",\"149\",\"150\",\"151\",\"152\",\"153\",\"154\"],\"changes\":WebIO.getval({\"name\":\"changes\",\"scope\":\"323744737553802340\",\"id\":\"ob_62\",\"type\":\"observable\"}),\"index\":WebIO.getval({\"name\":\"index\",\"scope\":\"323744737553802340\",\"id\":\"ob_61\",\"type\":\"observable\"})};\n    var self = this;\n    function AppViewModel() {\n        for (var key in json_data) {\n            var el = json_data[key];\n            this[key] = Array.isArray(el) ? ko.observableArray(el) : ko.observable(el);\n        }\n        \n        [this[\"formatted_val\"]=ko.computed(    function(){\n        return this.formatted_vals()[parseInt(this.index())-(1)];\n    }\n,this)]\n        [this[\"changes\"].subscribe((function (val){!(this.valueFromJulia[\"changes\"]) ? (WebIO.setval({\"name\":\"changes\",\"scope\":\"323744737553802340\",\"id\":\"ob_62\",\"type\":\"observable\"},val)) : undefined; return this.valueFromJulia[\"changes\"]=false}),self),this[\"index\"].subscribe((function (val){!(this.valueFromJulia[\"index\"]) ? (WebIO.setval({\"name\":\"index\",\"scope\":\"323744737553802340\",\"id\":\"ob_61\",\"type\":\"observable\"},val)) : undefined; return this.valueFromJulia[\"index\"]=false}),self)]\n        \n    }\n    self.model = new AppViewModel();\n    self.valueFromJulia = {};\n    for (var key in json_data) {\n        self.valueFromJulia[key] = false;\n    }\n    ko.applyBindings(self.model, self.dom);\n}\n);\n    (WebIO.importBlock({\"data\":[{\"name\":\"knockout\",\"type\":\"js\",\"url\":\"/assetserver/e30804d580242ff490836fea138ed12dab987650-knockout.js\"},{\"name\":\"knockout_punches\",\"type\":\"js\",\"url\":\"/assetserver/3b050a7a6e0183134ddf7d37e9900e424ee82b96-knockout_punches.js\"}],\"type\":\"async_block\"})).then((imports) => handler.apply(this, imports));\n}\n"
            ],
            "observables": {
             "changes": {
              "id": "ob_62",
              "sync": false,
              "value": 0
             },
             "index": {
              "id": "ob_61",
              "sync": true,
              "value": 77
             }
            },
            "systemjs_options": null
           },
           "nodeType": "Scope",
           "props": {},
           "type": "node"
          }
         ],
         "instanceArgs": {
          "namespace": "html",
          "tag": "div"
         },
         "nodeType": "DOM",
         "props": {
          "className": "field interact-widget"
         },
         "type": "node"
        },
        {
         "children": [
          {
           "children": [],
           "instanceArgs": {
            "id": "ob_68",
            "name": "obs-node"
           },
           "nodeType": "ObservableNode",
           "props": {},
           "type": "node"
          }
         ],
         "instanceArgs": {
          "handlers": {},
          "id": "4783584723316109548",
          "imports": {
           "data": [],
           "type": "async_block"
          },
          "mount_callbacks": [],
          "observables": {
           "obs-node": {
            "id": "ob_68",
            "sync": false,
            "value": {
             "children": [
              {
               "children": [],
               "instanceArgs": {
                "namespace": "html",
                "tag": "div"
               },
               "nodeType": "DOM",
               "props": {
                "setInnerHtml": "<?xml version=\"1.0\" encoding=\"utf-8\"?>\n<svg xmlns=\"http://www.w3.org/2000/svg\" xmlns:xlink=\"http://www.w3.org/1999/xlink\" width=\"600\" height=\"400\" viewBox=\"0 0 2400 1600\">\n<defs>\n  <clipPath id=\"clip6400\">\n    <rect x=\"0\" y=\"0\" width=\"2400\" height=\"1600\"/>\n  </clipPath>\n</defs>\n<path clip-path=\"url(#clip6400)\" d=\"\nM0 1600 L2400 1600 L2400 0 L0 0  Z\n  \" fill=\"#ffffff\" fill-rule=\"evenodd\" fill-opacity=\"1\"/>\n<defs>\n  <clipPath id=\"clip6401\">\n    <rect x=\"480\" y=\"0\" width=\"1681\" height=\"1600\"/>\n  </clipPath>\n</defs>\n<path clip-path=\"url(#clip6400)\" d=\"\nM291.853 1425.62 L2352.76 1425.62 L2352.76 121.675 L291.853 121.675  Z\n  \" fill=\"#ffffff\" fill-rule=\"evenodd\" fill-opacity=\"1\"/>\n<defs>\n  <clipPath id=\"clip6402\">\n    <rect x=\"291\" y=\"121\" width=\"2062\" height=\"1305\"/>\n  </clipPath>\n</defs>\n<polyline clip-path=\"url(#clip6402)\" style=\"stroke:#000000; stroke-width:2; stroke-opacity:0.1; fill:none\" points=\"\n  401.345,1425.62 401.345,121.675 \n  \"/>\n<polyline clip-path=\"url(#clip6402)\" style=\"stroke:#000000; stroke-width:2; stroke-opacity:0.1; fill:none\" points=\"\n  1194.39,1425.62 1194.39,121.675 \n  \"/>\n<polyline clip-path=\"url(#clip6402)\" style=\"stroke:#000000; stroke-width:2; stroke-opacity:0.1; fill:none\" points=\"\n  1936.28,1425.62 1936.28,121.675 \n  \"/>\n<polyline clip-path=\"url(#clip6402)\" style=\"stroke:#000000; stroke-width:2; stroke-opacity:0.1; fill:none\" points=\"\n  291.853,1418.37 2352.76,1418.37 \n  \"/>\n<polyline clip-path=\"url(#clip6402)\" style=\"stroke:#000000; stroke-width:2; stroke-opacity:0.1; fill:none\" points=\"\n  291.853,1232.45 2352.76,1232.45 \n  \"/>\n<polyline clip-path=\"url(#clip6402)\" style=\"stroke:#000000; stroke-width:2; stroke-opacity:0.1; fill:none\" points=\"\n  291.853,1046.53 2352.76,1046.53 \n  \"/>\n<polyline clip-path=\"url(#clip6402)\" style=\"stroke:#000000; stroke-width:2; stroke-opacity:0.1; fill:none\" points=\"\n  291.853,860.618 2352.76,860.618 \n  \"/>\n<polyline clip-path=\"url(#clip6402)\" style=\"stroke:#000000; stroke-width:2; stroke-opacity:0.1; fill:none\" points=\"\n  291.853,674.701 2352.76,674.701 \n  \"/>\n<polyline clip-path=\"url(#clip6402)\" style=\"stroke:#000000; stroke-width:2; stroke-opacity:0.1; fill:none\" points=\"\n  291.853,488.785 2352.76,488.785 \n  \"/>\n<polyline clip-path=\"url(#clip6402)\" style=\"stroke:#000000; stroke-width:2; stroke-opacity:0.1; fill:none\" points=\"\n  291.853,302.868 2352.76,302.868 \n  \"/>\n<polyline clip-path=\"url(#clip6400)\" style=\"stroke:#000000; stroke-width:4; stroke-opacity:1; fill:none\" points=\"\n  291.853,1425.62 2352.76,1425.62 \n  \"/>\n<polyline clip-path=\"url(#clip6400)\" style=\"stroke:#000000; stroke-width:4; stroke-opacity:1; fill:none\" points=\"\n  291.853,1425.62 291.853,121.675 \n  \"/>\n<polyline clip-path=\"url(#clip6400)\" style=\"stroke:#000000; stroke-width:4; stroke-opacity:1; fill:none\" points=\"\n  401.345,1425.62 401.345,1409.97 \n  \"/>\n<polyline clip-path=\"url(#clip6400)\" style=\"stroke:#000000; stroke-width:4; stroke-opacity:1; fill:none\" points=\"\n  1194.39,1425.62 1194.39,1409.97 \n  \"/>\n<polyline clip-path=\"url(#clip6400)\" style=\"stroke:#000000; stroke-width:4; stroke-opacity:1; fill:none\" points=\"\n  1936.28,1425.62 1936.28,1409.97 \n  \"/>\n<polyline clip-path=\"url(#clip6400)\" style=\"stroke:#000000; stroke-width:4; stroke-opacity:1; fill:none\" points=\"\n  291.853,1418.37 316.584,1418.37 \n  \"/>\n<polyline clip-path=\"url(#clip6400)\" style=\"stroke:#000000; stroke-width:4; stroke-opacity:1; fill:none\" points=\"\n  291.853,1232.45 316.584,1232.45 \n  \"/>\n<polyline clip-path=\"url(#clip6400)\" style=\"stroke:#000000; stroke-width:4; stroke-opacity:1; fill:none\" points=\"\n  291.853,1046.53 316.584,1046.53 \n  \"/>\n<polyline clip-path=\"url(#clip6400)\" style=\"stroke:#000000; stroke-width:4; stroke-opacity:1; fill:none\" points=\"\n  291.853,860.618 316.584,860.618 \n  \"/>\n<polyline clip-path=\"url(#clip6400)\" style=\"stroke:#000000; stroke-width:4; stroke-opacity:1; fill:none\" points=\"\n  291.853,674.701 316.584,674.701 \n  \"/>\n<polyline clip-path=\"url(#clip6400)\" style=\"stroke:#000000; stroke-width:4; stroke-opacity:1; fill:none\" points=\"\n  291.853,488.785 316.584,488.785 \n  \"/>\n<polyline clip-path=\"url(#clip6400)\" style=\"stroke:#000000; stroke-width:4; stroke-opacity:1; fill:none\" points=\"\n  291.853,302.868 316.584,302.868 \n  \"/>\n<g clip-path=\"url(#clip6400)\">\n<text style=\"fill:#000000; fill-opacity:1; font-family:Arial,Helvetica Neue,Helvetica,sans-serif; font-size:48px; text-anchor:middle;\" transform=\"rotate(0, 401.345, 1479.62)\" x=\"401.345\" y=\"1479.62\">2020-01-01</text>\n</g>\n<g clip-path=\"url(#clip6400)\">\n<text style=\"fill:#000000; fill-opacity:1; font-family:Arial,Helvetica Neue,Helvetica,sans-serif; font-size:48px; text-anchor:middle;\" transform=\"rotate(0, 1194.39, 1479.62)\" x=\"1194.39\" y=\"1479.62\">2020-02-01</text>\n</g>\n<g clip-path=\"url(#clip6400)\">\n<text style=\"fill:#000000; fill-opacity:1; font-family:Arial,Helvetica Neue,Helvetica,sans-serif; font-size:48px; text-anchor:middle;\" transform=\"rotate(0, 1936.28, 1479.62)\" x=\"1936.28\" y=\"1479.62\">2020-03-01</text>\n</g>\n<g clip-path=\"url(#clip6400)\">\n<text style=\"fill:#000000; fill-opacity:1; font-family:Arial,Helvetica Neue,Helvetica,sans-serif; font-size:48px; text-anchor:start;\" transform=\"rotate(0, 159.968, 1442.1)\" x=\"159.968\" y=\"1442.1\">10</text>\n</g>\n<g clip-path=\"url(#clip6400)\">\n<text style=\"fill:#000000; fill-opacity:1; font-family:Arial,Helvetica Neue,Helvetica,sans-serif; font-size:38px; text-anchor:start;\" transform=\"rotate(0, 213.492, 1414.69)\" x=\"213.492\" y=\"1414.69\">0.6</text>\n</g>\n<g clip-path=\"url(#clip6400)\">\n<text style=\"fill:#000000; fill-opacity:1; font-family:Arial,Helvetica Neue,Helvetica,sans-serif; font-size:48px; text-anchor:start;\" transform=\"rotate(0, 159.968, 1256.18)\" x=\"159.968\" y=\"1256.18\">10</text>\n</g>\n<g clip-path=\"url(#clip6400)\">\n<text style=\"fill:#000000; fill-opacity:1; font-family:Arial,Helvetica Neue,Helvetica,sans-serif; font-size:38px; text-anchor:start;\" transform=\"rotate(0, 213.492, 1228.77)\" x=\"213.492\" y=\"1228.77\">0.7</text>\n</g>\n<g clip-path=\"url(#clip6400)\">\n<text style=\"fill:#000000; fill-opacity:1; font-family:Arial,Helvetica Neue,Helvetica,sans-serif; font-size:48px; text-anchor:start;\" transform=\"rotate(0, 159.968, 1070.26)\" x=\"159.968\" y=\"1070.26\">10</text>\n</g>\n<g clip-path=\"url(#clip6400)\">\n<text style=\"fill:#000000; fill-opacity:1; font-family:Arial,Helvetica Neue,Helvetica,sans-serif; font-size:38px; text-anchor:start;\" transform=\"rotate(0, 213.492, 1042.85)\" x=\"213.492\" y=\"1042.85\">0.8</text>\n</g>\n<g clip-path=\"url(#clip6400)\">\n<text style=\"fill:#000000; fill-opacity:1; font-family:Arial,Helvetica Neue,Helvetica,sans-serif; font-size:48px; text-anchor:start;\" transform=\"rotate(0, 159.968, 884.346)\" x=\"159.968\" y=\"884.346\">10</text>\n</g>\n<g clip-path=\"url(#clip6400)\">\n<text style=\"fill:#000000; fill-opacity:1; font-family:Arial,Helvetica Neue,Helvetica,sans-serif; font-size:38px; text-anchor:start;\" transform=\"rotate(0, 213.492, 856.935)\" x=\"213.492\" y=\"856.935\">0.9</text>\n</g>\n<g clip-path=\"url(#clip6400)\">\n<text style=\"fill:#000000; fill-opacity:1; font-family:Arial,Helvetica Neue,Helvetica,sans-serif; font-size:48px; text-anchor:start;\" transform=\"rotate(0, 159.968, 698.429)\" x=\"159.968\" y=\"698.429\">10</text>\n</g>\n<g clip-path=\"url(#clip6400)\">\n<text style=\"fill:#000000; fill-opacity:1; font-family:Arial,Helvetica Neue,Helvetica,sans-serif; font-size:38px; text-anchor:start;\" transform=\"rotate(0, 213.492, 671.018)\" x=\"213.492\" y=\"671.018\">1.0</text>\n</g>\n<g clip-path=\"url(#clip6400)\">\n<text style=\"fill:#000000; fill-opacity:1; font-family:Arial,Helvetica Neue,Helvetica,sans-serif; font-size:48px; text-anchor:start;\" transform=\"rotate(0, 159.968, 512.512)\" x=\"159.968\" y=\"512.512\">10</text>\n</g>\n<g clip-path=\"url(#clip6400)\">\n<text style=\"fill:#000000; fill-opacity:1; font-family:Arial,Helvetica Neue,Helvetica,sans-serif; font-size:38px; text-anchor:start;\" transform=\"rotate(0, 213.492, 485.102)\" x=\"213.492\" y=\"485.102\">1.1</text>\n</g>\n<g clip-path=\"url(#clip6400)\">\n<text style=\"fill:#000000; fill-opacity:1; font-family:Arial,Helvetica Neue,Helvetica,sans-serif; font-size:48px; text-anchor:start;\" transform=\"rotate(0, 159.968, 326.595)\" x=\"159.968\" y=\"326.595\">10</text>\n</g>\n<g clip-path=\"url(#clip6400)\">\n<text style=\"fill:#000000; fill-opacity:1; font-family:Arial,Helvetica Neue,Helvetica,sans-serif; font-size:38px; text-anchor:start;\" transform=\"rotate(0, 213.492, 299.185)\" x=\"213.492\" y=\"299.185\">1.2</text>\n</g>\n<g clip-path=\"url(#clip6400)\">\n<text style=\"fill:#000000; fill-opacity:1; font-family:Arial,Helvetica Neue,Helvetica,sans-serif; font-size:84px; text-anchor:middle;\" transform=\"rotate(0, 1322.3, 73.2)\" x=\"1322.3\" y=\"73.2\">Pollution</text>\n</g>\n<g clip-path=\"url(#clip6400)\">\n<text style=\"fill:#000000; fill-opacity:1; font-family:Arial,Helvetica Neue,Helvetica,sans-serif; font-size:66px; text-anchor:middle;\" transform=\"rotate(0, 1322.3, 1559.48)\" x=\"1322.3\" y=\"1559.48\">Date</text>\n</g>\n<g clip-path=\"url(#clip6400)\">\n<text style=\"fill:#000000; fill-opacity:1; font-family:Arial,Helvetica Neue,Helvetica,sans-serif; font-size:66px; text-anchor:middle;\" transform=\"rotate(-90, 89.2861, 773.647)\" x=\"89.2861\" y=\"773.647\">No2 Concentration</text>\n</g>\n<polyline clip-path=\"url(#clip6402)\" style=\"stroke:#009af9; stroke-width:4; stroke-opacity:1; fill:none\" points=\"\n  350.181,758.875 375.763,665.07 401.345,942.19 426.928,461 452.51,375.806 478.092,566.078 503.674,943.315 529.256,455.443 554.839,373.022 580.421,616.308 \n  606.003,687.725 631.585,535.605 657.167,831.987 682.75,963.844 708.332,494.529 733.914,459.762 759.496,413.473 785.078,743.783 810.661,865.03 836.243,691.013 \n  861.825,820.299 887.407,543.116 912.989,484.26 938.572,282.193 964.154,158.579 989.736,233.068 1015.32,710.189 1040.9,624.612 1066.48,602.162 1092.06,717.818 \n  1117.65,695.144 1143.23,476.643 1168.81,299.763 1194.39,416.986 1219.98,826.122 1245.56,643.81 1271.14,416.986 1296.72,503.624 1322.3,459.762 1347.89,575.305 \n  1373.47,776.084 1399.05,903.76 1424.63,617.811 1450.22,506.896 1475.8,598.48 1501.38,501.666 1526.96,701.796 1552.54,701.796 1578.13,682.001 1603.71,572.455 \n  1629.29,578.883 1654.87,655.552 1680.46,608.088 1706.04,570.323 1731.62,502.971 1757.2,766.981 1782.78,457.908 1808.37,517.46 1833.95,637.617 1859.53,624.612 \n  1885.11,613.309 1910.7,925.496 1936.28,1097.99 1961.86,563.963 1987.44,605.86 2013.02,791.799 2038.61,802.133 2064.19,765.173 2089.77,1145.75 2115.35,1002.89 \n  2140.94,618.564 2166.52,793.668 2192.1,774.256 2217.68,687.725 2243.26,1080.45 2268.85,1312.29 2294.43,1388.71 \n  \"/>\n<path clip-path=\"url(#clip6402)\" d=\"M350.181 774.875 L338.869 770.187 L334.181 758.875 L338.869 747.563 L350.181 742.875 L361.493 747.563 L366.181 758.875 L361.493 770.187 Z\" fill=\"#009af9\" fill-rule=\"evenodd\" fill-opacity=\"1\" stroke=\"#000000\" stroke-opacity=\"1\" stroke-width=\"3.2\"/>\n<path clip-path=\"url(#clip6402)\" d=\"M375.763 681.07 L364.451 676.382 L359.763 665.07 L364.451 653.758 L375.763 649.07 L387.075 653.758 L391.763 665.07 L387.075 676.382 Z\" fill=\"#009af9\" fill-rule=\"evenodd\" fill-opacity=\"1\" stroke=\"#000000\" stroke-opacity=\"1\" stroke-width=\"3.2\"/>\n<path clip-path=\"url(#clip6402)\" d=\"M401.345 958.19 L390.033 953.502 L385.345 942.19 L390.033 930.878 L401.345 926.19 L412.657 930.878 L417.345 942.19 L412.657 953.502 Z\" fill=\"#009af9\" fill-rule=\"evenodd\" fill-opacity=\"1\" stroke=\"#000000\" stroke-opacity=\"1\" stroke-width=\"3.2\"/>\n<path clip-path=\"url(#clip6402)\" d=\"M426.928 477 L415.616 472.312 L410.928 461 L415.616 449.688 L426.928 445 L438.24 449.688 L442.928 461 L438.24 472.312 Z\" fill=\"#009af9\" fill-rule=\"evenodd\" fill-opacity=\"1\" stroke=\"#000000\" stroke-opacity=\"1\" stroke-width=\"3.2\"/>\n<path clip-path=\"url(#clip6402)\" d=\"M452.51 391.806 L441.198 387.118 L436.51 375.806 L441.198 364.494 L452.51 359.806 L463.822 364.494 L468.51 375.806 L463.822 387.118 Z\" fill=\"#009af9\" fill-rule=\"evenodd\" fill-opacity=\"1\" stroke=\"#000000\" stroke-opacity=\"1\" stroke-width=\"3.2\"/>\n<path clip-path=\"url(#clip6402)\" d=\"M478.092 582.078 L466.78 577.39 L462.092 566.078 L466.78 554.766 L478.092 550.078 L489.404 554.766 L494.092 566.078 L489.404 577.39 Z\" fill=\"#009af9\" fill-rule=\"evenodd\" fill-opacity=\"1\" stroke=\"#000000\" stroke-opacity=\"1\" stroke-width=\"3.2\"/>\n<path clip-path=\"url(#clip6402)\" d=\"M503.674 959.315 L492.362 954.627 L487.674 943.315 L492.362 932.003 L503.674 927.315 L514.986 932.003 L519.674 943.315 L514.986 954.627 Z\" fill=\"#009af9\" fill-rule=\"evenodd\" fill-opacity=\"1\" stroke=\"#000000\" stroke-opacity=\"1\" stroke-width=\"3.2\"/>\n<path clip-path=\"url(#clip6402)\" d=\"M529.256 471.443 L517.944 466.755 L513.256 455.443 L517.944 444.131 L529.256 439.443 L540.568 444.131 L545.256 455.443 L540.568 466.755 Z\" fill=\"#009af9\" fill-rule=\"evenodd\" fill-opacity=\"1\" stroke=\"#000000\" stroke-opacity=\"1\" stroke-width=\"3.2\"/>\n<path clip-path=\"url(#clip6402)\" d=\"M554.839 389.022 L543.527 384.334 L538.839 373.022 L543.527 361.71 L554.839 357.022 L566.151 361.71 L570.839 373.022 L566.151 384.334 Z\" fill=\"#009af9\" fill-rule=\"evenodd\" fill-opacity=\"1\" stroke=\"#000000\" stroke-opacity=\"1\" stroke-width=\"3.2\"/>\n<path clip-path=\"url(#clip6402)\" d=\"M580.421 632.308 L569.109 627.62 L564.421 616.308 L569.109 604.996 L580.421 600.308 L591.733 604.996 L596.421 616.308 L591.733 627.62 Z\" fill=\"#009af9\" fill-rule=\"evenodd\" fill-opacity=\"1\" stroke=\"#000000\" stroke-opacity=\"1\" stroke-width=\"3.2\"/>\n<path clip-path=\"url(#clip6402)\" d=\"M606.003 703.725 L594.691 699.037 L590.003 687.725 L594.691 676.413 L606.003 671.725 L617.315 676.413 L622.003 687.725 L617.315 699.037 Z\" fill=\"#009af9\" fill-rule=\"evenodd\" fill-opacity=\"1\" stroke=\"#000000\" stroke-opacity=\"1\" stroke-width=\"3.2\"/>\n<path clip-path=\"url(#clip6402)\" d=\"M631.585 551.605 L620.273 546.917 L615.585 535.605 L620.273 524.293 L631.585 519.605 L642.897 524.293 L647.585 535.605 L642.897 546.917 Z\" fill=\"#009af9\" fill-rule=\"evenodd\" fill-opacity=\"1\" stroke=\"#000000\" stroke-opacity=\"1\" stroke-width=\"3.2\"/>\n<path clip-path=\"url(#clip6402)\" d=\"M657.167 847.987 L645.855 843.299 L641.167 831.987 L645.855 820.675 L657.167 815.987 L668.479 820.675 L673.167 831.987 L668.479 843.299 Z\" fill=\"#009af9\" fill-rule=\"evenodd\" fill-opacity=\"1\" stroke=\"#000000\" stroke-opacity=\"1\" stroke-width=\"3.2\"/>\n<path clip-path=\"url(#clip6402)\" d=\"M682.75 979.844 L671.438 975.156 L666.75 963.844 L671.438 952.532 L682.75 947.844 L694.062 952.532 L698.75 963.844 L694.062 975.156 Z\" fill=\"#009af9\" fill-rule=\"evenodd\" fill-opacity=\"1\" stroke=\"#000000\" stroke-opacity=\"1\" stroke-width=\"3.2\"/>\n<path clip-path=\"url(#clip6402)\" d=\"M708.332 510.529 L697.02 505.841 L692.332 494.529 L697.02 483.217 L708.332 478.529 L719.644 483.217 L724.332 494.529 L719.644 505.841 Z\" fill=\"#009af9\" fill-rule=\"evenodd\" fill-opacity=\"1\" stroke=\"#000000\" stroke-opacity=\"1\" stroke-width=\"3.2\"/>\n<path clip-path=\"url(#clip6402)\" d=\"M733.914 475.762 L722.602 471.074 L717.914 459.762 L722.602 448.45 L733.914 443.762 L745.226 448.45 L749.914 459.762 L745.226 471.074 Z\" fill=\"#009af9\" fill-rule=\"evenodd\" fill-opacity=\"1\" stroke=\"#000000\" stroke-opacity=\"1\" stroke-width=\"3.2\"/>\n<path clip-path=\"url(#clip6402)\" d=\"M759.496 429.473 L748.184 424.785 L743.496 413.473 L748.184 402.161 L759.496 397.473 L770.808 402.161 L775.496 413.473 L770.808 424.785 Z\" fill=\"#009af9\" fill-rule=\"evenodd\" fill-opacity=\"1\" stroke=\"#000000\" stroke-opacity=\"1\" stroke-width=\"3.2\"/>\n<path clip-path=\"url(#clip6402)\" d=\"M785.078 759.783 L773.766 755.095 L769.078 743.783 L773.766 732.471 L785.078 727.783 L796.39 732.471 L801.078 743.783 L796.39 755.095 Z\" fill=\"#009af9\" fill-rule=\"evenodd\" fill-opacity=\"1\" stroke=\"#000000\" stroke-opacity=\"1\" stroke-width=\"3.2\"/>\n<path clip-path=\"url(#clip6402)\" d=\"M810.661 881.03 L799.349 876.342 L794.661 865.03 L799.349 853.718 L810.661 849.03 L821.973 853.718 L826.661 865.03 L821.973 876.342 Z\" fill=\"#009af9\" fill-rule=\"evenodd\" fill-opacity=\"1\" stroke=\"#000000\" stroke-opacity=\"1\" stroke-width=\"3.2\"/>\n<path clip-path=\"url(#clip6402)\" d=\"M836.243 707.013 L824.931 702.325 L820.243 691.013 L824.931 679.701 L836.243 675.013 L847.555 679.701 L852.243 691.013 L847.555 702.325 Z\" fill=\"#009af9\" fill-rule=\"evenodd\" fill-opacity=\"1\" stroke=\"#000000\" stroke-opacity=\"1\" stroke-width=\"3.2\"/>\n<path clip-path=\"url(#clip6402)\" d=\"M861.825 836.299 L850.513 831.611 L845.825 820.299 L850.513 808.987 L861.825 804.299 L873.137 808.987 L877.825 820.299 L873.137 831.611 Z\" fill=\"#009af9\" fill-rule=\"evenodd\" fill-opacity=\"1\" stroke=\"#000000\" stroke-opacity=\"1\" stroke-width=\"3.2\"/>\n<path clip-path=\"url(#clip6402)\" d=\"M887.407 559.116 L876.095 554.428 L871.407 543.116 L876.095 531.804 L887.407 527.116 L898.719 531.804 L903.407 543.116 L898.719 554.428 Z\" fill=\"#009af9\" fill-rule=\"evenodd\" fill-opacity=\"1\" stroke=\"#000000\" stroke-opacity=\"1\" stroke-width=\"3.2\"/>\n<path clip-path=\"url(#clip6402)\" d=\"M912.989 500.26 L901.677 495.572 L896.989 484.26 L901.677 472.948 L912.989 468.26 L924.301 472.948 L928.989 484.26 L924.301 495.572 Z\" fill=\"#009af9\" fill-rule=\"evenodd\" fill-opacity=\"1\" stroke=\"#000000\" stroke-opacity=\"1\" stroke-width=\"3.2\"/>\n<path clip-path=\"url(#clip6402)\" d=\"M938.572 298.193 L927.26 293.505 L922.572 282.193 L927.26 270.881 L938.572 266.193 L949.884 270.881 L954.572 282.193 L949.884 293.505 Z\" fill=\"#009af9\" fill-rule=\"evenodd\" fill-opacity=\"1\" stroke=\"#000000\" stroke-opacity=\"1\" stroke-width=\"3.2\"/>\n<path clip-path=\"url(#clip6402)\" d=\"M964.154 174.579 L952.842 169.891 L948.154 158.579 L952.842 147.267 L964.154 142.579 L975.466 147.267 L980.154 158.579 L975.466 169.891 Z\" fill=\"#009af9\" fill-rule=\"evenodd\" fill-opacity=\"1\" stroke=\"#000000\" stroke-opacity=\"1\" stroke-width=\"3.2\"/>\n<path clip-path=\"url(#clip6402)\" d=\"M989.736 249.068 L978.424 244.38 L973.736 233.068 L978.424 221.756 L989.736 217.068 L1001.05 221.756 L1005.74 233.068 L1001.05 244.38 Z\" fill=\"#009af9\" fill-rule=\"evenodd\" fill-opacity=\"1\" stroke=\"#000000\" stroke-opacity=\"1\" stroke-width=\"3.2\"/>\n<path clip-path=\"url(#clip6402)\" d=\"M1015.32 726.189 L1004.01 721.501 L999.318 710.189 L1004.01 698.877 L1015.32 694.189 L1026.63 698.877 L1031.32 710.189 L1026.63 721.501 Z\" fill=\"#009af9\" fill-rule=\"evenodd\" fill-opacity=\"1\" stroke=\"#000000\" stroke-opacity=\"1\" stroke-width=\"3.2\"/>\n<path clip-path=\"url(#clip6402)\" d=\"M1040.9 640.612 L1029.59 635.924 L1024.9 624.612 L1029.59 613.3 L1040.9 608.612 L1052.21 613.3 L1056.9 624.612 L1052.21 635.924 Z\" fill=\"#009af9\" fill-rule=\"evenodd\" fill-opacity=\"1\" stroke=\"#000000\" stroke-opacity=\"1\" stroke-width=\"3.2\"/>\n<path clip-path=\"url(#clip6402)\" d=\"M1066.48 618.162 L1055.17 613.474 L1050.48 602.162 L1055.17 590.85 L1066.48 586.162 L1077.79 590.85 L1082.48 602.162 L1077.79 613.474 Z\" fill=\"#009af9\" fill-rule=\"evenodd\" fill-opacity=\"1\" stroke=\"#000000\" stroke-opacity=\"1\" stroke-width=\"3.2\"/>\n<path clip-path=\"url(#clip6402)\" d=\"M1092.06 733.818 L1080.75 729.13 L1076.06 717.818 L1080.75 706.506 L1092.06 701.818 L1103.38 706.506 L1108.06 717.818 L1103.38 729.13 Z\" fill=\"#009af9\" fill-rule=\"evenodd\" fill-opacity=\"1\" stroke=\"#000000\" stroke-opacity=\"1\" stroke-width=\"3.2\"/>\n<path clip-path=\"url(#clip6402)\" d=\"M1117.65 711.144 L1106.34 706.456 L1101.65 695.144 L1106.34 683.832 L1117.65 679.144 L1128.96 683.832 L1133.65 695.144 L1128.96 706.456 Z\" fill=\"#009af9\" fill-rule=\"evenodd\" fill-opacity=\"1\" stroke=\"#000000\" stroke-opacity=\"1\" stroke-width=\"3.2\"/>\n<path clip-path=\"url(#clip6402)\" d=\"M1143.23 492.643 L1131.92 487.955 L1127.23 476.643 L1131.92 465.331 L1143.23 460.643 L1154.54 465.331 L1159.23 476.643 L1154.54 487.955 Z\" fill=\"#009af9\" fill-rule=\"evenodd\" fill-opacity=\"1\" stroke=\"#000000\" stroke-opacity=\"1\" stroke-width=\"3.2\"/>\n<path clip-path=\"url(#clip6402)\" d=\"M1168.81 315.763 L1157.5 311.075 L1152.81 299.763 L1157.5 288.451 L1168.81 283.763 L1180.12 288.451 L1184.81 299.763 L1180.12 311.075 Z\" fill=\"#009af9\" fill-rule=\"evenodd\" fill-opacity=\"1\" stroke=\"#000000\" stroke-opacity=\"1\" stroke-width=\"3.2\"/>\n<path clip-path=\"url(#clip6402)\" d=\"M1194.39 432.986 L1183.08 428.298 L1178.39 416.986 L1183.08 405.674 L1194.39 400.986 L1205.71 405.674 L1210.39 416.986 L1205.71 428.298 Z\" fill=\"#009af9\" fill-rule=\"evenodd\" fill-opacity=\"1\" stroke=\"#000000\" stroke-opacity=\"1\" stroke-width=\"3.2\"/>\n<path clip-path=\"url(#clip6402)\" d=\"M1219.98 842.122 L1208.66 837.434 L1203.98 826.122 L1208.66 814.81 L1219.98 810.122 L1231.29 814.81 L1235.98 826.122 L1231.29 837.434 Z\" fill=\"#009af9\" fill-rule=\"evenodd\" fill-opacity=\"1\" stroke=\"#000000\" stroke-opacity=\"1\" stroke-width=\"3.2\"/>\n<path clip-path=\"url(#clip6402)\" d=\"M1245.56 659.81 L1234.25 655.122 L1229.56 643.81 L1234.25 632.498 L1245.56 627.81 L1256.87 632.498 L1261.56 643.81 L1256.87 655.122 Z\" fill=\"#009af9\" fill-rule=\"evenodd\" fill-opacity=\"1\" stroke=\"#000000\" stroke-opacity=\"1\" stroke-width=\"3.2\"/>\n<path clip-path=\"url(#clip6402)\" d=\"M1271.14 432.986 L1259.83 428.298 L1255.14 416.986 L1259.83 405.674 L1271.14 400.986 L1282.45 405.674 L1287.14 416.986 L1282.45 428.298 Z\" fill=\"#009af9\" fill-rule=\"evenodd\" fill-opacity=\"1\" stroke=\"#000000\" stroke-opacity=\"1\" stroke-width=\"3.2\"/>\n<path clip-path=\"url(#clip6402)\" d=\"M1296.72 519.624 L1285.41 514.936 L1280.72 503.624 L1285.41 492.312 L1296.72 487.624 L1308.03 492.312 L1312.72 503.624 L1308.03 514.936 Z\" fill=\"#009af9\" fill-rule=\"evenodd\" fill-opacity=\"1\" stroke=\"#000000\" stroke-opacity=\"1\" stroke-width=\"3.2\"/>\n<path clip-path=\"url(#clip6402)\" d=\"M1322.3 475.762 L1310.99 471.074 L1306.3 459.762 L1310.99 448.45 L1322.3 443.762 L1333.62 448.45 L1338.3 459.762 L1333.62 471.074 Z\" fill=\"#009af9\" fill-rule=\"evenodd\" fill-opacity=\"1\" stroke=\"#000000\" stroke-opacity=\"1\" stroke-width=\"3.2\"/>\n<path clip-path=\"url(#clip6402)\" d=\"M1347.89 591.305 L1336.57 586.617 L1331.89 575.305 L1336.57 563.993 L1347.89 559.305 L1359.2 563.993 L1363.89 575.305 L1359.2 586.617 Z\" fill=\"#009af9\" fill-rule=\"evenodd\" fill-opacity=\"1\" stroke=\"#000000\" stroke-opacity=\"1\" stroke-width=\"3.2\"/>\n<path clip-path=\"url(#clip6402)\" d=\"M1373.47 792.084 L1362.16 787.396 L1357.47 776.084 L1362.16 764.772 L1373.47 760.084 L1384.78 764.772 L1389.47 776.084 L1384.78 787.396 Z\" fill=\"#009af9\" fill-rule=\"evenodd\" fill-opacity=\"1\" stroke=\"#000000\" stroke-opacity=\"1\" stroke-width=\"3.2\"/>\n<path clip-path=\"url(#clip6402)\" d=\"M1399.05 919.76 L1387.74 915.072 L1383.05 903.76 L1387.74 892.448 L1399.05 887.76 L1410.36 892.448 L1415.05 903.76 L1410.36 915.072 Z\" fill=\"#009af9\" fill-rule=\"evenodd\" fill-opacity=\"1\" stroke=\"#000000\" stroke-opacity=\"1\" stroke-width=\"3.2\"/>\n<path clip-path=\"url(#clip6402)\" d=\"M1424.63 633.811 L1413.32 629.123 L1408.63 617.811 L1413.32 606.499 L1424.63 601.811 L1435.95 606.499 L1440.63 617.811 L1435.95 629.123 Z\" fill=\"#009af9\" fill-rule=\"evenodd\" fill-opacity=\"1\" stroke=\"#000000\" stroke-opacity=\"1\" stroke-width=\"3.2\"/>\n<path clip-path=\"url(#clip6402)\" d=\"M1450.22 522.896 L1438.9 518.208 L1434.22 506.896 L1438.9 495.584 L1450.22 490.896 L1461.53 495.584 L1466.22 506.896 L1461.53 518.208 Z\" fill=\"#009af9\" fill-rule=\"evenodd\" fill-opacity=\"1\" stroke=\"#000000\" stroke-opacity=\"1\" stroke-width=\"3.2\"/>\n<path clip-path=\"url(#clip6402)\" d=\"M1475.8 614.48 L1464.49 609.792 L1459.8 598.48 L1464.49 587.168 L1475.8 582.48 L1487.11 587.168 L1491.8 598.48 L1487.11 609.792 Z\" fill=\"#009af9\" fill-rule=\"evenodd\" fill-opacity=\"1\" stroke=\"#000000\" stroke-opacity=\"1\" stroke-width=\"3.2\"/>\n<path clip-path=\"url(#clip6402)\" d=\"M1501.38 517.666 L1490.07 512.978 L1485.38 501.666 L1490.07 490.354 L1501.38 485.666 L1512.69 490.354 L1517.38 501.666 L1512.69 512.978 Z\" fill=\"#009af9\" fill-rule=\"evenodd\" fill-opacity=\"1\" stroke=\"#000000\" stroke-opacity=\"1\" stroke-width=\"3.2\"/>\n<path clip-path=\"url(#clip6402)\" d=\"M1526.96 717.796 L1515.65 713.108 L1510.96 701.796 L1515.65 690.484 L1526.96 685.796 L1538.27 690.484 L1542.96 701.796 L1538.27 713.108 Z\" fill=\"#009af9\" fill-rule=\"evenodd\" fill-opacity=\"1\" stroke=\"#000000\" stroke-opacity=\"1\" stroke-width=\"3.2\"/>\n<path clip-path=\"url(#clip6402)\" d=\"M1552.54 717.796 L1541.23 713.108 L1536.54 701.796 L1541.23 690.484 L1552.54 685.796 L1563.86 690.484 L1568.54 701.796 L1563.86 713.108 Z\" fill=\"#009af9\" fill-rule=\"evenodd\" fill-opacity=\"1\" stroke=\"#000000\" stroke-opacity=\"1\" stroke-width=\"3.2\"/>\n<path clip-path=\"url(#clip6402)\" d=\"M1578.13 698.001 L1566.81 693.313 L1562.13 682.001 L1566.81 670.689 L1578.13 666.001 L1589.44 670.689 L1594.13 682.001 L1589.44 693.313 Z\" fill=\"#009af9\" fill-rule=\"evenodd\" fill-opacity=\"1\" stroke=\"#000000\" stroke-opacity=\"1\" stroke-width=\"3.2\"/>\n<path clip-path=\"url(#clip6402)\" d=\"M1603.71 588.455 L1592.4 583.767 L1587.71 572.455 L1592.4 561.143 L1603.71 556.455 L1615.02 561.143 L1619.71 572.455 L1615.02 583.767 Z\" fill=\"#009af9\" fill-rule=\"evenodd\" fill-opacity=\"1\" stroke=\"#000000\" stroke-opacity=\"1\" stroke-width=\"3.2\"/>\n<path clip-path=\"url(#clip6402)\" d=\"M1629.29 594.883 L1617.98 590.195 L1613.29 578.883 L1617.98 567.571 L1629.29 562.883 L1640.6 567.571 L1645.29 578.883 L1640.6 590.195 Z\" fill=\"#009af9\" fill-rule=\"evenodd\" fill-opacity=\"1\" stroke=\"#000000\" stroke-opacity=\"1\" stroke-width=\"3.2\"/>\n<path clip-path=\"url(#clip6402)\" d=\"M1654.87 671.552 L1643.56 666.864 L1638.87 655.552 L1643.56 644.24 L1654.87 639.552 L1666.19 644.24 L1670.87 655.552 L1666.19 666.864 Z\" fill=\"#009af9\" fill-rule=\"evenodd\" fill-opacity=\"1\" stroke=\"#000000\" stroke-opacity=\"1\" stroke-width=\"3.2\"/>\n<path clip-path=\"url(#clip6402)\" d=\"M1680.46 624.088 L1669.14 619.4 L1664.46 608.088 L1669.14 596.776 L1680.46 592.088 L1691.77 596.776 L1696.46 608.088 L1691.77 619.4 Z\" fill=\"#009af9\" fill-rule=\"evenodd\" fill-opacity=\"1\" stroke=\"#000000\" stroke-opacity=\"1\" stroke-width=\"3.2\"/>\n<path clip-path=\"url(#clip6402)\" d=\"M1706.04 586.323 L1694.73 581.635 L1690.04 570.323 L1694.73 559.011 L1706.04 554.323 L1717.35 559.011 L1722.04 570.323 L1717.35 581.635 Z\" fill=\"#009af9\" fill-rule=\"evenodd\" fill-opacity=\"1\" stroke=\"#000000\" stroke-opacity=\"1\" stroke-width=\"3.2\"/>\n<path clip-path=\"url(#clip6402)\" d=\"M1731.62 518.971 L1720.31 514.283 L1715.62 502.971 L1720.31 491.659 L1731.62 486.971 L1742.93 491.659 L1747.62 502.971 L1742.93 514.283 Z\" fill=\"#009af9\" fill-rule=\"evenodd\" fill-opacity=\"1\" stroke=\"#000000\" stroke-opacity=\"1\" stroke-width=\"3.2\"/>\n<path clip-path=\"url(#clip6402)\" d=\"M1757.2 782.981 L1745.89 778.293 L1741.2 766.981 L1745.89 755.669 L1757.2 750.981 L1768.51 755.669 L1773.2 766.981 L1768.51 778.293 Z\" fill=\"#009af9\" fill-rule=\"evenodd\" fill-opacity=\"1\" stroke=\"#000000\" stroke-opacity=\"1\" stroke-width=\"3.2\"/>\n<path clip-path=\"url(#clip6402)\" d=\"M1782.78 473.908 L1771.47 469.22 L1766.78 457.908 L1771.47 446.596 L1782.78 441.908 L1794.1 446.596 L1798.78 457.908 L1794.1 469.22 Z\" fill=\"#009af9\" fill-rule=\"evenodd\" fill-opacity=\"1\" stroke=\"#000000\" stroke-opacity=\"1\" stroke-width=\"3.2\"/>\n<path clip-path=\"url(#clip6402)\" d=\"M1808.37 533.46 L1797.05 528.772 L1792.37 517.46 L1797.05 506.148 L1808.37 501.46 L1819.68 506.148 L1824.37 517.46 L1819.68 528.772 Z\" fill=\"#009af9\" fill-rule=\"evenodd\" fill-opacity=\"1\" stroke=\"#000000\" stroke-opacity=\"1\" stroke-width=\"3.2\"/>\n<path clip-path=\"url(#clip6402)\" d=\"M1833.95 653.617 L1822.64 648.929 L1817.95 637.617 L1822.64 626.305 L1833.95 621.617 L1845.26 626.305 L1849.95 637.617 L1845.26 648.929 Z\" fill=\"#009af9\" fill-rule=\"evenodd\" fill-opacity=\"1\" stroke=\"#000000\" stroke-opacity=\"1\" stroke-width=\"3.2\"/>\n<path clip-path=\"url(#clip6402)\" d=\"M1859.53 640.612 L1848.22 635.924 L1843.53 624.612 L1848.22 613.3 L1859.53 608.612 L1870.84 613.3 L1875.53 624.612 L1870.84 635.924 Z\" fill=\"#009af9\" fill-rule=\"evenodd\" fill-opacity=\"1\" stroke=\"#000000\" stroke-opacity=\"1\" stroke-width=\"3.2\"/>\n<path clip-path=\"url(#clip6402)\" d=\"M1885.11 629.309 L1873.8 624.621 L1869.11 613.309 L1873.8 601.997 L1885.11 597.309 L1896.43 601.997 L1901.11 613.309 L1896.43 624.621 Z\" fill=\"#009af9\" fill-rule=\"evenodd\" fill-opacity=\"1\" stroke=\"#000000\" stroke-opacity=\"1\" stroke-width=\"3.2\"/>\n<path clip-path=\"url(#clip6402)\" d=\"M1910.7 941.496 L1899.38 936.808 L1894.7 925.496 L1899.38 914.184 L1910.7 909.496 L1922.01 914.184 L1926.7 925.496 L1922.01 936.808 Z\" fill=\"#009af9\" fill-rule=\"evenodd\" fill-opacity=\"1\" stroke=\"#000000\" stroke-opacity=\"1\" stroke-width=\"3.2\"/>\n<path clip-path=\"url(#clip6402)\" d=\"M1936.28 1113.99 L1924.97 1109.31 L1920.28 1097.99 L1924.97 1086.68 L1936.28 1081.99 L1947.59 1086.68 L1952.28 1097.99 L1947.59 1109.31 Z\" fill=\"#009af9\" fill-rule=\"evenodd\" fill-opacity=\"1\" stroke=\"#000000\" stroke-opacity=\"1\" stroke-width=\"3.2\"/>\n<path clip-path=\"url(#clip6402)\" d=\"M1961.86 579.963 L1950.55 575.275 L1945.86 563.963 L1950.55 552.651 L1961.86 547.963 L1973.17 552.651 L1977.86 563.963 L1973.17 575.275 Z\" fill=\"#009af9\" fill-rule=\"evenodd\" fill-opacity=\"1\" stroke=\"#000000\" stroke-opacity=\"1\" stroke-width=\"3.2\"/>\n<path clip-path=\"url(#clip6402)\" d=\"M1987.44 621.86 L1976.13 617.172 L1971.44 605.86 L1976.13 594.548 L1987.44 589.86 L1998.75 594.548 L2003.44 605.86 L1998.75 617.172 Z\" fill=\"#009af9\" fill-rule=\"evenodd\" fill-opacity=\"1\" stroke=\"#000000\" stroke-opacity=\"1\" stroke-width=\"3.2\"/>\n<path clip-path=\"url(#clip6402)\" d=\"M2013.02 807.799 L2001.71 803.111 L1997.02 791.799 L2001.71 780.487 L2013.02 775.799 L2024.34 780.487 L2029.02 791.799 L2024.34 803.111 Z\" fill=\"#009af9\" fill-rule=\"evenodd\" fill-opacity=\"1\" stroke=\"#000000\" stroke-opacity=\"1\" stroke-width=\"3.2\"/>\n<path clip-path=\"url(#clip6402)\" d=\"M2038.61 818.133 L2027.29 813.445 L2022.61 802.133 L2027.29 790.821 L2038.61 786.133 L2049.92 790.821 L2054.61 802.133 L2049.92 813.445 Z\" fill=\"#009af9\" fill-rule=\"evenodd\" fill-opacity=\"1\" stroke=\"#000000\" stroke-opacity=\"1\" stroke-width=\"3.2\"/>\n<path clip-path=\"url(#clip6402)\" d=\"M2064.19 781.173 L2052.88 776.485 L2048.19 765.173 L2052.88 753.861 L2064.19 749.173 L2075.5 753.861 L2080.19 765.173 L2075.5 776.485 Z\" fill=\"#009af9\" fill-rule=\"evenodd\" fill-opacity=\"1\" stroke=\"#000000\" stroke-opacity=\"1\" stroke-width=\"3.2\"/>\n<path clip-path=\"url(#clip6402)\" d=\"M2089.77 1161.75 L2078.46 1157.06 L2073.77 1145.75 L2078.46 1134.44 L2089.77 1129.75 L2101.08 1134.44 L2105.77 1145.75 L2101.08 1157.06 Z\" fill=\"#009af9\" fill-rule=\"evenodd\" fill-opacity=\"1\" stroke=\"#000000\" stroke-opacity=\"1\" stroke-width=\"3.2\"/>\n<path clip-path=\"url(#clip6402)\" d=\"M2115.35 1018.89 L2104.04 1014.2 L2099.35 1002.89 L2104.04 991.58 L2115.35 986.892 L2126.67 991.58 L2131.35 1002.89 L2126.67 1014.2 Z\" fill=\"#009af9\" fill-rule=\"evenodd\" fill-opacity=\"1\" stroke=\"#000000\" stroke-opacity=\"1\" stroke-width=\"3.2\"/>\n<path clip-path=\"url(#clip6402)\" d=\"M2140.94 634.564 L2129.62 629.876 L2124.94 618.564 L2129.62 607.252 L2140.94 602.564 L2152.25 607.252 L2156.94 618.564 L2152.25 629.876 Z\" fill=\"#009af9\" fill-rule=\"evenodd\" fill-opacity=\"1\" stroke=\"#000000\" stroke-opacity=\"1\" stroke-width=\"3.2\"/>\n<path clip-path=\"url(#clip6402)\" d=\"M2166.52 809.668 L2155.21 804.98 L2150.52 793.668 L2155.21 782.356 L2166.52 777.668 L2177.83 782.356 L2182.52 793.668 L2177.83 804.98 Z\" fill=\"#009af9\" fill-rule=\"evenodd\" fill-opacity=\"1\" stroke=\"#000000\" stroke-opacity=\"1\" stroke-width=\"3.2\"/>\n<path clip-path=\"url(#clip6402)\" d=\"M2192.1 790.256 L2180.79 785.568 L2176.1 774.256 L2180.79 762.944 L2192.1 758.256 L2203.41 762.944 L2208.1 774.256 L2203.41 785.568 Z\" fill=\"#009af9\" fill-rule=\"evenodd\" fill-opacity=\"1\" stroke=\"#000000\" stroke-opacity=\"1\" stroke-width=\"3.2\"/>\n<path clip-path=\"url(#clip6402)\" d=\"M2217.68 703.725 L2206.37 699.037 L2201.68 687.725 L2206.37 676.413 L2217.68 671.725 L2228.99 676.413 L2233.68 687.725 L2228.99 699.037 Z\" fill=\"#009af9\" fill-rule=\"evenodd\" fill-opacity=\"1\" stroke=\"#000000\" stroke-opacity=\"1\" stroke-width=\"3.2\"/>\n<path clip-path=\"url(#clip6402)\" d=\"M2243.26 1096.45 L2231.95 1091.77 L2227.26 1080.45 L2231.95 1069.14 L2243.26 1064.45 L2254.58 1069.14 L2259.26 1080.45 L2254.58 1091.77 Z\" fill=\"#009af9\" fill-rule=\"evenodd\" fill-opacity=\"1\" stroke=\"#000000\" stroke-opacity=\"1\" stroke-width=\"3.2\"/>\n<path clip-path=\"url(#clip6402)\" d=\"M2268.85 1328.29 L2257.53 1323.6 L2252.85 1312.29 L2257.53 1300.98 L2268.85 1296.29 L2280.16 1300.98 L2284.85 1312.29 L2280.16 1323.6 Z\" fill=\"#009af9\" fill-rule=\"evenodd\" fill-opacity=\"1\" stroke=\"#000000\" stroke-opacity=\"1\" stroke-width=\"3.2\"/>\n<path clip-path=\"url(#clip6402)\" d=\"M2294.43 1404.71 L2283.12 1400.03 L2278.43 1388.71 L2283.12 1377.4 L2294.43 1372.71 L2305.74 1377.4 L2310.43 1388.71 L2305.74 1400.03 Z\" fill=\"#009af9\" fill-rule=\"evenodd\" fill-opacity=\"1\" stroke=\"#000000\" stroke-opacity=\"1\" stroke-width=\"3.2\"/>\n<path clip-path=\"url(#clip6400)\" d=\"\nM363.853 326.155 L670.711 326.155 L670.711 205.195 L363.853 205.195  Z\n  \" fill=\"#ffffff\" fill-rule=\"evenodd\" fill-opacity=\"1\"/>\n<polyline clip-path=\"url(#clip6400)\" style=\"stroke:#000000; stroke-width:4; stroke-opacity:1; fill:none\" points=\"\n  363.853,326.155 670.711,326.155 670.711,205.195 363.853,205.195 363.853,326.155 \n  \"/>\n<polyline clip-path=\"url(#clip6400)\" style=\"stroke:#009af9; stroke-width:4; stroke-opacity:1; fill:none\" points=\"\n  387.853,265.675 531.853,265.675 \n  \"/>\n<path clip-path=\"url(#clip6400)\" d=\"M471.853 289.675 L454.885 282.643 L447.853 265.675 L454.885 248.707 L471.853 241.675 L488.821 248.707 L495.853 265.675 L488.821 282.643 Z\" fill=\"#009af9\" fill-rule=\"evenodd\" fill-opacity=\"1\" stroke=\"#000000\" stroke-opacity=\"1\" stroke-width=\"3.2\"/>\n<g clip-path=\"url(#clip6400)\">\n<text style=\"fill:#000000; fill-opacity:1; font-family:Arial,Helvetica Neue,Helvetica,sans-serif; font-size:48px; text-anchor:start;\" transform=\"rotate(0, 555.853, 283.175)\" x=\"555.853\" y=\"283.175\">US</text>\n</g>\n</svg>\n"
               },
               "type": "node"
              }
             ],
             "instanceArgs": {
              "namespace": "html",
              "tag": "div"
             },
             "nodeType": "DOM",
             "props": {
              "className": "interact-flex-row interact-widget"
             },
             "type": "node"
            }
           }
          },
          "systemjs_options": null
         },
         "nodeType": "Scope",
         "props": {},
         "type": "node"
        }
       ],
       "instanceArgs": {
        "namespace": "html",
        "tag": "div"
       },
       "nodeType": "DOM",
       "props": {},
       "type": "node"
      },
      "text/html": [
       "<div\n",
       "    class=\"webio-mountpoint\"\n",
       "    data-webio-mountpoint=\"3205740448422684592\"\n",
       ">\n",
       "    <script>\n",
       "    if (window.require && require.defined && require.defined(\"nbextensions/webio-jupyter-notebook\")) {\n",
       "        console.log(\"Jupyter WebIO extension detected, not mounting.\");\n",
       "    } else if (window.WebIO) {\n",
       "        WebIO.mount(\n",
       "            document.querySelector('[data-webio-mountpoint=\"3205740448422684592\"]'),\n",
       "            {\"props\":{},\"nodeType\":\"DOM\",\"type\":\"node\",\"instanceArgs\":{\"namespace\":\"html\",\"tag\":\"div\"},\"children\":[{\"props\":{\"className\":\"field interact-widget\"},\"nodeType\":\"DOM\",\"type\":\"node\",\"instanceArgs\":{\"namespace\":\"html\",\"tag\":\"div\"},\"children\":[{\"props\":{},\"nodeType\":\"Scope\",\"type\":\"node\",\"instanceArgs\":{\"imports\":{\"data\":[{\"name\":\"knockout\",\"type\":\"js\",\"url\":\"\\/assetserver\\/e30804d580242ff490836fea138ed12dab987650-knockout.js\"},{\"name\":\"knockout_punches\",\"type\":\"js\",\"url\":\"\\/assetserver\\/3b050a7a6e0183134ddf7d37e9900e424ee82b96-knockout_punches.js\"},{\"name\":null,\"type\":\"js\",\"url\":\"\\/assetserver\\/72820b874a45543a799a471aa05eefa33c06bf5a-all.js\"},{\"name\":null,\"type\":\"css\",\"url\":\"\\/assetserver\\/e7517b5a7de555d89430fc976892a64cbe24a2bc-style.css\"},{\"name\":null,\"type\":\"css\",\"url\":\"\\/assetserver\\/8371af573dfc972c716f005fa6460852db032b9c-bulma_confined.min.css\"}],\"type\":\"async_block\"},\"id\":\"323744737553802340\",\"handlers\":{\"changes\":[\"(function (val){return (val!=this.model[\\\"changes\\\"]()) ? (this.valueFromJulia[\\\"changes\\\"]=true, this.model[\\\"changes\\\"](val)) : undefined})\"],\"index\":[\"(function (val){return (val!=this.model[\\\"index\\\"]()) ? (this.valueFromJulia[\\\"index\\\"]=true, this.model[\\\"index\\\"](val)) : undefined})\"]},\"systemjs_options\":null,\"mount_callbacks\":[\"function () {\\n    var handler = (function (ko, koPunches) {\\n    ko.punches.enableAll();\\n    ko.bindingHandlers.numericValue = {\\n        init: function(element, valueAccessor, allBindings, data, context) {\\n            var stringified = ko.observable(ko.unwrap(valueAccessor()));\\n            stringified.subscribe(function(value) {\\n                var val = parseFloat(value);\\n                if (!isNaN(val)) {\\n                    valueAccessor()(val);\\n                }\\n            });\\n            valueAccessor().subscribe(function(value) {\\n                var str = JSON.stringify(value);\\n                if ((str == \\\"0\\\") && ([\\\"-0\\\", \\\"-0.\\\"].indexOf(stringified()) >= 0))\\n                     return;\\n                 if ([\\\"null\\\", \\\"\\\"].indexOf(str) >= 0)\\n                     return;\\n                stringified(str);\\n            });\\n            ko.applyBindingsToNode(\\n                element,\\n                {\\n                    value: stringified,\\n                    valueUpdate: allBindings.get('valueUpdate'),\\n                },\\n                context,\\n            );\\n        }\\n    };\\n    var json_data = {\\\"formatted_vals\\\":[\\\"1\\\",\\\"2\\\",\\\"3\\\",\\\"4\\\",\\\"5\\\",\\\"6\\\",\\\"7\\\",\\\"8\\\",\\\"9\\\",\\\"10\\\",\\\"11\\\",\\\"12\\\",\\\"13\\\",\\\"14\\\",\\\"15\\\",\\\"16\\\",\\\"17\\\",\\\"18\\\",\\\"19\\\",\\\"20\\\",\\\"21\\\",\\\"22\\\",\\\"23\\\",\\\"24\\\",\\\"25\\\",\\\"26\\\",\\\"27\\\",\\\"28\\\",\\\"29\\\",\\\"30\\\",\\\"31\\\",\\\"32\\\",\\\"33\\\",\\\"34\\\",\\\"35\\\",\\\"36\\\",\\\"37\\\",\\\"38\\\",\\\"39\\\",\\\"40\\\",\\\"41\\\",\\\"42\\\",\\\"43\\\",\\\"44\\\",\\\"45\\\",\\\"46\\\",\\\"47\\\",\\\"48\\\",\\\"49\\\",\\\"50\\\",\\\"51\\\",\\\"52\\\",\\\"53\\\",\\\"54\\\",\\\"55\\\",\\\"56\\\",\\\"57\\\",\\\"58\\\",\\\"59\\\",\\\"60\\\",\\\"61\\\",\\\"62\\\",\\\"63\\\",\\\"64\\\",\\\"65\\\",\\\"66\\\",\\\"67\\\",\\\"68\\\",\\\"69\\\",\\\"70\\\",\\\"71\\\",\\\"72\\\",\\\"73\\\",\\\"74\\\",\\\"75\\\",\\\"76\\\",\\\"77\\\",\\\"78\\\",\\\"79\\\",\\\"80\\\",\\\"81\\\",\\\"82\\\",\\\"83\\\",\\\"84\\\",\\\"85\\\",\\\"86\\\",\\\"87\\\",\\\"88\\\",\\\"89\\\",\\\"90\\\",\\\"91\\\",\\\"92\\\",\\\"93\\\",\\\"94\\\",\\\"95\\\",\\\"96\\\",\\\"97\\\",\\\"98\\\",\\\"99\\\",\\\"100\\\",\\\"101\\\",\\\"102\\\",\\\"103\\\",\\\"104\\\",\\\"105\\\",\\\"106\\\",\\\"107\\\",\\\"108\\\",\\\"109\\\",\\\"110\\\",\\\"111\\\",\\\"112\\\",\\\"113\\\",\\\"114\\\",\\\"115\\\",\\\"116\\\",\\\"117\\\",\\\"118\\\",\\\"119\\\",\\\"120\\\",\\\"121\\\",\\\"122\\\",\\\"123\\\",\\\"124\\\",\\\"125\\\",\\\"126\\\",\\\"127\\\",\\\"128\\\",\\\"129\\\",\\\"130\\\",\\\"131\\\",\\\"132\\\",\\\"133\\\",\\\"134\\\",\\\"135\\\",\\\"136\\\",\\\"137\\\",\\\"138\\\",\\\"139\\\",\\\"140\\\",\\\"141\\\",\\\"142\\\",\\\"143\\\",\\\"144\\\",\\\"145\\\",\\\"146\\\",\\\"147\\\",\\\"148\\\",\\\"149\\\",\\\"150\\\",\\\"151\\\",\\\"152\\\",\\\"153\\\",\\\"154\\\"],\\\"changes\\\":WebIO.getval({\\\"name\\\":\\\"changes\\\",\\\"scope\\\":\\\"323744737553802340\\\",\\\"id\\\":\\\"ob_62\\\",\\\"type\\\":\\\"observable\\\"}),\\\"index\\\":WebIO.getval({\\\"name\\\":\\\"index\\\",\\\"scope\\\":\\\"323744737553802340\\\",\\\"id\\\":\\\"ob_61\\\",\\\"type\\\":\\\"observable\\\"})};\\n    var self = this;\\n    function AppViewModel() {\\n        for (var key in json_data) {\\n            var el = json_data[key];\\n            this[key] = Array.isArray(el) ? ko.observableArray(el) : ko.observable(el);\\n        }\\n        \\n        [this[\\\"formatted_val\\\"]=ko.computed(    function(){\\n        return this.formatted_vals()[parseInt(this.index())-(1)];\\n    }\\n,this)]\\n        [this[\\\"changes\\\"].subscribe((function (val){!(this.valueFromJulia[\\\"changes\\\"]) ? (WebIO.setval({\\\"name\\\":\\\"changes\\\",\\\"scope\\\":\\\"323744737553802340\\\",\\\"id\\\":\\\"ob_62\\\",\\\"type\\\":\\\"observable\\\"},val)) : undefined; return this.valueFromJulia[\\\"changes\\\"]=false}),self),this[\\\"index\\\"].subscribe((function (val){!(this.valueFromJulia[\\\"index\\\"]) ? (WebIO.setval({\\\"name\\\":\\\"index\\\",\\\"scope\\\":\\\"323744737553802340\\\",\\\"id\\\":\\\"ob_61\\\",\\\"type\\\":\\\"observable\\\"},val)) : undefined; return this.valueFromJulia[\\\"index\\\"]=false}),self)]\\n        \\n    }\\n    self.model = new AppViewModel();\\n    self.valueFromJulia = {};\\n    for (var key in json_data) {\\n        self.valueFromJulia[key] = false;\\n    }\\n    ko.applyBindings(self.model, self.dom);\\n}\\n);\\n    (WebIO.importBlock({\\\"data\\\":[{\\\"name\\\":\\\"knockout\\\",\\\"type\\\":\\\"js\\\",\\\"url\\\":\\\"\\/assetserver\\/e30804d580242ff490836fea138ed12dab987650-knockout.js\\\"},{\\\"name\\\":\\\"knockout_punches\\\",\\\"type\\\":\\\"js\\\",\\\"url\\\":\\\"\\/assetserver\\/3b050a7a6e0183134ddf7d37e9900e424ee82b96-knockout_punches.js\\\"}],\\\"type\\\":\\\"async_block\\\"})).then((imports) => handler.apply(this, imports));\\n}\\n\"],\"observables\":{\"changes\":{\"sync\":false,\"id\":\"ob_62\",\"value\":0},\"index\":{\"sync\":true,\"id\":\"ob_61\",\"value\":77}}},\"children\":[{\"props\":{\"className\":\"interact-flex-row interact-widget\"},\"nodeType\":\"DOM\",\"type\":\"node\",\"instanceArgs\":{\"namespace\":\"html\",\"tag\":\"div\"},\"children\":[{\"props\":{\"className\":\"interact-flex-row-left\"},\"nodeType\":\"DOM\",\"type\":\"node\",\"instanceArgs\":{\"namespace\":\"html\",\"tag\":\"div\"},\"children\":[{\"props\":{\"className\":\"interact \",\"style\":{\"padding\":\"5px 10px 0px 10px\"}},\"nodeType\":\"DOM\",\"type\":\"node\",\"instanceArgs\":{\"namespace\":\"html\",\"tag\":\"label\"},\"children\":[\"day\"]}]},{\"props\":{\"className\":\"interact-flex-row-center\"},\"nodeType\":\"DOM\",\"type\":\"node\",\"instanceArgs\":{\"namespace\":\"html\",\"tag\":\"div\"},\"children\":[{\"props\":{\"max\":154,\"min\":1,\"attributes\":{\"type\":\"range\",\"data-bind\":\"numericValue: index, valueUpdate: 'input', event: {change: function (){this.changes(this.changes()+1)}}\",\"orient\":\"horizontal\"},\"step\":1,\"className\":\"slider slider is-fullwidth\",\"style\":{}},\"nodeType\":\"DOM\",\"type\":\"node\",\"instanceArgs\":{\"namespace\":\"html\",\"tag\":\"input\"},\"children\":[]}]},{\"props\":{\"className\":\"interact-flex-row-right\"},\"nodeType\":\"DOM\",\"type\":\"node\",\"instanceArgs\":{\"namespace\":\"html\",\"tag\":\"div\"},\"children\":[{\"props\":{\"attributes\":{\"data-bind\":\"text: formatted_val\"}},\"nodeType\":\"DOM\",\"type\":\"node\",\"instanceArgs\":{\"namespace\":\"html\",\"tag\":\"p\"},\"children\":[]}]}]}]}]},{\"props\":{},\"nodeType\":\"Scope\",\"type\":\"node\",\"instanceArgs\":{\"imports\":{\"data\":[],\"type\":\"async_block\"},\"id\":\"1723919755459970125\",\"handlers\":{},\"systemjs_options\":null,\"mount_callbacks\":[],\"observables\":{\"obs-node\":{\"sync\":false,\"id\":\"ob_66\",\"value\":{\"props\":{\"className\":\"interact-flex-row interact-widget\"},\"nodeType\":\"DOM\",\"type\":\"node\",\"instanceArgs\":{\"namespace\":\"html\",\"tag\":\"div\"},\"children\":[{\"props\":{\"setInnerHtml\":\"<?xml version=\\\"1.0\\\" encoding=\\\"utf-8\\\"?>\\n<svg xmlns=\\\"http:\\/\\/www.w3.org\\/2000\\/svg\\\" xmlns:xlink=\\\"http:\\/\\/www.w3.org\\/1999\\/xlink\\\" width=\\\"600\\\" height=\\\"400\\\" viewBox=\\\"0 0 2400 1600\\\">\\n<defs>\\n  <clipPath id=\\\"clip6000\\\">\\n    <rect x=\\\"0\\\" y=\\\"0\\\" width=\\\"2400\\\" height=\\\"1600\\\"\\/>\\n  <\\/clipPath>\\n<\\/defs>\\n<path clip-path=\\\"url(#clip6000)\\\" d=\\\"\\nM0 1600 L2400 1600 L2400 0 L0 0  Z\\n  \\\" fill=\\\"#ffffff\\\" fill-rule=\\\"evenodd\\\" fill-opacity=\\\"1\\\"\\/>\\n<defs>\\n  <clipPath id=\\\"clip6001\\\">\\n    <rect x=\\\"480\\\" y=\\\"0\\\" width=\\\"1681\\\" height=\\\"1600\\\"\\/>\\n  <\\/clipPath>\\n<\\/defs>\\n<path clip-path=\\\"url(#clip6000)\\\" d=\\\"\\nM291.853 1425.62 L2352.76 1425.62 L2352.76 121.675 L291.853 121.675  Z\\n  \\\" fill=\\\"#ffffff\\\" fill-rule=\\\"evenodd\\\" fill-opacity=\\\"1\\\"\\/>\\n<defs>\\n  <clipPath id=\\\"clip6002\\\">\\n    <rect x=\\\"291\\\" y=\\\"121\\\" width=\\\"2062\\\" height=\\\"1305\\\"\\/>\\n  <\\/clipPath>\\n<\\/defs>\\n<polyline clip-path=\\\"url(#clip6002)\\\" style=\\\"stroke:#000000; stroke-width:2; stroke-opacity:0.1; fill:none\\\" points=\\\"\\n  401.345,1425.62 401.345,121.675 \\n  \\\"\\/>\\n<polyline clip-path=\\\"url(#clip6002)\\\" style=\\\"stroke:#000000; stroke-width:2; stroke-opacity:0.1; fill:none\\\" points=\\\"\\n  1194.39,1425.62 1194.39,121.675 \\n  \\\"\\/>\\n<polyline clip-path=\\\"url(#clip6002)\\\" style=\\\"stroke:#000000; stroke-width:2; stroke-opacity:0.1; fill:none\\\" points=\\\"\\n  1936.28,1425.62 1936.28,121.675 \\n  \\\"\\/>\\n<polyline clip-path=\\\"url(#clip6002)\\\" style=\\\"stroke:#000000; stroke-width:2; stroke-opacity:0.1; fill:none\\\" points=\\\"\\n  291.853,1418.37 2352.76,1418.37 \\n  \\\"\\/>\\n<polyline clip-path=\\\"url(#clip6002)\\\" style=\\\"stroke:#000000; stroke-width:2; stroke-opacity:0.1; fill:none\\\" points=\\\"\\n  291.853,1232.45 2352.76,1232.45 \\n  \\\"\\/>\\n<polyline clip-path=\\\"url(#clip6002)\\\" style=\\\"stroke:#000000; stroke-width:2; stroke-opacity:0.1; fill:none\\\" points=\\\"\\n  291.853,1046.53 2352.76,1046.53 \\n  \\\"\\/>\\n<polyline clip-path=\\\"url(#clip6002)\\\" style=\\\"stroke:#000000; stroke-width:2; stroke-opacity:0.1; fill:none\\\" points=\\\"\\n  291.853,860.618 2352.76,860.618 \\n  \\\"\\/>\\n<polyline clip-path=\\\"url(#clip6002)\\\" style=\\\"stroke:#000000; stroke-width:2; stroke-opacity:0.1; fill:none\\\" points=\\\"\\n  291.853,674.701 2352.76,674.701 \\n  \\\"\\/>\\n<polyline clip-path=\\\"url(#clip6002)\\\" style=\\\"stroke:#000000; stroke-width:2; stroke-opacity:0.1; fill:none\\\" points=\\\"\\n  291.853,488.785 2352.76,488.785 \\n  \\\"\\/>\\n<polyline clip-path=\\\"url(#clip6002)\\\" style=\\\"stroke:#000000; stroke-width:2; stroke-opacity:0.1; fill:none\\\" points=\\\"\\n  291.853,302.868 2352.76,302.868 \\n  \\\"\\/>\\n<polyline clip-path=\\\"url(#clip6000)\\\" style=\\\"stroke:#000000; stroke-width:4; stroke-opacity:1; fill:none\\\" points=\\\"\\n  291.853,1425.62 2352.76,1425.62 \\n  \\\"\\/>\\n<polyline clip-path=\\\"url(#clip6000)\\\" style=\\\"stroke:#000000; stroke-width:4; stroke-opacity:1; fill:none\\\" points=\\\"\\n  291.853,1425.62 291.853,121.675 \\n  \\\"\\/>\\n<polyline clip-path=\\\"url(#clip6000)\\\" style=\\\"stroke:#000000; stroke-width:4; stroke-opacity:1; fill:none\\\" points=\\\"\\n  401.345,1425.62 401.345,1409.97 \\n  \\\"\\/>\\n<polyline clip-path=\\\"url(#clip6000)\\\" style=\\\"stroke:#000000; stroke-width:4; stroke-opacity:1; fill:none\\\" points=\\\"\\n  1194.39,1425.62 1194.39,1409.97 \\n  \\\"\\/>\\n<polyline clip-path=\\\"url(#clip6000)\\\" style=\\\"stroke:#000000; stroke-width:4; stroke-opacity:1; fill:none\\\" points=\\\"\\n  1936.28,1425.62 1936.28,1409.97 \\n  \\\"\\/>\\n<polyline clip-path=\\\"url(#clip6000)\\\" style=\\\"stroke:#000000; stroke-width:4; stroke-opacity:1; fill:none\\\" points=\\\"\\n  291.853,1418.37 316.584,1418.37 \\n  \\\"\\/>\\n<polyline clip-path=\\\"url(#clip6000)\\\" style=\\\"stroke:#000000; stroke-width:4; stroke-opacity:1; fill:none\\\" points=\\\"\\n  291.853,1232.45 316.584,1232.45 \\n  \\\"\\/>\\n<polyline clip-path=\\\"url(#clip6000)\\\" style=\\\"stroke:#000000; stroke-width:4; stroke-opacity:1; fill:none\\\" points=\\\"\\n  291.853,1046.53 316.584,1046.53 \\n  \\\"\\/>\\n<polyline clip-path=\\\"url(#clip6000)\\\" style=\\\"stroke:#000000; stroke-width:4; stroke-opacity:1; fill:none\\\" points=\\\"\\n  291.853,860.618 316.584,860.618 \\n  \\\"\\/>\\n<polyline clip-path=\\\"url(#clip6000)\\\" style=\\\"stroke:#000000; stroke-width:4; stroke-opacity:1; fill:none\\\" points=\\\"\\n  291.853,674.701 316.584,674.701 \\n  \\\"\\/>\\n<polyline clip-path=\\\"url(#clip6000)\\\" style=\\\"stroke:#000000; stroke-width:4; stroke-opacity:1; fill:none\\\" points=\\\"\\n  291.853,488.785 316.584,488.785 \\n  \\\"\\/>\\n<polyline clip-path=\\\"url(#clip6000)\\\" style=\\\"stroke:#000000; stroke-width:4; stroke-opacity:1; fill:none\\\" points=\\\"\\n  291.853,302.868 316.584,302.868 \\n  \\\"\\/>\\n<g clip-path=\\\"url(#clip6000)\\\">\\n<text style=\\\"fill:#000000; fill-opacity:1; font-family:Arial,Helvetica Neue,Helvetica,sans-serif; font-size:48px; text-anchor:middle;\\\" transform=\\\"rotate(0, 401.345, 1479.62)\\\" x=\\\"401.345\\\" y=\\\"1479.62\\\">2020-01-01<\\/text>\\n<\\/g>\\n<g clip-path=\\\"url(#clip6000)\\\">\\n<text style=\\\"fill:#000000; fill-opacity:1; font-family:Arial,Helvetica Neue,Helvetica,sans-serif; font-size:48px; text-anchor:middle;\\\" transform=\\\"rotate(0, 1194.39, 1479.62)\\\" x=\\\"1194.39\\\" y=\\\"1479.62\\\">2020-02-01<\\/text>\\n<\\/g>\\n<g clip-path=\\\"url(#clip6000)\\\">\\n<text style=\\\"fill:#000000; fill-opacity:1; font-family:Arial,Helvetica Neue,Helvetica,sans-serif; font-size:48px; text-anchor:middle;\\\" transform=\\\"rotate(0, 1936.28, 1479.62)\\\" x=\\\"1936.28\\\" y=\\\"1479.62\\\">2020-03-01<\\/text>\\n<\\/g>\\n<g clip-path=\\\"url(#clip6000)\\\">\\n<text style=\\\"fill:#000000; fill-opacity:1; font-family:Arial,Helvetica Neue,Helvetica,sans-serif; font-size:48px; text-anchor:start;\\\" transform=\\\"rotate(0, 159.968, 1442.1)\\\" x=\\\"159.968\\\" y=\\\"1442.1\\\">10<\\/text>\\n<\\/g>\\n<g clip-path=\\\"url(#clip6000)\\\">\\n<text style=\\\"fill:#000000; fill-opacity:1; font-family:Arial,Helvetica Neue,Helvetica,sans-serif; font-size:38px; text-anchor:start;\\\" transform=\\\"rotate(0, 213.492, 1414.69)\\\" x=\\\"213.492\\\" y=\\\"1414.69\\\">0.6<\\/text>\\n<\\/g>\\n<g clip-path=\\\"url(#clip6000)\\\">\\n<text style=\\\"fill:#000000; fill-opacity:1; font-family:Arial,Helvetica Neue,Helvetica,sans-serif; font-size:48px; text-anchor:start;\\\" transform=\\\"rotate(0, 159.968, 1256.18)\\\" x=\\\"159.968\\\" y=\\\"1256.18\\\">10<\\/text>\\n<\\/g>\\n<g clip-path=\\\"url(#clip6000)\\\">\\n<text style=\\\"fill:#000000; fill-opacity:1; font-family:Arial,Helvetica Neue,Helvetica,sans-serif; font-size:38px; text-anchor:start;\\\" transform=\\\"rotate(0, 213.492, 1228.77)\\\" x=\\\"213.492\\\" y=\\\"1228.77\\\">0.7<\\/text>\\n<\\/g>\\n<g clip-path=\\\"url(#clip6000)\\\">\\n<text style=\\\"fill:#000000; fill-opacity:1; font-family:Arial,Helvetica Neue,Helvetica,sans-serif; font-size:48px; text-anchor:start;\\\" transform=\\\"rotate(0, 159.968, 1070.26)\\\" x=\\\"159.968\\\" y=\\\"1070.26\\\">10<\\/text>\\n<\\/g>\\n<g clip-path=\\\"url(#clip6000)\\\">\\n<text style=\\\"fill:#000000; fill-opacity:1; font-family:Arial,Helvetica Neue,Helvetica,sans-serif; font-size:38px; text-anchor:start;\\\" transform=\\\"rotate(0, 213.492, 1042.85)\\\" x=\\\"213.492\\\" y=\\\"1042.85\\\">0.8<\\/text>\\n<\\/g>\\n<g clip-path=\\\"url(#clip6000)\\\">\\n<text style=\\\"fill:#000000; fill-opacity:1; font-family:Arial,Helvetica Neue,Helvetica,sans-serif; font-size:48px; text-anchor:start;\\\" transform=\\\"rotate(0, 159.968, 884.346)\\\" x=\\\"159.968\\\" y=\\\"884.346\\\">10<\\/text>\\n<\\/g>\\n<g clip-path=\\\"url(#clip6000)\\\">\\n<text style=\\\"fill:#000000; fill-opacity:1; font-family:Arial,Helvetica Neue,Helvetica,sans-serif; font-size:38px; text-anchor:start;\\\" transform=\\\"rotate(0, 213.492, 856.935)\\\" x=\\\"213.492\\\" y=\\\"856.935\\\">0.9<\\/text>\\n<\\/g>\\n<g clip-path=\\\"url(#clip6000)\\\">\\n<text style=\\\"fill:#000000; fill-opacity:1; font-family:Arial,Helvetica Neue,Helvetica,sans-serif; font-size:48px; text-anchor:start;\\\" transform=\\\"rotate(0, 159.968, 698.429)\\\" x=\\\"159.968\\\" y=\\\"698.429\\\">10<\\/text>\\n<\\/g>\\n<g clip-path=\\\"url(#clip6000)\\\">\\n<text style=\\\"fill:#000000; fill-opacity:1; font-family:Arial,Helvetica Neue,Helvetica,sans-serif; font-size:38px; text-anchor:start;\\\" transform=\\\"rotate(0, 213.492, 671.018)\\\" x=\\\"213.492\\\" y=\\\"671.018\\\">1.0<\\/text>\\n<\\/g>\\n<g clip-path=\\\"url(#clip6000)\\\">\\n<text style=\\\"fill:#000000; fill-opacity:1; font-family:Arial,Helvetica Neue,Helvetica,sans-serif; font-size:48px; text-anchor:start;\\\" transform=\\\"rotate(0, 159.968, 512.512)\\\" x=\\\"159.968\\\" y=\\\"512.512\\\">10<\\/text>\\n<\\/g>\\n<g clip-path=\\\"url(#clip6000)\\\">\\n<text style=\\\"fill:#000000; fill-opacity:1; font-family:Arial,Helvetica Neue,Helvetica,sans-serif; font-size:38px; text-anchor:start;\\\" transform=\\\"rotate(0, 213.492, 485.102)\\\" x=\\\"213.492\\\" y=\\\"485.102\\\">1.1<\\/text>\\n<\\/g>\\n<g clip-path=\\\"url(#clip6000)\\\">\\n<text style=\\\"fill:#000000; fill-opacity:1; font-family:Arial,Helvetica Neue,Helvetica,sans-serif; font-size:48px; text-anchor:start;\\\" transform=\\\"rotate(0, 159.968, 326.595)\\\" x=\\\"159.968\\\" y=\\\"326.595\\\">10<\\/text>\\n<\\/g>\\n<g clip-path=\\\"url(#clip6000)\\\">\\n<text style=\\\"fill:#000000; fill-opacity:1; font-family:Arial,Helvetica Neue,Helvetica,sans-serif; font-size:38px; text-anchor:start;\\\" transform=\\\"rotate(0, 213.492, 299.185)\\\" x=\\\"213.492\\\" y=\\\"299.185\\\">1.2<\\/text>\\n<\\/g>\\n<g clip-path=\\\"url(#clip6000)\\\">\\n<text style=\\\"fill:#000000; fill-opacity:1; font-family:Arial,Helvetica Neue,Helvetica,sans-serif; font-size:84px; text-anchor:middle;\\\" transform=\\\"rotate(0, 1322.3, 73.2)\\\" x=\\\"1322.3\\\" y=\\\"73.2\\\">Pollution<\\/text>\\n<\\/g>\\n<g clip-path=\\\"url(#clip6000)\\\">\\n<text style=\\\"fill:#000000; fill-opacity:1; font-family:Arial,Helvetica Neue,Helvetica,sans-serif; font-size:66px; text-anchor:middle;\\\" transform=\\\"rotate(0, 1322.3, 1559.48)\\\" x=\\\"1322.3\\\" y=\\\"1559.48\\\">Date<\\/text>\\n<\\/g>\\n<g clip-path=\\\"url(#clip6000)\\\">\\n<text style=\\\"fill:#000000; fill-opacity:1; font-family:Arial,Helvetica Neue,Helvetica,sans-serif; font-size:66px; text-anchor:middle;\\\" transform=\\\"rotate(-90, 89.2861, 773.647)\\\" x=\\\"89.2861\\\" y=\\\"773.647\\\">No2 Concentration<\\/text>\\n<\\/g>\\n<polyline clip-path=\\\"url(#clip6002)\\\" style=\\\"stroke:#009af9; stroke-width:4; stroke-opacity:1; fill:none\\\" points=\\\"\\n  350.181,758.875 375.763,665.07 401.345,942.19 426.928,461 452.51,375.806 478.092,566.078 503.674,943.315 529.256,455.443 554.839,373.022 580.421,616.308 \\n  606.003,687.725 631.585,535.605 657.167,831.987 682.75,963.844 708.332,494.529 733.914,459.762 759.496,413.473 785.078,743.783 810.661,865.03 836.243,691.013 \\n  861.825,820.299 887.407,543.116 912.989,484.26 938.572,282.193 964.154,158.579 989.736,233.068 1015.32,710.189 1040.9,624.612 1066.48,602.162 1092.06,717.818 \\n  1117.65,695.144 1143.23,476.643 1168.81,299.763 1194.39,416.986 1219.98,826.122 1245.56,643.81 1271.14,416.986 1296.72,503.624 1322.3,459.762 1347.89,575.305 \\n  1373.47,776.084 1399.05,903.76 1424.63,617.811 1450.22,506.896 1475.8,598.48 1501.38,501.666 1526.96,701.796 1552.54,701.796 1578.13,682.001 1603.71,572.455 \\n  1629.29,578.883 1654.87,655.552 1680.46,608.088 1706.04,570.323 1731.62,502.971 1757.2,766.981 1782.78,457.908 1808.37,517.46 1833.95,637.617 1859.53,624.612 \\n  1885.11,613.309 1910.7,925.496 1936.28,1097.99 1961.86,563.963 1987.44,605.86 2013.02,791.799 2038.61,802.133 2064.19,765.173 2089.77,1145.75 2115.35,1002.89 \\n  2140.94,618.564 2166.52,793.668 2192.1,774.256 2217.68,687.725 2243.26,1080.45 2268.85,1312.29 2294.43,1388.71 \\n  \\\"\\/>\\n<path clip-path=\\\"url(#clip6002)\\\" d=\\\"M350.181 774.875 L338.869 770.187 L334.181 758.875 L338.869 747.563 L350.181 742.875 L361.493 747.563 L366.181 758.875 L361.493 770.187 Z\\\" fill=\\\"#009af9\\\" fill-rule=\\\"evenodd\\\" fill-opacity=\\\"1\\\" stroke=\\\"#000000\\\" stroke-opacity=\\\"1\\\" stroke-width=\\\"3.2\\\"\\/>\\n<path clip-path=\\\"url(#clip6002)\\\" d=\\\"M375.763 681.07 L364.451 676.382 L359.763 665.07 L364.451 653.758 L375.763 649.07 L387.075 653.758 L391.763 665.07 L387.075 676.382 Z\\\" fill=\\\"#009af9\\\" fill-rule=\\\"evenodd\\\" fill-opacity=\\\"1\\\" stroke=\\\"#000000\\\" stroke-opacity=\\\"1\\\" stroke-width=\\\"3.2\\\"\\/>\\n<path clip-path=\\\"url(#clip6002)\\\" d=\\\"M401.345 958.19 L390.033 953.502 L385.345 942.19 L390.033 930.878 L401.345 926.19 L412.657 930.878 L417.345 942.19 L412.657 953.502 Z\\\" fill=\\\"#009af9\\\" fill-rule=\\\"evenodd\\\" fill-opacity=\\\"1\\\" stroke=\\\"#000000\\\" stroke-opacity=\\\"1\\\" stroke-width=\\\"3.2\\\"\\/>\\n<path clip-path=\\\"url(#clip6002)\\\" d=\\\"M426.928 477 L415.616 472.312 L410.928 461 L415.616 449.688 L426.928 445 L438.24 449.688 L442.928 461 L438.24 472.312 Z\\\" fill=\\\"#009af9\\\" fill-rule=\\\"evenodd\\\" fill-opacity=\\\"1\\\" stroke=\\\"#000000\\\" stroke-opacity=\\\"1\\\" stroke-width=\\\"3.2\\\"\\/>\\n<path clip-path=\\\"url(#clip6002)\\\" d=\\\"M452.51 391.806 L441.198 387.118 L436.51 375.806 L441.198 364.494 L452.51 359.806 L463.822 364.494 L468.51 375.806 L463.822 387.118 Z\\\" fill=\\\"#009af9\\\" fill-rule=\\\"evenodd\\\" fill-opacity=\\\"1\\\" stroke=\\\"#000000\\\" stroke-opacity=\\\"1\\\" stroke-width=\\\"3.2\\\"\\/>\\n<path clip-path=\\\"url(#clip6002)\\\" d=\\\"M478.092 582.078 L466.78 577.39 L462.092 566.078 L466.78 554.766 L478.092 550.078 L489.404 554.766 L494.092 566.078 L489.404 577.39 Z\\\" fill=\\\"#009af9\\\" fill-rule=\\\"evenodd\\\" fill-opacity=\\\"1\\\" stroke=\\\"#000000\\\" stroke-opacity=\\\"1\\\" stroke-width=\\\"3.2\\\"\\/>\\n<path clip-path=\\\"url(#clip6002)\\\" d=\\\"M503.674 959.315 L492.362 954.627 L487.674 943.315 L492.362 932.003 L503.674 927.315 L514.986 932.003 L519.674 943.315 L514.986 954.627 Z\\\" fill=\\\"#009af9\\\" fill-rule=\\\"evenodd\\\" fill-opacity=\\\"1\\\" stroke=\\\"#000000\\\" stroke-opacity=\\\"1\\\" stroke-width=\\\"3.2\\\"\\/>\\n<path clip-path=\\\"url(#clip6002)\\\" d=\\\"M529.256 471.443 L517.944 466.755 L513.256 455.443 L517.944 444.131 L529.256 439.443 L540.568 444.131 L545.256 455.443 L540.568 466.755 Z\\\" fill=\\\"#009af9\\\" fill-rule=\\\"evenodd\\\" fill-opacity=\\\"1\\\" stroke=\\\"#000000\\\" stroke-opacity=\\\"1\\\" stroke-width=\\\"3.2\\\"\\/>\\n<path clip-path=\\\"url(#clip6002)\\\" d=\\\"M554.839 389.022 L543.527 384.334 L538.839 373.022 L543.527 361.71 L554.839 357.022 L566.151 361.71 L570.839 373.022 L566.151 384.334 Z\\\" fill=\\\"#009af9\\\" fill-rule=\\\"evenodd\\\" fill-opacity=\\\"1\\\" stroke=\\\"#000000\\\" stroke-opacity=\\\"1\\\" stroke-width=\\\"3.2\\\"\\/>\\n<path clip-path=\\\"url(#clip6002)\\\" d=\\\"M580.421 632.308 L569.109 627.62 L564.421 616.308 L569.109 604.996 L580.421 600.308 L591.733 604.996 L596.421 616.308 L591.733 627.62 Z\\\" fill=\\\"#009af9\\\" fill-rule=\\\"evenodd\\\" fill-opacity=\\\"1\\\" stroke=\\\"#000000\\\" stroke-opacity=\\\"1\\\" stroke-width=\\\"3.2\\\"\\/>\\n<path clip-path=\\\"url(#clip6002)\\\" d=\\\"M606.003 703.725 L594.691 699.037 L590.003 687.725 L594.691 676.413 L606.003 671.725 L617.315 676.413 L622.003 687.725 L617.315 699.037 Z\\\" fill=\\\"#009af9\\\" fill-rule=\\\"evenodd\\\" fill-opacity=\\\"1\\\" stroke=\\\"#000000\\\" stroke-opacity=\\\"1\\\" stroke-width=\\\"3.2\\\"\\/>\\n<path clip-path=\\\"url(#clip6002)\\\" d=\\\"M631.585 551.605 L620.273 546.917 L615.585 535.605 L620.273 524.293 L631.585 519.605 L642.897 524.293 L647.585 535.605 L642.897 546.917 Z\\\" fill=\\\"#009af9\\\" fill-rule=\\\"evenodd\\\" fill-opacity=\\\"1\\\" stroke=\\\"#000000\\\" stroke-opacity=\\\"1\\\" stroke-width=\\\"3.2\\\"\\/>\\n<path clip-path=\\\"url(#clip6002)\\\" d=\\\"M657.167 847.987 L645.855 843.299 L641.167 831.987 L645.855 820.675 L657.167 815.987 L668.479 820.675 L673.167 831.987 L668.479 843.299 Z\\\" fill=\\\"#009af9\\\" fill-rule=\\\"evenodd\\\" fill-opacity=\\\"1\\\" stroke=\\\"#000000\\\" stroke-opacity=\\\"1\\\" stroke-width=\\\"3.2\\\"\\/>\\n<path clip-path=\\\"url(#clip6002)\\\" d=\\\"M682.75 979.844 L671.438 975.156 L666.75 963.844 L671.438 952.532 L682.75 947.844 L694.062 952.532 L698.75 963.844 L694.062 975.156 Z\\\" fill=\\\"#009af9\\\" fill-rule=\\\"evenodd\\\" fill-opacity=\\\"1\\\" stroke=\\\"#000000\\\" stroke-opacity=\\\"1\\\" stroke-width=\\\"3.2\\\"\\/>\\n<path clip-path=\\\"url(#clip6002)\\\" d=\\\"M708.332 510.529 L697.02 505.841 L692.332 494.529 L697.02 483.217 L708.332 478.529 L719.644 483.217 L724.332 494.529 L719.644 505.841 Z\\\" fill=\\\"#009af9\\\" fill-rule=\\\"evenodd\\\" fill-opacity=\\\"1\\\" stroke=\\\"#000000\\\" stroke-opacity=\\\"1\\\" stroke-width=\\\"3.2\\\"\\/>\\n<path clip-path=\\\"url(#clip6002)\\\" d=\\\"M733.914 475.762 L722.602 471.074 L717.914 459.762 L722.602 448.45 L733.914 443.762 L745.226 448.45 L749.914 459.762 L745.226 471.074 Z\\\" fill=\\\"#009af9\\\" fill-rule=\\\"evenodd\\\" fill-opacity=\\\"1\\\" stroke=\\\"#000000\\\" stroke-opacity=\\\"1\\\" stroke-width=\\\"3.2\\\"\\/>\\n<path clip-path=\\\"url(#clip6002)\\\" d=\\\"M759.496 429.473 L748.184 424.785 L743.496 413.473 L748.184 402.161 L759.496 397.473 L770.808 402.161 L775.496 413.473 L770.808 424.785 Z\\\" fill=\\\"#009af9\\\" fill-rule=\\\"evenodd\\\" fill-opacity=\\\"1\\\" stroke=\\\"#000000\\\" stroke-opacity=\\\"1\\\" stroke-width=\\\"3.2\\\"\\/>\\n<path clip-path=\\\"url(#clip6002)\\\" d=\\\"M785.078 759.783 L773.766 755.095 L769.078 743.783 L773.766 732.471 L785.078 727.783 L796.39 732.471 L801.078 743.783 L796.39 755.095 Z\\\" fill=\\\"#009af9\\\" fill-rule=\\\"evenodd\\\" fill-opacity=\\\"1\\\" stroke=\\\"#000000\\\" stroke-opacity=\\\"1\\\" stroke-width=\\\"3.2\\\"\\/>\\n<path clip-path=\\\"url(#clip6002)\\\" d=\\\"M810.661 881.03 L799.349 876.342 L794.661 865.03 L799.349 853.718 L810.661 849.03 L821.973 853.718 L826.661 865.03 L821.973 876.342 Z\\\" fill=\\\"#009af9\\\" fill-rule=\\\"evenodd\\\" fill-opacity=\\\"1\\\" stroke=\\\"#000000\\\" stroke-opacity=\\\"1\\\" stroke-width=\\\"3.2\\\"\\/>\\n<path clip-path=\\\"url(#clip6002)\\\" d=\\\"M836.243 707.013 L824.931 702.325 L820.243 691.013 L824.931 679.701 L836.243 675.013 L847.555 679.701 L852.243 691.013 L847.555 702.325 Z\\\" fill=\\\"#009af9\\\" fill-rule=\\\"evenodd\\\" fill-opacity=\\\"1\\\" stroke=\\\"#000000\\\" stroke-opacity=\\\"1\\\" stroke-width=\\\"3.2\\\"\\/>\\n<path clip-path=\\\"url(#clip6002)\\\" d=\\\"M861.825 836.299 L850.513 831.611 L845.825 820.299 L850.513 808.987 L861.825 804.299 L873.137 808.987 L877.825 820.299 L873.137 831.611 Z\\\" fill=\\\"#009af9\\\" fill-rule=\\\"evenodd\\\" fill-opacity=\\\"1\\\" stroke=\\\"#000000\\\" stroke-opacity=\\\"1\\\" stroke-width=\\\"3.2\\\"\\/>\\n<path clip-path=\\\"url(#clip6002)\\\" d=\\\"M887.407 559.116 L876.095 554.428 L871.407 543.116 L876.095 531.804 L887.407 527.116 L898.719 531.804 L903.407 543.116 L898.719 554.428 Z\\\" fill=\\\"#009af9\\\" fill-rule=\\\"evenodd\\\" fill-opacity=\\\"1\\\" stroke=\\\"#000000\\\" stroke-opacity=\\\"1\\\" stroke-width=\\\"3.2\\\"\\/>\\n<path clip-path=\\\"url(#clip6002)\\\" d=\\\"M912.989 500.26 L901.677 495.572 L896.989 484.26 L901.677 472.948 L912.989 468.26 L924.301 472.948 L928.989 484.26 L924.301 495.572 Z\\\" fill=\\\"#009af9\\\" fill-rule=\\\"evenodd\\\" fill-opacity=\\\"1\\\" stroke=\\\"#000000\\\" stroke-opacity=\\\"1\\\" stroke-width=\\\"3.2\\\"\\/>\\n<path clip-path=\\\"url(#clip6002)\\\" d=\\\"M938.572 298.193 L927.26 293.505 L922.572 282.193 L927.26 270.881 L938.572 266.193 L949.884 270.881 L954.572 282.193 L949.884 293.505 Z\\\" fill=\\\"#009af9\\\" fill-rule=\\\"evenodd\\\" fill-opacity=\\\"1\\\" stroke=\\\"#000000\\\" stroke-opacity=\\\"1\\\" stroke-width=\\\"3.2\\\"\\/>\\n<path clip-path=\\\"url(#clip6002)\\\" d=\\\"M964.154 174.579 L952.842 169.891 L948.154 158.579 L952.842 147.267 L964.154 142.579 L975.466 147.267 L980.154 158.579 L975.466 169.891 Z\\\" fill=\\\"#009af9\\\" fill-rule=\\\"evenodd\\\" fill-opacity=\\\"1\\\" stroke=\\\"#000000\\\" stroke-opacity=\\\"1\\\" stroke-width=\\\"3.2\\\"\\/>\\n<path clip-path=\\\"url(#clip6002)\\\" d=\\\"M989.736 249.068 L978.424 244.38 L973.736 233.068 L978.424 221.756 L989.736 217.068 L1001.05 221.756 L1005.74 233.068 L1001.05 244.38 Z\\\" fill=\\\"#009af9\\\" fill-rule=\\\"evenodd\\\" fill-opacity=\\\"1\\\" stroke=\\\"#000000\\\" stroke-opacity=\\\"1\\\" stroke-width=\\\"3.2\\\"\\/>\\n<path clip-path=\\\"url(#clip6002)\\\" d=\\\"M1015.32 726.189 L1004.01 721.501 L999.318 710.189 L1004.01 698.877 L1015.32 694.189 L1026.63 698.877 L1031.32 710.189 L1026.63 721.501 Z\\\" fill=\\\"#009af9\\\" fill-rule=\\\"evenodd\\\" fill-opacity=\\\"1\\\" stroke=\\\"#000000\\\" stroke-opacity=\\\"1\\\" stroke-width=\\\"3.2\\\"\\/>\\n<path clip-path=\\\"url(#clip6002)\\\" d=\\\"M1040.9 640.612 L1029.59 635.924 L1024.9 624.612 L1029.59 613.3 L1040.9 608.612 L1052.21 613.3 L1056.9 624.612 L1052.21 635.924 Z\\\" fill=\\\"#009af9\\\" fill-rule=\\\"evenodd\\\" fill-opacity=\\\"1\\\" stroke=\\\"#000000\\\" stroke-opacity=\\\"1\\\" stroke-width=\\\"3.2\\\"\\/>\\n<path clip-path=\\\"url(#clip6002)\\\" d=\\\"M1066.48 618.162 L1055.17 613.474 L1050.48 602.162 L1055.17 590.85 L1066.48 586.162 L1077.79 590.85 L1082.48 602.162 L1077.79 613.474 Z\\\" fill=\\\"#009af9\\\" fill-rule=\\\"evenodd\\\" fill-opacity=\\\"1\\\" stroke=\\\"#000000\\\" stroke-opacity=\\\"1\\\" stroke-width=\\\"3.2\\\"\\/>\\n<path clip-path=\\\"url(#clip6002)\\\" d=\\\"M1092.06 733.818 L1080.75 729.13 L1076.06 717.818 L1080.75 706.506 L1092.06 701.818 L1103.38 706.506 L1108.06 717.818 L1103.38 729.13 Z\\\" fill=\\\"#009af9\\\" fill-rule=\\\"evenodd\\\" fill-opacity=\\\"1\\\" stroke=\\\"#000000\\\" stroke-opacity=\\\"1\\\" stroke-width=\\\"3.2\\\"\\/>\\n<path clip-path=\\\"url(#clip6002)\\\" d=\\\"M1117.65 711.144 L1106.34 706.456 L1101.65 695.144 L1106.34 683.832 L1117.65 679.144 L1128.96 683.832 L1133.65 695.144 L1128.96 706.456 Z\\\" fill=\\\"#009af9\\\" fill-rule=\\\"evenodd\\\" fill-opacity=\\\"1\\\" stroke=\\\"#000000\\\" stroke-opacity=\\\"1\\\" stroke-width=\\\"3.2\\\"\\/>\\n<path clip-path=\\\"url(#clip6002)\\\" d=\\\"M1143.23 492.643 L1131.92 487.955 L1127.23 476.643 L1131.92 465.331 L1143.23 460.643 L1154.54 465.331 L1159.23 476.643 L1154.54 487.955 Z\\\" fill=\\\"#009af9\\\" fill-rule=\\\"evenodd\\\" fill-opacity=\\\"1\\\" stroke=\\\"#000000\\\" stroke-opacity=\\\"1\\\" stroke-width=\\\"3.2\\\"\\/>\\n<path clip-path=\\\"url(#clip6002)\\\" d=\\\"M1168.81 315.763 L1157.5 311.075 L1152.81 299.763 L1157.5 288.451 L1168.81 283.763 L1180.12 288.451 L1184.81 299.763 L1180.12 311.075 Z\\\" fill=\\\"#009af9\\\" fill-rule=\\\"evenodd\\\" fill-opacity=\\\"1\\\" stroke=\\\"#000000\\\" stroke-opacity=\\\"1\\\" stroke-width=\\\"3.2\\\"\\/>\\n<path clip-path=\\\"url(#clip6002)\\\" d=\\\"M1194.39 432.986 L1183.08 428.298 L1178.39 416.986 L1183.08 405.674 L1194.39 400.986 L1205.71 405.674 L1210.39 416.986 L1205.71 428.298 Z\\\" fill=\\\"#009af9\\\" fill-rule=\\\"evenodd\\\" fill-opacity=\\\"1\\\" stroke=\\\"#000000\\\" stroke-opacity=\\\"1\\\" stroke-width=\\\"3.2\\\"\\/>\\n<path clip-path=\\\"url(#clip6002)\\\" d=\\\"M1219.98 842.122 L1208.66 837.434 L1203.98 826.122 L1208.66 814.81 L1219.98 810.122 L1231.29 814.81 L1235.98 826.122 L1231.29 837.434 Z\\\" fill=\\\"#009af9\\\" fill-rule=\\\"evenodd\\\" fill-opacity=\\\"1\\\" stroke=\\\"#000000\\\" stroke-opacity=\\\"1\\\" stroke-width=\\\"3.2\\\"\\/>\\n<path clip-path=\\\"url(#clip6002)\\\" d=\\\"M1245.56 659.81 L1234.25 655.122 L1229.56 643.81 L1234.25 632.498 L1245.56 627.81 L1256.87 632.498 L1261.56 643.81 L1256.87 655.122 Z\\\" fill=\\\"#009af9\\\" fill-rule=\\\"evenodd\\\" fill-opacity=\\\"1\\\" stroke=\\\"#000000\\\" stroke-opacity=\\\"1\\\" stroke-width=\\\"3.2\\\"\\/>\\n<path clip-path=\\\"url(#clip6002)\\\" d=\\\"M1271.14 432.986 L1259.83 428.298 L1255.14 416.986 L1259.83 405.674 L1271.14 400.986 L1282.45 405.674 L1287.14 416.986 L1282.45 428.298 Z\\\" fill=\\\"#009af9\\\" fill-rule=\\\"evenodd\\\" fill-opacity=\\\"1\\\" stroke=\\\"#000000\\\" stroke-opacity=\\\"1\\\" stroke-width=\\\"3.2\\\"\\/>\\n<path clip-path=\\\"url(#clip6002)\\\" d=\\\"M1296.72 519.624 L1285.41 514.936 L1280.72 503.624 L1285.41 492.312 L1296.72 487.624 L1308.03 492.312 L1312.72 503.624 L1308.03 514.936 Z\\\" fill=\\\"#009af9\\\" fill-rule=\\\"evenodd\\\" fill-opacity=\\\"1\\\" stroke=\\\"#000000\\\" stroke-opacity=\\\"1\\\" stroke-width=\\\"3.2\\\"\\/>\\n<path clip-path=\\\"url(#clip6002)\\\" d=\\\"M1322.3 475.762 L1310.99 471.074 L1306.3 459.762 L1310.99 448.45 L1322.3 443.762 L1333.62 448.45 L1338.3 459.762 L1333.62 471.074 Z\\\" fill=\\\"#009af9\\\" fill-rule=\\\"evenodd\\\" fill-opacity=\\\"1\\\" stroke=\\\"#000000\\\" stroke-opacity=\\\"1\\\" stroke-width=\\\"3.2\\\"\\/>\\n<path clip-path=\\\"url(#clip6002)\\\" d=\\\"M1347.89 591.305 L1336.57 586.617 L1331.89 575.305 L1336.57 563.993 L1347.89 559.305 L1359.2 563.993 L1363.89 575.305 L1359.2 586.617 Z\\\" fill=\\\"#009af9\\\" fill-rule=\\\"evenodd\\\" fill-opacity=\\\"1\\\" stroke=\\\"#000000\\\" stroke-opacity=\\\"1\\\" stroke-width=\\\"3.2\\\"\\/>\\n<path clip-path=\\\"url(#clip6002)\\\" d=\\\"M1373.47 792.084 L1362.16 787.396 L1357.47 776.084 L1362.16 764.772 L1373.47 760.084 L1384.78 764.772 L1389.47 776.084 L1384.78 787.396 Z\\\" fill=\\\"#009af9\\\" fill-rule=\\\"evenodd\\\" fill-opacity=\\\"1\\\" stroke=\\\"#000000\\\" stroke-opacity=\\\"1\\\" stroke-width=\\\"3.2\\\"\\/>\\n<path clip-path=\\\"url(#clip6002)\\\" d=\\\"M1399.05 919.76 L1387.74 915.072 L1383.05 903.76 L1387.74 892.448 L1399.05 887.76 L1410.36 892.448 L1415.05 903.76 L1410.36 915.072 Z\\\" fill=\\\"#009af9\\\" fill-rule=\\\"evenodd\\\" fill-opacity=\\\"1\\\" stroke=\\\"#000000\\\" stroke-opacity=\\\"1\\\" stroke-width=\\\"3.2\\\"\\/>\\n<path clip-path=\\\"url(#clip6002)\\\" d=\\\"M1424.63 633.811 L1413.32 629.123 L1408.63 617.811 L1413.32 606.499 L1424.63 601.811 L1435.95 606.499 L1440.63 617.811 L1435.95 629.123 Z\\\" fill=\\\"#009af9\\\" fill-rule=\\\"evenodd\\\" fill-opacity=\\\"1\\\" stroke=\\\"#000000\\\" stroke-opacity=\\\"1\\\" stroke-width=\\\"3.2\\\"\\/>\\n<path clip-path=\\\"url(#clip6002)\\\" d=\\\"M1450.22 522.896 L1438.9 518.208 L1434.22 506.896 L1438.9 495.584 L1450.22 490.896 L1461.53 495.584 L1466.22 506.896 L1461.53 518.208 Z\\\" fill=\\\"#009af9\\\" fill-rule=\\\"evenodd\\\" fill-opacity=\\\"1\\\" stroke=\\\"#000000\\\" stroke-opacity=\\\"1\\\" stroke-width=\\\"3.2\\\"\\/>\\n<path clip-path=\\\"url(#clip6002)\\\" d=\\\"M1475.8 614.48 L1464.49 609.792 L1459.8 598.48 L1464.49 587.168 L1475.8 582.48 L1487.11 587.168 L1491.8 598.48 L1487.11 609.792 Z\\\" fill=\\\"#009af9\\\" fill-rule=\\\"evenodd\\\" fill-opacity=\\\"1\\\" stroke=\\\"#000000\\\" stroke-opacity=\\\"1\\\" stroke-width=\\\"3.2\\\"\\/>\\n<path clip-path=\\\"url(#clip6002)\\\" d=\\\"M1501.38 517.666 L1490.07 512.978 L1485.38 501.666 L1490.07 490.354 L1501.38 485.666 L1512.69 490.354 L1517.38 501.666 L1512.69 512.978 Z\\\" fill=\\\"#009af9\\\" fill-rule=\\\"evenodd\\\" fill-opacity=\\\"1\\\" stroke=\\\"#000000\\\" stroke-opacity=\\\"1\\\" stroke-width=\\\"3.2\\\"\\/>\\n<path clip-path=\\\"url(#clip6002)\\\" d=\\\"M1526.96 717.796 L1515.65 713.108 L1510.96 701.796 L1515.65 690.484 L1526.96 685.796 L1538.27 690.484 L1542.96 701.796 L1538.27 713.108 Z\\\" fill=\\\"#009af9\\\" fill-rule=\\\"evenodd\\\" fill-opacity=\\\"1\\\" stroke=\\\"#000000\\\" stroke-opacity=\\\"1\\\" stroke-width=\\\"3.2\\\"\\/>\\n<path clip-path=\\\"url(#clip6002)\\\" d=\\\"M1552.54 717.796 L1541.23 713.108 L1536.54 701.796 L1541.23 690.484 L1552.54 685.796 L1563.86 690.484 L1568.54 701.796 L1563.86 713.108 Z\\\" fill=\\\"#009af9\\\" fill-rule=\\\"evenodd\\\" fill-opacity=\\\"1\\\" stroke=\\\"#000000\\\" stroke-opacity=\\\"1\\\" stroke-width=\\\"3.2\\\"\\/>\\n<path clip-path=\\\"url(#clip6002)\\\" d=\\\"M1578.13 698.001 L1566.81 693.313 L1562.13 682.001 L1566.81 670.689 L1578.13 666.001 L1589.44 670.689 L1594.13 682.001 L1589.44 693.313 Z\\\" fill=\\\"#009af9\\\" fill-rule=\\\"evenodd\\\" fill-opacity=\\\"1\\\" stroke=\\\"#000000\\\" stroke-opacity=\\\"1\\\" stroke-width=\\\"3.2\\\"\\/>\\n<path clip-path=\\\"url(#clip6002)\\\" d=\\\"M1603.71 588.455 L1592.4 583.767 L1587.71 572.455 L1592.4 561.143 L1603.71 556.455 L1615.02 561.143 L1619.71 572.455 L1615.02 583.767 Z\\\" fill=\\\"#009af9\\\" fill-rule=\\\"evenodd\\\" fill-opacity=\\\"1\\\" stroke=\\\"#000000\\\" stroke-opacity=\\\"1\\\" stroke-width=\\\"3.2\\\"\\/>\\n<path clip-path=\\\"url(#clip6002)\\\" d=\\\"M1629.29 594.883 L1617.98 590.195 L1613.29 578.883 L1617.98 567.571 L1629.29 562.883 L1640.6 567.571 L1645.29 578.883 L1640.6 590.195 Z\\\" fill=\\\"#009af9\\\" fill-rule=\\\"evenodd\\\" fill-opacity=\\\"1\\\" stroke=\\\"#000000\\\" stroke-opacity=\\\"1\\\" stroke-width=\\\"3.2\\\"\\/>\\n<path clip-path=\\\"url(#clip6002)\\\" d=\\\"M1654.87 671.552 L1643.56 666.864 L1638.87 655.552 L1643.56 644.24 L1654.87 639.552 L1666.19 644.24 L1670.87 655.552 L1666.19 666.864 Z\\\" fill=\\\"#009af9\\\" fill-rule=\\\"evenodd\\\" fill-opacity=\\\"1\\\" stroke=\\\"#000000\\\" stroke-opacity=\\\"1\\\" stroke-width=\\\"3.2\\\"\\/>\\n<path clip-path=\\\"url(#clip6002)\\\" d=\\\"M1680.46 624.088 L1669.14 619.4 L1664.46 608.088 L1669.14 596.776 L1680.46 592.088 L1691.77 596.776 L1696.46 608.088 L1691.77 619.4 Z\\\" fill=\\\"#009af9\\\" fill-rule=\\\"evenodd\\\" fill-opacity=\\\"1\\\" stroke=\\\"#000000\\\" stroke-opacity=\\\"1\\\" stroke-width=\\\"3.2\\\"\\/>\\n<path clip-path=\\\"url(#clip6002)\\\" d=\\\"M1706.04 586.323 L1694.73 581.635 L1690.04 570.323 L1694.73 559.011 L1706.04 554.323 L1717.35 559.011 L1722.04 570.323 L1717.35 581.635 Z\\\" fill=\\\"#009af9\\\" fill-rule=\\\"evenodd\\\" fill-opacity=\\\"1\\\" stroke=\\\"#000000\\\" stroke-opacity=\\\"1\\\" stroke-width=\\\"3.2\\\"\\/>\\n<path clip-path=\\\"url(#clip6002)\\\" d=\\\"M1731.62 518.971 L1720.31 514.283 L1715.62 502.971 L1720.31 491.659 L1731.62 486.971 L1742.93 491.659 L1747.62 502.971 L1742.93 514.283 Z\\\" fill=\\\"#009af9\\\" fill-rule=\\\"evenodd\\\" fill-opacity=\\\"1\\\" stroke=\\\"#000000\\\" stroke-opacity=\\\"1\\\" stroke-width=\\\"3.2\\\"\\/>\\n<path clip-path=\\\"url(#clip6002)\\\" d=\\\"M1757.2 782.981 L1745.89 778.293 L1741.2 766.981 L1745.89 755.669 L1757.2 750.981 L1768.51 755.669 L1773.2 766.981 L1768.51 778.293 Z\\\" fill=\\\"#009af9\\\" fill-rule=\\\"evenodd\\\" fill-opacity=\\\"1\\\" stroke=\\\"#000000\\\" stroke-opacity=\\\"1\\\" stroke-width=\\\"3.2\\\"\\/>\\n<path clip-path=\\\"url(#clip6002)\\\" d=\\\"M1782.78 473.908 L1771.47 469.22 L1766.78 457.908 L1771.47 446.596 L1782.78 441.908 L1794.1 446.596 L1798.78 457.908 L1794.1 469.22 Z\\\" fill=\\\"#009af9\\\" fill-rule=\\\"evenodd\\\" fill-opacity=\\\"1\\\" stroke=\\\"#000000\\\" stroke-opacity=\\\"1\\\" stroke-width=\\\"3.2\\\"\\/>\\n<path clip-path=\\\"url(#clip6002)\\\" d=\\\"M1808.37 533.46 L1797.05 528.772 L1792.37 517.46 L1797.05 506.148 L1808.37 501.46 L1819.68 506.148 L1824.37 517.46 L1819.68 528.772 Z\\\" fill=\\\"#009af9\\\" fill-rule=\\\"evenodd\\\" fill-opacity=\\\"1\\\" stroke=\\\"#000000\\\" stroke-opacity=\\\"1\\\" stroke-width=\\\"3.2\\\"\\/>\\n<path clip-path=\\\"url(#clip6002)\\\" d=\\\"M1833.95 653.617 L1822.64 648.929 L1817.95 637.617 L1822.64 626.305 L1833.95 621.617 L1845.26 626.305 L1849.95 637.617 L1845.26 648.929 Z\\\" fill=\\\"#009af9\\\" fill-rule=\\\"evenodd\\\" fill-opacity=\\\"1\\\" stroke=\\\"#000000\\\" stroke-opacity=\\\"1\\\" stroke-width=\\\"3.2\\\"\\/>\\n<path clip-path=\\\"url(#clip6002)\\\" d=\\\"M1859.53 640.612 L1848.22 635.924 L1843.53 624.612 L1848.22 613.3 L1859.53 608.612 L1870.84 613.3 L1875.53 624.612 L1870.84 635.924 Z\\\" fill=\\\"#009af9\\\" fill-rule=\\\"evenodd\\\" fill-opacity=\\\"1\\\" stroke=\\\"#000000\\\" stroke-opacity=\\\"1\\\" stroke-width=\\\"3.2\\\"\\/>\\n<path clip-path=\\\"url(#clip6002)\\\" d=\\\"M1885.11 629.309 L1873.8 624.621 L1869.11 613.309 L1873.8 601.997 L1885.11 597.309 L1896.43 601.997 L1901.11 613.309 L1896.43 624.621 Z\\\" fill=\\\"#009af9\\\" fill-rule=\\\"evenodd\\\" fill-opacity=\\\"1\\\" stroke=\\\"#000000\\\" stroke-opacity=\\\"1\\\" stroke-width=\\\"3.2\\\"\\/>\\n<path clip-path=\\\"url(#clip6002)\\\" d=\\\"M1910.7 941.496 L1899.38 936.808 L1894.7 925.496 L1899.38 914.184 L1910.7 909.496 L1922.01 914.184 L1926.7 925.496 L1922.01 936.808 Z\\\" fill=\\\"#009af9\\\" fill-rule=\\\"evenodd\\\" fill-opacity=\\\"1\\\" stroke=\\\"#000000\\\" stroke-opacity=\\\"1\\\" stroke-width=\\\"3.2\\\"\\/>\\n<path clip-path=\\\"url(#clip6002)\\\" d=\\\"M1936.28 1113.99 L1924.97 1109.31 L1920.28 1097.99 L1924.97 1086.68 L1936.28 1081.99 L1947.59 1086.68 L1952.28 1097.99 L1947.59 1109.31 Z\\\" fill=\\\"#009af9\\\" fill-rule=\\\"evenodd\\\" fill-opacity=\\\"1\\\" stroke=\\\"#000000\\\" stroke-opacity=\\\"1\\\" stroke-width=\\\"3.2\\\"\\/>\\n<path clip-path=\\\"url(#clip6002)\\\" d=\\\"M1961.86 579.963 L1950.55 575.275 L1945.86 563.963 L1950.55 552.651 L1961.86 547.963 L1973.17 552.651 L1977.86 563.963 L1973.17 575.275 Z\\\" fill=\\\"#009af9\\\" fill-rule=\\\"evenodd\\\" fill-opacity=\\\"1\\\" stroke=\\\"#000000\\\" stroke-opacity=\\\"1\\\" stroke-width=\\\"3.2\\\"\\/>\\n<path clip-path=\\\"url(#clip6002)\\\" d=\\\"M1987.44 621.86 L1976.13 617.172 L1971.44 605.86 L1976.13 594.548 L1987.44 589.86 L1998.75 594.548 L2003.44 605.86 L1998.75 617.172 Z\\\" fill=\\\"#009af9\\\" fill-rule=\\\"evenodd\\\" fill-opacity=\\\"1\\\" stroke=\\\"#000000\\\" stroke-opacity=\\\"1\\\" stroke-width=\\\"3.2\\\"\\/>\\n<path clip-path=\\\"url(#clip6002)\\\" d=\\\"M2013.02 807.799 L2001.71 803.111 L1997.02 791.799 L2001.71 780.487 L2013.02 775.799 L2024.34 780.487 L2029.02 791.799 L2024.34 803.111 Z\\\" fill=\\\"#009af9\\\" fill-rule=\\\"evenodd\\\" fill-opacity=\\\"1\\\" stroke=\\\"#000000\\\" stroke-opacity=\\\"1\\\" stroke-width=\\\"3.2\\\"\\/>\\n<path clip-path=\\\"url(#clip6002)\\\" d=\\\"M2038.61 818.133 L2027.29 813.445 L2022.61 802.133 L2027.29 790.821 L2038.61 786.133 L2049.92 790.821 L2054.61 802.133 L2049.92 813.445 Z\\\" fill=\\\"#009af9\\\" fill-rule=\\\"evenodd\\\" fill-opacity=\\\"1\\\" stroke=\\\"#000000\\\" stroke-opacity=\\\"1\\\" stroke-width=\\\"3.2\\\"\\/>\\n<path clip-path=\\\"url(#clip6002)\\\" d=\\\"M2064.19 781.173 L2052.88 776.485 L2048.19 765.173 L2052.88 753.861 L2064.19 749.173 L2075.5 753.861 L2080.19 765.173 L2075.5 776.485 Z\\\" fill=\\\"#009af9\\\" fill-rule=\\\"evenodd\\\" fill-opacity=\\\"1\\\" stroke=\\\"#000000\\\" stroke-opacity=\\\"1\\\" stroke-width=\\\"3.2\\\"\\/>\\n<path clip-path=\\\"url(#clip6002)\\\" d=\\\"M2089.77 1161.75 L2078.46 1157.06 L2073.77 1145.75 L2078.46 1134.44 L2089.77 1129.75 L2101.08 1134.44 L2105.77 1145.75 L2101.08 1157.06 Z\\\" fill=\\\"#009af9\\\" fill-rule=\\\"evenodd\\\" fill-opacity=\\\"1\\\" stroke=\\\"#000000\\\" stroke-opacity=\\\"1\\\" stroke-width=\\\"3.2\\\"\\/>\\n<path clip-path=\\\"url(#clip6002)\\\" d=\\\"M2115.35 1018.89 L2104.04 1014.2 L2099.35 1002.89 L2104.04 991.58 L2115.35 986.892 L2126.67 991.58 L2131.35 1002.89 L2126.67 1014.2 Z\\\" fill=\\\"#009af9\\\" fill-rule=\\\"evenodd\\\" fill-opacity=\\\"1\\\" stroke=\\\"#000000\\\" stroke-opacity=\\\"1\\\" stroke-width=\\\"3.2\\\"\\/>\\n<path clip-path=\\\"url(#clip6002)\\\" d=\\\"M2140.94 634.564 L2129.62 629.876 L2124.94 618.564 L2129.62 607.252 L2140.94 602.564 L2152.25 607.252 L2156.94 618.564 L2152.25 629.876 Z\\\" fill=\\\"#009af9\\\" fill-rule=\\\"evenodd\\\" fill-opacity=\\\"1\\\" stroke=\\\"#000000\\\" stroke-opacity=\\\"1\\\" stroke-width=\\\"3.2\\\"\\/>\\n<path clip-path=\\\"url(#clip6002)\\\" d=\\\"M2166.52 809.668 L2155.21 804.98 L2150.52 793.668 L2155.21 782.356 L2166.52 777.668 L2177.83 782.356 L2182.52 793.668 L2177.83 804.98 Z\\\" fill=\\\"#009af9\\\" fill-rule=\\\"evenodd\\\" fill-opacity=\\\"1\\\" stroke=\\\"#000000\\\" stroke-opacity=\\\"1\\\" stroke-width=\\\"3.2\\\"\\/>\\n<path clip-path=\\\"url(#clip6002)\\\" d=\\\"M2192.1 790.256 L2180.79 785.568 L2176.1 774.256 L2180.79 762.944 L2192.1 758.256 L2203.41 762.944 L2208.1 774.256 L2203.41 785.568 Z\\\" fill=\\\"#009af9\\\" fill-rule=\\\"evenodd\\\" fill-opacity=\\\"1\\\" stroke=\\\"#000000\\\" stroke-opacity=\\\"1\\\" stroke-width=\\\"3.2\\\"\\/>\\n<path clip-path=\\\"url(#clip6002)\\\" d=\\\"M2217.68 703.725 L2206.37 699.037 L2201.68 687.725 L2206.37 676.413 L2217.68 671.725 L2228.99 676.413 L2233.68 687.725 L2228.99 699.037 Z\\\" fill=\\\"#009af9\\\" fill-rule=\\\"evenodd\\\" fill-opacity=\\\"1\\\" stroke=\\\"#000000\\\" stroke-opacity=\\\"1\\\" stroke-width=\\\"3.2\\\"\\/>\\n<path clip-path=\\\"url(#clip6002)\\\" d=\\\"M2243.26 1096.45 L2231.95 1091.77 L2227.26 1080.45 L2231.95 1069.14 L2243.26 1064.45 L2254.58 1069.14 L2259.26 1080.45 L2254.58 1091.77 Z\\\" fill=\\\"#009af9\\\" fill-rule=\\\"evenodd\\\" fill-opacity=\\\"1\\\" stroke=\\\"#000000\\\" stroke-opacity=\\\"1\\\" stroke-width=\\\"3.2\\\"\\/>\\n<path clip-path=\\\"url(#clip6002)\\\" d=\\\"M2268.85 1328.29 L2257.53 1323.6 L2252.85 1312.29 L2257.53 1300.98 L2268.85 1296.29 L2280.16 1300.98 L2284.85 1312.29 L2280.16 1323.6 Z\\\" fill=\\\"#009af9\\\" fill-rule=\\\"evenodd\\\" fill-opacity=\\\"1\\\" stroke=\\\"#000000\\\" stroke-opacity=\\\"1\\\" stroke-width=\\\"3.2\\\"\\/>\\n<path clip-path=\\\"url(#clip6002)\\\" d=\\\"M2294.43 1404.71 L2283.12 1400.03 L2278.43 1388.71 L2283.12 1377.4 L2294.43 1372.71 L2305.74 1377.4 L2310.43 1388.71 L2305.74 1400.03 Z\\\" fill=\\\"#009af9\\\" fill-rule=\\\"evenodd\\\" fill-opacity=\\\"1\\\" stroke=\\\"#000000\\\" stroke-opacity=\\\"1\\\" stroke-width=\\\"3.2\\\"\\/>\\n<path clip-path=\\\"url(#clip6000)\\\" d=\\\"\\nM363.853 326.155 L670.711 326.155 L670.711 205.195 L363.853 205.195  Z\\n  \\\" fill=\\\"#ffffff\\\" fill-rule=\\\"evenodd\\\" fill-opacity=\\\"1\\\"\\/>\\n<polyline clip-path=\\\"url(#clip6000)\\\" style=\\\"stroke:#000000; stroke-width:4; stroke-opacity:1; fill:none\\\" points=\\\"\\n  363.853,326.155 670.711,326.155 670.711,205.195 363.853,205.195 363.853,326.155 \\n  \\\"\\/>\\n<polyline clip-path=\\\"url(#clip6000)\\\" style=\\\"stroke:#009af9; stroke-width:4; stroke-opacity:1; fill:none\\\" points=\\\"\\n  387.853,265.675 531.853,265.675 \\n  \\\"\\/>\\n<path clip-path=\\\"url(#clip6000)\\\" d=\\\"M471.853 289.675 L454.885 282.643 L447.853 265.675 L454.885 248.707 L471.853 241.675 L488.821 248.707 L495.853 265.675 L488.821 282.643 Z\\\" fill=\\\"#009af9\\\" fill-rule=\\\"evenodd\\\" fill-opacity=\\\"1\\\" stroke=\\\"#000000\\\" stroke-opacity=\\\"1\\\" stroke-width=\\\"3.2\\\"\\/>\\n<g clip-path=\\\"url(#clip6000)\\\">\\n<text style=\\\"fill:#000000; fill-opacity:1; font-family:Arial,Helvetica Neue,Helvetica,sans-serif; font-size:48px; text-anchor:start;\\\" transform=\\\"rotate(0, 555.853, 283.175)\\\" x=\\\"555.853\\\" y=\\\"283.175\\\">US<\\/text>\\n<\\/g>\\n<\\/svg>\\n\"},\"nodeType\":\"DOM\",\"type\":\"node\",\"instanceArgs\":{\"namespace\":\"html\",\"tag\":\"div\"},\"children\":[]}]}}}},\"children\":[{\"props\":{},\"nodeType\":\"ObservableNode\",\"type\":\"node\",\"instanceArgs\":{\"id\":\"ob_66\",\"name\":\"obs-node\"},\"children\":[]}]}]},\n",
       "            window,\n",
       "        );\n",
       "    } else {\n",
       "        document\n",
       "            .querySelector('[data-webio-mountpoint=\"3205740448422684592\"]')\n",
       "            .innerHTML = (\n",
       "                '<div style=\"padding: 1em; background-color: #f8d6da; border: 1px solid #f5c6cb\">' +\n",
       "                '<p><strong>WebIO not detected.</strong></p>' +\n",
       "                '<p>Please read ' +\n",
       "                '<a href=\"https://juliagizmos.github.io/WebIO.jl/latest/troubleshooting/not-detected/\" target=\"_blank\">the troubleshooting guide</a> ' +\n",
       "                'for more information on how to resolve this issue.</p>' +\n",
       "                '<p><a href=\"https://juliagizmos.github.io/WebIO.jl/latest/troubleshooting/not-detected/\" target=\"_blank\">https://juliagizmos.github.io/WebIO.jl/latest/troubleshooting/not-detected/</a></p>' +\n",
       "                '</div>'\n",
       "            );\n",
       "    }\n",
       "    </script>\n",
       "</div>\n"
      ],
      "text/plain": [
       "Node{WebIO.DOM}(WebIO.DOM(:html, :div), Any[Node{WebIO.DOM}(WebIO.DOM(:html, :div), Any[Scope(Node{WebIO.DOM}(WebIO.DOM(:html, :div), Any[Node{WebIO.DOM}(WebIO.DOM(:html, :div), Any[Node{WebIO.DOM}(WebIO.DOM(:html, :label), Any[\"day\"], Dict{Symbol,Any}(:className => \"interact \",:style => Dict{Any,Any}(:padding => \"5px 10px 0px 10px\")))], Dict{Symbol,Any}(:className => \"interact-flex-row-left\")), Node{WebIO.DOM}(WebIO.DOM(:html, :div), Any[Node{WebIO.DOM}(WebIO.DOM(:html, :input), Any[], Dict{Symbol,Any}(:max => 154,:min => 1,:attributes => Dict{Any,Any}(:type => \"range\",Symbol(\"data-bind\") => \"numericValue: index, valueUpdate: 'input', event: {change: function (){this.changes(this.changes()+1)}}\",\"orient\" => \"horizontal\"),:step => 1,:className => \"slider slider is-fullwidth\",:style => Dict{Any,Any}()))], Dict{Symbol,Any}(:className => \"interact-flex-row-center\")), Node{WebIO.DOM}(WebIO.DOM(:html, :div), Any[Node{WebIO.DOM}(WebIO.DOM(:html, :p), Any[], Dict{Symbol,Any}(:attributes => Dict(\"data-bind\" => \"text: formatted_val\")))], Dict{Symbol,Any}(:className => \"interact-flex-row-right\"))], Dict{Symbol,Any}(:className => \"interact-flex-row interact-widget\")), Dict{String,Tuple{Observables.AbstractObservable,Union{Nothing, Bool}}}(\"changes\" => (Observable{Int64} with 1 listeners. Value:\n",
       "0, nothing),\"index\" => (Observable{Int64} with 2 listeners. Value:\n",
       "77, nothing)), Set(String[]), nothing, Asset[Asset(\"js\", \"knockout\", \"/Users/saumyarawat/.julia/packages/Knockout/IP1uR/src/../assets/knockout.js\"), Asset(\"js\", \"knockout_punches\", \"/Users/saumyarawat/.julia/packages/Knockout/IP1uR/src/../assets/knockout_punches.js\"), Asset(\"js\", nothing, \"/Users/saumyarawat/.julia/packages/InteractBase/9mFwe/src/../assets/all.js\"), Asset(\"css\", nothing, \"/Users/saumyarawat/.julia/packages/InteractBase/9mFwe/src/../assets/style.css\"), Asset(\"css\", nothing, \"/Users/saumyarawat/.julia/packages/Interact/SbgIk/src/../assets/bulma_confined.min.css\")], Dict{Any,Any}(\"changes\" => Any[WebIO.JSString(\"(function (val){return (val!=this.model[\\\"changes\\\"]()) ? (this.valueFromJulia[\\\"changes\\\"]=true, this.model[\\\"changes\\\"](val)) : undefined})\")],\"index\" => Any[WebIO.JSString(\"(function (val){return (val!=this.model[\\\"index\\\"]()) ? (this.valueFromJulia[\\\"index\\\"]=true, this.model[\\\"index\\\"](val)) : undefined})\")]), WebIO.ConnectionPool(Channel{Any}(sz_max:32,sz_curr:0), Set(AbstractConnection[]), Base.GenericCondition{Base.AlwaysLockedST}(Base.InvasiveLinkedList{Task}(Task (runnable) @0x0000000132e9f610, Task (runnable) @0x0000000132e9f610), Base.AlwaysLockedST(1))), WebIO.JSString[WebIO.JSString(\"function () {\\n    var handler = (function (ko, koPunches) {\\n    ko.punches.enableAll();\\n    ko.bindingHandlers.numericValue = {\\n        init: function(element, valueAccessor, allBindings, data, context) {\\n            var stringified = ko.observable(ko.unwrap(valueAccessor()));\\n            stringified.subscribe(function(value) {\\n                var val = parseFloat(value);\\n                if (!isNaN(val)) {\\n                    valueAccessor()(val);\\n                }\\n            });\\n            valueAccessor().subscribe(function(value) {\\n                var str = JSON.stringify(value);\\n                if ((str == \\\"0\\\") && ([\\\"-0\\\", \\\"-0.\\\"].indexOf(stringified()) >= 0))\\n                     return;\\n                 if ([\\\"null\\\", \\\"\\\"].indexOf(str) >= 0)\\n                     return;\\n                stringified(str);\\n            });\\n            ko.applyBindingsToNode(\\n                element,\\n                {\\n                    value: stringified,\\n                    valueUpdate: allBindings.get('valueUpdate'),\\n                },\\n                context,\\n            );\\n        }\\n    };\\n    var json_data = {\\\"formatted_vals\\\":[\\\"1\\\",\\\"2\\\",\\\"3\\\",\\\"4\\\",\\\"5\\\",\\\"6\\\",\\\"7\\\",\\\"8\\\",\\\"9\\\",\\\"10\\\",\\\"11\\\",\\\"12\\\",\\\"13\\\",\\\"14\\\",\\\"15\\\",\\\"16\\\",\\\"17\\\",\\\"18\\\",\\\"19\\\",\\\"20\\\",\\\"21\\\",\\\"22\\\",\\\"23\\\",\\\"24\\\",\\\"25\\\",\\\"26\\\",\\\"27\\\",\\\"28\\\",\\\"29\\\",\\\"30\\\",\\\"31\\\",\\\"32\\\",\\\"33\\\",\\\"34\\\",\\\"35\\\",\\\"36\\\",\\\"37\\\",\\\"38\\\",\\\"39\\\",\\\"40\\\",\\\"41\\\",\\\"42\\\",\\\"43\\\",\\\"44\\\",\\\"45\\\",\\\"46\\\",\\\"47\\\",\\\"48\\\",\\\"49\\\",\\\"50\\\",\\\"51\\\",\\\"52\\\",\\\"53\\\",\\\"54\\\",\\\"55\\\",\\\"56\\\",\\\"57\\\",\\\"58\\\",\\\"59\\\",\\\"60\\\",\\\"61\\\",\\\"62\\\",\\\"63\\\",\\\"64\\\",\\\"65\\\",\\\"66\\\",\\\"67\\\",\\\"68\\\",\\\"69\\\",\\\"70\\\",\\\"71\\\",\\\"72\\\",\\\"73\\\",\\\"74\\\",\\\"75\\\",\\\"76\\\",\\\"77\\\",\\\"78\\\",\\\"79\\\",\\\"80\\\",\\\"81\\\",\\\"82\\\",\\\"83\\\",\\\"84\\\",\\\"85\\\",\\\"86\\\",\\\"87\\\",\\\"88\\\",\\\"89\\\",\\\"90\\\",\\\"91\\\",\\\"92\\\",\\\"93\\\",\\\"94\\\",\\\"95\\\",\\\"96\\\",\\\"97\\\",\\\"98\\\",\\\"99\\\",\\\"100\\\",\\\"101\\\",\\\"102\\\",\\\"103\\\",\\\"104\\\",\\\"105\\\",\\\"106\\\",\\\"107\\\",\\\"108\\\",\\\"109\\\",\\\"110\\\",\\\"111\\\",\\\"112\\\",\\\"113\\\",\\\"114\\\",\\\"115\\\",\\\"116\\\",\\\"117\\\",\\\"118\\\",\\\"119\\\",\\\"120\\\",\\\"121\\\",\\\"122\\\",\\\"123\\\",\\\"124\\\",\\\"125\\\",\\\"126\\\",\\\"127\\\",\\\"128\\\",\\\"129\\\",\\\"130\\\",\\\"131\\\",\\\"132\\\",\\\"133\\\",\\\"134\\\",\\\"135\\\",\\\"136\\\",\\\"137\\\",\\\"138\\\",\\\"139\\\",\\\"140\\\",\\\"141\\\",\\\"142\\\",\\\"143\\\",\\\"144\\\",\\\"145\\\",\\\"146\\\",\\\"147\\\",\\\"148\\\",\\\"149\\\",\\\"150\\\",\\\"151\\\",\\\"152\\\",\\\"153\\\",\\\"154\\\"],\\\"changes\\\":WebIO.getval({\\\"name\\\":\\\"changes\\\",\\\"scope\\\":\\\"323744737553802340\\\",\\\"id\\\":\\\"ob_62\\\",\\\"type\\\":\\\"observable\\\"}),\\\"index\\\":WebIO.getval({\\\"name\\\":\\\"index\\\",\\\"scope\\\":\\\"323744737553802340\\\",\\\"id\\\":\\\"ob_61\\\",\\\"type\\\":\\\"observable\\\"})};\\n    var self = this;\\n    function AppViewModel() {\\n        for (var key in json_data) {\\n            var el = json_data[key];\\n            this[key] = Array.isArray(el) ? ko.observableArray(el) : ko.observable(el);\\n        }\\n        \\n        [this[\\\"formatted_val\\\"]=ko.computed(    function(){\\n        return this.formatted_vals()[parseInt(this.index())-(1)];\\n    }\\n,this)]\\n        [this[\\\"changes\\\"].subscribe((function (val){!(this.valueFromJulia[\\\"changes\\\"]) ? (WebIO.setval({\\\"name\\\":\\\"changes\\\",\\\"scope\\\":\\\"323744737553802340\\\",\\\"id\\\":\\\"ob_62\\\",\\\"type\\\":\\\"observable\\\"},val)) : undefined; return this.valueFromJulia[\\\"changes\\\"]=false}),self),this[\\\"index\\\"].subscribe((function (val){!(this.valueFromJulia[\\\"index\\\"]) ? (WebIO.setval({\\\"name\\\":\\\"index\\\",\\\"scope\\\":\\\"323744737553802340\\\",\\\"id\\\":\\\"ob_61\\\",\\\"type\\\":\\\"observable\\\"},val)) : undefined; return this.valueFromJulia[\\\"index\\\"]=false}),self)]\\n        \\n    }\\n    self.model = new AppViewModel();\\n    self.valueFromJulia = {};\\n    for (var key in json_data) {\\n        self.valueFromJulia[key] = false;\\n    }\\n    ko.applyBindings(self.model, self.dom);\\n}\\n);\\n    (WebIO.importBlock({\\\"data\\\":[{\\\"name\\\":\\\"knockout\\\",\\\"type\\\":\\\"js\\\",\\\"url\\\":\\\"/assetserver/e30804d580242ff490836fea138ed12dab987650-knockout.js\\\"},{\\\"name\\\":\\\"knockout_punches\\\",\\\"type\\\":\\\"js\\\",\\\"url\\\":\\\"/assetserver/3b050a7a6e0183134ddf7d37e9900e424ee82b96-knockout_punches.js\\\"}],\\\"type\\\":\\\"async_block\\\"})).then((imports) => handler.apply(this, imports));\\n}\\n\")])], Dict{Symbol,Any}(:className => \"field interact-widget\")), Observable{Any} with 0 listeners. Value:\n",
       "Node{WebIO.DOM}(WebIO.DOM(:html, :div), Any[Plot{Plots.GRBackend() n=1}], Dict{Symbol,Any}(:className => \"interact-flex-row interact-widget\"))], Dict{Symbol,Any}())"
      ]
     },
     "execution_count": 121,
     "metadata": {
      "application/vnd.webio.node+json": {
       "kernelId": null
      }
     },
     "output_type": "execute_result"
    }
   ],
   "source": [
    "@manipulate for day in 1:num_days_no2\n",
    "    plot()\n",
    "    for current_country in country\n",
    "        amt = data_dict_no2[current_country][1:day]\n",
    "        amt = replace(amt, 0=>NaN)\n",
    "        plot!(dates_no2[1:day], amt, yscale=:log10, leg=:topleft, label=current_country, m=:o)\n",
    "    end\n",
    "    xlabel!(\"Date\")\n",
    "    ylabel!(\"No2 Concentration\")\n",
    "    title!(\"Pollution\")\n",
    "end"
   ]
  }
 ],
 "metadata": {
  "@webio": {
   "lastCommId": null,
   "lastKernelId": null
  },
  "kernelspec": {
   "display_name": "Julia 1.4.0",
   "language": "julia",
   "name": "julia-1.4"
  },
  "language_info": {
   "file_extension": ".jl",
   "mimetype": "application/julia",
   "name": "julia",
   "version": "1.4.0"
  }
 },
 "nbformat": 4,
 "nbformat_minor": 4
}
